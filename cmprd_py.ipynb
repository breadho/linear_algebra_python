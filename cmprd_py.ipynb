{
 "cells": [
  {
   "cell_type": "markdown",
   "id": "51ce8fb8-3a3d-4b35-80c7-d9dc4ad02abe",
   "metadata": {},
   "source": [
    "# 줄리아와 파이썬 비교"
   ]
  },
  {
   "cell_type": "markdown",
   "id": "8a9717cd-d592-4d63-a096-d5dd0b38310f",
   "metadata": {},
   "source": [
    "## 1. Basic"
   ]
  },
  {
   "cell_type": "markdown",
   "id": "c3e30955-5da1-4753-acce-afaf99c1c8cd",
   "metadata": {},
   "source": [
    "* 기본 함수"
   ]
  },
  {
   "cell_type": "code",
   "execution_count": 1,
   "id": "6713a91a-7f02-495e-a8e3-b0ad0ac37b2e",
   "metadata": {},
   "outputs": [
    {
     "name": "stdout",
     "output_type": "stream",
     "text": [
      "[[1 2 3]\n",
      " [4 1 6]\n",
      " [7 8 1]]\n"
     ]
    }
   ],
   "source": [
    "import numpy as np\n",
    "\n",
    "A = np.array([[1, 2, 3], [4, 1,6], [7, 8, 1]])\n",
    "print(A)"
   ]
  },
  {
   "cell_type": "code",
   "execution_count": 2,
   "id": "89e47b93-a838-453a-a275-adb178e3f834",
   "metadata": {},
   "outputs": [
    {
     "name": "stdout",
     "output_type": "stream",
     "text": [
      "3\n",
      "3\n"
     ]
    }
   ],
   "source": [
    "# 대각합\n",
    "print(sum(np.diag(A)))\n",
    "\n",
    "print(np.trace(A))"
   ]
  },
  {
   "cell_type": "code",
   "execution_count": 3,
   "id": "1fa97fca-3683-48a4-a29c-10481a0e79a6",
   "metadata": {},
   "outputs": [
    {
     "data": {
      "text/plain": [
       "103.99999999999999"
      ]
     },
     "execution_count": 3,
     "metadata": {},
     "output_type": "execute_result"
    }
   ],
   "source": [
    "# 행렬식(determinant)\n",
    "np.linalg.det(A)"
   ]
  },
  {
   "cell_type": "code",
   "execution_count": 4,
   "id": "c9cc3147-e3e7-4580-a72e-2befdf47eeff",
   "metadata": {},
   "outputs": [
    {
     "data": {
      "text/plain": [
       "array([[-0.45192308,  0.21153846,  0.08653846],\n",
       "       [ 0.36538462, -0.19230769,  0.05769231],\n",
       "       [ 0.24038462,  0.05769231, -0.06730769]])"
      ]
     },
     "execution_count": 4,
     "metadata": {},
     "output_type": "execute_result"
    }
   ],
   "source": [
    "np.linalg.inv(A)"
   ]
  },
  {
   "cell_type": "code",
   "execution_count": 5,
   "id": "20cf83fc-2376-4912-bdc2-a1dfdede8fda",
   "metadata": {},
   "outputs": [
    {
     "name": "stdout",
     "output_type": "stream",
     "text": [
      "[[ -4. -17.]\n",
      " [  2.   2.]]\n"
     ]
    }
   ],
   "source": [
    "A = np.array([[-4. , -17.], [2., 2.]])\n",
    "print(A)"
   ]
  },
  {
   "cell_type": "code",
   "execution_count": 6,
   "id": "f7e3bab8-f97d-4294-9980-58ed1b7c8add",
   "metadata": {},
   "outputs": [
    {
     "name": "stdout",
     "output_type": "stream",
     "text": [
      "[-1.+5.j -1.-5.j]\n",
      "----------------------------------------\n",
      "[[ 0.9459053 +0.j          0.9459053 -0.j        ]\n",
      " [-0.16692447-0.27820744j -0.16692447+0.27820744j]]\n"
     ]
    }
   ],
   "source": [
    "# 고유값 및 고유 벡터 \n",
    "\n",
    "e, v = np.linalg.eig(A)\n",
    "\n",
    "print(e)\n",
    "print(\"--\"*20)\n",
    "print(v)"
   ]
  },
  {
   "cell_type": "markdown",
   "id": "34806c0e-2722-4f6b-9b81-772e67a90e97",
   "metadata": {},
   "source": [
    "* 행렬 분해"
   ]
  },
  {
   "cell_type": "code",
   "execution_count": 7,
   "id": "cc17b954-99ed-4e3e-986b-9570a158190a",
   "metadata": {},
   "outputs": [
    {
     "name": "stdout",
     "output_type": "stream",
     "text": [
      "[[ 1.          0.          0.        ]\n",
      " [-0.15        1.          0.        ]\n",
      " [-0.3        -0.13219616  1.        ]] \n",
      "\n",
      "\n",
      " [[-10.           2.3          4.        ]\n",
      " [  0.           2.345       -3.4       ]\n",
      " [  0.           0.          -5.24946695]] \n",
      "\n",
      "\n",
      "\n"
     ]
    }
   ],
   "source": [
    "from scipy.linalg import lu\n",
    "\n",
    "A = np.array([[1.5, 2, -4], [3, -1, -6], [-10, 2.3, 4]])\n",
    "P, L, U = lu(A)\n",
    "print(L, \"\\n\"*3, U, \"\\n\"*3)"
   ]
  },
  {
   "cell_type": "code",
   "execution_count": 8,
   "id": "4d7c49d3-f533-482a-887c-0f3b46c48d75",
   "metadata": {},
   "outputs": [
    {
     "name": "stdout",
     "output_type": "stream",
     "text": [
      "[[-0.8         0.14285714  1.        ]\n",
      " [-0.6         1.          0.        ]\n",
      " [ 1.          0.          0.        ]] \n",
      "\n",
      "\n",
      " [[ 5.          0.          0.        ]\n",
      " [ 0.         -2.8         0.        ]\n",
      " [ 0.          0.         -1.64285714]] \n",
      "\n",
      "\n",
      " [2 1 0]\n"
     ]
    }
   ],
   "source": [
    "from scipy.linalg import ldl\n",
    "\n",
    "B = np.array([[1.5, 2, -4], [2, -1, -3], [-4, -3, 5]])\n",
    "\n",
    "lu, d, perm = ldl(B, lower = True)\n",
    "\n",
    "print(lu, \"\\n\"*3, d, \"\\n\"*3, perm)\n"
   ]
  },
  {
   "cell_type": "code",
   "execution_count": 9,
   "id": "67ea2378-25ff-4b80-8701-67fcd5ec8761",
   "metadata": {},
   "outputs": [
    {
     "name": "stdout",
     "output_type": "stream",
     "text": [
      "[[ 1.          0.14285714 -0.8       ]\n",
      " [ 0.          1.         -0.6       ]\n",
      " [ 0.          0.          1.        ]] \n",
      "\n",
      "\n",
      " [[-1.64285714  0.          0.        ]\n",
      " [ 0.         -2.8         0.        ]\n",
      " [ 0.          0.          5.        ]] \n",
      "\n",
      "\n",
      " [0 1 2]\n"
     ]
    }
   ],
   "source": [
    "B = np.array([[1.5, 2, -4], [2, -1, -3], [-4, -3, 5]])\n",
    "\n",
    "lu, d, perm = ldl(B, lower = False)\n",
    "\n",
    "print(lu, \"\\n\"*3, d, \"\\n\"*3, perm)"
   ]
  },
  {
   "cell_type": "markdown",
   "id": "be973c70-e140-41e0-92d3-54a734dff443",
   "metadata": {},
   "source": [
    "* 선형 해"
   ]
  },
  {
   "cell_type": "code",
   "execution_count": 10,
   "id": "a1391228-c299-468f-b7ce-fad269c111c7",
   "metadata": {},
   "outputs": [],
   "source": [
    "x = [1, 2, 3]"
   ]
  },
  {
   "cell_type": "code",
   "execution_count": 11,
   "id": "8563ddf3-f328-41b0-b2f5-afb02c73a2ea",
   "metadata": {},
   "outputs": [
    {
     "data": {
      "text/plain": [
       "array([-1.73913043, -1.10869565, -1.45652174])"
      ]
     },
     "execution_count": 11,
     "metadata": {},
     "output_type": "execute_result"
    }
   ],
   "source": [
    "# 선형 해 구하기\n",
    "np.linalg.solve(B, x)"
   ]
  },
  {
   "cell_type": "code",
   "execution_count": 12,
   "id": "7bcc8dcc-e12c-4fab-8347-3840a7b6b136",
   "metadata": {},
   "outputs": [],
   "source": [
    "sol = np.linalg.solve(B, x)"
   ]
  },
  {
   "cell_type": "code",
   "execution_count": 13,
   "id": "fd6171d6-b48e-41c3-9b8f-abd0a6bf3761",
   "metadata": {},
   "outputs": [
    {
     "data": {
      "text/plain": [
       "array([1., 2., 3.])"
      ]
     },
     "execution_count": 13,
     "metadata": {},
     "output_type": "execute_result"
    }
   ],
   "source": [
    "np.matmul(B, sol)"
   ]
  }
 ],
 "metadata": {
  "kernelspec": {
   "display_name": "Python 3 (ipykernel)",
   "language": "python",
   "name": "python3"
  },
  "language_info": {
   "codemirror_mode": {
    "name": "ipython",
    "version": 3
   },
   "file_extension": ".py",
   "mimetype": "text/x-python",
   "name": "python",
   "nbconvert_exporter": "python",
   "pygments_lexer": "ipython3",
   "version": "3.9.12"
  }
 },
 "nbformat": 4,
 "nbformat_minor": 5
}
