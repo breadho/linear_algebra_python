{
 "cells": [
  {
   "cell_type": "markdown",
   "id": "8a1afe99-4461-4ed4-857b-485b5ba20b99",
   "metadata": {},
   "source": [
    "# 선형대수기초(Basic of Linear Algebra)"
   ]
  },
  {
   "cell_type": "markdown",
   "id": "95fd7c93-bac5-4373-b345-b12388475d8a",
   "metadata": {},
   "source": [
    "## chapter 2. 파이썬 기초"
   ]
  },
  {
   "cell_type": "markdown",
   "id": "482bd9cd-777d-4550-a464-1a725369d72f",
   "metadata": {},
   "source": [
    "### 2.5 깊은 복사"
   ]
  },
  {
   "cell_type": "markdown",
   "id": "6e5a7b98-b590-47d3-97cd-d3eeb5b6fa2c",
   "metadata": {},
   "source": [
    "#### 2.5.1 깊은 복사"
   ]
  },
  {
   "cell_type": "markdown",
   "id": "549dc459-dcfa-4552-b5e5-a5c391bf4322",
   "metadata": {},
   "source": [
    "* mutable 객체 : 리스트 등\n",
    "\n",
    "* immutable 객체 : 숫자, 문자"
   ]
  },
  {
   "cell_type": "code",
   "execution_count": 1,
   "id": "4ae11b1c-d292-4ebf-9947-c5449c308ca2",
   "metadata": {},
   "outputs": [
    {
     "name": "stdout",
     "output_type": "stream",
     "text": [
      "3  ,  3\n"
     ]
    }
   ],
   "source": [
    "# 문자열, 숫자(단일 객체) - 동일한 메모리 주소\n",
    "\n",
    "x = 3\n",
    "y = x \n",
    "print(x,\" , \",  y)"
   ]
  },
  {
   "cell_type": "code",
   "execution_count": 2,
   "id": "5a9874eb-e5bc-4845-8ad5-f37385c2a7f9",
   "metadata": {},
   "outputs": [
    {
     "name": "stdout",
     "output_type": "stream",
     "text": [
      "1996155611504  ,  1996155611504\n"
     ]
    }
   ],
   "source": [
    "print(id(x),\" , \", id(y))"
   ]
  },
  {
   "cell_type": "code",
   "execution_count": 3,
   "id": "b43a013d-9860-448c-884d-aa66730883db",
   "metadata": {},
   "outputs": [],
   "source": [
    "y = 7"
   ]
  },
  {
   "cell_type": "code",
   "execution_count": 4,
   "id": "15597ec3-4af6-48de-843b-06e38bbc5089",
   "metadata": {},
   "outputs": [
    {
     "name": "stdout",
     "output_type": "stream",
     "text": [
      "3  ,  7\n",
      "1996155611504  ,  1996155611632\n"
     ]
    }
   ],
   "source": [
    "print(x,\" , \",  y)\n",
    "print(id(x),\" , \", id(y))"
   ]
  },
  {
   "cell_type": "markdown",
   "id": "96cebd27-2aa1-431a-95d5-f8b05fe3c21f",
   "metadata": {},
   "source": [
    "* 객체 값 변경, 메모리 주소 변경 (immutable 객체의 새로운 할당)"
   ]
  },
  {
   "cell_type": "markdown",
   "id": "0251b103-33ec-4ff5-9d2d-10cbb61aaddb",
   "metadata": {},
   "source": [
    "* 리스트 mutable 객체"
   ]
  },
  {
   "cell_type": "code",
   "execution_count": 5,
   "id": "8db33dc2-1dc4-4108-ad52-04083622af4b",
   "metadata": {},
   "outputs": [
    {
     "data": {
      "text/plain": [
       "1996254807488"
      ]
     },
     "execution_count": 5,
     "metadata": {},
     "output_type": "execute_result"
    }
   ],
   "source": [
    "a = [1, 2, 3, 4]\n",
    "id(a)"
   ]
  },
  {
   "cell_type": "code",
   "execution_count": 6,
   "id": "a5cc0f9b-78fc-4988-9d98-f5e3c6b14852",
   "metadata": {},
   "outputs": [
    {
     "data": {
      "text/plain": [
       "1996155611440"
      ]
     },
     "execution_count": 6,
     "metadata": {},
     "output_type": "execute_result"
    }
   ],
   "source": [
    "id(a[0])"
   ]
  },
  {
   "cell_type": "code",
   "execution_count": 7,
   "id": "84dc16a9-88b0-48e9-8c47-58ae0b65560e",
   "metadata": {},
   "outputs": [
    {
     "data": {
      "text/plain": [
       "1996155611472"
      ]
     },
     "execution_count": 7,
     "metadata": {},
     "output_type": "execute_result"
    }
   ],
   "source": [
    "id(a[1])"
   ]
  },
  {
   "cell_type": "code",
   "execution_count": 8,
   "id": "2dfd1a45-9867-4085-801b-9f1bcafd9cc5",
   "metadata": {},
   "outputs": [
    {
     "name": "stdout",
     "output_type": "stream",
     "text": [
      "[5, 2, 3, 4] \n",
      "\n",
      "1996155611568\n"
     ]
    }
   ],
   "source": [
    "a[0] = 5\n",
    "print(a, '\\n')\n",
    "print(id(a[0]))"
   ]
  },
  {
   "cell_type": "markdown",
   "id": "89602c3e-f060-4905-bf2f-529c83713853",
   "metadata": {},
   "source": [
    "원소를 변경한 리스트 a의 0번째 원소인 a[0]의 주소는 기존 주소와 달리 변경됨"
   ]
  },
  {
   "cell_type": "code",
   "execution_count": 9,
   "id": "295a853e-0419-463e-b471-1124ce55530b",
   "metadata": {},
   "outputs": [
    {
     "name": "stdout",
     "output_type": "stream",
     "text": [
      "[5, 2, 3, 4]\n"
     ]
    }
   ],
   "source": [
    "# 한 객체에 다른 객체를 담았을 때의 메모리 주소 변화\n",
    "\n",
    "b = a\n",
    "print(b)"
   ]
  },
  {
   "cell_type": "code",
   "execution_count": 10,
   "id": "37c686f0-779b-454e-b301-a3e529804173",
   "metadata": {},
   "outputs": [
    {
     "name": "stdout",
     "output_type": "stream",
     "text": [
      "1996254807488  ,  1996254807488\n"
     ]
    }
   ],
   "source": [
    "print(id(a),\" , \", id(b))"
   ]
  },
  {
   "cell_type": "code",
   "execution_count": 11,
   "id": "9eda4de5-2144-47f0-9838-a451929bc184",
   "metadata": {},
   "outputs": [
    {
     "name": "stdout",
     "output_type": "stream",
     "text": [
      "1996155611568  ,  1996155611568\n"
     ]
    }
   ],
   "source": [
    "print(id(a[0]),\" , \", id(b[0])) # a와 b 동일"
   ]
  },
  {
   "cell_type": "code",
   "execution_count": 12,
   "id": "af52ad69-aa39-4d53-8c11-c6cca4678a9a",
   "metadata": {},
   "outputs": [
    {
     "name": "stdout",
     "output_type": "stream",
     "text": [
      "[5, 2, 3, 4, 7]  ,  [5, 2, 3, 4, 7]\n"
     ]
    }
   ],
   "source": [
    "b.append(7) \n",
    "print(a,\" , \", b) # a와 b 동일하게 구성 원소 변화"
   ]
  },
  {
   "cell_type": "markdown",
   "id": "a42de31c-ab96-44c4-af73-0dff7640ff18",
   "metadata": {},
   "source": [
    "* 리스트 a를 출력해 보면 리스트 b와 동일하게 새로운 값 7이 출력됨\n",
    "\n",
    "* 리스트 자료형은 mutable한 객체이므로 리스트 a를 b에 할당한 후 리스트b를 변경시키면 이는 a에도 동일하게 적용\n",
    "\n",
    "* a는 그대로 두고 b만 변경하고 싶은 경우 자신의 의도와는 다르게 다른 객체까지 수정되는 문제가 나타남 -> 이 문제를 해결하기 위해 복사(copy)의 개념을 학습"
   ]
  },
  {
   "cell_type": "markdown",
   "id": "616529c0-8f47-408a-8696-8b1513c817db",
   "metadata": {},
   "source": [
    "#### 2.5.2 얕은 복사(shallow copy)"
   ]
  },
  {
   "cell_type": "markdown",
   "id": "dfd7dcc0-0433-4751-bbd5-fb1847fd7cbd",
   "metadata": {},
   "source": [
    "* 객체 b의 변경이 객체 a에 영향을 주지 않게 하려면 다음과 같이 코드 작성"
   ]
  },
  {
   "cell_type": "code",
   "execution_count": 13,
   "id": "3de799bf-8dff-40d4-b3d2-897e2bab4954",
   "metadata": {},
   "outputs": [],
   "source": [
    "a = [1, 2, 3, 4, 5]\n",
    "# 얕은 복사를 이용해 리스트 a를 리스트 b에 할당\n",
    "b = a[:]"
   ]
  },
  {
   "cell_type": "markdown",
   "id": "9393c2af-5699-4223-9b35-ee1b74457668",
   "metadata": {},
   "source": [
    "* 객체 a와 b는 각기 다른 메모리 주소를 할당 받음"
   ]
  },
  {
   "cell_type": "code",
   "execution_count": 14,
   "id": "0768fac7-4b51-4479-a051-b57e3f2489ab",
   "metadata": {},
   "outputs": [
    {
     "name": "stdout",
     "output_type": "stream",
     "text": [
      "1996254832192  ,  1996254838848\n"
     ]
    }
   ],
   "source": [
    "print(id(a),\" , \", id(b))"
   ]
  },
  {
   "cell_type": "markdown",
   "id": "a74c30e1-7dd6-4465-9e7f-24c6e3677df6",
   "metadata": {},
   "source": [
    "* 하지만, 각 원소들은 같은 메모리 주소를 받음"
   ]
  },
  {
   "cell_type": "code",
   "execution_count": 15,
   "id": "800505ff-3990-457b-ae53-8179fc5b5b5c",
   "metadata": {},
   "outputs": [
    {
     "name": "stdout",
     "output_type": "stream",
     "text": [
      "1996155611440  ,  1996155611440\n"
     ]
    }
   ],
   "source": [
    "print(id(a[0]),\" , \", id(b[0]))"
   ]
  },
  {
   "cell_type": "markdown",
   "id": "bd0a3a7c-2a80-4654-9383-eaa54cae5ae9",
   "metadata": {},
   "source": [
    "* 객체 b의 0번재 원소에 9 할당 -> 새로운 메모리 주소를 할당 받음\n",
    "\n",
    "* 객체 b의 0번째 원소만 바뀌는 것을 확인할 수 있음"
   ]
  },
  {
   "cell_type": "code",
   "execution_count": 16,
   "id": "ffc26f33-f647-4332-ba23-9efd4fd2cc86",
   "metadata": {},
   "outputs": [
    {
     "name": "stdout",
     "output_type": "stream",
     "text": [
      "[1, 2, 3, 4, 5] ,  [9, 2, 3, 4, 5]\n"
     ]
    }
   ],
   "source": [
    "b[0] = 9\n",
    "print(a, \", \", b) # 객체 b의 0번째 원소만 바뀌는 것을 확인할 수 있음"
   ]
  },
  {
   "cell_type": "code",
   "execution_count": 17,
   "id": "a8ed4e96-c02c-49ef-8150-a70378d7d87d",
   "metadata": {},
   "outputs": [
    {
     "name": "stdout",
     "output_type": "stream",
     "text": [
      "1996155611440  ,  1996155611696\n"
     ]
    }
   ],
   "source": [
    "print(id(a[0]),\" , \", id(b[0]))"
   ]
  },
  {
   "cell_type": "markdown",
   "id": "b8ddcfca-184e-468d-9398-d0475f2041e7",
   "metadata": {},
   "source": [
    "* 라이브러리를 활용한 얕은 복사"
   ]
  },
  {
   "cell_type": "code",
   "execution_count": 18,
   "id": "9f7b617c-d8f8-4802-bdb8-14812c0d78a9",
   "metadata": {},
   "outputs": [],
   "source": [
    "import copy\n",
    "\n",
    "a = [1, 2, 3, 4, 5]\n",
    "b = copy.copy(a)"
   ]
  },
  {
   "cell_type": "code",
   "execution_count": 19,
   "id": "dd4c4447-2590-4ae5-88c2-528c82c25892",
   "metadata": {},
   "outputs": [
    {
     "name": "stdout",
     "output_type": "stream",
     "text": [
      "[1, 2, 3, 4, 5] ,  [1, 2, 3, 4, 5]\n"
     ]
    }
   ],
   "source": [
    "print(a, \", \", b) "
   ]
  },
  {
   "cell_type": "code",
   "execution_count": 20,
   "id": "3dc1d06c-47db-4f36-979b-11213a9b315c",
   "metadata": {},
   "outputs": [
    {
     "name": "stdout",
     "output_type": "stream",
     "text": [
      "1996254841088  ,  1996254788608\n"
     ]
    }
   ],
   "source": [
    "print(id(a),\" , \", id(b)) # 각기 다른메모리 주소 할당"
   ]
  },
  {
   "cell_type": "code",
   "execution_count": 21,
   "id": "c754fffb-71e7-4f5e-9280-ae0c27fa17c9",
   "metadata": {},
   "outputs": [
    {
     "name": "stdout",
     "output_type": "stream",
     "text": [
      "[1, 2, 3, 4, 5] ,  [7, 2, 3, 4, 5]\n",
      "1996155611440  ,  1996155611632\n"
     ]
    }
   ],
   "source": [
    "b[0] = 7\n",
    "print(a, \", \", b) # 객체 b의 0번째 원소만 바뀌는 것을 확인할 수 있음\n",
    "print(id(a[0]),\" , \", id(b[0]))"
   ]
  },
  {
   "cell_type": "markdown",
   "id": "d42b2264-634a-4566-89d9-0f2ac4e1b3a0",
   "metadata": {},
   "source": [
    "* **얕은 복사는 mutable한 객체가 immutable한 객체(숫자형 변수, 문자열 변수)를 원소로 구성하는 경우 유용**\n",
    "\n",
    "* mutable한 객체 내부에 mutable한 객체가 속하는 경우"
   ]
  },
  {
   "cell_type": "code",
   "execution_count": 22,
   "id": "38c2b1d2-ceee-4f15-8982-d26738b90a5e",
   "metadata": {},
   "outputs": [],
   "source": [
    "import copy\n",
    "\n",
    "a = [[1, 3], [2, 4]]\n",
    "b = copy.copy(a)"
   ]
  },
  {
   "cell_type": "code",
   "execution_count": 23,
   "id": "ff726bfc-88da-4607-b363-9226e5eff196",
   "metadata": {},
   "outputs": [
    {
     "name": "stdout",
     "output_type": "stream",
     "text": [
      "[[1, 3], [2, 4]] ,  [[1, 3], [2, 4]]\n",
      "1996254875584  ,  1996254872832\n"
     ]
    }
   ],
   "source": [
    "print(a, \", \", b) \n",
    "print(id(a),\" , \", id(b)) # 객체는 각기 다른 메모리 주소 할당"
   ]
  },
  {
   "cell_type": "code",
   "execution_count": 24,
   "id": "5c949969-99cf-42d5-9f50-184362e4c7ca",
   "metadata": {},
   "outputs": [
    {
     "name": "stdout",
     "output_type": "stream",
     "text": [
      "[1, 3] ,  [1, 3]\n",
      "1996254872640  ,  1996254872640\n"
     ]
    }
   ],
   "source": [
    "print(a[0], \", \", b[0]) \n",
    "print(id(a[0]),\" , \", id(b[0])) # 리스트 내 원소는 동일한 메모리 주소 할당"
   ]
  },
  {
   "cell_type": "code",
   "execution_count": 25,
   "id": "c6372b87-21fe-43f7-b06f-6df76430ba06",
   "metadata": {},
   "outputs": [
    {
     "name": "stdout",
     "output_type": "stream",
     "text": [
      "1996155611440  ,  1996155611440\n"
     ]
    }
   ],
   "source": [
    "print(id(a[0][0]),\" , \", id(b[0][0])) # 리스트 a, b의 0번째 원소의 0번째 원소도 동일한 메모리주소를 가짐"
   ]
  },
  {
   "cell_type": "code",
   "execution_count": 26,
   "id": "064a3a7e-47e7-4e95-8fe3-49cf33ecf23d",
   "metadata": {},
   "outputs": [
    {
     "name": "stdout",
     "output_type": "stream",
     "text": [
      "[[7, 3], [2, 4]] ,  [[7, 3], [2, 4]]\n"
     ]
    }
   ],
   "source": [
    "b[0][0] = 7\n",
    "print(a, \", \", b) # 객체 b와 동일하게 객체 a가 변화됨"
   ]
  },
  {
   "cell_type": "code",
   "execution_count": 27,
   "id": "8bfd151b-e544-4faf-9714-79b472e7a292",
   "metadata": {},
   "outputs": [
    {
     "name": "stdout",
     "output_type": "stream",
     "text": [
      "[[7, 3], [2, 4]]  ,  [[7, 3], [2, 4]]\n",
      "1996254875584  ,  1996254872832\n",
      "--------------------\n",
      "[7, 3]  ,  [7, 3]\n",
      "1996254872640  ,  1996254872640\n",
      "--------------------\n",
      "7  ,  7\n",
      "1996155611632  ,  1996155611632\n"
     ]
    }
   ],
   "source": [
    "print(a,\" , \", b)\n",
    "print(id(a),\" , \", id(b))\n",
    "print(\"-\"*20)\n",
    "print(a[0],\" , \", b[0])\n",
    "print(id(a[0]),\" , \", id(b[0]))\n",
    "print(\"-\"*20)\n",
    "print(a[0][0],\" , \", b[0][0])\n",
    "print(id(a[0][0]),\" , \", id(b[0][0]))"
   ]
  },
  {
   "cell_type": "markdown",
   "id": "51e77d49-a293-4f81-94e5-d0a551b254d1",
   "metadata": {},
   "source": [
    "* mutable한 객체 내부에 mutable한 객체가 존재할 경우, 동일한 메모리 주소를 포인팅하고 있으므로 각기 다른 객체 a, b라 할지라도 내부의 객체를 수정하면 같이 변경됨"
   ]
  },
  {
   "cell_type": "markdown",
   "id": "138a771c-ab51-40ea-9eb9-448138f6f896",
   "metadata": {},
   "source": [
    "#### 2.5.3 깊은 복사"
   ]
  },
  {
   "cell_type": "code",
   "execution_count": 28,
   "id": "1f7ecd14-8239-4709-9232-b9dc5f411517",
   "metadata": {},
   "outputs": [],
   "source": [
    "import copy\n",
    "\n",
    "a = [[1, 2], [3, 4]]\n",
    "b = copy.deepcopy(a)"
   ]
  },
  {
   "cell_type": "code",
   "execution_count": 29,
   "id": "5bca39de-cf43-4f24-844a-fa6b38ad5303",
   "metadata": {},
   "outputs": [
    {
     "name": "stdout",
     "output_type": "stream",
     "text": [
      "[[1, 2], [3, 4]]  ,  [[1, 2], [3, 4]]\n",
      "1996254828224  ,  1996254966912\n",
      "--------------------\n",
      "[1, 2]  ,  [1, 2]\n",
      "1996254827456  ,  1996254829888\n",
      "--------------------\n",
      "1  ,  1\n",
      "1996155611440  ,  1996155611440\n"
     ]
    }
   ],
   "source": [
    "print(a,\" , \", b)\n",
    "print(id(a),\" , \", id(b))\n",
    "print(\"-\"*20)\n",
    "print(a[0],\" , \", b[0])\n",
    "print(id(a[0]),\" , \", id(b[0]))\n",
    "print(\"-\"*20)\n",
    "print(a[0][0],\" , \", b[0][0])\n",
    "print(id(a[0][0]),\" , \", id(b[0][0]))"
   ]
  },
  {
   "cell_type": "markdown",
   "id": "6648f70d-dba3-4f95-91ca-adc58f0c25cb",
   "metadata": {},
   "source": [
    "* 1. 각 객체는 각기 다른 메모리 주소를 할당받는다.\n",
    "\n",
    "* 2. 각 객체의 0번째 리스트 원소는 각기 다른 메모리 주소를 할당받는다.\n",
    "\n",
    "* 3. 각 객체의 0번째 리스트 원소의 0번째 원소는 같은 메모리 주소를 할당받는다."
   ]
  },
  {
   "cell_type": "code",
   "execution_count": 30,
   "id": "48ebacd8-ca5c-4edf-9cbf-1a89a92e838d",
   "metadata": {},
   "outputs": [
    {
     "name": "stdout",
     "output_type": "stream",
     "text": [
      "[[1, 2], [3, 4]]  ,  [[7, 2], [3, 4]]\n",
      "1996254828224  ,  1996254966912\n",
      "--------------------\n",
      "[1, 2]  ,  [7, 2]\n",
      "1996254827456  ,  1996254829888\n",
      "--------------------\n",
      "1  ,  7\n",
      "1996155611440  ,  1996155611632\n"
     ]
    }
   ],
   "source": [
    "b[0][0] = 7\n",
    "\n",
    "print(a,\" , \", b)\n",
    "print(id(a),\" , \", id(b))\n",
    "print(\"-\"*20)\n",
    "print(a[0],\" , \", b[0])\n",
    "print(id(a[0]),\" , \", id(b[0]))\n",
    "print(\"-\"*20)\n",
    "print(a[0][0],\" , \", b[0][0])\n",
    "print(id(a[0][0]),\" , \", id(b[0][0]))\n"
   ]
  },
  {
   "cell_type": "markdown",
   "id": "bb7324ee-d19d-428b-ab66-0f5d2fd6c595",
   "metadata": {},
   "source": [
    "* a[0][0]와 b[0][0]의 메모리 주소가 달라지는 것을 확인 \n",
    "\n",
    "* 얕은 복사의 경우 b의 구성 원소에 변경이 생겼을 경우 리스트 a도 함께 변경됨\n",
    "\n",
    "* 깊은 복사를 사용할 경우 b의 구성 원소를 변경했다고 하더라도 객체 a에는 영향을 주지 않음"
   ]
  },
  {
   "cell_type": "markdown",
   "id": "1726baf1-0d5f-4e22-b319-e59beef263e2",
   "metadata": {},
   "source": [
    "#### 2.5.4 깊은 복사 구현하기"
   ]
  },
  {
   "cell_type": "code",
   "execution_count": 31,
   "id": "d9be244b-59cc-4dfa-aa54-441b47bfd008",
   "metadata": {},
   "outputs": [],
   "source": [
    "def deepcopy(A):\n",
    "    \"\"\"\n",
    "    깊은 복사(deepcopy) 구현 \n",
    "    입력값: 깊은 복사를 하고자 하는 행렬 리스트 A\n",
    "    출력값: 깊은 복사된 결과 행렬 리스트 res\n",
    "    \"\"\"\n",
    "    if type(A[0]) == list:\n",
    "        n = len(A)\n",
    "        p = len(A[0])\n",
    "        res = zero_mat(n, p)\n",
    "        for i in range(0, n):\n",
    "            for j in range(0, p):\n",
    "                res[i][j] = A[i][j]\n",
    "        return res\n",
    "    else: \n",
    "        n = len(A)\n",
    "        res = []\n",
    "        for i in range(0, n):\n",
    "            res.append(A[i])\n",
    "        return res"
   ]
  },
  {
   "cell_type": "code",
   "execution_count": 32,
   "id": "cba5278a-f699-4623-9801-e393469f6767",
   "metadata": {},
   "outputs": [],
   "source": [
    "def zero_mat(n, p):\n",
    "    \"\"\"\n",
    "    영 행렬생성\n",
    "    입력값: 생성하고자 할 영 행렬의 크기 n행, p행\n",
    "    출력갑: (n x p) 영 행렬 Z\n",
    "    \"\"\"\n",
    "    Z = []\n",
    "    for i in range(0, n):\n",
    "        row = []\n",
    "        for j in range(0, n):\n",
    "            row.append(0)\n",
    "        Z.append(row)\n",
    "    return Z"
   ]
  },
  {
   "cell_type": "code",
   "execution_count": 33,
   "id": "afe85c27-be66-44d9-8ce7-547c38fda6f3",
   "metadata": {},
   "outputs": [],
   "source": [
    "A = [[1, 2, 3], [4, 5, 6], [7, 8, 9]]"
   ]
  },
  {
   "cell_type": "code",
   "execution_count": 34,
   "id": "e856784e-0025-426c-9459-0074742f5c80",
   "metadata": {},
   "outputs": [],
   "source": [
    "B = deepcopy(A)"
   ]
  },
  {
   "cell_type": "code",
   "execution_count": 35,
   "id": "864f25cd-24fb-411a-aaed-50a85c1f7be4",
   "metadata": {},
   "outputs": [
    {
     "name": "stdout",
     "output_type": "stream",
     "text": [
      "[[1, 2, 3], [4, 5, 6], [7, 8, 9]] \n",
      " [[1, 2, 3], [4, 5, 6], [7, 8, 9]]\n",
      "1996237180480 \n",
      " 1996237226624\n",
      "--------------------\n",
      "[1, 2, 3] \n",
      " [1, 2, 3]\n",
      "1996237997248 \n",
      " 1996254828864\n",
      "--------------------\n",
      "1 \n",
      " 1\n",
      "1996155611440 \n",
      " 1996155611440\n"
     ]
    }
   ],
   "source": [
    "print(A, \"\\n\", B)\n",
    "print(id(A),\"\\n\", id(B))\n",
    "print(\"-\"*20)\n",
    "print(A[0],\"\\n\", B[0])\n",
    "print(id(A[0]),\"\\n\", id(B[0]))\n",
    "print(\"-\"*20)\n",
    "print(A[0][0],\"\\n\", B[0][0])\n",
    "print(id(A[0][0]),\"\\n\", id(B[0][0]))"
   ]
  },
  {
   "cell_type": "code",
   "execution_count": 36,
   "id": "52c3626a-b40c-49cd-baf2-ffedd0f19258",
   "metadata": {},
   "outputs": [
    {
     "name": "stdout",
     "output_type": "stream",
     "text": [
      "[1, 2, 3] \n",
      " [[1, 2], [3, 4]]\n",
      "1996254827328 \n",
      " 1996254872640\n",
      "--------------------\n",
      "1 \n",
      " [1, 2]\n",
      "1996155611440 \n",
      " 1996237998912\n"
     ]
    }
   ],
   "source": [
    "A2 = [1, 2, 3]\n",
    "B2 = deepcopy(a)\n",
    "print(A2, \"\\n\", B2)\n",
    "print(id(A2),\"\\n\", id(B2))\n",
    "print(\"-\"*20)\n",
    "print(A2[0],\"\\n\", B2[0])\n",
    "print(id(A2[0]),\"\\n\", id(B2[0]))"
   ]
  },
  {
   "cell_type": "markdown",
   "id": "1411a0ae-7d2c-41f7-8f40-356c84f84fd9",
   "metadata": {},
   "source": [
    "## Chapter 3. 행렬"
   ]
  },
  {
   "cell_type": "markdown",
   "id": "137fe247-b451-4705-b0a0-f286d840c9ea",
   "metadata": {},
   "source": [
    "### 3.1. 벡터"
   ]
  },
  {
   "cell_type": "code",
   "execution_count": 37,
   "id": "f3dda184-7346-4101-8885-198fdd5c498f",
   "metadata": {},
   "outputs": [
    {
     "name": "stdout",
     "output_type": "stream",
     "text": [
      "[5 7 9] \n",
      " [-3 -3 -3] \n",
      " [3 6 9] \n",
      " [ 4 10 18] \n",
      " [0.25 0.4  0.5 ]\n"
     ]
    }
   ],
   "source": [
    "# 넘파이 이용 벡터 연산 -> elementwise operation\n",
    "import numpy as np\n",
    "\n",
    "u = np.array([1, 2, 3])\n",
    "v = np.array([4, 5, 6])\n",
    "w1 = u + v\n",
    "w2 = u - v\n",
    "w3 = 3*u\n",
    "w4 = u*v \n",
    "w5 = u/v\n",
    "print(w1, \"\\n\", w2, \"\\n\", w3, \"\\n\", w4, \"\\n\", w5)"
   ]
  },
  {
   "cell_type": "markdown",
   "id": "d0c1d754-1bba-4728-aa4d-289bf5d00466",
   "metadata": {},
   "source": [
    "### 3.2 행렬"
   ]
  },
  {
   "cell_type": "code",
   "execution_count": 38,
   "id": "70ec9bc0-55a7-49f2-9b7d-16be836d5ef4",
   "metadata": {},
   "outputs": [
    {
     "name": "stdout",
     "output_type": "stream",
     "text": [
      "[[ 3 11]\n",
      " [ 7  3]\n",
      " [ 8  6]] \n",
      "\n",
      "--------------------\n",
      "[[ 1  3]\n",
      " [-1  5]\n",
      " [ 4 -4]] \n",
      "\n",
      "--------------------\n",
      "[[ 4 14]\n",
      " [ 6  8]\n",
      " [12  2]] \n",
      "\n",
      "--------------------\n",
      "[[ 2 28]\n",
      " [12 -4]\n",
      " [12  5]] \n",
      "\n",
      "--------------------\n",
      "[[ -1   8   3]\n",
      " [  5  -1  11]\n",
      " [ 17 -16  29]] \n",
      "\n",
      "--------------------\n"
     ]
    }
   ],
   "source": [
    "import numpy as np\n",
    "\n",
    "A = np.array([[2, 7], [3, 4], [6, 1]])\n",
    "B = np.array([[1, 4], [4, -1], [2, 5]])\n",
    "B2 = np.array([[3, -3, 5], [-1, 2, -1]])\n",
    "C1 = A + B\n",
    "C2 = A - B\n",
    "C3 = 2*A\n",
    "C4 = np.multiply(A, B) # 행렬의 원소곱(element 끼리)\n",
    "C5 = np.matmul(A, B2) # 행렬곱\n",
    "\n",
    "print(C1, \"\\n\")\n",
    "print(\"-\"*20)\n",
    "print(C2, \"\\n\")\n",
    "print(\"-\"*20)\n",
    "print(C3, \"\\n\")\n",
    "print(\"-\"*20)\n",
    "print(C4, \"\\n\")\n",
    "print(\"-\"*20)\n",
    "print(C5, \"\\n\")\n",
    "print(\"-\"*20)"
   ]
  },
  {
   "cell_type": "markdown",
   "id": "adadb29b-1927-486d-ae82-962909f39760",
   "metadata": {},
   "source": [
    "## chapter 4. 다양한 행렬"
   ]
  },
  {
   "cell_type": "markdown",
   "id": "41a231fd-84a5-42de-933e-2f24c0f2183c",
   "metadata": {},
   "source": [
    "### 4.1 전치 행렬(transposed matrix)"
   ]
  },
  {
   "cell_type": "markdown",
   "id": "8e518b17-7614-4e4f-bde3-e769b995a6b5",
   "metadata": {},
   "source": [
    "* 기존 행렬의 행과 열을 바꾼 행렬\n",
    "\n",
    "* 기존 행렬의 행 번호가 열 번호가 되고, 열 번호가 행 번호가 됨\n",
    "\n",
    "* 전치 행렬의 성질\n",
    "\n",
    "    - $(A^T)^T = A$\n",
    "    \n",
    "    - $\\left (  A + B \\right )^{T} = A^{T} + B^{T} $\n",
    "    \n",
    "    - $\\left (  A - B \\right )^{T} = A^{T} - B^{T} $\n",
    "    \n",
    "    - $(aA)^{T} = aA^{T}$\n",
    "    \n",
    "    - $(AB)^T = B^{T}A^{T}$"
   ]
  },
  {
   "cell_type": "code",
   "execution_count": 39,
   "id": "9f88d985-cc23-4d54-bb80-8222b4c62810",
   "metadata": {},
   "outputs": [
    {
     "name": "stdout",
     "output_type": "stream",
     "text": [
      "[[1 3 6]\n",
      " [5 4 2]]\n"
     ]
    }
   ],
   "source": [
    "import numpy as np\n",
    "A = np.array([[1,5], [3, 4], [6, 2]])\n",
    "At = np.transpose(A)\n",
    "print(At)"
   ]
  },
  {
   "cell_type": "markdown",
   "id": "60a9c899-e807-424a-8c73-afc767c3ffd9",
   "metadata": {},
   "source": [
    "### 4.2 대칭 행렬(symmetric matrix)"
   ]
  },
  {
   "cell_type": "markdown",
   "id": "eb0ab0e3-b331-43a4-947b-681723fa915e",
   "metadata": {},
   "source": [
    "* 기존 행렬과 전치 행렬이 동일한 정사각 행렬을 의미\n",
    "\n",
    "* $ A = \\begin{pmatrix} a & b & c \\\\ d & e & f \\\\ g & h & i \\\\ \\end{pmatrix},  \\quad A_{ij} = A_{ji},  \\quad A = A^{T}$\n",
    "\n",
    "* 대칭 행렬 성질\n",
    "\n",
    "    - 대칭 행렬 간 + , - 는 대칭 행렬\n",
    "    \n",
    "    - 대칭 행렬 간 행렬곱은 반드시 대칭 행렬이 되는 것은 아님\n",
    "    \n",
    "    - 대칭 행렬의 거듭 제곱 $A^n$ 또한 대칭 행렬\n",
    "    \n",
    "    - 어떤 행렬 A가 존재할 때, **자기 자신의 전치 행렬을 곱한 결과는 대칭 행렬($AA^{T} ,\\, A^{T}A$)**"
   ]
  },
  {
   "cell_type": "code",
   "execution_count": 40,
   "id": "8f8604cd-fda4-4bd8-9415-ea4f634a3cc6",
   "metadata": {},
   "outputs": [
    {
     "name": "stdout",
     "output_type": "stream",
     "text": [
      "[[1 0 2]\n",
      " [0 2 1]\n",
      " [2 1 1]]\n"
     ]
    }
   ],
   "source": [
    "import numpy as np\n",
    "\n",
    "A = np.array([[1, 0, 2], [0, 2, 1], [2, 1, 1]])\n",
    "print(A)"
   ]
  },
  {
   "cell_type": "code",
   "execution_count": 41,
   "id": "039f0d78-d276-4b5c-aceb-29addff6ed8b",
   "metadata": {},
   "outputs": [
    {
     "name": "stdout",
     "output_type": "stream",
     "text": [
      "[[1 0 2]\n",
      " [0 2 1]\n",
      " [2 1 1]]\n"
     ]
    }
   ],
   "source": [
    "At = np.transpose(A)\n",
    "print(At)"
   ]
  },
  {
   "cell_type": "code",
   "execution_count": 42,
   "id": "882350f9-81ec-40d4-91e1-76ab38425d5e",
   "metadata": {},
   "outputs": [
    {
     "data": {
      "text/plain": [
       "array([[ True,  True,  True],\n",
       "       [ True,  True,  True],\n",
       "       [ True,  True,  True]])"
      ]
     },
     "execution_count": 42,
     "metadata": {},
     "output_type": "execute_result"
    }
   ],
   "source": [
    "A == At"
   ]
  },
  {
   "cell_type": "code",
   "execution_count": 43,
   "id": "93837086-2172-4d08-bd37-8ee2915a94e1",
   "metadata": {},
   "outputs": [
    {
     "name": "stdout",
     "output_type": "stream",
     "text": [
      "행렬 A의  2 제곱은\n",
      "[[5 2 4]\n",
      " [2 5 3]\n",
      " [4 3 6]]\n",
      "====================\n",
      "행렬 A의  3 제곱은\n",
      "[[13  8 16]\n",
      " [ 8 13 12]\n",
      " [16 12 17]]\n",
      "====================\n",
      "행렬 A의  4 제곱은\n",
      "[[45 32 50]\n",
      " [32 38 41]\n",
      " [50 41 61]]\n",
      "====================\n",
      "행렬 A의  5 제곱은\n",
      "[[145 114 172]\n",
      " [114 117 143]\n",
      " [172 143 202]]\n",
      "====================\n",
      "행렬 A의  6 제곱은\n",
      "[[489 400 576]\n",
      " [400 377 488]\n",
      " [576 488 689]]\n",
      "====================\n",
      "행렬 A의  7 제곱은\n",
      "[[1641 1376 1954]\n",
      " [1376 1242 1665]\n",
      " [1954 1665 2329]]\n",
      "====================\n",
      "행렬 A의  8 제곱은\n",
      "[[5549 4706 6612]\n",
      " [4706 4149 5659]\n",
      " [6612 5659 7902]]\n",
      "====================\n",
      "행렬 A의  9 제곱은\n",
      "[[18773 16024 22416]\n",
      " [16024 13957 19220]\n",
      " [22416 19220 26785]]\n",
      "====================\n",
      "행렬 A의  10 제곱은\n",
      "[[63605 54464 75986]\n",
      " [54464 47134 65225]\n",
      " [75986 65225 90837]]\n",
      "====================\n"
     ]
    }
   ],
   "source": [
    "AA = A \n",
    "for i in range(0, 9):\n",
    "    AA = np.matmul(AA, A)\n",
    "    print(\"행렬 A의 \", i + 2, \"제곱은\")\n",
    "    print(AA)\n",
    "    print(\"=\"*20)"
   ]
  },
  {
   "cell_type": "code",
   "execution_count": 44,
   "id": "e68093b3-a56c-4622-9758-0334518e6a4c",
   "metadata": {},
   "outputs": [
    {
     "name": "stdout",
     "output_type": "stream",
     "text": [
      "[[1 0 3]\n",
      " [2 1 4]\n",
      " [0 1 1]]\n"
     ]
    }
   ],
   "source": [
    "# 비대칭 행렬과 그의 전치행렬\n",
    "A = np.array([[1, 0, 3], [2, 1, 4], [0, 1, 1]])\n",
    "print(A)"
   ]
  },
  {
   "cell_type": "code",
   "execution_count": 45,
   "id": "03fe7a8e-d3e5-4fcd-acaf-188dcc22b8f5",
   "metadata": {},
   "outputs": [
    {
     "name": "stdout",
     "output_type": "stream",
     "text": [
      "[[1 0 3]\n",
      " [2 1 4]\n",
      " [0 1 1]]\n"
     ]
    }
   ],
   "source": [
    "At = np.transpose(A)\n",
    "print(A)"
   ]
  },
  {
   "cell_type": "code",
   "execution_count": 46,
   "id": "1ebe8955-b41a-446e-934f-d9f150fa9c43",
   "metadata": {},
   "outputs": [
    {
     "data": {
      "text/plain": [
       "array([[10, 14,  3],\n",
       "       [14, 21,  5],\n",
       "       [ 3,  5,  2]])"
      ]
     },
     "execution_count": 46,
     "metadata": {},
     "output_type": "execute_result"
    }
   ],
   "source": [
    "np.matmul(A, At) # 나와 나의 전치행렬의 곱은 대칭행렬"
   ]
  },
  {
   "cell_type": "code",
   "execution_count": 47,
   "id": "1b712b9e-4bac-4194-9292-20a44d37bd54",
   "metadata": {},
   "outputs": [
    {
     "data": {
      "text/plain": [
       "array([[ 5,  2, 11],\n",
       "       [ 2,  2,  5],\n",
       "       [11,  5, 26]])"
      ]
     },
     "execution_count": 47,
     "metadata": {},
     "output_type": "execute_result"
    }
   ],
   "source": [
    "np.matmul(At, A) # 나와 나의 전치행렬의 곱은 대칭행렬"
   ]
  },
  {
   "cell_type": "markdown",
   "id": "25778a86-e5ed-4d3a-9348-0bb76746cb3d",
   "metadata": {},
   "source": [
    "### 4.3 대각 행렬(digonal matrix)"
   ]
  },
  {
   "cell_type": "markdown",
   "id": "7141f4fa-97e9-42f6-8ade-7c7e010718c3",
   "metadata": {},
   "source": [
    "* 행렬의 주 대각 원소가 아닌 원소가 0인 정사각 행렬\n",
    "\n",
    "* 주로 $D$로 표기, diagonal matrix의 약자\n",
    "\n",
    "    * $D = \\begin{pmatrix}\n",
    "d_1 & 0 & \\cdots  & 0 \\\\\n",
    "0 & d_2 & \\cdots  & 0 \\\\\n",
    "\\vdots  & \\vdots  & \\ddots  & \\vdots  \\\\\n",
    " 0 & 0 & \\cdots  & d_n \\\\\n",
    "\\end{pmatrix}$\n",
    "\n",
    "* 대각 행렬의 역행렬은 주 대각 원소의 역수를 구함으로써 간단히 구할 수 있음\n",
    "\n",
    "    - $D^{-1} = \\begin{pmatrix}\n",
    "1/d_1 & 0 & \\cdots  & 0 \\\\\n",
    "0 & 1/d_2 & \\cdots  & 0 \\\\\n",
    "\\vdots  & \\vdots  & \\ddots  & \\vdots  \\\\\n",
    " 0 & 0 & \\cdots  & 1/d_n \\\\\n",
    "\\end{pmatrix}$\n",
    "\n",
    "* 대각 행렬의 거듭제곱은 대각 원소의 거듭 제곱을 구함으로써 구할 수 있음\n",
    "\n",
    "    - $D^{k} = \\begin{pmatrix}\n",
    "d_1^{k} & 0 & \\cdots  & 0 \\\\\n",
    "0 & d_2^{k} & \\cdots  & 0 \\\\\n",
    "\\vdots  & \\vdots  & \\ddots  & \\vdots  \\\\\n",
    " 0 & 0 & \\cdots  & d_n^{k} \\\\\n",
    "\\end{pmatrix}$"
   ]
  },
  {
   "cell_type": "markdown",
   "id": "d09b5e9d-30ed-46bf-8d05-befbe170ce5c",
   "metadata": {},
   "source": [
    "* 대각 행렬의 성질\n",
    "\n",
    "    - D가 뒤에 있으면 열의 스칼라배 \n",
    "    \n",
    "    - D가 앞에 있으면 행의 스칼라배\n",
    "    "
   ]
  },
  {
   "cell_type": "code",
   "execution_count": 48,
   "id": "9e5760d8-ab11-4f67-8bdb-3ec9d48dd994",
   "metadata": {},
   "outputs": [
    {
     "name": "stdout",
     "output_type": "stream",
     "text": [
      "[[1 2 3]\n",
      " [4 5 6]\n",
      " [7 8 9]]\n",
      "----------\n",
      "[[1 0 0]\n",
      " [0 5 0]\n",
      " [0 0 9]]\n"
     ]
    }
   ],
   "source": [
    "import numpy as np\n",
    "\n",
    "A = np.array([[1, 2, 3], [4, 5, 6], [7, 8, 9]])\n",
    "D = np.diag(np.diag(A))\n",
    "print(A)\n",
    "print(\"-\" * 10)\n",
    "print(D)\n",
    "# np.diag(A)로 대각 원소 리스트를 구한 뒤, np.diag 함수에 넣으면 대각 행렬을 구할 수 있음"
   ]
  },
  {
   "cell_type": "code",
   "execution_count": 49,
   "id": "39c3f06e-3802-42a6-99f3-78d4f98214f6",
   "metadata": {},
   "outputs": [
    {
     "name": "stdout",
     "output_type": "stream",
     "text": [
      "[[1 2 3]\n",
      " [4 5 6]\n",
      " [7 8 9]]\n",
      "----------\n",
      "[[1 0 0]\n",
      " [0 5 0]\n",
      " [0 0 9]]\n"
     ]
    }
   ],
   "source": [
    "A2 = np.array([[1, 2, 3], [4, 5, 6], [7, 8, 9]])\n",
    "D2 = np.diag([1, 3, 4])\n",
    "print(A)\n",
    "print(\"-\" * 10)\n",
    "print(D)\n",
    "# 대각 행렬을 임의로 생성"
   ]
  },
  {
   "cell_type": "code",
   "execution_count": 50,
   "id": "202b02d3-ca15-4711-a4f2-ab001b003743",
   "metadata": {},
   "outputs": [
    {
     "name": "stdout",
     "output_type": "stream",
     "text": [
      "[[ 1 10 27]\n",
      " [ 4 25 54]\n",
      " [ 7 40 81]]\n"
     ]
    }
   ],
   "source": [
    "AD = np.matmul(A, D)\n",
    "print(AD)"
   ]
  },
  {
   "cell_type": "code",
   "execution_count": 51,
   "id": "34bdc323-8c07-4c67-b46c-7eefa0322d43",
   "metadata": {},
   "outputs": [
    {
     "name": "stdout",
     "output_type": "stream",
     "text": [
      "[[ 1  2  3]\n",
      " [20 25 30]\n",
      " [63 72 81]]\n"
     ]
    }
   ],
   "source": [
    "DA = np.matmul(D, A)\n",
    "print(DA)"
   ]
  },
  {
   "cell_type": "code",
   "execution_count": 52,
   "id": "71397aea-5089-4c7b-990c-e6ca5df36379",
   "metadata": {},
   "outputs": [
    {
     "name": "stdout",
     "output_type": "stream",
     "text": [
      "[[ 1  6 12]\n",
      " [ 4 15 24]\n",
      " [ 7 24 36]]\n"
     ]
    }
   ],
   "source": [
    "AD2 = np.matmul(A2, D2)\n",
    "print(AD2)"
   ]
  },
  {
   "cell_type": "code",
   "execution_count": 53,
   "id": "4a89af21-924d-4bc9-bf81-e66332367c47",
   "metadata": {},
   "outputs": [
    {
     "name": "stdout",
     "output_type": "stream",
     "text": [
      "[[ 1  2  3]\n",
      " [12 15 18]\n",
      " [28 32 36]]\n"
     ]
    }
   ],
   "source": [
    "DA2 = np.matmul(D2, A2)\n",
    "print(DA2)"
   ]
  },
  {
   "cell_type": "markdown",
   "id": "84dd1388-ed99-46d8-9069-ea162914c052",
   "metadata": {},
   "source": [
    "### 4.4 단위 행렬(identity matrix)"
   ]
  },
  {
   "cell_type": "markdown",
   "id": "d1ed2c65-e5f7-4baf-ae21-e197337d17c6",
   "metadata": {},
   "source": [
    "* 주 대각 원소가 1이고 그 밖의 나머지 원소는 모두 0인 대각 행렬\n",
    "\n",
    "    - $I = \\begin{pmatrix}\n",
    "1 & 0 & 0 \\\\\n",
    "0 & 1 & 0 \\\\\n",
    "0 & 0 & 1 \\\\\n",
    "\\end{pmatrix}$\n",
    "\n",
    "\n",
    "* 항등 행렬이라고도 함\n",
    "\n"
   ]
  },
  {
   "cell_type": "markdown",
   "id": "c28f865a-7625-4d2e-b03e-351a602f3fd4",
   "metadata": {},
   "source": [
    "* 단위 행렬의 성질\n",
    "\n",
    "    - $AI = A\\, , \\, IA = A$"
   ]
  },
  {
   "cell_type": "code",
   "execution_count": 54,
   "id": "802b8902-080d-42ba-8f4a-fcf268594c15",
   "metadata": {},
   "outputs": [
    {
     "name": "stdout",
     "output_type": "stream",
     "text": [
      "[[1. 0. 0. 0. 0.]\n",
      " [0. 1. 0. 0. 0.]\n",
      " [0. 0. 1. 0. 0.]\n",
      " [0. 0. 0. 1. 0.]\n",
      " [0. 0. 0. 0. 1.]]\n"
     ]
    }
   ],
   "source": [
    "import numpy as np\n",
    "I = np.identity(5)\n",
    "print(I)"
   ]
  },
  {
   "cell_type": "code",
   "execution_count": 55,
   "id": "aff1e22d-a7c8-439c-b6a4-1903286944d1",
   "metadata": {},
   "outputs": [
    {
     "name": "stdout",
     "output_type": "stream",
     "text": [
      "[[1 2 3]\n",
      " [4 5 6]\n",
      " [7 8 9]]\n"
     ]
    }
   ],
   "source": [
    "A = np.array([[1, 2, 3], [4, 5, 6], [7, 8, 9]])\n",
    "I = np.identity(3)\n",
    "print(A)"
   ]
  },
  {
   "cell_type": "code",
   "execution_count": 56,
   "id": "036156fe-c47b-4237-9a1e-1aef252ff21a",
   "metadata": {},
   "outputs": [
    {
     "name": "stdout",
     "output_type": "stream",
     "text": [
      "[[1. 0. 0.]\n",
      " [0. 1. 0.]\n",
      " [0. 0. 1.]]\n"
     ]
    }
   ],
   "source": [
    "print(I)"
   ]
  },
  {
   "cell_type": "code",
   "execution_count": 57,
   "id": "458bed23-ffa9-4f4f-9fa2-5aacab67e000",
   "metadata": {},
   "outputs": [
    {
     "name": "stdout",
     "output_type": "stream",
     "text": [
      "[[1 2 3]\n",
      " [4 5 6]\n",
      " [7 8 9]] \n",
      " -------------------- \n",
      " [[1. 2. 3.]\n",
      " [4. 5. 6.]\n",
      " [7. 8. 9.]]\n"
     ]
    }
   ],
   "source": [
    "AI = np.matmul(A, I)\n",
    "print(A, \"\\n\", \"-\"*20, \"\\n\", AI)"
   ]
  },
  {
   "cell_type": "code",
   "execution_count": 58,
   "id": "2f0b2210-81eb-44bd-8e06-da49de410e0e",
   "metadata": {},
   "outputs": [
    {
     "name": "stdout",
     "output_type": "stream",
     "text": [
      "[[1 2 3]\n",
      " [4 5 6]\n",
      " [7 8 9]] \n",
      " -------------------- \n",
      " [[1. 2. 3.]\n",
      " [4. 5. 6.]\n",
      " [7. 8. 9.]]\n"
     ]
    }
   ],
   "source": [
    "IA = np.matmul(I, A)\n",
    "print(A, \"\\n\", \"-\"*20, \"\\n\", IA)"
   ]
  },
  {
   "cell_type": "markdown",
   "id": "8ba3327f-a713-45ba-9f1b-f43531c221a2",
   "metadata": {},
   "source": [
    "### 4.5 영행렬(zero matrix)"
   ]
  },
  {
   "cell_type": "markdown",
   "id": "772238cb-67dd-417e-bb21-894dfcc9ad89",
   "metadata": {},
   "source": [
    "* 행렬 구성 원소가 모두 0 일때\n",
    "\n",
    "* 주로 0으로 표기함\n",
    "\n",
    "* $A + 0 = A, ~ A - 0 = A,~ 0 - A = -A,~ A - A = 0,~ 0A = 0,~ A0 = 0$"
   ]
  },
  {
   "cell_type": "code",
   "execution_count": 59,
   "id": "440c14db-3f8b-4be7-9838-e37e36282725",
   "metadata": {},
   "outputs": [
    {
     "name": "stdout",
     "output_type": "stream",
     "text": [
      "[[0. 0.]\n",
      " [0. 0.]\n",
      " [0. 0.]]\n"
     ]
    }
   ],
   "source": [
    "import numpy as np\n",
    "\n",
    "Z = np.zeros((3, 2))\n",
    "print(Z)"
   ]
  },
  {
   "cell_type": "markdown",
   "id": "88050601-d081-4981-986e-88fff3c8ca77",
   "metadata": {},
   "source": [
    "### 4.6 삼각 행렬(triangle matrix)"
   ]
  },
  {
   "cell_type": "markdown",
   "id": "a6a45e64-7516-4d94-b095-d625c4bc5050",
   "metadata": {},
   "source": [
    "* 행렬의 구성 원소가 삼각형 형태를 나타내는 행렬 \n",
    "\n",
    "* **상 삼각 행렬(upper triangular matrix)** 주 대각 원소 아래쪽에 있는 모든 원소가 0인 정사각 행렬\n",
    "\n",
    "    - $A = \\begin{pmatrix}\n",
    "a_{11} & a_{12} & a_{13} \\\\\n",
    "0 & a_{22} & a_{23} \\\\\n",
    "0 & 0 & a_{33} \\\\\n",
    "\\end{pmatrix}$\n",
    "\n",
    "* **하 삼각 행렬(lower triangular matrix)** 주 대각 원소 위쪽에 있는 모든 원소가 0인 정사각 행렬\n",
    "\n",
    "    - $ A = \\begin{pmatrix}\n",
    "a_{11} & 0 & 0 \\\\\n",
    "a_{21} & a_{22} & 0 \\\\\n",
    "a_{31} & a_{32} & a_{33} \\\\\n",
    "\\end{pmatrix}$\n",
    "\n",
    "* **삼각 행렬의 성질**\n",
    "\n",
    "    - 삼각 행렬 간 덧셈, 뺄셈, 행렬 곱의 결과는 삼각 행렬\n",
    "    \n",
    "    - 상 삼각 행렬의 전치 행렬은 하 삼각 행렬, 하 삼각 행렬의 전치 행렬은 상 삼각 행렬\n",
    "    \n",
    "    - 삼각 행렬의 역행렬 또한 삼각 행렬의 형태"
   ]
  },
  {
   "cell_type": "code",
   "execution_count": 60,
   "id": "af910987-6f4d-4481-8a88-a7dad79b8176",
   "metadata": {},
   "outputs": [
    {
     "name": "stdout",
     "output_type": "stream",
     "text": [
      "[[1 2 3]\n",
      " [0 5 6]\n",
      " [0 0 9]]\n"
     ]
    }
   ],
   "source": [
    "# 상 삼각 행렬\n",
    "\n",
    "import numpy as np\n",
    "A = np.array([[1, 2, 3], [4, 5, 6], [7, 8, 9]])\n",
    "Au = np.triu(A)\n",
    "print(Au)"
   ]
  },
  {
   "cell_type": "code",
   "execution_count": 61,
   "id": "58d6746b-3171-4bbf-ab6c-01a66a8acc65",
   "metadata": {},
   "outputs": [
    {
     "name": "stdout",
     "output_type": "stream",
     "text": [
      "[[1 0 0]\n",
      " [4 5 0]\n",
      " [7 8 9]]\n"
     ]
    }
   ],
   "source": [
    "# 하 삼각 행렬\n",
    "\n",
    "import numpy as np\n",
    "A = np.array([[1, 2, 3], [4, 5, 6], [7, 8, 9]])\n",
    "Al = np.tril(A)\n",
    "print(Al)"
   ]
  },
  {
   "cell_type": "markdown",
   "id": "e21ec13e-0802-4cbc-b3cc-992ef8f856c5",
   "metadata": {},
   "source": [
    "### 4.7 토플리츠 행렬 (Toeplitz matrix)"
   ]
  },
  {
   "cell_type": "markdown",
   "id": "bb60665a-29f5-4bf0-9551-ca44a56e2fa6",
   "metadata": {},
   "source": [
    "* 토플리츠 행렬(Toeplitz matrix): 1행의 원소가 2행으로 가면서 한 열씩 오른쪽으로 이동하면서 새로운 원소가 생성되는 행렬\n",
    "\n",
    "    - $ A = \\begin{pmatrix}\n",
    "a & b & c & d & e \\\\\n",
    "f & a & b & c & d \\\\\n",
    "g & f & a & b & c \\\\\n",
    "h & g & f & a & b \\\\\n",
    "i & h & g & f & a \\\\\n",
    "\\end{pmatrix}$\n",
    "\n",
    "\n",
    "* 일반화 하면 다음과 같다\n",
    "\n",
    "    - $ A = \\begin{pmatrix}\n",
    "t_{0} & t_{-1} & t_{-2} & \\cdots  & \\cdots  & t_{-(n-1)}\\\\\n",
    "t_{1} & t_{0} & t_{-1} & \\ddots  & \\ddots  & \\vdots \\\\\n",
    "t_{2} & t_{1} & t_{0} & \\ddots & \\ddots & \\vdots\\\\\n",
    "\\vdots & \\ddots & \\ddots & \\ddots & t_{-1} & t_{-2}\\\\\n",
    "\\vdots & \\ddots & \\ddots & t_{1} & t_{0} & t_{-1}\\\\\n",
    "t_{n-1} & t_{n-2} & \\cdots  & t_{2} & t_{1} & t_{0}\\\\\n",
    "\\end{pmatrix}$\n",
    "\n",
    "    - $T_{i, j} = T_{i+1, j+1} = t_{i-j}$\n",
    "    \n",
    "* 토플리츠 행렬은 시계열 분석에 자주 사용됨\n",
    "\n",
    "    - 시계열 데이터를 생각해 보면 시점에 따라 값이 나열되어 있는 형태인데, 이와 같은 시계열 데이터를 행렬 형태로 변환할 때 토플리츠 행렬을 사용함"
   ]
  },
  {
   "cell_type": "markdown",
   "id": "4d0cd234-d8d4-4a03-ad26-ea6aa7d7ba29",
   "metadata": {},
   "source": [
    "* scipy 이용 구현"
   ]
  },
  {
   "cell_type": "code",
   "execution_count": 62,
   "id": "ef663970-98d0-4569-a1f4-2e19fbf1b7bb",
   "metadata": {},
   "outputs": [],
   "source": [
    "from scipy.linalg import toeplitz"
   ]
  },
  {
   "cell_type": "code",
   "execution_count": 63,
   "id": "005ba2af-1171-4776-89d1-27ed321c8ded",
   "metadata": {},
   "outputs": [
    {
     "name": "stdout",
     "output_type": "stream",
     "text": [
      "[[ 1  3  5  7  9]\n",
      " [ 0  1  3  5  7]\n",
      " [-2  0  1  3  5]\n",
      " [-4 -2  0  1  3]]\n"
     ]
    }
   ],
   "source": [
    "A = toeplitz([1, 0,-2, -4], [1, 3, 5, 7, 9])\n",
    "print(A)"
   ]
  },
  {
   "cell_type": "markdown",
   "id": "40ba04b3-9227-4b9f-bab4-b5a6aa3b79c0",
   "metadata": {},
   "source": [
    "###  4.8 이중 대각 행렬(bidiagonal matrix)"
   ]
  },
  {
   "cell_type": "markdown",
   "id": "279bbb60-c231-48ab-b11a-76edb2a67df1",
   "metadata": {},
   "source": [
    "* 대각 원소 뿐만 아니라 대각 원소의 바로 위쪽 혹은 아래쪽 원소가 0이 아닌 행렬\n",
    "\n",
    "* upper bidiagonal matrix 예시\n",
    "\n",
    "    - $ A = \\begin{pmatrix}\n",
    "1 & 3 & 0 & 0 \\\\\n",
    "0 & 2 & 2 & 0 \\\\\n",
    "0 & 0 & 3 & 5 \\\\\n",
    "0 & 0 & 0 & 4 \\\\\n",
    "\\end{pmatrix}$\n",
    "\n",
    "* lower bidiagonal matrix\n",
    "\n",
    "    - $ B = \\begin{pmatrix}\n",
    "1 & 0 & 0 & 0 \\\\\n",
    "2 & 2 & 0 & 0 \\\\\n",
    "0 & 1 & 3 & 0 \\\\\n",
    "0 & 0 & 1 & 4 \\\\\n",
    "\\end{pmatrix}$"
   ]
  },
  {
   "cell_type": "markdown",
   "id": "675d9838-2cc1-444e-9a0b-2e1504da43f9",
   "metadata": {},
   "source": [
    "**upper bidiagonal matrix**"
   ]
  },
  {
   "cell_type": "code",
   "execution_count": 64,
   "id": "f1885975-8b09-4f39-ab28-52412a0c3cc0",
   "metadata": {},
   "outputs": [
    {
     "name": "stdout",
     "output_type": "stream",
     "text": [
      "[[1 2 1 3]\n",
      " [5 3 4 1]\n",
      " [2 1 7 9]\n",
      " [2 8 1 3]]\n"
     ]
    }
   ],
   "source": [
    "import numpy as np\n",
    "\n",
    "A = np.array([[1, 2, 1, 3], [5, 3, 4, 1], [2, 1, 7, 9], [2, 8, 1, 3]])\n",
    "print(A)"
   ]
  },
  {
   "cell_type": "code",
   "execution_count": 65,
   "id": "96c1ba9f-8d6f-4623-8ea0-2e14babf8939",
   "metadata": {},
   "outputs": [
    {
     "name": "stdout",
     "output_type": "stream",
     "text": [
      "[1 3 7 3]\n"
     ]
    }
   ],
   "source": [
    "# 대각 원소 추출\n",
    "diag_ele = np.diag(A)\n",
    "print(diag_ele)"
   ]
  },
  {
   "cell_type": "code",
   "execution_count": 66,
   "id": "d5290bd7-513c-41ed-8073-a38f0d0c25f1",
   "metadata": {},
   "outputs": [
    {
     "name": "stdout",
     "output_type": "stream",
     "text": [
      "[[1 0 0 0]\n",
      " [0 3 0 0]\n",
      " [0 0 7 0]\n",
      " [0 0 0 3]]\n"
     ]
    }
   ],
   "source": [
    "# 추출한 대각 원소를 이용 대각 행렬 생성 \n",
    "print(np.diag(diag_ele))"
   ]
  },
  {
   "cell_type": "code",
   "execution_count": 67,
   "id": "e64c5e99-7964-4fb6-8d63-43dfdb293687",
   "metadata": {},
   "outputs": [
    {
     "name": "stdout",
     "output_type": "stream",
     "text": [
      "[2 4 9]\n",
      "--------------------\n",
      "[[0 2 0 0]\n",
      " [0 0 4 0]\n",
      " [0 0 0 9]\n",
      " [0 0 0 0]]\n"
     ]
    }
   ],
   "source": [
    "# 대각 원소 1칸 위 대각 성분 추출\n",
    "u_diag_ele = np.diag(A, k = 1)\n",
    "print(u_diag_ele)\n",
    "print(\"-\" * 20)\n",
    "print(np.diag(u_diag_ele, k = 1))"
   ]
  },
  {
   "cell_type": "code",
   "execution_count": 68,
   "id": "5c9dc464-9c58-4874-92db-9d3145754faf",
   "metadata": {},
   "outputs": [
    {
     "name": "stdout",
     "output_type": "stream",
     "text": [
      "[[1 2 0 0]\n",
      " [0 3 4 0]\n",
      " [0 0 7 9]\n",
      " [0 0 0 3]]\n"
     ]
    }
   ],
   "source": [
    "u_diag = np.diag(diag_ele) + np.diag(u_diag_ele, k = 1)\n",
    "print(u_diag)"
   ]
  },
  {
   "cell_type": "markdown",
   "id": "a1461ce2-d116-4534-be93-68e4ed38f374",
   "metadata": {},
   "source": [
    "**lower bidiagonal matrix**"
   ]
  },
  {
   "cell_type": "code",
   "execution_count": 69,
   "id": "14a5d9ae-16f0-4513-93af-1f4db79ef23c",
   "metadata": {},
   "outputs": [
    {
     "name": "stdout",
     "output_type": "stream",
     "text": [
      "[5 1 1]\n",
      "--------------------\n",
      "[[0 0 0 0]\n",
      " [5 0 0 0]\n",
      " [0 1 0 0]\n",
      " [0 0 1 0]]\n"
     ]
    }
   ],
   "source": [
    "# 대각 원소 1칸 아래 대각 성분 추출\n",
    "l_diag_ele = np.diag(A, k = -1)\n",
    "print(l_diag_ele)\n",
    "print(\"-\" * 20)\n",
    "print(np.diag(l_diag_ele, k = -1))"
   ]
  },
  {
   "cell_type": "code",
   "execution_count": 70,
   "id": "5e6717c8-d653-4ed9-bc7a-cf84a506b3af",
   "metadata": {},
   "outputs": [
    {
     "name": "stdout",
     "output_type": "stream",
     "text": [
      "[[1 0 0 0]\n",
      " [5 3 0 0]\n",
      " [0 1 7 0]\n",
      " [0 0 1 3]]\n"
     ]
    }
   ],
   "source": [
    "u_diag = np.diag(diag_ele) + np.diag(l_diag_ele, k = -1)\n",
    "print(u_diag)"
   ]
  },
  {
   "cell_type": "markdown",
   "id": "8ff4be60-ed05-4196-83e2-903b3a1c9fdf",
   "metadata": {},
   "source": [
    "### 4.9 하우스홀더 행렬(householder matrix)"
   ]
  },
  {
   "cell_type": "markdown",
   "id": "2a63336a-e5eb-4cbf-972d-dc6bc663d13e",
   "metadata": {},
   "source": [
    "* 어떤 행렬을 다른 형태로 변환할 때 사용하는 행렬\n",
    "\n",
    "* 하우스 홀더 행렬은 정사각 행렬이며, 모든 열이 정규 직교(orthonormal)한다는 특징이 있음\n",
    "\n",
    "* 하우스 홀더 행렬은 벡터 $v$ 와 $I$를 이용해 구할 수 있음 \n",
    "\n",
    "    - $H = 1 - 2\\cfrac{{\\,v}{v^T}}{{v^T}{v}}$\n",
    "    \n",
    "    - $v = \\begin{pmatrix}\n",
    "v_{1} \\\\\n",
    "v_{2} \\\\\n",
    "\\vdots  \\\\\n",
    "v_{n}\n",
    "\\end{pmatrix}$\n",
    "\n",
    "    - **${v}{v^T}$** : 벡터의 외적 \n",
    "    \n",
    "    - **${v^T}{v}$** : 벡터의 내적\n",
    "    "
   ]
  },
  {
   "cell_type": "markdown",
   "id": "c11c99cd-a228-4b23-a84e-1555b6aa045a",
   "metadata": {},
   "source": [
    "**넘파이 이용 하우스 홀더 행렬 구현**"
   ]
  },
  {
   "cell_type": "code",
   "execution_count": 71,
   "id": "c1dc40eb-43e0-4d7e-89b1-34107f3de2ea",
   "metadata": {},
   "outputs": [
    {
     "name": "stdout",
     "output_type": "stream",
     "text": [
      "4\n"
     ]
    }
   ],
   "source": [
    "import numpy as np\n",
    "\n",
    "v = np.array([1 , 0, 2, 3])\n",
    "\n",
    "n = len(v)\n",
    "print(n)\n",
    "\n",
    "# 두 벡터의 외적\n",
    "outer_mat = np.outer(v, v)\n",
    "\n",
    "# 두 벡터의 내적\n",
    "inner_val = np.inner(v, v)\n",
    "\n",
    "# 벡터의 원소 길이 만큼의 단위 행렬\n",
    "I = np.identity(n)\n",
    "\n",
    "# 하우스 홀더 행렬 계산식에 따라 연산\n",
    "H = I - (2/inner_val)*outer_mat"
   ]
  },
  {
   "cell_type": "code",
   "execution_count": 72,
   "id": "40a1c3e9-6637-47f0-a463-db30e7a92884",
   "metadata": {},
   "outputs": [
    {
     "name": "stdout",
     "output_type": "stream",
     "text": [
      "하우스 홀더 행렬을 만들기 위해 사용한 벡터 : \n",
      " [1 0 2 3]\n",
      "========================================\n",
      "하우스 홀더 행렬 결과 : \n",
      " [[ 0.85714286  0.         -0.28571429 -0.42857143]\n",
      " [ 0.          1.          0.          0.        ]\n",
      " [-0.28571429  0.          0.42857143 -0.85714286]\n",
      " [-0.42857143  0.         -0.85714286 -0.28571429]]\n",
      "----------------------------------------\n",
      "v 벡터의 외적 : \n",
      " [[1 0 2 3]\n",
      " [0 0 0 0]\n",
      " [2 0 4 6]\n",
      " [3 0 6 9]]\n",
      "----------------------------------------\n",
      "v 벡터의 내적 :  14\n",
      "----------------------------------------\n",
      "계산에 사용된 단위 벡터 : \n",
      " [[1. 0. 0. 0.]\n",
      " [0. 1. 0. 0.]\n",
      " [0. 0. 1. 0.]\n",
      " [0. 0. 0. 1.]]\n"
     ]
    }
   ],
   "source": [
    "print(\"하우스 홀더 행렬을 만들기 위해 사용한 벡터 : \\n\", v)\n",
    "print(\"==\"*20)\n",
    "print(\"하우스 홀더 행렬 결과 : \\n\", H)\n",
    "print(\"--\"*20)\n",
    "print(\"v 벡터의 외적 : \\n\", outer_mat)\n",
    "print(\"--\"*20)\n",
    "print(\"v 벡터의 내적 : \", inner_val)\n",
    "print(\"--\"*20)\n",
    "print(\"계산에 사용된 단위 벡터 : \\n\", I)"
   ]
  },
  {
   "cell_type": "markdown",
   "id": "bf912cdf-10c6-4172-86e5-fc76191034ba",
   "metadata": {},
   "source": [
    "## Chapter 5. 선형 시스템"
   ]
  },
  {
   "cell_type": "markdown",
   "id": "b8b3e2d6-25dc-4ee1-b96b-378f5aa9068a",
   "metadata": {},
   "source": [
    "* 선형 방정식이 다수 존재하는 경우, 선형 방정식의 집합을 연립 1차 방정식(system of linear equation) 혹은 **선형 시스템(linear system)** 이라고 함\n",
    "    - 삼각 함수, 지수 함수와 같은 형태로 나타는 경우는 선형방정식이 아님\n",
    "    \n",
    "    - 선형 방정식에서는 변수끼리의 곱이나 제곱근을 포함하지 않음\n",
    "\n",
    "\n",
    "* 일반적인 선형 시스템\n",
    "\n",
    "$$a_{11}x_{1} + a_{12}x_{2} + \\cdots  + a_{1p}x_{p} = b_{1}$$\n",
    "$$a_{21}x_{1} + a_{22}x_{2} + \\cdots  + a_{2p}x_{p} = b_{2}$$\n",
    "$$\\vdots$$\n",
    "$$a_{n1}x_{1} + a_{n2}x_{2} + \\cdots  + a_{np}x_{p} = b_{n}$$\n",
    "\n",
    "* 일반적인 선형 시스템의 상수 부분만 모아서 행렬 형태로 나타낸 것 : **첨가 행렬(Argumented matrix)**\n",
    "\n",
    "    - 첨가 행렬을 이용하면 선형 시스템의 해를 보다 쉽게 구할 수 있음\n",
    "\n",
    "$$\\begin{pmatrix}\n",
    "a_{11} & a_{12} & \\cdots & a_{1p} & b_1 \\\\\n",
    "a_{21} & a_{22} & \\cdots & a_{2p} & b_2 \\\\\n",
    "\\vdots & \\vdots & \\ddots & \\vdots & \\vdots \\\\\n",
    "a_{n1} & a_{n2} & \\cdots & a_{np} & b_{n} \\\\\n",
    "\\end{pmatrix}$$\n"
   ]
  },
  {
   "cell_type": "markdown",
   "id": "347fb257-c759-4d8f-8e50-c60914f18cab",
   "metadata": {},
   "source": [
    "* 동차 선형 시스템(homogeneous linear system)\n",
    "\n",
    "    - 선형 시스템의 우변이 모두 0이면 해당 선형 시스템을 동차 선형 시스템이라고 부름\n",
    "    \n",
    "    - 적어도 하나의 해가 존재한다는 의미\n",
    "    \n",
    "    - 방정식 개수보다 변수의 개수가 많은 동차 선형 시스템은 항상 무한개의 해를 가짐\n",
    "    "
   ]
  },
  {
   "cell_type": "code",
   "execution_count": 73,
   "id": "16ffda8e-bd1a-41c4-bf51-227904ed6b31",
   "metadata": {},
   "outputs": [],
   "source": [
    "# 넘파이 solve 이용\n",
    "\n",
    "import numpy as np\n",
    "X = np.array([[3, 1, 2], [2, 6, -1], [4, 0, -1]])\n",
    "Y = np.array([[5], [1], [3]])\n",
    "\n",
    "sol = np.linalg.solve(X, Y)"
   ]
  },
  {
   "cell_type": "code",
   "execution_count": 74,
   "id": "2f1e30a1-6ff9-4907-84fd-ade6fc3b8786",
   "metadata": {},
   "outputs": [
    {
     "name": "stdout",
     "output_type": "stream",
     "text": [
      "[[1.]\n",
      " [0.]\n",
      " [1.]]\n"
     ]
    }
   ],
   "source": [
    "print(sol)"
   ]
  },
  {
   "cell_type": "markdown",
   "id": "2c148515-a25a-486d-b5e3-e51384c3b21e",
   "metadata": {},
   "source": [
    "## Chapter 6. 행렬식"
   ]
  },
  {
   "cell_type": "markdown",
   "id": "c4fd0cfb-5e7d-499d-9e99-1ca88c69097d",
   "metadata": {},
   "source": [
    "* 삼각 행렬의 행렬식: 주 대각 원소의 곱과 같음 $det(A) = a_{11}a_{22}a_{33}\\cdots$\n",
    "\n",
    "* 대각 행렬의 행렬식: 주 대각 원소의 곱과 같음 $det(A) = a_{11}a_{22}a_{33}\\cdots$\n",
    "\n",
    "* 전치 행렬의 행렬식: 정사각 행렬 A의 행렬식과 전치 행렬의 행렬식은 동일함 $det(A) = det(A^{T})$\n",
    "\n",
    "* 특정 행과 열의 원소가 모두 0일때 행렬식: 0 , $det(A) = 0$\n",
    "\n",
    "* 특정 행과 열이 서로 비례할 때 행렬식: 0 \n",
    "\n",
    "* $det(kA) = k^ndet(A)$\n",
    "\n",
    "* 행렬 곱과 행렬식 $det(AB) = det(A)det(B)$"
   ]
  },
  {
   "cell_type": "code",
   "execution_count": 75,
   "id": "3f615141-63d8-4964-a080-eaf9fdc7b94a",
   "metadata": {},
   "outputs": [
    {
     "name": "stdout",
     "output_type": "stream",
     "text": [
      "5.000000000000001\n"
     ]
    }
   ],
   "source": [
    "import numpy as np\n",
    "\n",
    "A = np.array([[3, 2, 0], [-1, -3, 6], [2, 3, -5]])\n",
    "detA = np.linalg.det(A)\n",
    "print(detA)"
   ]
  },
  {
   "cell_type": "markdown",
   "id": "eb2ee6dc-ed1c-4d6a-b05b-bef932b712e7",
   "metadata": {},
   "source": [
    "## Chapter 7. 역행렬"
   ]
  },
  {
   "cell_type": "markdown",
   "id": "7e65091e-0b5c-4efb-b47c-0522ad58e180",
   "metadata": {},
   "source": [
    "* $AA^{-1} = A^{-1}A = I$\n",
    "\n",
    "* ${AB}^{-1} = B^{-1}A^{-1}$\n",
    "\n",
    "* 행렬식이 0이면 역행렬이 존재하지 않음 \n",
    "\n",
    "* 역행렬이 존재하지 않는 행렬: 특이 행렬(singular matrix)"
   ]
  },
  {
   "cell_type": "markdown",
   "id": "abc5c9df-f568-4b54-a5de-6acb3747717c",
   "metadata": {},
   "source": [
    "* 여인수로 구성된 행렬: 여인수 행렬(matrix of cofacors from A) \n",
    "\n",
    "    $$\\begin{pmatrix}\n",
    "C_{11} & C_{12} & \\cdots & C_{1p} & C_1 \\\\\n",
    "C_{21} & C_{22} & \\cdots & C_{2p} & C_2 \\\\\n",
    "\\vdots & \\vdots & \\ddots & \\vdots & \\vdots \\\\\n",
    "C_{n1} & C_{n2} & \\cdots & C_{np} & C_{n} \\\\\n",
    "\\end{pmatrix}$$\n",
    "\n",
    "* 여인수 행렬의 전치 행렬: 수반 행렬(adjoint of A), $adj(A)$\n",
    "\n",
    "* 행렬 A의 역행렬은 행렬식과 수반 행렬을 이용하여 다음과 같이 구함\n",
    "\n",
    "$$A^{-1} = \\cfrac{1}{det(A)} adj(A)$$"
   ]
  },
  {
   "cell_type": "markdown",
   "id": "15542d53-f618-4510-bfa9-59d40f6dbd3e",
   "metadata": {},
   "source": [
    "* 정사각 행렬의 거듭제곱: $$A^0 = I$$  $$A^{n} = AA \\cdots A$$  $$A^{n}B^{m} = A^{n+m}$$  $$(A^{n})^{m} = A^{n+m}$$\n",
    "\n",
    "* 역행렬의 거듭제곱: $$A^{-n} = (A^{-1})^{n} = A^{-1}A^{-1} \\cdots A^{-1}$$  $$(A^{-1})^{-1} = A$$ $$(A^{n})^{-1} = (A^{-1})^{n}$$\n",
    "$$(aA)^{-1} = \\cfrac{1}{a}A^{-1}$$\n",
    "\n",
    "* 역행렬과 전치행렬: $$(A^{-1})^{T} = (A^{T})^{-1}$$\n",
    "\n",
    "* 역행렬과 행렬식 : $$ det(A^{-1}) = \\cfrac{1}{det(A)}$$\n"
   ]
  },
  {
   "cell_type": "code",
   "execution_count": 76,
   "id": "3b69b921-389d-474c-93c3-c263d2db4dd7",
   "metadata": {},
   "outputs": [
    {
     "name": "stdout",
     "output_type": "stream",
     "text": [
      "[[ 3  2  0]\n",
      " [-1 -3  6]\n",
      " [ 2  3 -5]]\n",
      "------------------------------------------------------------\n",
      "[[-0.6  2.   2.4]\n",
      " [ 1.4 -3.  -3.6]\n",
      " [ 0.6 -1.  -1.4]]\n"
     ]
    }
   ],
   "source": [
    "import numpy as np\n",
    "A = np.array([[3, 2, 0], [-1, -3, 6], [2, 3, -5]])\n",
    "invA = np.linalg.inv(A)\n",
    "print(A)\n",
    "print('---'*20)\n",
    "print(invA)"
   ]
  },
  {
   "cell_type": "markdown",
   "id": "02dba6d7-0bdc-4b2d-bf5f-b106f5497e21",
   "metadata": {},
   "source": [
    "## Chapter 8. 기저와 차원"
   ]
  },
  {
   "cell_type": "markdown",
   "id": "126db9c3-7a29-4ea0-b9f5-f9dafb05aa7c",
   "metadata": {},
   "source": [
    "* **벡터 공간(vector space)** : 덧셈과 스칼라 곱이 정의된 공간, 선형 공간, 벡터 집합이 존재할 때 해당 벡터들로 구성할 수 있는 공간\n",
    "\n",
    "* **부분 공간(subspace)** : 벡터 공간의 부분 공간\n",
    "\n",
    "* **스팬(span)** : 집합 S에 속하는 기저 벡터들로 구성되는 2차원 부분 공간을 W라고 했을 때, S는 부분 공간 W를 span 한다고 말하고, W = span(S)라고 표현\n",
    "\n",
    "    - 두 기저 벡터로 span 할 수 있는 벡터 공간은 2차원 평면임\n",
    "\n",
    "\n",
    "* **선형 변환(linear transformation)** : 두 벡터 공간 사이의 함수\n",
    "\n",
    "* **선형 조합(linear combination)** : $w = a_{1}\\textbf{u}_{1} + a_{2}\\textbf{u}_{2} + \\cdots + a_{n}\\textbf{u}_{n}$ \n",
    "\n",
    "* **선형 독립(linear independent)** : 특정 벡터를 다른 벡터의 선형 조합으로 표현할 수 없을 때\n",
    "\n",
    "* **선형 종속(linear dependent)** : 특정 벡터를 다른 벡터의 선형 조합으로 표현할 수 있을 때\n",
    "\n",
    "* **기저(basis)** : 벡터 공간을 생성하는 선형 독립인 벡터들, 기저의 조합으로 공간 생성 $S_1, S_2, \\cdots , S_n$이 n차원 공간 S의 기저이면, 차원 공간 내에 존재하는 모든 벡터는 $c_1S_1+c_2S_2 + \\cdots + c_nS_n$ 의 오직 한가지 형태로 표현할 수 있음\n",
    "\n",
    "* 벡터 공간 $\\textbf{S}$ 의 임의의 기저를  $ \\left\\{  S_1, S_2, \\cdots , S_n \\right \\}$ 이라고 했을 때 벡터 공간은 다음과 같은 성질을 만족함\n",
    "\n",
    "    - n개가 넘는 벡터가 만드는 집합은 선형 종속\n",
    "    \n",
    "    - n개 미만의 벡터가 만드는 집합은 벡터 공간 $\\textbf{S}$를 생성할 수 없음\n",
    "\n",
    "    - 벡터 공간의 모든 기저 벡터의 개수는 동일함\n",
    "    \n",
    "* **차원(dimension)** 이란 해당 공간을 구성하는 기저 벡터의 개수\n",
    "\n",
    "* **행 공간(row space)** : 행 벡터로 span 할 수 있는 공간, 행 벡터 n개로 나타낼 수 있는 공간 (n x p matrix 일 경우)\n",
    "\n",
    "* **열 공간(column space)** : 열 벡터로 span 할 수 있는 공간, 열 벡터 p개로 나타낼 수 있는 공간 (n x p matrix 일 경우)\n",
    "\n",
    "    * 행 공간의 차원과 열 공간의 차원은 같음\n",
    "\n",
    "* **영 공간(null space)** : 행렬 A가 주어질 때 $Ax = 0$ 을 만족하는 모든 벡터 x의 집합\n",
    "\n",
    "* **랭크(Rank)** : 열 벡터에 의해 span된 벡터 공간의 차원, 행 공간과 열 공간의 공통 차원 $rank(A)$\n",
    "\n",
    "* **널리티(nullity)** : 행렬 A의 영 공간의 차원\n",
    "\n",
    "    - 행렬 $A$가 임의의 행렬이면 $ransk(A) = rank(A^{T})$\n",
    "    \n",
    "    - 행렬 A가 n개의 열을 가진 행렬일때, $rank(A) + nullity(A) = n$을 만족"
   ]
  },
  {
   "cell_type": "markdown",
   "id": "210dc26a-df5e-4759-98f3-7470d1215232",
   "metadata": {},
   "source": [
    "## Chapter 9. 내적"
   ]
  },
  {
   "cell_type": "markdown",
   "id": "2d93112a-4885-4d9d-9837-dc5551e83df0",
   "metadata": {},
   "source": [
    "* **내적 (inner product)** : 벡터와 벡터 연산 결과값으로 스칼라가 나옴\n",
    "\n",
    "    * $\\left< \\mathbf{u}, \\mathbf{v} \\right> = \\mathbf{u}^{T}\\mathbf{v}$ : 두 열 벡터의 내적을 구할 때는 두 열 벡터 중 하나의 벡터를 전치(transpose)시켜 행 벡터로 변환한 후 나머지 벡터와 벡터 곱을 하면 내적 값을 구할 수 있음\n",
    "    \n",
    "    * 벡터의 길이(norm)를 구하거나 벡터 사이의 관계를 파악할 수 있음\n",
    "    \n",
    "    * 벡터의 길이(length)는 노름(norm)이라고 하며 자기 자신의 내적 값의 제곱근을 계산함으로써 구할 수 있음\n",
    "    \n",
    "    * 벡터 $\\mathbf{u}$의 길이는 $\\left\\| \\mathbf{u} \\right\\|$ 로 표기함 ( $\\left\\| \\mathbf{u} \\right\\| $ = $\\sqrt{{u_{1}}^{2} + {u_{2}}^{2} + \\cdots + {u_{n}}^{2}}$ )\n",
    "    * $\\mathbf{u} \\cdot \\mathbf{v} = \\left\\| \\mathbf{u} \\right\\| \\cdot \\left\\| \\mathbf{v} \\right\\| cos(\\theta)$"
   ]
  },
  {
   "cell_type": "markdown",
   "id": "22a1b0d2-83e4-463f-bfdd-f40ab58144ff",
   "metadata": {},
   "source": [
    "* **정사영(projection)** : 한 벡터 공간에 속한 벡터를 부분 공간으로 수직으로 투영하는 것을 말함\n",
    "\n",
    "    - 내적 결과가 음수라면 $proj_v u$는 벡터 $v$와 반대 방향인 것을 알 수 있음"
   ]
  },
  {
   "cell_type": "markdown",
   "id": "f136e4e7-c8c8-425d-b06d-63f640de0fad",
   "metadata": {},
   "source": [
    "* **직교(orthogonal)** 두 직선 또는 두 평면이 직각을 이루며 만나는 것 $\\mathbf{u} \\cdot \\mathbf{v} = \\left\\| \\mathbf{u} \\right\\| \\cdot \\left\\| \\mathbf{v} \\right\\| cos(\\theta) = 0$ \n",
    "\n",
    "* **정규 직교(orthonormal)** : 각 벡터의 길이가 1이면서 벡터 공간에 존재하는 모든 벡터가 서로 직교하는 것\n",
    "\n",
    "* **정규 직교 벡터(orthonormal vector)** : 직교 공간에 존재하는 직교 벡터의 길이가 모두 1인 경우\n",
    "\n",
    "* **정규 직교 공간(orthonormal space)** : 정규 직교 벡터가 만드는 공간\n",
    "\n",
    "* **정규화(normalization)** : 해당 벡터의 길이(norm)로 나누어서 직교 벡터를 정규 직교 벡터로 변환하는 방법 $\\mathbf{v} = \\frac{1}{\\left\\| \\mathbf{u} \\right\\|}  \\cdot u$\n",
    "\n",
    "    * 정규화한 벡터끼리 내적할 경우에도 0이 됨 -> 직교 벡터를 정규화하면 정규 직교 벡터가 됨\n",
    "\n",
    "    "
   ]
  },
  {
   "cell_type": "markdown",
   "id": "c948f814-4ffa-4f34-8228-67948a9d96cb",
   "metadata": {},
   "source": [
    "* **그램-슈미트 과정** : 기저벡터(s) ->  직교 기저(u) 벡터 찾는 과정\n",
    "\n",
    "* **그램-슈미트 과정을 이용한 QR 분해**\n",
    "\n",
    "    - 1. 직교 벡터($s_1$)을 직교 기저 벡터 ($u_1$)로 설정\n",
    "    \n",
    "    - 2. 그램-슈미트 과정을 통해 직교 기저 벡터 ($u_2$) 생성\n",
    "    \n",
    "    - 3. 그램-슈미트 과정을 통해 직교 기저 벡터 ($u_3$) 생성\n",
    "    \n",
    "    - 4. 직교 기저 벡터 ($u_1, u_2, u_3$)를 정규 직교 기저 벡터($v_1, v_2, v_3$)로 변환\n",
    "    \n",
    "    - 5. $ Q =  \\left ( v_1, v_2, v_3 \\right )$  $$R = \\begin{pmatrix}\n",
    "\\left< a_{1}, v_{1} \\right> &  \\left< a_{2}, v_{1} \\right>& \\left< a_{1}, v_{1} \\right> \\\\\n",
    "0 & \\left< a_{2}, v_{2} \\right> & \\left< a_{2}, v_{2} \\right> \\\\\n",
    "0 & 0 & \\left< a_{3}, v_{3} \\right> \\\\\n",
    "\\end{pmatrix}$$"
   ]
  },
  {
   "cell_type": "markdown",
   "id": "e33cae03-2c2e-4c54-830f-d1f96d5c8bc4",
   "metadata": {},
   "source": [
    "* 하우스 홀더 행렬을 이용한 QR 분해\n",
    "\n",
    "    * 1. $A_1 = A$ 가정\n",
    "    \n",
    "    * 2. 다음 식 이용 $v_1$ 벡터 구하기 $$v_1 = a_1 + sign(a_1)\\left\\| a_1 \\right\\| e_{1}$$ \n",
    "    \n",
    "    * 3. $v_1$ 이용 하우스 홀더 행렬 $H_1$ 구하기  $$H_1 = 1 - 2\\cfrac{{\\,v_1}{{v_1}^T}}{{{v_1}^T}{v_1}}$$\n",
    "    \n",
    "    * 4. $H_1 A_1$ 행렬곱 구하고 $H_1 A_1$ 에서 1행과 1열을 삭제하여 $A_2$ 로 축소\n",
    "    \n",
    "    * 5.  $A_2$ 이용, 같은 방식으로 $H_2$,  $H_3$ 구하기\n",
    "    \n",
    "    * 6. $ R = H_3 H_2 H_1 A$, $ \\quad Q = H_1 H_2 H_3$ 구하기 \n"
   ]
  },
  {
   "cell_type": "code",
   "execution_count": 77,
   "id": "733d8f57-fca2-44de-9e20-20ef46e43004",
   "metadata": {},
   "outputs": [
    {
     "name": "stdout",
     "output_type": "stream",
     "text": [
      "[[-0.70710678  0.57735027 -0.40824829]\n",
      " [-0.         -0.57735027 -0.81649658]\n",
      " [-0.70710678 -0.57735027  0.40824829]]\n",
      "------------------------------------------------------------\n",
      "[[-1.41421356 -1.41421356 -0.70710678]\n",
      " [ 0.         -1.73205081  0.        ]\n",
      " [ 0.          0.         -1.22474487]]\n"
     ]
    }
   ],
   "source": [
    "# 넘파이 QR 분해 \n",
    "\n",
    "import numpy as np\n",
    "A = np.array([[1, 0, 1], [0, 1, 1], [1, 2, 0]])\n",
    "\n",
    "Q, R = np.linalg.qr(A)\n",
    "\n",
    "print(Q)\n",
    "print(\"---\"*20)\n",
    "print(R)"
   ]
  },
  {
   "cell_type": "code",
   "execution_count": 78,
   "id": "c907ae85-341f-4b06-8c9c-a74a84e3549e",
   "metadata": {},
   "outputs": [
    {
     "name": "stdout",
     "output_type": "stream",
     "text": [
      "[[1 0 1]\n",
      " [0 1 1]\n",
      " [1 2 0]]\n",
      "------------------------------------------------------------\n",
      "[[ 1. -0.  1.]\n",
      " [ 0.  1.  1.]\n",
      " [ 1.  2. -0.]]\n"
     ]
    }
   ],
   "source": [
    "print(A)\n",
    "print(\"---\"*20)\n",
    "print(np.round(np.matmul(Q,R), 6))"
   ]
  },
  {
   "cell_type": "markdown",
   "id": "9f876145-96ad-4f47-bd14-812f3a09701a",
   "metadata": {},
   "source": [
    "### Chapter 10. 다양한 곱 연산"
   ]
  },
  {
   "cell_type": "markdown",
   "id": "05bb78ae-f5d7-4553-8653-e6c8955cc7e8",
   "metadata": {},
   "source": [
    "### 10.1 외적과 크로네커 곱"
   ]
  },
  {
   "cell_type": "markdown",
   "id": "8181d644-5f1e-4e74-9fb6-a05402333f49",
   "metadata": {},
   "source": [
    "* **외적(outer product)** 또는 **텐서 곱(tensor product)**\n",
    "\n",
    "$$\\mathbf{u} \\bigotimes \\mathbf{v} = \\mathbf{u} \\mathbf{v^{T} } = \\begin{pmatrix}\n",
    "u_1 \\\\\n",
    "u_2 \\\\\n",
    "u_3\\end{pmatrix} \\begin{pmatrix}\n",
    "v_1 & v_2 & v_3 & v_4 \\\\\n",
    "\\end{pmatrix} = \\begin{pmatrix}\n",
    "u_1 v_1 & u_1 v_2 & u_1 v_3 & u_1 v_4\\\\\n",
    "u_2 v_1 & u_2 v_2 & u_2 v_3 & u_2 v_4\\\\\n",
    "u_3 v_1 & u_3 v_2 & u_3 v_3 & u_3 v_4\\\\\n",
    "\\end{pmatrix}$$"
   ]
  },
  {
   "cell_type": "markdown",
   "id": "0675ff2a-2934-4ed4-af78-ffd70544528c",
   "metadata": {},
   "source": [
    "* **크로네커 곱(Kronecker product)** : 원소별로 대상 행렬을 곱함 -> nm x pd로 커짐\n",
    "\n",
    "$$ \\mathbf{A} \\bigotimes \\mathbf{B} = \\begin{pmatrix}\n",
    "u_1 B & u_1 B& u_1 B& u_1 B\\\\\n",
    "u_2 B& u_2 B& u_2 B& u_2 B\\\\\n",
    "u_3 B& u_3 B& u_3 B& u_3 B\\\\\n",
    "\\end{pmatrix} $$"
   ]
  },
  {
   "cell_type": "markdown",
   "id": "ac9a3beb-231c-4ede-b46c-d2b38146f2ca",
   "metadata": {},
   "source": [
    "### 10.2 벡터 곱"
   ]
  },
  {
   "cell_type": "markdown",
   "id": "045eb018-8649-4ba6-9486-f6bae5f94c1f",
   "metadata": {},
   "source": [
    "* **벡터 곱(vector product) 또는 크로스 곱(cross product)** 는 3차원 공간의 벡터들 간에 적용할 수 있는 연산 (단위 벡터 활용)\n",
    "\n",
    "$$ \\mathbf{u} \\times \\mathbf{v} = \\begin{vmatrix}\n",
    "i & j & k \\\\\n",
    "u_1 & u_2 & u_3 \\\\\n",
    "v_1 & v_2 & v_3 \\\\\n",
    "\\end{vmatrix} = \\begin{vmatrix}\n",
    "u_2 & u_3 \\\\\n",
    "v_2 & v_3 \\\\\n",
    "\\end{vmatrix}i - \\begin{vmatrix}\n",
    "u_1 & u_3 \\\\\n",
    "v_1 & v_3 \\\\\n",
    "\\end{vmatrix}j + \\begin{vmatrix}\n",
    "u_1 & u_2 \\\\\n",
    "v_1 & v_2 \\\\\n",
    "\\end{vmatrix}k $$\n",
    "\n",
    "* 벡터 곱 u x v는 벡터 u와 벡터 v에 수직인 벡터를 의미"
   ]
  },
  {
   "cell_type": "markdown",
   "id": "3e93c538-33a7-4f10-ba74-24057d0e6bdc",
   "metadata": {},
   "source": [
    "### 10.3 삼중곱"
   ]
  },
  {
   "cell_type": "markdown",
   "id": "b75f14c7-55d0-41ba-ae17-daef954b3667",
   "metadata": {},
   "source": [
    "* **스칼라 삼중곱**\n",
    "\n",
    "$$\\mathbf{u} \\cdot(\\mathbf{v} \\times \\mathbf{w}) = \\mathbf{u} \\cdot \\begin{pmatrix}\\begin{vmatrix}\n",
    "i & j & k \\\\\n",
    "v_1 & v_2 & v_3 \\\\\n",
    "w_1 & w_2 & w_3 \\\\\n",
    "\\end{vmatrix}\\end{pmatrix}  = \\begin{vmatrix}\n",
    "v_2 & v_3 \\\\\n",
    "w_2 & w_3 \\\\\n",
    "\\end{vmatrix}u_1 - \\begin{vmatrix}\n",
    "v_1 & v_3 \\\\\n",
    "w_1 & w_3 \\\\\n",
    "\\end{vmatrix}u_2 + \\begin{vmatrix}\n",
    "v_1 & v_2 \\\\\n",
    "w_1 & w_2 \\\\\n",
    "\\end{vmatrix}u_3 = \\begin{vmatrix}\n",
    "u_1 & u_2 & u_3 \\\\\n",
    "v_1 & v_2 & v_3 \\\\\n",
    "w_1 & w_2 & w_3 \\\\\n",
    "\\end{vmatrix}$$"
   ]
  },
  {
   "cell_type": "markdown",
   "id": "94199281-609c-46a8-b1f9-c4f2841de062",
   "metadata": {},
   "source": [
    "* **벡터 삼중곱** : 벡터 간 연산을 모두 벡터 곱으로 수행하는 것\n",
    "\n",
    "$$ \\mathbf{u} \\times (\\mathbf{v} \\times \\mathbf{w})$$"
   ]
  },
  {
   "cell_type": "code",
   "execution_count": 79,
   "id": "11fa5e20-624b-495e-b602-e6cdd12e9f94",
   "metadata": {},
   "outputs": [
    {
     "name": "stdout",
     "output_type": "stream",
     "text": [
      "[[ 4  5]\n",
      " [ 8 10]\n",
      " [12 15]]\n"
     ]
    }
   ],
   "source": [
    "# 넘파이 이용 외적(outer product)\n",
    "\n",
    "import numpy as np\n",
    "\n",
    "a = np.array([1, 2, 3])\n",
    "b = np.array([4, 5])\n",
    "\n",
    "res = np.outer(a, b)\n",
    "print(res)"
   ]
  },
  {
   "cell_type": "markdown",
   "id": "36cfb727-fdbc-4c55-8eed-04f80109a4b7",
   "metadata": {},
   "source": [
    "## Chapter 11. 고윳값과 고유벡터\n",
    "\n",
    "### 11.1 고유값 및 고유벡터 정의"
   ]
  },
  {
   "cell_type": "markdown",
   "id": "d6e5c6cd-a710-45b4-9a96-c3feba39de49",
   "metadata": {},
   "source": [
    "* 고윳값은 영어로 eigenvalue 라고 하는데 이때 쓰이는 단어인 eigen은 특성(charateristics)이라는 뜻을 담고 있음\n",
    "\n",
    "    - 고윳값, 고유 벡터에서 말하는 특성이란 벡터의 방향은 변하지 않고 크기만 변하는 특성을 의미\n"
   ]
  },
  {
   "cell_type": "markdown",
   "id": "7420f38e-5efd-4339-8994-0a87786b4302",
   "metadata": {},
   "source": [
    "* **고유 벡터(eigenvector)** 란 벡터에 선형 변환했을 때, 방향은 변하지 않고 크기만 변하는 벡터를 의미 \n",
    "\n",
    "* **고윳값(eigen value)** 선형 변환 이후 변한 크기 \n",
    "\n",
    "$$Ax = \\lambda x \\quad \\lambda : eigen \\, value$$\n",
    "\n",
    "* 위 수식의 좌변은 벡터 $x$에 선형 변환 $A$를 취한 것을 의미. 우변은 기존 벡터 $x$의 방향은 변하지 않고 길이가 $\\lambda$ 만큼 변했다는 것을 의미\n",
    "\n",
    "    -  $\\lambda$ 값이 클수록 기존 벡터 $x$의 길이가 길어짐을 의미하고  $\\lambda$ 값이 작을수록 기존 벡터 $x$의 길이가 짧아짐을 의미\n",
    "\n",
    "\n",
    "* 고윳값의 부호를 보면 고유 벡터의 방향을 알 수 있고, 고윳값의 크기를 보면 고유 벡터의 길이를 알 수 있음\n",
    "    \n",
    "    - $\\lambda \\le -1 $ 이면 기존 벡터의 길이는 길어지고 방향이 기존 벡터와 반대인 벡터로 변환됨\n",
    "\n",
    "    - $ -1 \\ge \\lambda \\le 0 $ 이면 기존 벡터의 길이보다 짧고 방향이 반대인 벡터로 변환됨\n",
    "\n",
    "    - $ 0 \\ge \\lambda \\le 1 $ 이면 기존 벡터의 길이보다 짧고 방향이 동일한 벡터로 변환됨\n",
    "\n",
    "    - $ 1 \\ge \\lambda $ 이면 기존 벡터의 길이보다 길고 방향이 동일한 벡터로 변환됨"
   ]
  },
  {
   "cell_type": "markdown",
   "id": "d7ac5db8-a2b4-46c3-bb41-785abe1d3f16",
   "metadata": {},
   "source": [
    "* 2 x 2 행렬의 고윳값과 고유 벡터 구하기\n",
    "\n",
    "    - 동차 선형 시스템에서 고윳값 $\\lambda$가 존재하기 위한 필요충분 조건은 $ \\left ( A - \\lambda I \\right ) $의 행렬식이 0이 되는 것\n",
    "\n",
    "$$ Ax = \\lambda x \\Leftrightarrow Ax - \\lambda x  = 0 \\Leftrightarrow \\left ( A - \\lambda I \\right )x = 0 $$\n",
    "\n",
    "$$det\\left ( A - \\lambda I \\right ) = 0$$\n",
    "\n",
    "* $det\\left ( A - \\lambda I \\right ) = 0$ 식을 **특성 방정식(characteristic equation)** 이라고 함\n",
    "\n",
    "    - 고윳값을 구한다는 말의 의미는 위와 같은 특성 방정식을 만족하는 $\\lambda$를 찾는 다는 말과 같음\n",
    "\n",
    "\n",
    "* $\\lambda$를 구한 후 x 벡터를 구하면 고유 벡터를 구할 수 있음(정규화 필요)"
   ]
  },
  {
   "cell_type": "markdown",
   "id": "05db5549-a36a-4468-bf74-4097c9a286c0",
   "metadata": {},
   "source": [
    "### 11.2 QR 분해를 이용한 고유값, 고유 벡터 구하기 "
   ]
  },
  {
   "cell_type": "markdown",
   "id": "ed97cc6a-e264-43ac-907d-2314a8773f63",
   "metadata": {},
   "source": [
    "* 초기 행렬 $A_0$ 에서  $A_k$로 QR 분해 반복될수록 $A_k$는 삼각 행렬 형태로 수렴함\n",
    "\n",
    "    * 삼각 행렬의 고유값은 대각 원소의 곱이므로 삼각 행렬 $A_k$의 대각 원소를 모두 곱합으로써 행렬 $A$ 값을 구함"
   ]
  },
  {
   "cell_type": "markdown",
   "id": "4a3ebbaa-273d-41e0-88d9-f6aa459b4a6b",
   "metadata": {},
   "source": [
    "### 11.3 고윳값과 고유 벡터의 성질"
   ]
  },
  {
   "cell_type": "markdown",
   "id": "3e78145e-276f-4803-81f4-232e2345f9b4",
   "metadata": {},
   "source": [
    "* $A^{n}x = (\\lambda)^{n}x$\n",
    "\n",
    "* 정사각 행렬 A가 가역 행렬이기 위한 필요충분조건은 행렬 A의 고윳값이 0이 아닌 것\n",
    "\n",
    "* 고유벡터는 유일하지 않음\n",
    "\n",
    "    - 부호가 바뀌거나 임의의 스칼라가 곱해져도 $Ax = \\lambda x$ 식이 변하지 않으므로 고유 벡터는 유일하지 않음"
   ]
  },
  {
   "cell_type": "code",
   "execution_count": 80,
   "id": "28e39052-510c-4b61-84bc-32a9f3e5ca64",
   "metadata": {},
   "outputs": [
    {
     "name": "stdout",
     "output_type": "stream",
     "text": [
      "[[ 3  0]\n",
      " [ 8 -1]]\n"
     ]
    }
   ],
   "source": [
    "# 넘파이 이용 실습\n",
    "\n",
    "import numpy as np \n",
    "\n",
    "A = np.array([[3, 0], [8, -1]])\n",
    "print(A)"
   ]
  },
  {
   "cell_type": "code",
   "execution_count": 81,
   "id": "ab078173-a586-44ba-bec4-b52984c48345",
   "metadata": {},
   "outputs": [],
   "source": [
    "e, v = np.linalg.eig(A)"
   ]
  },
  {
   "cell_type": "code",
   "execution_count": 82,
   "id": "4cfa8e47-c6f0-4777-b244-c41d51d32d22",
   "metadata": {},
   "outputs": [
    {
     "name": "stdout",
     "output_type": "stream",
     "text": [
      "[-1.  3.]\n",
      "[[0.         0.4472136 ]\n",
      " [1.         0.89442719]]\n"
     ]
    }
   ],
   "source": [
    "print(e)\n",
    "print(v)"
   ]
  },
  {
   "cell_type": "code",
   "execution_count": 83,
   "id": "cbeca7da-7456-4dfd-8bd2-985512bab10e",
   "metadata": {},
   "outputs": [
    {
     "name": "stdout",
     "output_type": "stream",
     "text": [
      "[[ 4  0  1]\n",
      " [-2  1  0]\n",
      " [-2  0  1]]\n"
     ]
    }
   ],
   "source": [
    "A2 = np.array([[4, 0, 1], [-2, 1, 0], [-2, 0, 1]])\n",
    "print(A2)"
   ]
  },
  {
   "cell_type": "code",
   "execution_count": 84,
   "id": "d0f24cc2-fc49-4abf-ae13-035722f49bb3",
   "metadata": {},
   "outputs": [
    {
     "name": "stdout",
     "output_type": "stream",
     "text": [
      "[1. 3. 2.]\n",
      "[[ 0.          0.57735027 -0.33333333]\n",
      " [ 1.         -0.57735027  0.66666667]\n",
      " [ 0.         -0.57735027  0.66666667]]\n"
     ]
    }
   ],
   "source": [
    "e2, v2 = np.linalg.eig(A2)\n",
    "\n",
    "print(e2)\n",
    "print(v2)"
   ]
  },
  {
   "cell_type": "markdown",
   "id": "8ffca81e-25cf-4afa-82d8-ffad37da9577",
   "metadata": {},
   "source": [
    "## Chapter 12. 직교 행렬"
   ]
  },
  {
   "cell_type": "markdown",
   "id": "44b52ed7-a9b8-49cd-89c2-94c5a7895db4",
   "metadata": {},
   "source": [
    "### 12.1 직교 행렬"
   ]
  },
  {
   "cell_type": "markdown",
   "id": "c378ba37-6503-4a95-82a4-3cec6b493de2",
   "metadata": {},
   "source": [
    "* **직교 행렬(orthogonal matrix)** 어떤 행렬의 행 벡터(row vector)와 열 벡터(column vector)가 유클리드 공간의 정규 직교 기저를 이루는 행렬\n",
    "\n",
    "* **정규 직교 행렬(orthonormal matrix)** 행렬을 구성하는 각 행 벡터 혹은 열 벡터의 길이가 1이며 서로 수직인 벡터로 이루어진 행렬\n",
    "\n",
    "    - 직교 행렬은 자기 자신과 자신의 전치 행렬을 행렬곱하면 단위 행렬이 됨, 직교 행렬 A의 역행렬은 자기 자신의 전치 행렬(transposed matrix)가 됨\n",
    "    \n",
    "        $$ AA^{T} = A^{T}A = I , \\quad A^{-1} = A^{T} $$\n",
    "\n",
    "* 직교행렬의 성질 \n",
    "\n",
    "    - 직교 행렬의 전치 행렬은 직교 행렬임\n",
    "\n",
    "    - 직교 행렬의 역행렬은 직교 행렬\n",
    "\n",
    "    - 직교 행렬끼리의 곱의 결과는 직교 행렬\n",
    "\n",
    "    - 직교 행렬의 행렬식은 1 또는 -1 "
   ]
  },
  {
   "cell_type": "markdown",
   "id": "0862d068-c6b5-45ef-924f-9818f0928cd2",
   "metadata": {},
   "source": [
    "### 12.2 닮음"
   ]
  },
  {
   "cell_type": "markdown",
   "id": "0476d386-99b1-41b1-9a49-4e98c269630f",
   "metadata": {},
   "source": [
    "* 정사각 행렬 A, B에 대해 다음을 만족하는 가역 행렬 P가 존재할 때, 정사각 행렬 A, B는 서로 **닮음(similar)**\n",
    "\n",
    "    $$B = P^{-1}AP$$\n",
    "    \n",
    "*  위 식을 만족하는 직교 행렬(orthogonal matrix) P가 존재할 때 행렬 B는 행렬 A에 직교 닮음(orthogonally similar)라고 함"
   ]
  },
  {
   "cell_type": "markdown",
   "id": "b4135735-57df-4251-b37d-4d1701692604",
   "metadata": {},
   "source": [
    "### 12.2 닮음의 성질"
   ]
  },
  {
   "cell_type": "markdown",
   "id": "cac77644-8f50-4d3e-89e6-fb1ed9687832",
   "metadata": {},
   "source": [
    "1. 서로 닮은 행렬의 행렬식은 동일함\n",
    "\n",
    "    $$det(A) = det(B)$$\n",
    "\n",
    "2. 행렬 $A$가 가역 행렬이라는 말은 $P^{-1}AP$가 가역 행렬이라는 말과 같음\n",
    "\n",
    "3. 행렬 $A$와 행렬 $P^{-1}AP$의 랭크와 널리티는 동일함\n",
    "\n",
    "    $$rank(A) = rank(P^{-1}AP)$$\n",
    "    $$nullity(A) = nullity(P^{-1}AP)$$\n",
    "    \n",
    "4. 행렬 $A$와 행렬 $P^{-1}AP$의 대각합은 동일함\n",
    "\n",
    "    $$tr(A) = tr(P^{-1}AP)$$\n",
    "\n",
    "5. 행렬 $A$와 행렬 $P^{-1}AP$의 고유값은 동일함\n"
   ]
  },
  {
   "cell_type": "code",
   "execution_count": 85,
   "id": "99494c31-ff17-4656-a5b7-bd85609e941f",
   "metadata": {},
   "outputs": [
    {
     "name": "stdout",
     "output_type": "stream",
     "text": [
      "[[1. 0.]\n",
      " [0. 1.]]\n"
     ]
    }
   ],
   "source": [
    "# 넘파이를 이용한 직교 행렬 여부 확인\n",
    "\n",
    "import numpy as np\n",
    "\n",
    "A = np.array([[1/(2**0.5), -1/(2**0.5)], [1/(2**0.5), 1/(2**0.5)]])\n",
    "At = np.transpose(A)\n",
    "\n",
    "# 자기 자신과 자기 자신의 전치행렬을 행렬곱하였을 때 단위 행렬이 나오면 직교 행렬이다.\n",
    "res = np.matmul(At, A)\n",
    "print(np.round(res, 6))"
   ]
  },
  {
   "cell_type": "markdown",
   "id": "f85dc7b7-e87a-4e7b-aef5-6e9d9786f438",
   "metadata": {},
   "source": [
    "## Chapter 13. 대각화"
   ]
  },
  {
   "cell_type": "markdown",
   "id": "b0bb9085-e5c9-4e0d-829c-05090020d72a",
   "metadata": {},
   "source": [
    "### 13.1 대각화의 개념"
   ]
  },
  {
   "cell_type": "markdown",
   "id": "477b66d7-7ad1-4e65-8aec-20c1abfc5d01",
   "metadata": {},
   "source": [
    "* **행렬의 대각화(diagonalization)** : 행렬을 대각 행렬로 만드는 것\n",
    "\n",
    "    * 정사각 행렬 $A$에 대해 $P^{-1}AP$가 대각 행렬이 되는 가역 행렬 $P$가 존재하면 행렬 $A$는 **대각화 가능(digonalizable)**\n",
    "    \n",
    "    * 행렬의 대각화 가능 여부는 해당 행렬의 고윳값의 개수를 보면 판단할 수 있음 \n",
    "\n",
    "        - n x n 크기의 행렬 $A$가 대각화 가능하려면 행렬 $A$는 n개의 서로 다른 고윳값을 가져야 함\n",
    "\n",
    "        - 행렬 $A$의 고윳값 개수가 n 보다 작으면 행렬 $A$는 대각화 불가능한 행렬"
   ]
  },
  {
   "cell_type": "markdown",
   "id": "a293105f-ea05-4ca8-851d-492edc7d52c1",
   "metadata": {},
   "source": [
    "### 13.2 직교 대각화의 개념"
   ]
  },
  {
   "cell_type": "markdown",
   "id": "bf930fb7-cf52-4c94-9df7-53238263d940",
   "metadata": {},
   "source": [
    "* **직교 대각화(orthogonal diagonalization)**\n",
    "\n",
    "    - $ B = P^{-1}AP $ 에서 정사각 행렬 $B$가 대각 행렬 $D$ 일 경우($ D = P^{-1}AP = P^{T}AP $ 를 만족하는 직교 행렬 $P$가 존재하는 경우)\n",
    "\n",
    "    - 아래의 식을 만족하며 직교 행렬 $P$는 $A$를 직교 대각화 한다고 말하며 $A$는 직교 대각화 가능(orthogonally diagonalizable)하다고 말함\n",
    "    \n",
    "$$ D = P^{-1}AP = P^{T}AP $$\n",
    "    \n",
    "    \n",
    "        - 행렬 $A$에 선형 변환을 취한 결과, 대각 원소만 남는 대각 행렬이 된다고 생각\n",
    "\n",
    "\n",
    "* 직교 대각화 가능 조건 \n",
    "\n",
    "    1. 행렬 $A$의 고유 벡터는 n개의 정규 직교 벡터를 만족해야 함\n",
    "\n",
    "    2. 행렬 $A$가 직교 대각화 가능하려면 $A$는 반드시 대칭 행렬($A^{T} = A$)이어야 함"
   ]
  },
  {
   "cell_type": "markdown",
   "id": "fdc15fa4-1d46-4461-b4fb-c0c6be09ca7c",
   "metadata": {},
   "source": [
    "### 13.3 고윳값 분해"
   ]
  },
  {
   "cell_type": "markdown",
   "id": "9b828ffb-42f0-4b0b-90b0-5900b0d2870c",
   "metadata": {},
   "source": [
    "* **고윳값 분해(eigenvalue decomposition)** 는 직교 대각화의 한 종류\n",
    "\n",
    "    * 직교 대각화에서 쓰이는 직교 벡터 $P$는 고윳값 분해에서는 고유 벡터를 이용해 만들수 있고, 대각 행렬의 원소에 해당하는 것이 고윳값이라고 생각하면 쉬움\n",
    "\n",
    "\n",
    "* $\\lambda_1, \\lambda_2, \\lambda_3$은 행렬 $A$의 고유값이고 $ u_1, u_2, u_3 $는 각 고윳값에 해당하는 고유 벡터라고 하면 고윳값 분해는 아래와 같이 표현 가능\n",
    "\n",
    "$$ A = PDP^{T} $$\n",
    "$$ \\begin{pmatrix}\n",
    "\\sigma_11 & \\sigma_12 & \\sigma_13 \\\\\n",
    " \\sigma_21 & \\sigma_22 & \\sigma_23 \\\\\n",
    " \\sigma_31 &  \\sigma_32 &  \\sigma_33 \\\\\n",
    "\\end{pmatrix} = \\begin{pmatrix}\n",
    "u_1 & u_2 & u_3 \\\\\n",
    "\\end{pmatrix}\\begin{pmatrix}\n",
    "\\lambda_1 & 0 & 0 \\\\\n",
    "0 & \\lambda_2 & 0 \\\\\n",
    "0 & 0 &  \\lambda_3\\\\\n",
    "\\end{pmatrix}\\begin{pmatrix}\n",
    "{u_1}^{T} \\\\\n",
    "{u_2}^{T} \\\\\n",
    "{u_3}^{T} \\end{pmatrix} $$\n"
   ]
  },
  {
   "cell_type": "markdown",
   "id": "5257d199-66b9-4e59-8525-8aae538f357a",
   "metadata": {},
   "source": [
    "### 13.4 특이값 분해"
   ]
  },
  {
   "cell_type": "markdown",
   "id": "3f7e1f7e-b5a2-4365-961c-96b9f0232cff",
   "metadata": {},
   "source": [
    "* **특이값 분해(Singular Value Decomposition)** : 정사각 행렬을 대상으로 하는 고윳값 분해를 m x n행렬로 일반화시킨 것"
   ]
  },
  {
   "cell_type": "markdown",
   "id": "19982711-6bf8-4dda-a4d2-d2edda16e96a",
   "metadata": {},
   "source": [
    "**(배경)**\n",
    "\n",
    "* 특이값 분해도 행렬의 차원 축소를 위한 도구로 쓰임\n",
    "\n",
    "    - 차원 축소란 주어진 행렬의 차원보다 낮은 차원으로 적합시킬 수 있는 기존 행렬의 차원보다 낮은 차원의 공간을 찾는 것\n",
    "\n",
    "    - 만약 행렬 A가 p차원이라고 했을때, 행렬 A를 d차원(p > d)으로 축소한 행렬을 B라고 하면, 결국 특이값 분해는 차원 축소 행렬 B를 찾는 데에 사용됨\n",
    "    \n",
    "    - 행렬 A를 차원 축소시키는 것은 행렬 A의 n개의 점을 표현할 수 잇는 기존 p보다 작은 차원인 d차원의 부분 공간(subspace)을 찾는 문제라고 볼 수 있음\n",
    "   \n",
    "    \n",
    "* 차원 축소 방법은 데이터와 부분 공간으로부터의 수직 거리를 최소화 하는 것\n",
    "\n",
    "    - 직선거리의 최소화는 제곱합(sum of square)을 최소화 하는 것\n",
    "\n",
    "    - 제곱합을 사용한다는 말은 $A^{T}A, \\, AA^{T}$ 를 사용하는 것이며, 차원 축소의 일환인 특이값 분해는 원본 행렬 $A$를 다루기보다는 $A^{T}A, \\, AA^{T}$를 다루는 것\n",
    "\n",
    "    - 이때, 행렬 $A$는 n x p 크기의 행렬이므로 행렬 $A^{T}A$는 p x p 크기의 행렬이고, 행렬 $AA^{T}$는 n x n 크기의 행렬이 됨\n"
   ]
  },
  {
   "cell_type": "markdown",
   "id": "af03284d-c1bb-4988-bb10-2d6fd3c42e5c",
   "metadata": {},
   "source": [
    "**(특이값(Singular value) 정의)**\n",
    "\n",
    "* n x p 행렬 A에 대해 $A^{T}A$의 고윳값을 $\\lambda_1, \\cdots , \\lambda_d$라고 할 때, 행렬의 고유값에 루트를 씌운 $ \\sigma_1 = \\sqrt{\\lambda_1}, \\sigma_2 = \\sqrt{\\lambda_2}, \\cdots , \\sigma_d = \\sqrt{\\lambda_d}$ 를 **행렬 A의 특이값**이라고 함\n",
    "\n",
    "    - 고윳값은 행렬 $A^{T}A$의 전체 열 크기인 p보다 작은 d개 존재\n",
    "\n",
    "\n",
    "* 고유값 분해는 $ A = PDP^{T} $ 로 나타내지만 **특이값 분해는 $ A = U \\sum V^{T} $ 로 나타냄**\n",
    "\n",
    "    - 행렬 $U$의 열벡터는 $AA^{T}$의 고유 벡터로 구성되고 이를 **left singular vector**라고 부름\n",
    "\n",
    "    - 행렬 $V$의 열벡터는 $A^{T}A$의 고유 벡터로 구성되고 이를 **right singular vector**라고 부름\n",
    "\n",
    "    - $\\sum$의 대각 원소는 행렬 $A$의 특이값임(고유값 분해에서와 달리 특이값 분해에서는 $U$와 $V$가 반드시 같은 필요는 없음)"
   ]
  },
  {
   "cell_type": "markdown",
   "id": "fe74f7e9-cb29-4abc-a8b7-158e3742abf4",
   "metadata": {},
   "source": [
    "$$\\textbf{A} = \\textbf{U}\\sum \\textbf{V}^{T} = \n",
    "\\begin{pmatrix}\n",
    "u_1 & u_2 & \\cdots & u_d & | & u_{d+1} & \\cdots & u_n \\\\\n",
    "\\end{pmatrix} \n",
    "\\begin{pmatrix}\n",
    "\\sigma_1 & 0 & \\cdots & 0 & | & 0 & 0 & \\cdots & 0   \\\\\n",
    "0 & \\sigma_2 & \\cdots & 0 & | & 0 & 0 & \\cdots & 0 \\\\\n",
    "\\vdots & \\vdots & \\ddots & \\vdots & | & 0 & 0 & \\cdots & 0_d\\times (p-d) \\\\\n",
    "-&  - & - & - & | & - & - & - & - \\\\\n",
    "0 & 0 & \\cdots & 0 & | & 0 & 0 & \\cdots & 0 \\\\\n",
    "0 & 0 & \\cdots & 0 & | & 0 & 0 & \\cdots & 0 \\\\\n",
    "\\vdots & \\vdots & \\ddots & \\vdots & | & \\vdots & \\vdots & \\ddots & \\vdots \\\\\n",
    "0 & 0 & \\cdots & 0_(n-d)\\times d & | & 0 & 0 & \\cdots & 0_(n-d)\\times (p-d) \\\\\n",
    "\\end{pmatrix}\n",
    "\\begin{pmatrix}\n",
    "{v_1}^{T} \\\\\n",
    "{v_2}^{T} \\\\\n",
    "\\vdots \\\\\n",
    "{v_d}^{T} \\\\\n",
    "- \\\\\n",
    "{v_d+1}^{T} \\\\\n",
    "\\vdots \\\\\n",
    "{v_p}^{T}\n",
    "\\end{pmatrix}\n",
    "$$"
   ]
  },
  {
   "cell_type": "markdown",
   "id": "51df67f7-a668-4795-ba7e-4e02ca235893",
   "metadata": {},
   "source": [
    "**(해석적 의미)**\n",
    "\n",
    "* 특이값 분해식은 선형 변환 $A$는 $U , \\sum, V^T$ 총 3단계의 변환을 거친다는 의미\n",
    "\n",
    "    - $U ,V^T$ 는 고유 벡터로 기존의 행렬을 회전하는 것을 의미하며 \n",
    "\n",
    "    - $\\sum$의 대각 원소는 고윳값에 해당하므로 해당 영역을 늘리거나 줄이는 데 사용함"
   ]
  },
  {
   "cell_type": "code",
   "execution_count": 86,
   "id": "9cc456ab-077e-4cf8-8215-5460e3d9618e",
   "metadata": {},
   "outputs": [
    {
     "name": "stdout",
     "output_type": "stream",
     "text": [
      "[ 9.90754321  0.05152112 -1.95906434]\n",
      "----------------------------------------\n",
      "[[-0.36762518 -0.82102902 -0.43676432]\n",
      " [-0.67017224  0.55950483 -0.48767152]\n",
      " [-0.64476422 -0.11342699  0.75591892]]\n"
     ]
    }
   ],
   "source": [
    "# 넘파이를 이용한 고윳값 분해 실습\n",
    "\n",
    "import numpy as np\n",
    "\n",
    "A = np.array([[1, 2, 3], [2, 4, 5], [3, 5, 3]])\n",
    "E, V = np.linalg.eig(A)\n",
    "print(E)\n",
    "print(\"--\"*20)\n",
    "print(V)"
   ]
  },
  {
   "cell_type": "code",
   "execution_count": 87,
   "id": "fd7596ff-b654-4319-af65-09bc889314c1",
   "metadata": {},
   "outputs": [
    {
     "name": "stdout",
     "output_type": "stream",
     "text": [
      "[[-0.36762518 -0.43676432 -0.82102902]\n",
      " [-0.67017224 -0.48767152  0.55950483]\n",
      " [-0.64476422  0.75591892 -0.11342699]]\n",
      "----------------------------------------\n",
      "[9.90754321 1.95906434 0.05152112]\n",
      "----------------------------------------\n",
      "[[-0.36762518 -0.67017224 -0.64476422]\n",
      " [ 0.43676432  0.48767152 -0.75591892]\n",
      " [-0.82102902  0.55950483 -0.11342699]]\n"
     ]
    }
   ],
   "source": [
    "# 넘파이를 이용한 특이값 분해 실습\n",
    "\n",
    "import numpy as np\n",
    "\n",
    "B = np.array([[3, 6], [2, 3], [1, 2], [5, 5]])\n",
    "U, S, Vt = np.linalg.svd(A)\n",
    "print(U)\n",
    "print(\"--\"*20)\n",
    "print(S)\n",
    "print(\"--\"*20)\n",
    "print(Vt)"
   ]
  },
  {
   "cell_type": "markdown",
   "id": "9268e1b1-e67a-43cf-a863-312c871a5631",
   "metadata": {},
   "source": [
    "## Chapter 14. LU 분해"
   ]
  },
  {
   "cell_type": "markdown",
   "id": "b2f5dbeb-720b-4a40-b724-9f39a8dbda06",
   "metadata": {},
   "source": [
    "### 14.1 기본 행렬"
   ]
  },
  {
   "cell_type": "markdown",
   "id": "d875cd34-853d-4008-8717-e84936fbab2a",
   "metadata": {},
   "source": [
    "* **기본 행렬(elementary matrx)** 은 단위 행렬(identity matrix)에서 기본 행 연산을 수행한 행렬\n",
    "\n",
    "    - 예) 3 x 3 크기의 단위 행렬에서 1행에 3을 곱해서 2행에 더하는 기본 행 연산을 수행하면 단위 행렬은 기본 행렬 E로 변화함\n",
    "    \n",
    "$$\\textbf{I} = \\begin{pmatrix}\n",
    "1 & 0 & 0 \\\\\n",
    "0 & 1 & 0 \\\\\n",
    "0 & 0 & 1 \\\\\n",
    "\\end{pmatrix}\\, \\to \\,  \\textbf{E} = \\begin{pmatrix}\n",
    "1 & 0 & 0 \\\\\n",
    "3 & 1 & 0 \\\\\n",
    "0 & 0 & 1 \\\\\n",
    "\\end{pmatrix}$$"
   ]
  },
  {
   "cell_type": "markdown",
   "id": "997a1047-8494-43d5-947a-0445f62b5ead",
   "metadata": {},
   "source": [
    "* **기본 행렬의 역행렬**\n",
    "\n",
    "    - 1. 기본 행렬이 대각 행렬인 경우 : 주 대각 원소의 역수를 대입\n",
    "\n",
    "    - 2. 기본 행렬이 대각 행렬이 아닌 경우 : 주 대각 원소가 아닌 0이 아닌 값에 마이너스를 취함\n",
    "    "
   ]
  },
  {
   "cell_type": "markdown",
   "id": "cfaac649-84fa-4878-94c6-928ae97f6d22",
   "metadata": {},
   "source": [
    "### 14.2 LU 분해"
   ]
  },
  {
   "cell_type": "markdown",
   "id": "1def5acb-e672-4b1e-8678-12169de933a2",
   "metadata": {},
   "source": [
    "* **LU 분해** : 정사각 행렬 A를 다음과 같이 행렬 L과 U의 곱 형태로 분해\n",
    "\n",
    "$$ \\textbf{A} = \\textbf{L}\\textbf{U} $$\n",
    "\n",
    "$$L: 하 삼각 행렬(lower \\quad triangular \\quad matrix)$$\n",
    "\n",
    "$$U: 상 삼각 행렬(upper \\quad triangular \\quad matrix)$$"
   ]
  },
  {
   "cell_type": "markdown",
   "id": "8afe7d44-a7bc-49d1-b6d6-2df003163dd4",
   "metadata": {},
   "source": [
    "$$\\begin{pmatrix}\n",
    "a_{11} & a_{12} & a_{13} \\\\\n",
    "a_{21} & a_{22} & a_{23} \\\\\n",
    "a_{31} & a_{32} & a_{33} \\\\\n",
    "\\end{pmatrix} = \\begin{pmatrix}\n",
    "l_{11} & 0 & 0 \\\\\n",
    "l_{21} & l_{22} & 0 \\\\\n",
    "l_{31} & l_{32} & l_{33} \\\\\n",
    "\\end{pmatrix}\\begin{pmatrix}\n",
    "u_{11} & u_{12} & u_{13} \\\\\n",
    "0 & u_{22} & u_{23} \\\\\n",
    "0 & 0 & u_{33} \\\\\n",
    "\\end{pmatrix}$$"
   ]
  },
  {
   "cell_type": "markdown",
   "id": "d93fe76f-48cc-4049-bdc9-60df97bc988e",
   "metadata": {},
   "source": [
    "* 기본 행렬을 이용한 LU 분해\n",
    "\n",
    "$$ E_{n}E_{n-1} \\cdots E_2E_1 A = U $$\n",
    "\n",
    "$$ A = {E_{1}}^{-1}{E_{2}}^{-1} \\cdots {E_{n-1}}^{-1}{E_{n}}^{-1}U $$\n",
    "\n",
    "$$ {E_{1}}^{-1}{E_{2}}^{-1} \\cdots {E_{n-1}}^{-1}{E_{n}}^{-1} = L $$"
   ]
  },
  {
   "cell_type": "markdown",
   "id": "f882dd64-9a8c-4e0d-9d43-6de8228d322c",
   "metadata": {},
   "source": [
    "### 14.3 파이썬 실습"
   ]
  },
  {
   "cell_type": "code",
   "execution_count": 88,
   "id": "3f61017b-031d-434c-8bfc-edc25f3056a2",
   "metadata": {},
   "outputs": [],
   "source": [
    "# LU 분해 함수 만들기\n",
    "\n",
    "def lu_decomp(A):\n",
    "    \"\"\"\n",
    "    LU분해\n",
    "    입력값: 행렬 A\n",
    "    출력값: 행렬 A의 LU 분해 행렬 L, U\n",
    "    \"\"\"\n",
    "    \n",
    "    n = len(A)\n",
    "    p = len(A[0])\n",
    "    \n",
    "    L = [[0]*p for i in range(0, n)]\n",
    "    U = []\n",
    "    \n",
    "    for i in range(0, n):\n",
    "        a = A[i]\n",
    "        val = 1/a[i]\n",
    "        L[i][i] = 1/val\n",
    "        a = [element * val for element in a]\n",
    "        U.append(a)\n",
    "        \n",
    "        for j in range(i + 1, n):\n",
    "            row = A[j]\n",
    "            a_tmp = [element* -row[i] for element in a]\n",
    "            L[j][i] = row [i]\n",
    "            A[j] = [a_tmp[k] + row[k] for k in range(p)]\n",
    "            \n",
    "    return L, U"
   ]
  },
  {
   "cell_type": "code",
   "execution_count": 89,
   "id": "03172d5d-e781-4d54-a0ef-77ae85e40b01",
   "metadata": {},
   "outputs": [
    {
     "name": "stdout",
     "output_type": "stream",
     "text": [
      "[[ 2.  0.  0.]\n",
      " [ 0. -2.  0.]\n",
      " [-1.  4.  5.]] \n",
      "\n",
      "\n",
      " [[ 1. -1. -1.]\n",
      " [-0.  1. -1.]\n",
      " [ 0.  0.  1.]]\n"
     ]
    }
   ],
   "source": [
    "# 사용자 함수 lu_decomp 이용\n",
    "import numpy as np\n",
    "\n",
    "A = np.array([[2, -2, -2], [0, -2, 2], [-1, 5, 2]])\n",
    "L1, U1 = lu_decomp(A)\n",
    "print(np.array(L1), \"\\n\"*3, np.array(U1))"
   ]
  },
  {
   "cell_type": "code",
   "execution_count": 90,
   "id": "d15dc63d-27d2-470d-a07a-c3a2d2247400",
   "metadata": {},
   "outputs": [
    {
     "name": "stdout",
     "output_type": "stream",
     "text": [
      "[[ 1.  0.  0.]\n",
      " [ 0.  1.  0.]\n",
      " [ 0. -0.  1.]] \n",
      "\n",
      "\n",
      " [[ 2. -2. -2.]\n",
      " [ 0. -2.  2.]\n",
      " [ 0.  0.  5.]] \n",
      "\n",
      "\n",
      " [[1. 0. 0.]\n",
      " [0. 1. 0.]\n",
      " [0. 0. 1.]]\n"
     ]
    }
   ],
   "source": [
    "# scipy 라이브러리의 LU 분해 함수 사용 \n",
    "from scipy.linalg import lu\n",
    "P, L, U = lu(A)\n",
    "print(L, \"\\n\"*3, U, \"\\n\"*3, P)"
   ]
  },
  {
   "cell_type": "markdown",
   "id": "3cf78110-2b36-42c7-aac9-4694dd872c6f",
   "metadata": {},
   "source": [
    "## Chapter 15. 행렬의 이차식"
   ]
  },
  {
   "cell_type": "markdown",
   "id": "942f68dc-e153-483c-9362-50471714eb93",
   "metadata": {},
   "source": [
    "* **이차식 표현(quadratic form)** : 다항식을 벡터 형태로 나타내는 식으로 $\\textbf{x}^{T}\\textbf{W}\\textbf{x}$의 형태로 표현됨\n",
    "\n",
    "* **양정치(positive define)** : $\\textbf{x}^{T}\\textbf{W}\\textbf{x} > 0$ ,  for all x $\\neq$ 0\n",
    "\n",
    "    * **양정치 행렬(positive define matrix)** : 이차식이 양정치일 때 행렬 $W$ ,  대칭 행렬이며 고유값이 모두 0보다 크다\n",
    "\n",
    "\n",
    "* **음정치(negative define)** : $\\textbf{x}^{T}\\textbf{W}\\textbf{x} < 0$ ,  for all x $\\neq$ 0\n",
    "\n",
    "    * **음정치 행렬(negative define matrix)** : 이차식이 음정치일 때 행렬 $W$ ,  대칭 행렬이며 고유값이 모두 0보다 작다"
   ]
  },
  {
   "cell_type": "markdown",
   "id": "6707c411-8cb5-4417-8ac0-2fd6db99efd3",
   "metadata": {},
   "source": [
    "### Chapter 16. 텐서"
   ]
  },
  {
   "cell_type": "markdown",
   "id": "00e06a66-886a-4d7e-b0af-83a285f1258c",
   "metadata": {},
   "source": [
    "**(정의)**\n",
    "\n",
    "* **텐서(tensor)** : 고차원 행렬\n",
    "\n",
    "    - 1차원 텐서 : first - order tensor\n",
    "    \n",
    "    - 2차원 텐서 : second - order tensor\n",
    "    \n",
    "    - 3차원 텐서 이상부터 : 고차원 텐서(higher - order tensor)\n",
    "    \n",
    "        + order는 way Ehsms mode라고 부르기도 함\n",
    "\n",
    "\n",
    "**(구성 원소)**\n",
    "        \n",
    "        \n",
    "* 3차원 텐서의 구성 원소 :  $ \\chi_{ijk} $\n",
    "\n",
    "* 텐서의 **fiber** : 하나의 인덱스를 고정한 텐서의 구성 원소\n",
    "\n",
    "    - 행렬의 열(column)은 mode 1 fiber , 행렬의 행(row)는 mode 2 fiber에 해당\n",
    "\n",
    "    - 텐서의 mode 1 fiber는 $ x_{:jk} $ 열 고정 \n",
    "\n",
    "    - 텐서의 mode 2 fiber는 $ x_{i:k} $ 행 고정\n",
    "\n",
    "    - 텐서의 mode 3 fiber는 $ x_{ij:} $ Z 축 고정\n",
    "    \n",
    "* 텐서의 **slice** : 2차원 파트 (두 개의 인덱스 고정)\n",
    "\n",
    "    - horizontal slices : $ x_{i::} $ \n",
    "\n",
    "    - lateral slices : $ x_{:j:} $ \n",
    "\n",
    "    - frontal slices : $ x_{::k} $ \n",
    "\n",
    "\n",
    "\n",
    "**(기본 연산)**\n",
    "\n",
    "* **텐서의 노름** : 모든 구성 원소의 제곱합에 루트 \n",
    "\n",
    "* **텐서의 내적** : 동일한 위치의 구성 원소끼리 곱한 후 모두 더 함\n",
    "\n",
    "* **Rank One 텐서** : 텐서 $\\chi \\in \\mathbb{R}^{I_1 \\times T_2 \\times \\cdots \\times I_{N}}$ 을 다음과 같이 N개의 벡터의 외적으로 표현할 수 있으면 텐서 $\\chi$는 Rank one 텐서라고 함\n",
    "    \n",
    "    $$ \\chi = {a_{i_1}}^{(1)} \\bigotimes {a_{i_2}}^{(2)} \\bigotimes  \\cdots  \\bigotimes {a_{i_{N}}}^{(N)} $$\n",
    "    \n",
    "\n",
    "\n",
    "**(텐서의 대칭성)**\n",
    "\n",
    "\n",
    "* 만약 텐서의 모든 mode의 크기가 동일하다면 해당 텐서는 cubical 하다고 부름\n",
    "\n",
    "* cubical 텐서는 다른 말로 초대칭(supersymmetric)하다고 부름\n",
    "\n",
    "* 텐서는 2개 이상의 mode에 대해 부분적으로 대칭성(symmetric)을 만족\n",
    "\n",
    "\n",
    "**(텐서의 행렬화)**\n",
    "\n",
    "* 텐서의 행렬화(matricization) : 텐서를 행렬로 변환하는 것, 딥러닝 분야에서는 unfolding, flattening 이라는 단어를 자주 사용\n",
    "\n",
    "\n",
    "**(텐서 곱)**\n",
    "\n",
    "* n-mode product : 텐서와 행렬, 또는 텐서와 벡터를 mode-n 형태로 곱하는 것을 의미\n",
    "\n",
    "* 텐서와 행렬의 n-mode product는 텐서가 multilinear operator를 정의할 때 기저(basis)를 바꾸는 것과 관련이 있음\n"
   ]
  },
  {
   "cell_type": "markdown",
   "id": "a20656c0-ce43-4346-9aac-78e10fec0190",
   "metadata": {},
   "source": [
    "**Numpy 실습** "
   ]
  },
  {
   "cell_type": "code",
   "execution_count": 91,
   "id": "5ee972ce-fe67-4eb6-bea7-7334f286ce3a",
   "metadata": {},
   "outputs": [],
   "source": [
    "import numpy as np\n",
    "\n",
    "A = np.array([ [[1, 0, 1, 0], [2, 1, 0, 1], [3, 4, 0, 2]],\n",
    "               [[3, 1, 2, 0], [1, 0, 4, 2], [0, 1, 0, 2]] ])\n",
    "\n",
    "B = np.array([ [[2, 1, 3, 1], [0, 2, 1, 3], [1, 0, 1, 1]],\n",
    "               [[1, 2, 3, 1], [3, 1, 0, 3], [0, 2, 3, 1]] ])\n"
   ]
  },
  {
   "cell_type": "code",
   "execution_count": 92,
   "id": "33e2582f-51e4-45a2-affa-9b5daa00a312",
   "metadata": {},
   "outputs": [
    {
     "name": "stdout",
     "output_type": "stream",
     "text": [
      "[[[2 0 3 0]\n",
      "  [0 2 0 3]\n",
      "  [3 0 0 2]]\n",
      "\n",
      " [[3 2 6 0]\n",
      "  [3 0 0 6]\n",
      "  [0 2 0 2]]]\n"
     ]
    }
   ],
   "source": [
    "# 텐서 내적\n",
    "\n",
    "# 원소곱 지원 함수 np.multiply\n",
    "C = np.multiply(A, B)\n",
    "\n",
    "print(C)"
   ]
  },
  {
   "cell_type": "code",
   "execution_count": 93,
   "id": "17bae03c-6949-4cb1-9d52-a51cc032f699",
   "metadata": {},
   "outputs": [
    {
     "name": "stdout",
     "output_type": "stream",
     "text": [
      "39\n"
     ]
    }
   ],
   "source": [
    "inner_product = np.sum(C)\n",
    "print(inner_product)"
   ]
  },
  {
   "cell_type": "markdown",
   "id": "12c93d75-0198-4ad6-9149-b3eaa78dd055",
   "metadata": {},
   "source": [
    "* **reshape** 함수"
   ]
  },
  {
   "cell_type": "code",
   "execution_count": 94,
   "id": "6b917928-48e1-43a3-ba1f-d770852a470d",
   "metadata": {},
   "outputs": [
    {
     "name": "stdout",
     "output_type": "stream",
     "text": [
      "[1 2 3 4 5 6 7 8]\n"
     ]
    }
   ],
   "source": [
    "import numpy as np\n",
    "\n",
    "A = np.array([1, 2, 3, 4, 5, 6, 7, 8])\n",
    "print(A)"
   ]
  },
  {
   "cell_type": "code",
   "execution_count": 95,
   "id": "3ed9735d-286d-48c0-999a-43959de62f99",
   "metadata": {},
   "outputs": [
    {
     "name": "stdout",
     "output_type": "stream",
     "text": [
      "[[1]\n",
      " [2]\n",
      " [3]\n",
      " [4]\n",
      " [5]\n",
      " [6]\n",
      " [7]\n",
      " [8]]\n"
     ]
    }
   ],
   "source": [
    "# 행 벡터 -> 열 벡터\n",
    "A1 = A.reshape(8, 1) # 8행 1열\n",
    "print(A1)"
   ]
  },
  {
   "cell_type": "code",
   "execution_count": 96,
   "id": "13a6627d-4088-4e6e-ba06-bc68fb7a0ced",
   "metadata": {},
   "outputs": [
    {
     "data": {
      "text/plain": [
       "(8, 1)"
      ]
     },
     "execution_count": 96,
     "metadata": {},
     "output_type": "execute_result"
    }
   ],
   "source": [
    "A1.shape"
   ]
  },
  {
   "cell_type": "code",
   "execution_count": 97,
   "id": "46d8f745-ed12-4f80-ad0b-6b2ac09d33a6",
   "metadata": {},
   "outputs": [
    {
     "name": "stdout",
     "output_type": "stream",
     "text": [
      "[[1 2 3 4]\n",
      " [5 6 7 8]]\n"
     ]
    }
   ],
   "source": [
    "# 행 벡터 -> 행렬\n",
    "\n",
    "A2 = A.reshape(2, 4) # 2행 4열\n",
    "print(A2)"
   ]
  },
  {
   "cell_type": "code",
   "execution_count": 98,
   "id": "096344bb-76f7-4f42-a2d0-2a9edd5e0d1b",
   "metadata": {},
   "outputs": [
    {
     "data": {
      "text/plain": [
       "(2, 4)"
      ]
     },
     "execution_count": 98,
     "metadata": {},
     "output_type": "execute_result"
    }
   ],
   "source": [
    "A2.shape"
   ]
  },
  {
   "cell_type": "code",
   "execution_count": 99,
   "id": "fe1950b7-bdde-4059-ac93-8e09abd97a1e",
   "metadata": {},
   "outputs": [
    {
     "name": "stdout",
     "output_type": "stream",
     "text": [
      "[[1 2 3 4]\n",
      " [5 6 7 8]]\n"
     ]
    }
   ],
   "source": [
    "# numpy에서 함수 형태로 불러와 사용 가능\n",
    "\n",
    "A3 = np.reshape(A, (2, 4))\n",
    "print(A3)"
   ]
  },
  {
   "cell_type": "code",
   "execution_count": 100,
   "id": "c3fc4e5f-7df8-4b97-854a-cb797852f524",
   "metadata": {},
   "outputs": [
    {
     "name": "stdout",
     "output_type": "stream",
     "text": [
      "[[1 2 3 4]\n",
      " [5 6 7 8]]\n"
     ]
    }
   ],
   "source": [
    "# 행렬의 크기 입력값이 -1 인 경우 \n",
    "# -1은 행렬의 구성 원소를 모두 사용하는 행렬을 만들기 위한 크기를 의미\n",
    "\n",
    "A4 = A.reshape(-1, 4) # 변환되는 행렬의 열 크기가 4일 때 원소를 모두 사용한다면 행 크기는 자동적으로 2가 되는 것을 의미\n",
    "print(A4)"
   ]
  },
  {
   "cell_type": "code",
   "execution_count": 101,
   "id": "472a43f5-ea6f-4716-b672-0f3a30c2869c",
   "metadata": {},
   "outputs": [
    {
     "name": "stdout",
     "output_type": "stream",
     "text": [
      "[[1 2 3 4]\n",
      " [5 6 7 8]]\n"
     ]
    }
   ],
   "source": [
    "# 열의 크기에 -1 입력\n",
    "\n",
    "A5 = A.reshape(2, -1)\n",
    "print(A5)"
   ]
  },
  {
   "cell_type": "code",
   "execution_count": 102,
   "id": "40827cdb-bfa4-4e0f-bb85-b4ea17bd5b14",
   "metadata": {},
   "outputs": [
    {
     "name": "stdout",
     "output_type": "stream",
     "text": [
      "[1 2 3 4 5 6 7 8]\n"
     ]
    }
   ],
   "source": [
    "# 하나의 차원만 -1로 입력할 경우\n",
    "A6 = A5.reshape(-1)\n",
    "print(A6)"
   ]
  },
  {
   "cell_type": "markdown",
   "id": "a60d6077-b156-42ea-a805-a33548fe6127",
   "metadata": {},
   "source": [
    "* 입력값을 -1 하나만 넣게 된다면 결과는 행 벡터 형태로 출력\n",
    "\n",
    "* reshape(-1)은 행렬을 벡터 형태로 바꿀 때 자주 사용됨 "
   ]
  },
  {
   "cell_type": "code",
   "execution_count": 103,
   "id": "320ae1a8-f146-4581-850d-2fc5c174ac97",
   "metadata": {},
   "outputs": [
    {
     "name": "stdout",
     "output_type": "stream",
     "text": [
      "[[1 2]\n",
      " [3 4]\n",
      " [5 6]\n",
      " [7 8]]\n"
     ]
    }
   ],
   "source": [
    "A7 = A.reshape(4, 2)\n",
    "print(A7)"
   ]
  },
  {
   "cell_type": "code",
   "execution_count": 104,
   "id": "d36c5d31-3dc7-4d55-82dd-4eea2a63160e",
   "metadata": {},
   "outputs": [
    {
     "name": "stdout",
     "output_type": "stream",
     "text": [
      "[[ 1  4  7 10]\n",
      " [ 2  5  8 11]\n",
      " [ 3  6  9 12]\n",
      " [13 16 19 22]\n",
      " [14 17 20 23]\n",
      " [15 18 21 24]]\n"
     ]
    }
   ],
   "source": [
    "# 2차원 행렬을 3차원 텐서로 변환\n",
    "\n",
    "A = np.array([[1, 4, 7, 10], [2, 5, 8, 11], [3, 6, 9, 12],\n",
    "              [13, 16, 19, 22], [14, 17, 20, 23], [15, 18, 21, 24]])\n",
    "print(A)"
   ]
  },
  {
   "cell_type": "code",
   "execution_count": 105,
   "id": "1a803802-2977-4755-856b-84b29ba8f1a1",
   "metadata": {},
   "outputs": [
    {
     "name": "stdout",
     "output_type": "stream",
     "text": [
      "[[[ 1  4  7 10]\n",
      "  [ 2  5  8 11]\n",
      "  [ 3  6  9 12]]\n",
      "\n",
      " [[13 16 19 22]\n",
      "  [14 17 20 23]\n",
      "  [15 18 21 24]]]\n"
     ]
    }
   ],
   "source": [
    "# 6행 4열 행렬을 3차원 텐서로 변환 -> 3행 4열 행렬 2개 생성\n",
    "B = A.reshape(2, 3, 4)\n",
    "print(B)"
   ]
  },
  {
   "cell_type": "code",
   "execution_count": 106,
   "id": "50292bfe-f145-4bd3-a507-c7af972a7d85",
   "metadata": {},
   "outputs": [
    {
     "data": {
      "text/plain": [
       "array([[ 1,  4,  7, 10],\n",
       "       [ 2,  5,  8, 11],\n",
       "       [ 3,  6,  9, 12]])"
      ]
     },
     "execution_count": 106,
     "metadata": {},
     "output_type": "execute_result"
    }
   ],
   "source": [
    "B[0]"
   ]
  },
  {
   "cell_type": "code",
   "execution_count": 107,
   "id": "0f8024de-af35-4d40-a50b-386812eda25e",
   "metadata": {},
   "outputs": [
    {
     "name": "stdout",
     "output_type": "stream",
     "text": [
      "[ 1  4  7 10  2  5  8 11  3  6  9 12]\n"
     ]
    }
   ],
   "source": [
    "# 행을 따라 순서대로 (행 기준) / reshape 메소드의 기본 정렬 방식은 행\n",
    "C1 = B[0].reshape(-1)\n",
    "print(C1)"
   ]
  },
  {
   "cell_type": "markdown",
   "id": "7d93aee4-df66-45a8-94df-30a1917426a7",
   "metadata": {},
   "source": [
    "* **concatenate 함수** "
   ]
  },
  {
   "cell_type": "code",
   "execution_count": 108,
   "id": "1a12dcc6-ca3d-41d2-8e58-9541bd92818e",
   "metadata": {},
   "outputs": [
    {
     "name": "stdout",
     "output_type": "stream",
     "text": [
      "[ 1  2  3  4  5  6  7  8  9 10 11 12]\n"
     ]
    }
   ],
   "source": [
    "# order = False로 설정 시 열 기준으로 재구조화\n",
    "\n",
    "C2 = B[0].reshape(-1, order = 'F')\n",
    "print(C2)"
   ]
  },
  {
   "cell_type": "code",
   "execution_count": 109,
   "id": "63658993-e850-4072-a252-b46cb1a8e0b2",
   "metadata": {},
   "outputs": [
    {
     "name": "stdout",
     "output_type": "stream",
     "text": [
      "[[1 2]\n",
      " [3 4]]\n",
      "\n",
      "\n",
      "[[5 6]\n",
      " [7 8]]\n"
     ]
    }
   ],
   "source": [
    "# Concatenate\n",
    "\n",
    "A = np.array([[1, 2], [3, 4]])\n",
    "B = np.array([[5, 6], [7, 8]])\n",
    "print(A)\n",
    "print(\"\\n\")\n",
    "print(B)"
   ]
  },
  {
   "cell_type": "code",
   "execution_count": 110,
   "id": "fa023474-3275-44ac-964f-ac571bcb32c2",
   "metadata": {},
   "outputs": [
    {
     "name": "stdout",
     "output_type": "stream",
     "text": [
      "[[1 2]\n",
      " [3 4]\n",
      " [5 6]\n",
      " [7 8]]\n"
     ]
    }
   ],
   "source": [
    "C = np.concatenate((A, B), axis = 0) # axis = 0 : column\n",
    "print(C)"
   ]
  },
  {
   "cell_type": "code",
   "execution_count": 111,
   "id": "011df64b-19dd-4407-8a98-0b2a20b0d40f",
   "metadata": {},
   "outputs": [
    {
     "data": {
      "text/plain": [
       "(4, 2)"
      ]
     },
     "execution_count": 111,
     "metadata": {},
     "output_type": "execute_result"
    }
   ],
   "source": [
    "C.shape"
   ]
  },
  {
   "cell_type": "code",
   "execution_count": 112,
   "id": "763ca1b4-16d0-48ec-892d-6b06d0f6e7dd",
   "metadata": {},
   "outputs": [
    {
     "name": "stdout",
     "output_type": "stream",
     "text": [
      "[[1 2 5 6]\n",
      " [3 4 7 8]]\n"
     ]
    }
   ],
   "source": [
    "D = np.concatenate((A, B), axis = 1) # axis = 1 -> 행 방향\n",
    "print(D)"
   ]
  },
  {
   "cell_type": "code",
   "execution_count": 113,
   "id": "1759d6ae-aedf-4216-b833-1341b9d9375c",
   "metadata": {},
   "outputs": [
    {
     "data": {
      "text/plain": [
       "(2, 4)"
      ]
     },
     "execution_count": 113,
     "metadata": {},
     "output_type": "execute_result"
    }
   ],
   "source": [
    "D.shape"
   ]
  },
  {
   "cell_type": "code",
   "execution_count": 114,
   "id": "d0752692-83ce-49f3-b5b0-157ba0f2b4aa",
   "metadata": {},
   "outputs": [
    {
     "name": "stdout",
     "output_type": "stream",
     "text": [
      "[1 2 3 4 5 6 7 8]\n"
     ]
    }
   ],
   "source": [
    "E = np.concatenate((A, B), axis = None) # axis = None으로 하면 펼쳐서 두 행렬을 합침\n",
    "print(E)"
   ]
  },
  {
   "cell_type": "markdown",
   "id": "33ca7cd5-b3ae-4e60-b762-cf0d0bae2d5b",
   "metadata": {},
   "source": [
    "* **텐서의 행렬화**"
   ]
  },
  {
   "cell_type": "code",
   "execution_count": 115,
   "id": "226726f1-794e-44f4-b9e2-11cb23bd339c",
   "metadata": {},
   "outputs": [
    {
     "name": "stdout",
     "output_type": "stream",
     "text": [
      "[[[ 1  4  7 10]\n",
      "  [ 2  5  8 11]\n",
      "  [ 3  6  9 12]]\n",
      "\n",
      " [[13 16 19 22]\n",
      "  [14 17 20 23]\n",
      "  [15 18 21 24]]]\n"
     ]
    }
   ],
   "source": [
    "A = np.array([[[1, 4, 7, 10], [2, 5, 8, 11], [3, 6, 9, 12]],\n",
    "              [[13, 16, 19, 22], [14, 17, 20, 23], [15, 18, 21, 24]]])\n",
    "print(A)"
   ]
  },
  {
   "cell_type": "code",
   "execution_count": 116,
   "id": "012e57ff-646b-4d84-bb18-59626c8f097a",
   "metadata": {},
   "outputs": [
    {
     "data": {
      "text/plain": [
       "(2, 3, 4)"
      ]
     },
     "execution_count": 116,
     "metadata": {},
     "output_type": "execute_result"
    }
   ],
   "source": [
    "A.shape"
   ]
  },
  {
   "cell_type": "code",
   "execution_count": 117,
   "id": "0d10946c-6789-491f-8f6e-09cd9602a644",
   "metadata": {},
   "outputs": [
    {
     "name": "stdout",
     "output_type": "stream",
     "text": [
      "[[ 1  4  7 10]\n",
      " [ 2  5  8 11]\n",
      " [ 3  6  9 12]]\n"
     ]
    }
   ],
   "source": [
    "print(A[0]) # 행렬화할 텐서 A 선언"
   ]
  },
  {
   "cell_type": "code",
   "execution_count": 118,
   "id": "f57072a1-6780-4624-856a-aed8f0a3ff8c",
   "metadata": {},
   "outputs": [
    {
     "name": "stdout",
     "output_type": "stream",
     "text": [
      "[[13 16 19 22]\n",
      " [14 17 20 23]\n",
      " [15 18 21 24]]\n"
     ]
    }
   ],
   "source": [
    "print(A[1])"
   ]
  },
  {
   "cell_type": "markdown",
   "id": "0e05caae-9c51-47b2-84f8-e01962db1d08",
   "metadata": {},
   "source": [
    "shape 메소드와 텐서 A의 구성 원소를 보면 텐서 A는 3행 4열 크기의 행렬 2개로 구성된 텐서"
   ]
  },
  {
   "cell_type": "markdown",
   "id": "0f405c65-6ee7-410f-8216-683e58d766fb",
   "metadata": {},
   "source": [
    "* 텐서의 concatenate"
   ]
  },
  {
   "cell_type": "code",
   "execution_count": 119,
   "id": "fd69843b-731e-4718-b68e-497b2b848557",
   "metadata": {},
   "outputs": [
    {
     "name": "stdout",
     "output_type": "stream",
     "text": [
      "[[ 1  4  7 10 13 16 19 22]\n",
      " [ 2  5  8 11 14 17 20 23]\n",
      " [ 3  6  9 12 15 18 21 24]]\n"
     ]
    }
   ],
   "source": [
    "mode1 = np.concatenate((A[0], A[1]), axis = 1) # 행 방향으로 붙이기\n",
    "print(mode1)"
   ]
  },
  {
   "cell_type": "code",
   "execution_count": 120,
   "id": "02d461ec-8388-4f2c-8cd6-cfc504ba5656",
   "metadata": {},
   "outputs": [
    {
     "name": "stdout",
     "output_type": "stream",
     "text": [
      "[[ 1  4  7 10]\n",
      " [ 2  5  8 11]\n",
      " [ 3  6  9 12]]\n"
     ]
    }
   ],
   "source": [
    "print(A[0])"
   ]
  },
  {
   "cell_type": "code",
   "execution_count": 121,
   "id": "c97eb5c9-d73b-47e1-ac9a-1b1d7d70b541",
   "metadata": {},
   "outputs": [
    {
     "name": "stdout",
     "output_type": "stream",
     "text": [
      "[[ 1  2  3]\n",
      " [ 4  5  6]\n",
      " [ 7  8  9]\n",
      " [10 11 12]]\n"
     ]
    }
   ],
   "source": [
    "print(A[0].T)"
   ]
  },
  {
   "cell_type": "code",
   "execution_count": 122,
   "id": "2d53f692-39dd-46a7-ae1a-d716149f2324",
   "metadata": {},
   "outputs": [
    {
     "name": "stdout",
     "output_type": "stream",
     "text": [
      "[[ 1  2  3 13 14 15]\n",
      " [ 4  5  6 16 17 18]\n",
      " [ 7  8  9 19 20 21]\n",
      " [10 11 12 22 23 24]]\n"
     ]
    }
   ],
   "source": [
    "# 전치 행렬에 대한 concatenate 적용\n",
    "\n",
    "mode2 = np.concatenate((A[0].T, A[1].T), axis = 1)\n",
    "print(mode2)"
   ]
  },
  {
   "cell_type": "code",
   "execution_count": 123,
   "id": "eb195887-a277-447d-8c60-ec904f3df72f",
   "metadata": {},
   "outputs": [
    {
     "name": "stdout",
     "output_type": "stream",
     "text": [
      "[ 1  2  3  4  5  6  7  8  9 10 11 12]\n"
     ]
    }
   ],
   "source": [
    "A1 = A[0].T.reshape(-1)\n",
    "print(A1)"
   ]
  },
  {
   "cell_type": "code",
   "execution_count": 124,
   "id": "3699c28a-bd18-4a48-a4df-effc91ff9da3",
   "metadata": {},
   "outputs": [
    {
     "name": "stdout",
     "output_type": "stream",
     "text": [
      "[13 14 15 16 17 18 19 20 21 22 23 24]\n"
     ]
    }
   ],
   "source": [
    "A2 = A[1].T.reshape(-1)\n",
    "print(A2)"
   ]
  },
  {
   "cell_type": "code",
   "execution_count": 125,
   "id": "fbf4152c-3acd-40db-8e97-5a3d36332b1e",
   "metadata": {},
   "outputs": [
    {
     "name": "stdout",
     "output_type": "stream",
     "text": [
      "[ 1  2  3  4  5  6  7  8  9 10 11 12 13 14 15 16 17 18 19 20 21 22 23 24]\n"
     ]
    }
   ],
   "source": [
    "A3 = np.concatenate((A1, A2), axis = 0)\n",
    "print(A3)"
   ]
  },
  {
   "cell_type": "code",
   "execution_count": 126,
   "id": "8fb0184c-988a-4dc8-8aa3-279f079f9268",
   "metadata": {},
   "outputs": [
    {
     "name": "stdout",
     "output_type": "stream",
     "text": [
      "[[ 1  2  3  4  5  6  7  8  9 10 11 12]\n",
      " [13 14 15 16 17 18 19 20 21 22 23 24]]\n"
     ]
    }
   ],
   "source": [
    "mode3 = A3.reshape(2, -1)\n",
    "print(mode3)"
   ]
  },
  {
   "cell_type": "markdown",
   "id": "24675129-4eec-4afa-88b8-c983cd3025ea",
   "metadata": {},
   "source": [
    "* **텐서 곱**"
   ]
  },
  {
   "cell_type": "code",
   "execution_count": 127,
   "id": "e1ddf113-3afc-42b2-b5bb-9cc1f71f75d7",
   "metadata": {},
   "outputs": [
    {
     "name": "stdout",
     "output_type": "stream",
     "text": [
      "[[ 22  49  76 103]\n",
      " [ 28  64 100 136]]\n"
     ]
    }
   ],
   "source": [
    "U = np.array([[1, 3, 5], [2, 4, 6]])\n",
    "\n",
    "A = np.array([ [[1, 4, 7, 10], [2, 5, 8, 11], [3, 6, 9, 12]],\n",
    "               [[13, 16, 19, 22], [14, 17, 20, 23], [15, 18, 21, 24]] ])\n",
    "\n",
    "UA1 = np.matmul(U, A[0])\n",
    "print(UA1)"
   ]
  },
  {
   "cell_type": "code",
   "execution_count": 128,
   "id": "71b33b01-4346-4dfa-8638-fd7497cd6433",
   "metadata": {},
   "outputs": [
    {
     "name": "stdout",
     "output_type": "stream",
     "text": [
      "[[130 157 184 211]\n",
      " [172 208 244 280]]\n"
     ]
    }
   ],
   "source": [
    "UA2 = np.matmul(U, A[1])\n",
    "print(UA2)"
   ]
  },
  {
   "cell_type": "code",
   "execution_count": 129,
   "id": "9e0c681d-126a-449d-96ce-bab639c7c789",
   "metadata": {},
   "outputs": [
    {
     "name": "stdout",
     "output_type": "stream",
     "text": [
      "[[ 22  49  76 103]\n",
      " [ 28  64 100 136]\n",
      " [130 157 184 211]\n",
      " [172 208 244 280]]\n"
     ]
    }
   ],
   "source": [
    "C = np.concatenate( (UA1, UA2), axis = 0)\n",
    "print(C)"
   ]
  },
  {
   "cell_type": "code",
   "execution_count": 130,
   "id": "4f651d5b-b5ec-4b2e-b713-a6a10ee0fc8c",
   "metadata": {},
   "outputs": [
    {
     "name": "stdout",
     "output_type": "stream",
     "text": [
      "[[[ 22  49  76 103]\n",
      "  [ 28  64 100 136]]\n",
      "\n",
      " [[130 157 184 211]\n",
      "  [172 208 244 280]]]\n"
     ]
    }
   ],
   "source": [
    "tensor_product = C.reshape(2, 2, 4)\n",
    "print(tensor_product)"
   ]
  },
  {
   "cell_type": "markdown",
   "id": "eeb3ed68-c0a0-4bfe-863b-03ba9e478950",
   "metadata": {},
   "source": [
    "## Chapter 17. 머신러닝과 선형대수"
   ]
  },
  {
   "cell_type": "code",
   "execution_count": 131,
   "id": "4f969542-1c7d-4b04-85c3-4b5e83f2c8e1",
   "metadata": {},
   "outputs": [
    {
     "data": {
      "text/plain": [
       "'D:\\\\JULIA\\\\LinearAlgabra'"
      ]
     },
     "execution_count": 131,
     "metadata": {},
     "output_type": "execute_result"
    }
   ],
   "source": [
    "import os\n",
    "os.getcwd()"
   ]
  },
  {
   "cell_type": "markdown",
   "id": "a60fa6f2-df67-4b92-8772-15cf2273c352",
   "metadata": {},
   "source": [
    "### 17.1 데이터 불러오기"
   ]
  },
  {
   "cell_type": "code",
   "execution_count": 132,
   "id": "25271638-6804-48e3-9e59-939153295ede",
   "metadata": {},
   "outputs": [
    {
     "data": {
      "text/html": [
       "<div>\n",
       "<style scoped>\n",
       "    .dataframe tbody tr th:only-of-type {\n",
       "        vertical-align: middle;\n",
       "    }\n",
       "\n",
       "    .dataframe tbody tr th {\n",
       "        vertical-align: top;\n",
       "    }\n",
       "\n",
       "    .dataframe thead th {\n",
       "        text-align: right;\n",
       "    }\n",
       "</style>\n",
       "<table border=\"1\" class=\"dataframe\">\n",
       "  <thead>\n",
       "    <tr style=\"text-align: right;\">\n",
       "      <th></th>\n",
       "      <th>X</th>\n",
       "      <th>Y</th>\n",
       "      <th>FFMC</th>\n",
       "      <th>DMC</th>\n",
       "      <th>DC</th>\n",
       "      <th>ISI</th>\n",
       "      <th>temp</th>\n",
       "      <th>RH</th>\n",
       "      <th>wind</th>\n",
       "      <th>rain</th>\n",
       "      <th>area</th>\n",
       "    </tr>\n",
       "  </thead>\n",
       "  <tbody>\n",
       "    <tr>\n",
       "      <th>0</th>\n",
       "      <td>7</td>\n",
       "      <td>5</td>\n",
       "      <td>86.2</td>\n",
       "      <td>26.2</td>\n",
       "      <td>94.3</td>\n",
       "      <td>5.1</td>\n",
       "      <td>8.2</td>\n",
       "      <td>51</td>\n",
       "      <td>6.7</td>\n",
       "      <td>0.0</td>\n",
       "      <td>0.0</td>\n",
       "    </tr>\n",
       "    <tr>\n",
       "      <th>1</th>\n",
       "      <td>7</td>\n",
       "      <td>4</td>\n",
       "      <td>90.6</td>\n",
       "      <td>35.4</td>\n",
       "      <td>669.1</td>\n",
       "      <td>6.7</td>\n",
       "      <td>18.0</td>\n",
       "      <td>33</td>\n",
       "      <td>0.9</td>\n",
       "      <td>0.0</td>\n",
       "      <td>0.0</td>\n",
       "    </tr>\n",
       "    <tr>\n",
       "      <th>2</th>\n",
       "      <td>7</td>\n",
       "      <td>4</td>\n",
       "      <td>90.6</td>\n",
       "      <td>43.7</td>\n",
       "      <td>686.9</td>\n",
       "      <td>6.7</td>\n",
       "      <td>14.6</td>\n",
       "      <td>33</td>\n",
       "      <td>1.3</td>\n",
       "      <td>0.0</td>\n",
       "      <td>0.0</td>\n",
       "    </tr>\n",
       "    <tr>\n",
       "      <th>3</th>\n",
       "      <td>8</td>\n",
       "      <td>6</td>\n",
       "      <td>91.7</td>\n",
       "      <td>33.3</td>\n",
       "      <td>77.5</td>\n",
       "      <td>9.0</td>\n",
       "      <td>8.3</td>\n",
       "      <td>97</td>\n",
       "      <td>4.0</td>\n",
       "      <td>0.2</td>\n",
       "      <td>0.0</td>\n",
       "    </tr>\n",
       "    <tr>\n",
       "      <th>4</th>\n",
       "      <td>8</td>\n",
       "      <td>6</td>\n",
       "      <td>89.3</td>\n",
       "      <td>51.3</td>\n",
       "      <td>102.2</td>\n",
       "      <td>9.6</td>\n",
       "      <td>11.4</td>\n",
       "      <td>99</td>\n",
       "      <td>1.8</td>\n",
       "      <td>0.0</td>\n",
       "      <td>0.0</td>\n",
       "    </tr>\n",
       "  </tbody>\n",
       "</table>\n",
       "</div>"
      ],
      "text/plain": [
       "   X  Y  FFMC   DMC     DC  ISI  temp  RH  wind  rain  area\n",
       "0  7  5  86.2  26.2   94.3  5.1   8.2  51   6.7   0.0   0.0\n",
       "1  7  4  90.6  35.4  669.1  6.7  18.0  33   0.9   0.0   0.0\n",
       "2  7  4  90.6  43.7  686.9  6.7  14.6  33   1.3   0.0   0.0\n",
       "3  8  6  91.7  33.3   77.5  9.0   8.3  97   4.0   0.2   0.0\n",
       "4  8  6  89.3  51.3  102.2  9.6  11.4  99   1.8   0.0   0.0"
      ]
     },
     "execution_count": 132,
     "metadata": {},
     "output_type": "execute_result"
    }
   ],
   "source": [
    "import pandas as pd\n",
    "\n",
    "df = pd.read_csv(\"./data/forestfires.csv\")\n",
    "df.head()"
   ]
  },
  {
   "cell_type": "markdown",
   "id": "0d7926e1-10d6-40ca-9348-a1914dcc2a22",
   "metadata": {},
   "source": [
    "### 17.2 데이터 열 추출"
   ]
  },
  {
   "cell_type": "code",
   "execution_count": 133,
   "id": "eeae7c8e-bfc6-44ad-a410-51de769d54f5",
   "metadata": {},
   "outputs": [
    {
     "data": {
      "text/plain": [
       "0       5.1\n",
       "1       6.7\n",
       "2       6.7\n",
       "3       9.0\n",
       "4       9.6\n",
       "       ... \n",
       "512     1.9\n",
       "513     1.9\n",
       "514     1.9\n",
       "515    11.3\n",
       "516     1.1\n",
       "Name: ISI, Length: 517, dtype: float64"
      ]
     },
     "execution_count": 133,
     "metadata": {},
     "output_type": "execute_result"
    }
   ],
   "source": [
    "df.iloc[:, 5]"
   ]
  },
  {
   "cell_type": "code",
   "execution_count": 134,
   "id": "259c85f0-9a74-40e7-8f3f-77a913448d2a",
   "metadata": {},
   "outputs": [
    {
     "data": {
      "text/plain": [
       "0       5.1\n",
       "1       6.7\n",
       "2       6.7\n",
       "3       9.0\n",
       "4       9.6\n",
       "       ... \n",
       "512     1.9\n",
       "513     1.9\n",
       "514     1.9\n",
       "515    11.3\n",
       "516     1.1\n",
       "Name: ISI, Length: 517, dtype: float64"
      ]
     },
     "execution_count": 134,
     "metadata": {},
     "output_type": "execute_result"
    }
   ],
   "source": [
    "df['ISI']"
   ]
  },
  {
   "cell_type": "markdown",
   "id": "d1c6033a-16c0-46f2-ab44-be9a4de0ad52",
   "metadata": {},
   "source": [
    "### 17.3 데이터 열 연산"
   ]
  },
  {
   "cell_type": "code",
   "execution_count": 135,
   "id": "14d716e4-cc9f-4351-a028-a33341cfb74f",
   "metadata": {},
   "outputs": [],
   "source": [
    "ISI = df['ISI']\n",
    "temp = df['temp']"
   ]
  },
  {
   "cell_type": "code",
   "execution_count": 136,
   "id": "b1e6079d-f92e-4b33-85bb-340bf4141a32",
   "metadata": {},
   "outputs": [
    {
     "data": {
      "text/plain": [
       "0      13.3\n",
       "1      24.7\n",
       "2      21.3\n",
       "3      17.3\n",
       "4      21.0\n",
       "       ... \n",
       "512    29.7\n",
       "513    23.8\n",
       "514    23.1\n",
       "515    36.9\n",
       "516    12.9\n",
       "Length: 517, dtype: float64"
      ]
     },
     "execution_count": 136,
     "metadata": {},
     "output_type": "execute_result"
    }
   ],
   "source": [
    "ISI + temp"
   ]
  },
  {
   "cell_type": "code",
   "execution_count": 137,
   "id": "5de5bcbe-9950-48fa-9052-954379e1abac",
   "metadata": {},
   "outputs": [
    {
     "data": {
      "text/plain": [
       "93489.29000000001"
      ]
     },
     "execution_count": 137,
     "metadata": {},
     "output_type": "execute_result"
    }
   ],
   "source": [
    "# 내적 \n",
    "\n",
    "import numpy as np\n",
    "\n",
    "ISI.dot(temp)"
   ]
  },
  {
   "cell_type": "markdown",
   "id": "6d638b73-0da0-4599-ae6d-98ca47aa4da5",
   "metadata": {},
   "source": [
    "### 17.4 전치 행렬 구하기"
   ]
  },
  {
   "cell_type": "code",
   "execution_count": 138,
   "id": "c6a40f7b-810d-44e2-9713-25d03971b5e7",
   "metadata": {},
   "outputs": [
    {
     "data": {
      "text/html": [
       "<div>\n",
       "<style scoped>\n",
       "    .dataframe tbody tr th:only-of-type {\n",
       "        vertical-align: middle;\n",
       "    }\n",
       "\n",
       "    .dataframe tbody tr th {\n",
       "        vertical-align: top;\n",
       "    }\n",
       "\n",
       "    .dataframe thead th {\n",
       "        text-align: right;\n",
       "    }\n",
       "</style>\n",
       "<table border=\"1\" class=\"dataframe\">\n",
       "  <thead>\n",
       "    <tr style=\"text-align: right;\">\n",
       "      <th></th>\n",
       "      <th>0</th>\n",
       "      <th>1</th>\n",
       "      <th>2</th>\n",
       "      <th>3</th>\n",
       "      <th>4</th>\n",
       "      <th>5</th>\n",
       "      <th>6</th>\n",
       "      <th>7</th>\n",
       "      <th>8</th>\n",
       "      <th>9</th>\n",
       "      <th>...</th>\n",
       "      <th>507</th>\n",
       "      <th>508</th>\n",
       "      <th>509</th>\n",
       "      <th>510</th>\n",
       "      <th>511</th>\n",
       "      <th>512</th>\n",
       "      <th>513</th>\n",
       "      <th>514</th>\n",
       "      <th>515</th>\n",
       "      <th>516</th>\n",
       "    </tr>\n",
       "  </thead>\n",
       "  <tbody>\n",
       "    <tr>\n",
       "      <th>X</th>\n",
       "      <td>7.0</td>\n",
       "      <td>7.0</td>\n",
       "      <td>7.0</td>\n",
       "      <td>8.0</td>\n",
       "      <td>8.0</td>\n",
       "      <td>8.0</td>\n",
       "      <td>8.0</td>\n",
       "      <td>8.0</td>\n",
       "      <td>8.0</td>\n",
       "      <td>7.0</td>\n",
       "      <td>...</td>\n",
       "      <td>2.0</td>\n",
       "      <td>1.0</td>\n",
       "      <td>5.00</td>\n",
       "      <td>6.00</td>\n",
       "      <td>8.0</td>\n",
       "      <td>4.00</td>\n",
       "      <td>2.00</td>\n",
       "      <td>7.00</td>\n",
       "      <td>1.0</td>\n",
       "      <td>6.0</td>\n",
       "    </tr>\n",
       "    <tr>\n",
       "      <th>Y</th>\n",
       "      <td>5.0</td>\n",
       "      <td>4.0</td>\n",
       "      <td>4.0</td>\n",
       "      <td>6.0</td>\n",
       "      <td>6.0</td>\n",
       "      <td>6.0</td>\n",
       "      <td>6.0</td>\n",
       "      <td>6.0</td>\n",
       "      <td>6.0</td>\n",
       "      <td>5.0</td>\n",
       "      <td>...</td>\n",
       "      <td>4.0</td>\n",
       "      <td>2.0</td>\n",
       "      <td>4.00</td>\n",
       "      <td>5.00</td>\n",
       "      <td>6.0</td>\n",
       "      <td>3.00</td>\n",
       "      <td>4.00</td>\n",
       "      <td>4.00</td>\n",
       "      <td>4.0</td>\n",
       "      <td>3.0</td>\n",
       "    </tr>\n",
       "    <tr>\n",
       "      <th>FFMC</th>\n",
       "      <td>86.2</td>\n",
       "      <td>90.6</td>\n",
       "      <td>90.6</td>\n",
       "      <td>91.7</td>\n",
       "      <td>89.3</td>\n",
       "      <td>92.3</td>\n",
       "      <td>92.3</td>\n",
       "      <td>91.5</td>\n",
       "      <td>91.0</td>\n",
       "      <td>92.5</td>\n",
       "      <td>...</td>\n",
       "      <td>91.0</td>\n",
       "      <td>91.0</td>\n",
       "      <td>91.00</td>\n",
       "      <td>91.00</td>\n",
       "      <td>81.6</td>\n",
       "      <td>81.60</td>\n",
       "      <td>81.60</td>\n",
       "      <td>81.60</td>\n",
       "      <td>94.4</td>\n",
       "      <td>79.5</td>\n",
       "    </tr>\n",
       "    <tr>\n",
       "      <th>DMC</th>\n",
       "      <td>26.2</td>\n",
       "      <td>35.4</td>\n",
       "      <td>43.7</td>\n",
       "      <td>33.3</td>\n",
       "      <td>51.3</td>\n",
       "      <td>85.3</td>\n",
       "      <td>88.9</td>\n",
       "      <td>145.4</td>\n",
       "      <td>129.5</td>\n",
       "      <td>88.0</td>\n",
       "      <td>...</td>\n",
       "      <td>166.9</td>\n",
       "      <td>166.9</td>\n",
       "      <td>166.90</td>\n",
       "      <td>166.90</td>\n",
       "      <td>56.7</td>\n",
       "      <td>56.70</td>\n",
       "      <td>56.70</td>\n",
       "      <td>56.70</td>\n",
       "      <td>146.0</td>\n",
       "      <td>3.0</td>\n",
       "    </tr>\n",
       "    <tr>\n",
       "      <th>DC</th>\n",
       "      <td>94.3</td>\n",
       "      <td>669.1</td>\n",
       "      <td>686.9</td>\n",
       "      <td>77.5</td>\n",
       "      <td>102.2</td>\n",
       "      <td>488.0</td>\n",
       "      <td>495.6</td>\n",
       "      <td>608.2</td>\n",
       "      <td>692.6</td>\n",
       "      <td>698.6</td>\n",
       "      <td>...</td>\n",
       "      <td>752.6</td>\n",
       "      <td>752.6</td>\n",
       "      <td>752.60</td>\n",
       "      <td>752.60</td>\n",
       "      <td>665.6</td>\n",
       "      <td>665.60</td>\n",
       "      <td>665.60</td>\n",
       "      <td>665.60</td>\n",
       "      <td>614.7</td>\n",
       "      <td>106.7</td>\n",
       "    </tr>\n",
       "    <tr>\n",
       "      <th>ISI</th>\n",
       "      <td>5.1</td>\n",
       "      <td>6.7</td>\n",
       "      <td>6.7</td>\n",
       "      <td>9.0</td>\n",
       "      <td>9.6</td>\n",
       "      <td>14.7</td>\n",
       "      <td>8.5</td>\n",
       "      <td>10.7</td>\n",
       "      <td>7.0</td>\n",
       "      <td>7.1</td>\n",
       "      <td>...</td>\n",
       "      <td>7.1</td>\n",
       "      <td>7.1</td>\n",
       "      <td>7.10</td>\n",
       "      <td>7.10</td>\n",
       "      <td>1.9</td>\n",
       "      <td>1.90</td>\n",
       "      <td>1.90</td>\n",
       "      <td>1.90</td>\n",
       "      <td>11.3</td>\n",
       "      <td>1.1</td>\n",
       "    </tr>\n",
       "    <tr>\n",
       "      <th>temp</th>\n",
       "      <td>8.2</td>\n",
       "      <td>18.0</td>\n",
       "      <td>14.6</td>\n",
       "      <td>8.3</td>\n",
       "      <td>11.4</td>\n",
       "      <td>22.2</td>\n",
       "      <td>24.1</td>\n",
       "      <td>8.0</td>\n",
       "      <td>13.1</td>\n",
       "      <td>22.8</td>\n",
       "      <td>...</td>\n",
       "      <td>25.9</td>\n",
       "      <td>25.9</td>\n",
       "      <td>21.10</td>\n",
       "      <td>18.20</td>\n",
       "      <td>27.8</td>\n",
       "      <td>27.80</td>\n",
       "      <td>21.90</td>\n",
       "      <td>21.20</td>\n",
       "      <td>25.6</td>\n",
       "      <td>11.8</td>\n",
       "    </tr>\n",
       "    <tr>\n",
       "      <th>RH</th>\n",
       "      <td>51.0</td>\n",
       "      <td>33.0</td>\n",
       "      <td>33.0</td>\n",
       "      <td>97.0</td>\n",
       "      <td>99.0</td>\n",
       "      <td>29.0</td>\n",
       "      <td>27.0</td>\n",
       "      <td>86.0</td>\n",
       "      <td>63.0</td>\n",
       "      <td>40.0</td>\n",
       "      <td>...</td>\n",
       "      <td>41.0</td>\n",
       "      <td>41.0</td>\n",
       "      <td>71.00</td>\n",
       "      <td>62.00</td>\n",
       "      <td>35.0</td>\n",
       "      <td>32.00</td>\n",
       "      <td>71.00</td>\n",
       "      <td>70.00</td>\n",
       "      <td>42.0</td>\n",
       "      <td>31.0</td>\n",
       "    </tr>\n",
       "    <tr>\n",
       "      <th>wind</th>\n",
       "      <td>6.7</td>\n",
       "      <td>0.9</td>\n",
       "      <td>1.3</td>\n",
       "      <td>4.0</td>\n",
       "      <td>1.8</td>\n",
       "      <td>5.4</td>\n",
       "      <td>3.1</td>\n",
       "      <td>2.2</td>\n",
       "      <td>5.4</td>\n",
       "      <td>4.0</td>\n",
       "      <td>...</td>\n",
       "      <td>3.6</td>\n",
       "      <td>3.6</td>\n",
       "      <td>7.60</td>\n",
       "      <td>5.40</td>\n",
       "      <td>2.7</td>\n",
       "      <td>2.70</td>\n",
       "      <td>5.80</td>\n",
       "      <td>6.70</td>\n",
       "      <td>4.0</td>\n",
       "      <td>4.5</td>\n",
       "    </tr>\n",
       "    <tr>\n",
       "      <th>rain</th>\n",
       "      <td>0.0</td>\n",
       "      <td>0.0</td>\n",
       "      <td>0.0</td>\n",
       "      <td>0.2</td>\n",
       "      <td>0.0</td>\n",
       "      <td>0.0</td>\n",
       "      <td>0.0</td>\n",
       "      <td>0.0</td>\n",
       "      <td>0.0</td>\n",
       "      <td>0.0</td>\n",
       "      <td>...</td>\n",
       "      <td>0.0</td>\n",
       "      <td>0.0</td>\n",
       "      <td>1.40</td>\n",
       "      <td>0.00</td>\n",
       "      <td>0.0</td>\n",
       "      <td>0.00</td>\n",
       "      <td>0.00</td>\n",
       "      <td>0.00</td>\n",
       "      <td>0.0</td>\n",
       "      <td>0.0</td>\n",
       "    </tr>\n",
       "    <tr>\n",
       "      <th>area</th>\n",
       "      <td>0.0</td>\n",
       "      <td>0.0</td>\n",
       "      <td>0.0</td>\n",
       "      <td>0.0</td>\n",
       "      <td>0.0</td>\n",
       "      <td>0.0</td>\n",
       "      <td>0.0</td>\n",
       "      <td>0.0</td>\n",
       "      <td>0.0</td>\n",
       "      <td>0.0</td>\n",
       "      <td>...</td>\n",
       "      <td>0.0</td>\n",
       "      <td>0.0</td>\n",
       "      <td>2.17</td>\n",
       "      <td>0.43</td>\n",
       "      <td>0.0</td>\n",
       "      <td>6.44</td>\n",
       "      <td>54.29</td>\n",
       "      <td>11.16</td>\n",
       "      <td>0.0</td>\n",
       "      <td>0.0</td>\n",
       "    </tr>\n",
       "  </tbody>\n",
       "</table>\n",
       "<p>11 rows × 517 columns</p>\n",
       "</div>"
      ],
      "text/plain": [
       "       0      1      2     3      4      5      6      7      8      9    ...  \\\n",
       "X      7.0    7.0    7.0   8.0    8.0    8.0    8.0    8.0    8.0    7.0  ...   \n",
       "Y      5.0    4.0    4.0   6.0    6.0    6.0    6.0    6.0    6.0    5.0  ...   \n",
       "FFMC  86.2   90.6   90.6  91.7   89.3   92.3   92.3   91.5   91.0   92.5  ...   \n",
       "DMC   26.2   35.4   43.7  33.3   51.3   85.3   88.9  145.4  129.5   88.0  ...   \n",
       "DC    94.3  669.1  686.9  77.5  102.2  488.0  495.6  608.2  692.6  698.6  ...   \n",
       "ISI    5.1    6.7    6.7   9.0    9.6   14.7    8.5   10.7    7.0    7.1  ...   \n",
       "temp   8.2   18.0   14.6   8.3   11.4   22.2   24.1    8.0   13.1   22.8  ...   \n",
       "RH    51.0   33.0   33.0  97.0   99.0   29.0   27.0   86.0   63.0   40.0  ...   \n",
       "wind   6.7    0.9    1.3   4.0    1.8    5.4    3.1    2.2    5.4    4.0  ...   \n",
       "rain   0.0    0.0    0.0   0.2    0.0    0.0    0.0    0.0    0.0    0.0  ...   \n",
       "area   0.0    0.0    0.0   0.0    0.0    0.0    0.0    0.0    0.0    0.0  ...   \n",
       "\n",
       "        507    508     509     510    511     512     513     514    515  \\\n",
       "X       2.0    1.0    5.00    6.00    8.0    4.00    2.00    7.00    1.0   \n",
       "Y       4.0    2.0    4.00    5.00    6.0    3.00    4.00    4.00    4.0   \n",
       "FFMC   91.0   91.0   91.00   91.00   81.6   81.60   81.60   81.60   94.4   \n",
       "DMC   166.9  166.9  166.90  166.90   56.7   56.70   56.70   56.70  146.0   \n",
       "DC    752.6  752.6  752.60  752.60  665.6  665.60  665.60  665.60  614.7   \n",
       "ISI     7.1    7.1    7.10    7.10    1.9    1.90    1.90    1.90   11.3   \n",
       "temp   25.9   25.9   21.10   18.20   27.8   27.80   21.90   21.20   25.6   \n",
       "RH     41.0   41.0   71.00   62.00   35.0   32.00   71.00   70.00   42.0   \n",
       "wind    3.6    3.6    7.60    5.40    2.7    2.70    5.80    6.70    4.0   \n",
       "rain    0.0    0.0    1.40    0.00    0.0    0.00    0.00    0.00    0.0   \n",
       "area    0.0    0.0    2.17    0.43    0.0    6.44   54.29   11.16    0.0   \n",
       "\n",
       "        516  \n",
       "X       6.0  \n",
       "Y       3.0  \n",
       "FFMC   79.5  \n",
       "DMC     3.0  \n",
       "DC    106.7  \n",
       "ISI     1.1  \n",
       "temp   11.8  \n",
       "RH     31.0  \n",
       "wind    4.5  \n",
       "rain    0.0  \n",
       "area    0.0  \n",
       "\n",
       "[11 rows x 517 columns]"
      ]
     },
     "execution_count": 138,
     "metadata": {},
     "output_type": "execute_result"
    }
   ],
   "source": [
    "df_t = np.transpose(df)\n",
    "df_t"
   ]
  },
  {
   "cell_type": "code",
   "execution_count": 139,
   "id": "e4d8f12f-2c1c-4884-84ee-33dfccc12e10",
   "metadata": {},
   "outputs": [
    {
     "data": {
      "text/plain": [
       "(517, 11)"
      ]
     },
     "execution_count": 139,
     "metadata": {},
     "output_type": "execute_result"
    }
   ],
   "source": [
    "df.shape"
   ]
  },
  {
   "cell_type": "code",
   "execution_count": 140,
   "id": "9b90bfcc-1ab1-4445-9506-50a76afa838d",
   "metadata": {},
   "outputs": [
    {
     "data": {
      "text/plain": [
       "(11, 517)"
      ]
     },
     "execution_count": 140,
     "metadata": {},
     "output_type": "execute_result"
    }
   ],
   "source": [
    "df_t.shape"
   ]
  },
  {
   "cell_type": "markdown",
   "id": "d4dec41b-79cc-40b6-aac0-9a4dbcc3359b",
   "metadata": {},
   "source": [
    "### 17.5 피처/타깃 데이터 분할"
   ]
  },
  {
   "cell_type": "code",
   "execution_count": 141,
   "id": "4ff59fcc-850a-4f2d-ba86-3de227584b68",
   "metadata": {},
   "outputs": [
    {
     "data": {
      "text/plain": [
       "Index(['X', 'Y', 'FFMC', 'DMC', 'DC', 'ISI', 'temp', 'RH', 'wind', 'rain',\n",
       "       'area'],\n",
       "      dtype='object')"
      ]
     },
     "execution_count": 141,
     "metadata": {},
     "output_type": "execute_result"
    }
   ],
   "source": [
    "df.columns"
   ]
  },
  {
   "cell_type": "code",
   "execution_count": 142,
   "id": "c7c70c43-fd2d-4af7-bd3c-128c1a8d1d47",
   "metadata": {},
   "outputs": [],
   "source": [
    "feature = ['X', 'Y', 'FFMC', 'DMC', 'DC', 'ISI', 'temp', 'RH', 'wind', 'rain']\n",
    "target_name = 'area'"
   ]
  },
  {
   "cell_type": "code",
   "execution_count": 143,
   "id": "6d234107-25fe-4cb4-b935-2500f9ec87d4",
   "metadata": {},
   "outputs": [],
   "source": [
    "X = df[feature]\n",
    "y = df[target_name]"
   ]
  },
  {
   "cell_type": "code",
   "execution_count": 144,
   "id": "707f6af0-d6ed-4e9e-8322-504de755ee8e",
   "metadata": {},
   "outputs": [
    {
     "data": {
      "text/html": [
       "<div>\n",
       "<style scoped>\n",
       "    .dataframe tbody tr th:only-of-type {\n",
       "        vertical-align: middle;\n",
       "    }\n",
       "\n",
       "    .dataframe tbody tr th {\n",
       "        vertical-align: top;\n",
       "    }\n",
       "\n",
       "    .dataframe thead th {\n",
       "        text-align: right;\n",
       "    }\n",
       "</style>\n",
       "<table border=\"1\" class=\"dataframe\">\n",
       "  <thead>\n",
       "    <tr style=\"text-align: right;\">\n",
       "      <th></th>\n",
       "      <th>X</th>\n",
       "      <th>Y</th>\n",
       "      <th>FFMC</th>\n",
       "      <th>DMC</th>\n",
       "      <th>DC</th>\n",
       "      <th>ISI</th>\n",
       "      <th>temp</th>\n",
       "      <th>RH</th>\n",
       "      <th>wind</th>\n",
       "      <th>rain</th>\n",
       "    </tr>\n",
       "  </thead>\n",
       "  <tbody>\n",
       "    <tr>\n",
       "      <th>0</th>\n",
       "      <td>7</td>\n",
       "      <td>5</td>\n",
       "      <td>86.2</td>\n",
       "      <td>26.2</td>\n",
       "      <td>94.3</td>\n",
       "      <td>5.1</td>\n",
       "      <td>8.2</td>\n",
       "      <td>51</td>\n",
       "      <td>6.7</td>\n",
       "      <td>0.0</td>\n",
       "    </tr>\n",
       "    <tr>\n",
       "      <th>1</th>\n",
       "      <td>7</td>\n",
       "      <td>4</td>\n",
       "      <td>90.6</td>\n",
       "      <td>35.4</td>\n",
       "      <td>669.1</td>\n",
       "      <td>6.7</td>\n",
       "      <td>18.0</td>\n",
       "      <td>33</td>\n",
       "      <td>0.9</td>\n",
       "      <td>0.0</td>\n",
       "    </tr>\n",
       "    <tr>\n",
       "      <th>2</th>\n",
       "      <td>7</td>\n",
       "      <td>4</td>\n",
       "      <td>90.6</td>\n",
       "      <td>43.7</td>\n",
       "      <td>686.9</td>\n",
       "      <td>6.7</td>\n",
       "      <td>14.6</td>\n",
       "      <td>33</td>\n",
       "      <td>1.3</td>\n",
       "      <td>0.0</td>\n",
       "    </tr>\n",
       "    <tr>\n",
       "      <th>3</th>\n",
       "      <td>8</td>\n",
       "      <td>6</td>\n",
       "      <td>91.7</td>\n",
       "      <td>33.3</td>\n",
       "      <td>77.5</td>\n",
       "      <td>9.0</td>\n",
       "      <td>8.3</td>\n",
       "      <td>97</td>\n",
       "      <td>4.0</td>\n",
       "      <td>0.2</td>\n",
       "    </tr>\n",
       "    <tr>\n",
       "      <th>4</th>\n",
       "      <td>8</td>\n",
       "      <td>6</td>\n",
       "      <td>89.3</td>\n",
       "      <td>51.3</td>\n",
       "      <td>102.2</td>\n",
       "      <td>9.6</td>\n",
       "      <td>11.4</td>\n",
       "      <td>99</td>\n",
       "      <td>1.8</td>\n",
       "      <td>0.0</td>\n",
       "    </tr>\n",
       "    <tr>\n",
       "      <th>...</th>\n",
       "      <td>...</td>\n",
       "      <td>...</td>\n",
       "      <td>...</td>\n",
       "      <td>...</td>\n",
       "      <td>...</td>\n",
       "      <td>...</td>\n",
       "      <td>...</td>\n",
       "      <td>...</td>\n",
       "      <td>...</td>\n",
       "      <td>...</td>\n",
       "    </tr>\n",
       "    <tr>\n",
       "      <th>512</th>\n",
       "      <td>4</td>\n",
       "      <td>3</td>\n",
       "      <td>81.6</td>\n",
       "      <td>56.7</td>\n",
       "      <td>665.6</td>\n",
       "      <td>1.9</td>\n",
       "      <td>27.8</td>\n",
       "      <td>32</td>\n",
       "      <td>2.7</td>\n",
       "      <td>0.0</td>\n",
       "    </tr>\n",
       "    <tr>\n",
       "      <th>513</th>\n",
       "      <td>2</td>\n",
       "      <td>4</td>\n",
       "      <td>81.6</td>\n",
       "      <td>56.7</td>\n",
       "      <td>665.6</td>\n",
       "      <td>1.9</td>\n",
       "      <td>21.9</td>\n",
       "      <td>71</td>\n",
       "      <td>5.8</td>\n",
       "      <td>0.0</td>\n",
       "    </tr>\n",
       "    <tr>\n",
       "      <th>514</th>\n",
       "      <td>7</td>\n",
       "      <td>4</td>\n",
       "      <td>81.6</td>\n",
       "      <td>56.7</td>\n",
       "      <td>665.6</td>\n",
       "      <td>1.9</td>\n",
       "      <td>21.2</td>\n",
       "      <td>70</td>\n",
       "      <td>6.7</td>\n",
       "      <td>0.0</td>\n",
       "    </tr>\n",
       "    <tr>\n",
       "      <th>515</th>\n",
       "      <td>1</td>\n",
       "      <td>4</td>\n",
       "      <td>94.4</td>\n",
       "      <td>146.0</td>\n",
       "      <td>614.7</td>\n",
       "      <td>11.3</td>\n",
       "      <td>25.6</td>\n",
       "      <td>42</td>\n",
       "      <td>4.0</td>\n",
       "      <td>0.0</td>\n",
       "    </tr>\n",
       "    <tr>\n",
       "      <th>516</th>\n",
       "      <td>6</td>\n",
       "      <td>3</td>\n",
       "      <td>79.5</td>\n",
       "      <td>3.0</td>\n",
       "      <td>106.7</td>\n",
       "      <td>1.1</td>\n",
       "      <td>11.8</td>\n",
       "      <td>31</td>\n",
       "      <td>4.5</td>\n",
       "      <td>0.0</td>\n",
       "    </tr>\n",
       "  </tbody>\n",
       "</table>\n",
       "<p>517 rows × 10 columns</p>\n",
       "</div>"
      ],
      "text/plain": [
       "     X  Y  FFMC    DMC     DC   ISI  temp  RH  wind  rain\n",
       "0    7  5  86.2   26.2   94.3   5.1   8.2  51   6.7   0.0\n",
       "1    7  4  90.6   35.4  669.1   6.7  18.0  33   0.9   0.0\n",
       "2    7  4  90.6   43.7  686.9   6.7  14.6  33   1.3   0.0\n",
       "3    8  6  91.7   33.3   77.5   9.0   8.3  97   4.0   0.2\n",
       "4    8  6  89.3   51.3  102.2   9.6  11.4  99   1.8   0.0\n",
       "..  .. ..   ...    ...    ...   ...   ...  ..   ...   ...\n",
       "512  4  3  81.6   56.7  665.6   1.9  27.8  32   2.7   0.0\n",
       "513  2  4  81.6   56.7  665.6   1.9  21.9  71   5.8   0.0\n",
       "514  7  4  81.6   56.7  665.6   1.9  21.2  70   6.7   0.0\n",
       "515  1  4  94.4  146.0  614.7  11.3  25.6  42   4.0   0.0\n",
       "516  6  3  79.5    3.0  106.7   1.1  11.8  31   4.5   0.0\n",
       "\n",
       "[517 rows x 10 columns]"
      ]
     },
     "execution_count": 144,
     "metadata": {},
     "output_type": "execute_result"
    }
   ],
   "source": [
    "X"
   ]
  },
  {
   "cell_type": "code",
   "execution_count": 145,
   "id": "c16fac23-85f1-46cc-8297-9969a8a57e62",
   "metadata": {},
   "outputs": [
    {
     "data": {
      "text/plain": [
       "0       0.00\n",
       "1       0.00\n",
       "2       0.00\n",
       "3       0.00\n",
       "4       0.00\n",
       "       ...  \n",
       "512     6.44\n",
       "513    54.29\n",
       "514    11.16\n",
       "515     0.00\n",
       "516     0.00\n",
       "Name: area, Length: 517, dtype: float64"
      ]
     },
     "execution_count": 145,
     "metadata": {},
     "output_type": "execute_result"
    }
   ],
   "source": [
    "y"
   ]
  },
  {
   "cell_type": "markdown",
   "id": "adb2dd7a-8ac5-412d-9fe3-47d56dfbd30b",
   "metadata": {},
   "source": [
    "### 17.6 공분산 행렬"
   ]
  },
  {
   "cell_type": "code",
   "execution_count": 146,
   "id": "b342a5b8-99ed-497a-bd54-f6a170494f4e",
   "metadata": {},
   "outputs": [],
   "source": [
    "# 공분산 행렬을 구하기 위해서는 기존 행렬의 전치 행렬을 먼저 구함\n",
    "Xt = np.transpose(X)\n",
    "cov_X = np.cov(Xt)"
   ]
  },
  {
   "cell_type": "code",
   "execution_count": 147,
   "id": "851caf13-2343-48d8-a106-ce04fdae6bcc",
   "metadata": {},
   "outputs": [
    {
     "data": {
      "text/plain": [
       "array([[ 5.35356784e+00,  1.53540102e+00, -2.68720106e-01,\n",
       "        -7.17001897e+00, -4.93132818e+01,  6.55124976e-02,\n",
       "        -6.88667101e-01,  3.21760155e+00,  7.79260942e-02,\n",
       "         4.47760635e-02],\n",
       "       [ 1.53540102e+00,  1.51265500e+00, -3.14390566e-01,\n",
       "         6.12959756e-01, -3.08690039e+01, -1.37321383e-01,\n",
       "        -1.72133882e-01,  1.24869926e+00, -4.48221702e-02,\n",
       "         1.20972216e-02],\n",
       "       [-2.68720106e-01, -3.14390566e-01,  3.04716238e+01,\n",
       "         1.35272459e+02,  4.52587277e+02,  1.33849023e+01,\n",
       "         1.38319965e+01, -2.71119330e+01, -2.81718209e-01,\n",
       "         9.26348342e-02],\n",
       "       [-7.17001897e+00,  6.12959756e-01,  1.35272459e+02,\n",
       "         4.10195189e+03,  1.08385013e+04,  8.91029647e+01,\n",
       "         1.74639099e+02,  7.71213591e+01, -1.20879231e+01,\n",
       "         1.41765463e+00],\n",
       "       [-4.93132818e+01, -3.08690039e+01,  4.52587277e+02,\n",
       "         1.08385013e+04,  6.15368355e+04,  2.59185313e+02,\n",
       "         7.14751694e+02, -1.58640438e+02, -9.04300084e+01,\n",
       "         2.63281311e+00],\n",
       "       [ 6.55124976e-02, -1.37321383e-01,  1.33849023e+01,\n",
       "         8.91029647e+01,  2.59185313e+02,  2.07888321e+01,\n",
       "         1.04388204e+01, -9.85916251e+00,  8.72660587e-01,\n",
       "         9.13127315e-02],\n",
       "       [-6.88667101e-01, -1.72133882e-01,  1.38319965e+01,\n",
       "         1.74639099e+02,  7.14751694e+02,  1.04388204e+01,\n",
       "         3.37168980e+01, -4.99699343e+01, -2.36279347e+00,\n",
       "         1.19421154e-01],\n",
       "       [ 3.21760155e+00,  1.24869926e+00, -2.71119330e+01,\n",
       "         7.71213591e+01, -1.58640438e+02, -9.85916251e+00,\n",
       "        -4.99699343e+01,  2.66259802e+02,  2.02921971e+00,\n",
       "         4.81728967e-01],\n",
       "       [ 7.79260942e-02, -4.48221702e-02, -2.81718209e-01,\n",
       "        -1.20879231e+01, -9.04300084e+01,  8.72660587e-01,\n",
       "        -2.36279347e+00,  2.02921971e+00,  3.21001904e+00,\n",
       "         3.24086486e-02],\n",
       "       [ 4.47760635e-02,  1.20972216e-02,  9.26348342e-02,\n",
       "         1.41765463e+00,  2.63281311e+00,  9.13127315e-02,\n",
       "         1.19421154e-01,  4.81728967e-01,  3.24086486e-02,\n",
       "         8.75918012e-02]])"
      ]
     },
     "execution_count": 147,
     "metadata": {},
     "output_type": "execute_result"
    }
   ],
   "source": [
    "cov_X"
   ]
  },
  {
   "cell_type": "code",
   "execution_count": 148,
   "id": "979ef439-0549-4fba-bcfd-1e2f7473930d",
   "metadata": {},
   "outputs": [
    {
     "data": {
      "text/plain": [
       "(10, 10)"
      ]
     },
     "execution_count": 148,
     "metadata": {},
     "output_type": "execute_result"
    }
   ],
   "source": [
    "cov_X.shape"
   ]
  },
  {
   "cell_type": "markdown",
   "id": "3242d474-e122-47c5-8e63-59bef921e7b7",
   "metadata": {},
   "source": [
    "### 17.7 특이값 분해"
   ]
  },
  {
   "cell_type": "code",
   "execution_count": 149,
   "id": "3111aa84-8f4a-47b0-97d7-aaf7050dc966",
   "metadata": {},
   "outputs": [],
   "source": [
    "# 앞서 구한 공분산 행렬 cov_X를 대상으로 특이값 분해 실시\n",
    "\n",
    "U, S, Vt = np.linalg.svd(cov_X)"
   ]
  },
  {
   "cell_type": "code",
   "execution_count": 150,
   "id": "d309a036-56e8-4304-9c20-1f3c40301e95",
   "metadata": {},
   "outputs": [
    {
     "data": {
      "text/plain": [
       "array([[-7.84161966e-04, -9.27379422e-04,  1.08658320e-02,\n",
       "        -2.63645372e-02,  3.52332542e-02, -3.65886924e-02,\n",
       "        -9.42981440e-01, -1.69298160e-02,  3.27187594e-01,\n",
       "        -7.27452344e-03],\n",
       "       [-4.76391370e-04, -2.90688105e-03,  3.13357839e-03,\n",
       "         2.44925122e-03,  2.20954020e-02, -2.14500189e-02,\n",
       "        -3.26540197e-01,  3.16837402e-02, -9.44135810e-01,\n",
       "         1.55168445e-03],\n",
       "       [ 7.39788693e-03, -2.40648773e-02, -1.20638390e-01,\n",
       "        -7.35224863e-01, -4.79913793e-01, -4.61483637e-01,\n",
       "         1.63414022e-02, -2.45747489e-02, -9.46634830e-03,\n",
       "        -3.45915203e-03],\n",
       "       [ 1.79460941e-01, -9.81553201e-01, -4.36605345e-02,\n",
       "         4.38094859e-02, -1.76489666e-02,  1.37466645e-02,\n",
       "        -1.22576354e-03,  3.49614055e-03,  2.71636640e-03,\n",
       "         1.04827539e-04],\n",
       "       [ 9.83655890e-01,  1.79440679e-01,  1.37191816e-02,\n",
       "         2.07028340e-03, -3.78024397e-03,  3.47075372e-03,\n",
       "        -1.40101029e-03, -9.06791209e-04, -7.11010526e-04,\n",
       "         5.45979080e-05],\n",
       "       [ 4.27009270e-03, -1.93781450e-02, -5.35283391e-02,\n",
       "        -6.25991140e-01,  2.80704097e-01,  7.13474334e-01,\n",
       "        -4.53171349e-03,  1.30323180e-01, -5.44168549e-03,\n",
       "         1.16947078e-03],\n",
       "       [ 1.15707684e-02, -1.95041695e-02, -2.01160835e-01,\n",
       "        -1.92315397e-01,  8.17936186e-01, -4.81283435e-01,\n",
       "         5.65020440e-02, -1.34293180e-01,  4.89670611e-03,\n",
       "        -1.14168799e-02],\n",
       "       [-2.26100024e-03, -5.48221278e-02,  9.69459104e-01,\n",
       "        -1.63493151e-01,  1.24704007e-01, -1.17976188e-01,\n",
       "         2.51268940e-02, -1.70467959e-02, -7.06996812e-04,\n",
       "        -4.06608451e-03],\n",
       "       [-1.43490489e-03, -2.08301747e-03,  6.32273979e-03,\n",
       "        -3.47936034e-02, -6.48935986e-02,  1.74351726e-01,\n",
       "        -3.36400240e-03, -9.81075757e-01, -3.73261994e-02,\n",
       "        -1.48028683e-02],\n",
       "       [ 4.47911510e-05, -4.46240649e-04,  1.46248864e-03,\n",
       "        -5.38810667e-03,  7.12197940e-03, -6.06010952e-03,\n",
       "        -5.59478901e-03, -1.65389064e-02,  3.31972426e-03,\n",
       "         9.99782638e-01]])"
      ]
     },
     "execution_count": 150,
     "metadata": {},
     "output_type": "execute_result"
    }
   ],
   "source": [
    "U"
   ]
  },
  {
   "cell_type": "code",
   "execution_count": 151,
   "id": "33cba97a-9293-4f0d-bf5f-c61e3168cbef",
   "metadata": {},
   "outputs": [
    {
     "data": {
      "text/plain": [
       "array([6.35277296e+04, 2.13335626e+03, 2.74882457e+02, 3.01009922e+01,\n",
       "       1.46476605e+01, 9.91077255e+00, 5.76371012e+00, 2.76170396e+00,\n",
       "       9.51625281e-01, 8.35607679e-02])"
      ]
     },
     "execution_count": 151,
     "metadata": {},
     "output_type": "execute_result"
    }
   ],
   "source": [
    "S"
   ]
  },
  {
   "cell_type": "code",
   "execution_count": 152,
   "id": "2470f136-0c64-4f1f-8541-a0d5e150d73f",
   "metadata": {},
   "outputs": [
    {
     "data": {
      "text/plain": [
       "array([[-7.84161966e-04, -4.76391370e-04,  7.39788693e-03,\n",
       "         1.79460941e-01,  9.83655890e-01,  4.27009270e-03,\n",
       "         1.15707684e-02, -2.26100024e-03, -1.43490489e-03,\n",
       "         4.47911510e-05],\n",
       "       [-9.27379422e-04, -2.90688105e-03, -2.40648773e-02,\n",
       "        -9.81553201e-01,  1.79440679e-01, -1.93781450e-02,\n",
       "        -1.95041695e-02, -5.48221278e-02, -2.08301747e-03,\n",
       "        -4.46240649e-04],\n",
       "       [ 1.08658320e-02,  3.13357839e-03, -1.20638390e-01,\n",
       "        -4.36605345e-02,  1.37191816e-02, -5.35283391e-02,\n",
       "        -2.01160835e-01,  9.69459104e-01,  6.32273979e-03,\n",
       "         1.46248864e-03],\n",
       "       [-2.63645372e-02,  2.44925122e-03, -7.35224863e-01,\n",
       "         4.38094859e-02,  2.07028340e-03, -6.25991140e-01,\n",
       "        -1.92315397e-01, -1.63493151e-01, -3.47936034e-02,\n",
       "        -5.38810667e-03],\n",
       "       [ 3.52332542e-02,  2.20954020e-02, -4.79913793e-01,\n",
       "        -1.76489666e-02, -3.78024397e-03,  2.80704097e-01,\n",
       "         8.17936186e-01,  1.24704007e-01, -6.48935986e-02,\n",
       "         7.12197940e-03],\n",
       "       [-3.65886924e-02, -2.14500189e-02, -4.61483637e-01,\n",
       "         1.37466645e-02,  3.47075372e-03,  7.13474334e-01,\n",
       "        -4.81283435e-01, -1.17976188e-01,  1.74351726e-01,\n",
       "        -6.06010952e-03],\n",
       "       [-9.42981440e-01, -3.26540197e-01,  1.63414022e-02,\n",
       "        -1.22576354e-03, -1.40101029e-03, -4.53171349e-03,\n",
       "         5.65020440e-02,  2.51268940e-02, -3.36400240e-03,\n",
       "        -5.59478901e-03],\n",
       "       [-1.69298160e-02,  3.16837402e-02, -2.45747489e-02,\n",
       "         3.49614055e-03, -9.06791209e-04,  1.30323180e-01,\n",
       "        -1.34293180e-01, -1.70467959e-02, -9.81075757e-01,\n",
       "        -1.65389064e-02],\n",
       "       [ 3.27187594e-01, -9.44135810e-01, -9.46634830e-03,\n",
       "         2.71636640e-03, -7.11010526e-04, -5.44168549e-03,\n",
       "         4.89670611e-03, -7.06996812e-04, -3.73261994e-02,\n",
       "         3.31972426e-03],\n",
       "       [-7.27452344e-03,  1.55168445e-03, -3.45915203e-03,\n",
       "         1.04827539e-04,  5.45979080e-05,  1.16947078e-03,\n",
       "        -1.14168799e-02, -4.06608451e-03, -1.48028683e-02,\n",
       "         9.99782638e-01]])"
      ]
     },
     "execution_count": 152,
     "metadata": {},
     "output_type": "execute_result"
    }
   ],
   "source": [
    "Vt"
   ]
  },
  {
   "cell_type": "markdown",
   "id": "fdcfa584-1369-40d4-8ccc-d0d63d6d314e",
   "metadata": {},
   "source": [
    "### 17.8 머신러닝 적용하기"
   ]
  },
  {
   "cell_type": "markdown",
   "id": "494f3cd8-94a6-4bbd-9fb3-57ebc3cb64a2",
   "metadata": {},
   "source": [
    "#### 17.8.1 트레이닝/테스트 데이터 분할"
   ]
  },
  {
   "cell_type": "code",
   "execution_count": 153,
   "id": "d3a04588-255c-4996-8790-8d666f67e470",
   "metadata": {},
   "outputs": [],
   "source": [
    "from sklearn.model_selection import train_test_split\n",
    "X_tn, X_te, y_tn, y_te = train_test_split(X, y, random_state = 0)"
   ]
  },
  {
   "cell_type": "code",
   "execution_count": 154,
   "id": "c153b735-3d9d-458a-bc3e-8e3a4485794e",
   "metadata": {},
   "outputs": [
    {
     "data": {
      "text/plain": [
       "(387, 10)"
      ]
     },
     "execution_count": 154,
     "metadata": {},
     "output_type": "execute_result"
    }
   ],
   "source": [
    "X_tn.shape"
   ]
  },
  {
   "cell_type": "code",
   "execution_count": 155,
   "id": "b4014d87-8a32-4ee5-8b9a-7860965b8ba2",
   "metadata": {},
   "outputs": [
    {
     "data": {
      "text/plain": [
       "(130, 10)"
      ]
     },
     "execution_count": 155,
     "metadata": {},
     "output_type": "execute_result"
    }
   ],
   "source": [
    "X_te.shape"
   ]
  },
  {
   "cell_type": "markdown",
   "id": "412a36a7-3226-4a12-a8f7-e97861f4b19a",
   "metadata": {},
   "source": [
    "#### 17.8.2 데이터 표준화"
   ]
  },
  {
   "cell_type": "code",
   "execution_count": 156,
   "id": "b57b4976-dfe7-4d69-b5c2-dd20f0711f14",
   "metadata": {},
   "outputs": [],
   "source": [
    "from sklearn.preprocessing import StandardScaler\n",
    "std_scale = StandardScaler()\n",
    "std_scale.fit(X_tn)\n",
    "X_tn_std = std_scale.transform(X_tn)\n",
    "X_te_std = std_scale.transform(X_te)"
   ]
  },
  {
   "cell_type": "markdown",
   "id": "d081b6a2-d4eb-4fc5-84d5-c039e5dae620",
   "metadata": {},
   "source": [
    "#### 17.8.3 KNN 회귀분석 학습"
   ]
  },
  {
   "cell_type": "code",
   "execution_count": 157,
   "id": "1cbef1d8-dcdc-4852-aba0-842bf620024c",
   "metadata": {},
   "outputs": [
    {
     "data": {
      "text/plain": [
       "KNeighborsRegressor()"
      ]
     },
     "execution_count": 157,
     "metadata": {},
     "output_type": "execute_result"
    }
   ],
   "source": [
    "from sklearn.neighbors import KNeighborsRegressor\n",
    "clf_knn = KNeighborsRegressor(n_neighbors=5)\n",
    "clf_knn.fit(X_tn_std, y_tn)"
   ]
  },
  {
   "cell_type": "markdown",
   "id": "eedb0b8c-9532-4c04-92d0-a1c86614206c",
   "metadata": {},
   "source": [
    "#### 17.8.4 예측"
   ]
  },
  {
   "cell_type": "code",
   "execution_count": 158,
   "id": "196ddf04-8566-48ef-88ff-ad80b00238d1",
   "metadata": {},
   "outputs": [],
   "source": [
    "pred_y = clf_knn.predict(X_te_std)"
   ]
  },
  {
   "cell_type": "markdown",
   "id": "126c1cc6-bea8-492f-85bc-ba44b58ca961",
   "metadata": {},
   "source": [
    "#### 17.8.5 모형 평가-MSE"
   ]
  },
  {
   "cell_type": "code",
   "execution_count": 159,
   "id": "8e813c07-7a98-4d51-803e-8d3e956901c8",
   "metadata": {},
   "outputs": [
    {
     "name": "stdout",
     "output_type": "stream",
     "text": [
      "10710.621275692307\n"
     ]
    }
   ],
   "source": [
    "from sklearn.metrics import mean_squared_error\n",
    "print(mean_squared_error(y_te, pred_y))"
   ]
  },
  {
   "cell_type": "markdown",
   "id": "3e2046ce-96bc-4c56-9337-2f06edf0df52",
   "metadata": {},
   "source": [
    "## Chapter 18. 딥러닝과 선형대수"
   ]
  },
  {
   "cell_type": "markdown",
   "id": "a2bc1216-eb84-4ae6-9700-d2517812261f",
   "metadata": {},
   "source": [
    "### 18.1 데이터 불러오기"
   ]
  },
  {
   "cell_type": "code",
   "execution_count": 160,
   "id": "86c4f267-21cd-417b-b353-de54beeae8c9",
   "metadata": {},
   "outputs": [],
   "source": [
    "import pandas as pd\n",
    "\n",
    "df = pd.read_csv(\"./data/mnist.csv\")"
   ]
  },
  {
   "cell_type": "code",
   "execution_count": 161,
   "id": "03e2a03f-85db-4df5-b499-dec495b6a5bd",
   "metadata": {},
   "outputs": [
    {
     "data": {
      "text/html": [
       "<div>\n",
       "<style scoped>\n",
       "    .dataframe tbody tr th:only-of-type {\n",
       "        vertical-align: middle;\n",
       "    }\n",
       "\n",
       "    .dataframe tbody tr th {\n",
       "        vertical-align: top;\n",
       "    }\n",
       "\n",
       "    .dataframe thead th {\n",
       "        text-align: right;\n",
       "    }\n",
       "</style>\n",
       "<table border=\"1\" class=\"dataframe\">\n",
       "  <thead>\n",
       "    <tr style=\"text-align: right;\">\n",
       "      <th></th>\n",
       "      <th>label</th>\n",
       "      <th>1x1</th>\n",
       "      <th>1x2</th>\n",
       "      <th>1x3</th>\n",
       "      <th>1x4</th>\n",
       "      <th>1x5</th>\n",
       "      <th>1x6</th>\n",
       "      <th>1x7</th>\n",
       "      <th>1x8</th>\n",
       "      <th>1x9</th>\n",
       "      <th>...</th>\n",
       "      <th>28x19</th>\n",
       "      <th>28x20</th>\n",
       "      <th>28x21</th>\n",
       "      <th>28x22</th>\n",
       "      <th>28x23</th>\n",
       "      <th>28x24</th>\n",
       "      <th>28x25</th>\n",
       "      <th>28x26</th>\n",
       "      <th>28x27</th>\n",
       "      <th>28x28</th>\n",
       "    </tr>\n",
       "  </thead>\n",
       "  <tbody>\n",
       "    <tr>\n",
       "      <th>0</th>\n",
       "      <td>7</td>\n",
       "      <td>0</td>\n",
       "      <td>0</td>\n",
       "      <td>0</td>\n",
       "      <td>0</td>\n",
       "      <td>0</td>\n",
       "      <td>0</td>\n",
       "      <td>0</td>\n",
       "      <td>0</td>\n",
       "      <td>0</td>\n",
       "      <td>...</td>\n",
       "      <td>0</td>\n",
       "      <td>0</td>\n",
       "      <td>0</td>\n",
       "      <td>0</td>\n",
       "      <td>0</td>\n",
       "      <td>0</td>\n",
       "      <td>0</td>\n",
       "      <td>0</td>\n",
       "      <td>0</td>\n",
       "      <td>0</td>\n",
       "    </tr>\n",
       "    <tr>\n",
       "      <th>1</th>\n",
       "      <td>2</td>\n",
       "      <td>0</td>\n",
       "      <td>0</td>\n",
       "      <td>0</td>\n",
       "      <td>0</td>\n",
       "      <td>0</td>\n",
       "      <td>0</td>\n",
       "      <td>0</td>\n",
       "      <td>0</td>\n",
       "      <td>0</td>\n",
       "      <td>...</td>\n",
       "      <td>0</td>\n",
       "      <td>0</td>\n",
       "      <td>0</td>\n",
       "      <td>0</td>\n",
       "      <td>0</td>\n",
       "      <td>0</td>\n",
       "      <td>0</td>\n",
       "      <td>0</td>\n",
       "      <td>0</td>\n",
       "      <td>0</td>\n",
       "    </tr>\n",
       "    <tr>\n",
       "      <th>2</th>\n",
       "      <td>1</td>\n",
       "      <td>0</td>\n",
       "      <td>0</td>\n",
       "      <td>0</td>\n",
       "      <td>0</td>\n",
       "      <td>0</td>\n",
       "      <td>0</td>\n",
       "      <td>0</td>\n",
       "      <td>0</td>\n",
       "      <td>0</td>\n",
       "      <td>...</td>\n",
       "      <td>0</td>\n",
       "      <td>0</td>\n",
       "      <td>0</td>\n",
       "      <td>0</td>\n",
       "      <td>0</td>\n",
       "      <td>0</td>\n",
       "      <td>0</td>\n",
       "      <td>0</td>\n",
       "      <td>0</td>\n",
       "      <td>0</td>\n",
       "    </tr>\n",
       "    <tr>\n",
       "      <th>3</th>\n",
       "      <td>0</td>\n",
       "      <td>0</td>\n",
       "      <td>0</td>\n",
       "      <td>0</td>\n",
       "      <td>0</td>\n",
       "      <td>0</td>\n",
       "      <td>0</td>\n",
       "      <td>0</td>\n",
       "      <td>0</td>\n",
       "      <td>0</td>\n",
       "      <td>...</td>\n",
       "      <td>0</td>\n",
       "      <td>0</td>\n",
       "      <td>0</td>\n",
       "      <td>0</td>\n",
       "      <td>0</td>\n",
       "      <td>0</td>\n",
       "      <td>0</td>\n",
       "      <td>0</td>\n",
       "      <td>0</td>\n",
       "      <td>0</td>\n",
       "    </tr>\n",
       "    <tr>\n",
       "      <th>4</th>\n",
       "      <td>4</td>\n",
       "      <td>0</td>\n",
       "      <td>0</td>\n",
       "      <td>0</td>\n",
       "      <td>0</td>\n",
       "      <td>0</td>\n",
       "      <td>0</td>\n",
       "      <td>0</td>\n",
       "      <td>0</td>\n",
       "      <td>0</td>\n",
       "      <td>...</td>\n",
       "      <td>0</td>\n",
       "      <td>0</td>\n",
       "      <td>0</td>\n",
       "      <td>0</td>\n",
       "      <td>0</td>\n",
       "      <td>0</td>\n",
       "      <td>0</td>\n",
       "      <td>0</td>\n",
       "      <td>0</td>\n",
       "      <td>0</td>\n",
       "    </tr>\n",
       "  </tbody>\n",
       "</table>\n",
       "<p>5 rows × 785 columns</p>\n",
       "</div>"
      ],
      "text/plain": [
       "   label  1x1  1x2  1x3  1x4  1x5  1x6  1x7  1x8  1x9  ...  28x19  28x20  \\\n",
       "0      7    0    0    0    0    0    0    0    0    0  ...      0      0   \n",
       "1      2    0    0    0    0    0    0    0    0    0  ...      0      0   \n",
       "2      1    0    0    0    0    0    0    0    0    0  ...      0      0   \n",
       "3      0    0    0    0    0    0    0    0    0    0  ...      0      0   \n",
       "4      4    0    0    0    0    0    0    0    0    0  ...      0      0   \n",
       "\n",
       "   28x21  28x22  28x23  28x24  28x25  28x26  28x27  28x28  \n",
       "0      0      0      0      0      0      0      0      0  \n",
       "1      0      0      0      0      0      0      0      0  \n",
       "2      0      0      0      0      0      0      0      0  \n",
       "3      0      0      0      0      0      0      0      0  \n",
       "4      0      0      0      0      0      0      0      0  \n",
       "\n",
       "[5 rows x 785 columns]"
      ]
     },
     "execution_count": 161,
     "metadata": {},
     "output_type": "execute_result"
    }
   ],
   "source": [
    "df.head()"
   ]
  },
  {
   "cell_type": "code",
   "execution_count": 162,
   "id": "d579ea4c-3215-4ac5-9dc7-b5cf522370e4",
   "metadata": {},
   "outputs": [
    {
     "data": {
      "text/plain": [
       "(10000, 785)"
      ]
     },
     "execution_count": 162,
     "metadata": {},
     "output_type": "execute_result"
    }
   ],
   "source": [
    "df.shape"
   ]
  },
  {
   "cell_type": "markdown",
   "id": "44135367-b855-43cd-a9ec-a9d8f246b013",
   "metadata": {},
   "source": [
    "### 18.2 피처/타깃 데이터 분할"
   ]
  },
  {
   "cell_type": "code",
   "execution_count": 163,
   "id": "bb661a3a-d0d8-43bd-9326-b8c481902b3f",
   "metadata": {},
   "outputs": [],
   "source": [
    "X = df.iloc[:, 1:].copy()\n",
    "y = df.iloc[:, 0].copy()"
   ]
  },
  {
   "cell_type": "code",
   "execution_count": 164,
   "id": "4e83c0e0-7f6e-4377-9028-ed497220332b",
   "metadata": {},
   "outputs": [
    {
     "data": {
      "text/html": [
       "<div>\n",
       "<style scoped>\n",
       "    .dataframe tbody tr th:only-of-type {\n",
       "        vertical-align: middle;\n",
       "    }\n",
       "\n",
       "    .dataframe tbody tr th {\n",
       "        vertical-align: top;\n",
       "    }\n",
       "\n",
       "    .dataframe thead th {\n",
       "        text-align: right;\n",
       "    }\n",
       "</style>\n",
       "<table border=\"1\" class=\"dataframe\">\n",
       "  <thead>\n",
       "    <tr style=\"text-align: right;\">\n",
       "      <th></th>\n",
       "      <th>1x1</th>\n",
       "      <th>1x2</th>\n",
       "      <th>1x3</th>\n",
       "      <th>1x4</th>\n",
       "      <th>1x5</th>\n",
       "      <th>1x6</th>\n",
       "      <th>1x7</th>\n",
       "      <th>1x8</th>\n",
       "      <th>1x9</th>\n",
       "      <th>1x10</th>\n",
       "      <th>...</th>\n",
       "      <th>28x19</th>\n",
       "      <th>28x20</th>\n",
       "      <th>28x21</th>\n",
       "      <th>28x22</th>\n",
       "      <th>28x23</th>\n",
       "      <th>28x24</th>\n",
       "      <th>28x25</th>\n",
       "      <th>28x26</th>\n",
       "      <th>28x27</th>\n",
       "      <th>28x28</th>\n",
       "    </tr>\n",
       "  </thead>\n",
       "  <tbody>\n",
       "    <tr>\n",
       "      <th>0</th>\n",
       "      <td>0</td>\n",
       "      <td>0</td>\n",
       "      <td>0</td>\n",
       "      <td>0</td>\n",
       "      <td>0</td>\n",
       "      <td>0</td>\n",
       "      <td>0</td>\n",
       "      <td>0</td>\n",
       "      <td>0</td>\n",
       "      <td>0</td>\n",
       "      <td>...</td>\n",
       "      <td>0</td>\n",
       "      <td>0</td>\n",
       "      <td>0</td>\n",
       "      <td>0</td>\n",
       "      <td>0</td>\n",
       "      <td>0</td>\n",
       "      <td>0</td>\n",
       "      <td>0</td>\n",
       "      <td>0</td>\n",
       "      <td>0</td>\n",
       "    </tr>\n",
       "    <tr>\n",
       "      <th>1</th>\n",
       "      <td>0</td>\n",
       "      <td>0</td>\n",
       "      <td>0</td>\n",
       "      <td>0</td>\n",
       "      <td>0</td>\n",
       "      <td>0</td>\n",
       "      <td>0</td>\n",
       "      <td>0</td>\n",
       "      <td>0</td>\n",
       "      <td>0</td>\n",
       "      <td>...</td>\n",
       "      <td>0</td>\n",
       "      <td>0</td>\n",
       "      <td>0</td>\n",
       "      <td>0</td>\n",
       "      <td>0</td>\n",
       "      <td>0</td>\n",
       "      <td>0</td>\n",
       "      <td>0</td>\n",
       "      <td>0</td>\n",
       "      <td>0</td>\n",
       "    </tr>\n",
       "    <tr>\n",
       "      <th>2</th>\n",
       "      <td>0</td>\n",
       "      <td>0</td>\n",
       "      <td>0</td>\n",
       "      <td>0</td>\n",
       "      <td>0</td>\n",
       "      <td>0</td>\n",
       "      <td>0</td>\n",
       "      <td>0</td>\n",
       "      <td>0</td>\n",
       "      <td>0</td>\n",
       "      <td>...</td>\n",
       "      <td>0</td>\n",
       "      <td>0</td>\n",
       "      <td>0</td>\n",
       "      <td>0</td>\n",
       "      <td>0</td>\n",
       "      <td>0</td>\n",
       "      <td>0</td>\n",
       "      <td>0</td>\n",
       "      <td>0</td>\n",
       "      <td>0</td>\n",
       "    </tr>\n",
       "    <tr>\n",
       "      <th>3</th>\n",
       "      <td>0</td>\n",
       "      <td>0</td>\n",
       "      <td>0</td>\n",
       "      <td>0</td>\n",
       "      <td>0</td>\n",
       "      <td>0</td>\n",
       "      <td>0</td>\n",
       "      <td>0</td>\n",
       "      <td>0</td>\n",
       "      <td>0</td>\n",
       "      <td>...</td>\n",
       "      <td>0</td>\n",
       "      <td>0</td>\n",
       "      <td>0</td>\n",
       "      <td>0</td>\n",
       "      <td>0</td>\n",
       "      <td>0</td>\n",
       "      <td>0</td>\n",
       "      <td>0</td>\n",
       "      <td>0</td>\n",
       "      <td>0</td>\n",
       "    </tr>\n",
       "    <tr>\n",
       "      <th>4</th>\n",
       "      <td>0</td>\n",
       "      <td>0</td>\n",
       "      <td>0</td>\n",
       "      <td>0</td>\n",
       "      <td>0</td>\n",
       "      <td>0</td>\n",
       "      <td>0</td>\n",
       "      <td>0</td>\n",
       "      <td>0</td>\n",
       "      <td>0</td>\n",
       "      <td>...</td>\n",
       "      <td>0</td>\n",
       "      <td>0</td>\n",
       "      <td>0</td>\n",
       "      <td>0</td>\n",
       "      <td>0</td>\n",
       "      <td>0</td>\n",
       "      <td>0</td>\n",
       "      <td>0</td>\n",
       "      <td>0</td>\n",
       "      <td>0</td>\n",
       "    </tr>\n",
       "  </tbody>\n",
       "</table>\n",
       "<p>5 rows × 784 columns</p>\n",
       "</div>"
      ],
      "text/plain": [
       "   1x1  1x2  1x3  1x4  1x5  1x6  1x7  1x8  1x9  1x10  ...  28x19  28x20  \\\n",
       "0    0    0    0    0    0    0    0    0    0     0  ...      0      0   \n",
       "1    0    0    0    0    0    0    0    0    0     0  ...      0      0   \n",
       "2    0    0    0    0    0    0    0    0    0     0  ...      0      0   \n",
       "3    0    0    0    0    0    0    0    0    0     0  ...      0      0   \n",
       "4    0    0    0    0    0    0    0    0    0     0  ...      0      0   \n",
       "\n",
       "   28x21  28x22  28x23  28x24  28x25  28x26  28x27  28x28  \n",
       "0      0      0      0      0      0      0      0      0  \n",
       "1      0      0      0      0      0      0      0      0  \n",
       "2      0      0      0      0      0      0      0      0  \n",
       "3      0      0      0      0      0      0      0      0  \n",
       "4      0      0      0      0      0      0      0      0  \n",
       "\n",
       "[5 rows x 784 columns]"
      ]
     },
     "execution_count": 164,
     "metadata": {},
     "output_type": "execute_result"
    }
   ],
   "source": [
    "X.head()"
   ]
  },
  {
   "cell_type": "code",
   "execution_count": 165,
   "id": "7a41f19c-b7a7-4740-ba0e-818e583ab7aa",
   "metadata": {},
   "outputs": [
    {
     "data": {
      "text/plain": [
       "0       7\n",
       "1       2\n",
       "2       1\n",
       "3       0\n",
       "4       4\n",
       "       ..\n",
       "9995    2\n",
       "9996    3\n",
       "9997    4\n",
       "9998    5\n",
       "9999    6\n",
       "Name: label, Length: 10000, dtype: int64"
      ]
     },
     "execution_count": 165,
     "metadata": {},
     "output_type": "execute_result"
    }
   ],
   "source": [
    "y"
   ]
  },
  {
   "cell_type": "markdown",
   "id": "0404b4c0-d5aa-4699-a1cd-ce8cd99030f5",
   "metadata": {},
   "source": [
    "### 18.3 데이터 전처리"
   ]
  },
  {
   "cell_type": "code",
   "execution_count": 166,
   "id": "9f0b3978-1921-456c-94d5-1257e525626f",
   "metadata": {},
   "outputs": [],
   "source": [
    "X = X.to_numpy()\n",
    "X = X.astype('float32') / 255"
   ]
  },
  {
   "cell_type": "code",
   "execution_count": 167,
   "id": "62ab4801-e002-4afc-bdb8-a22bdb20d9d7",
   "metadata": {},
   "outputs": [],
   "source": [
    "import numpy as np\n",
    "\n",
    "X = np.reshape(X, (X.shape[0], 28, 28, 1))"
   ]
  },
  {
   "cell_type": "code",
   "execution_count": 168,
   "id": "3d9fe020-8747-4aae-9607-66aa9c69f045",
   "metadata": {},
   "outputs": [
    {
     "data": {
      "text/plain": [
       "(10000, 28, 28, 1)"
      ]
     },
     "execution_count": 168,
     "metadata": {},
     "output_type": "execute_result"
    }
   ],
   "source": [
    "X.shape"
   ]
  },
  {
   "cell_type": "markdown",
   "id": "ec9052b2-3cb9-47e5-943d-ddbd6c7f1194",
   "metadata": {},
   "source": [
    "### 18.4 이미지 데이터 확인"
   ]
  },
  {
   "cell_type": "code",
   "execution_count": 169,
   "id": "26236f6c-69ee-449e-aad2-e23c2f97ba6b",
   "metadata": {},
   "outputs": [
    {
     "data": {
      "image/png": "[encoded data removed]",
      "text/plain": [
       "<Figure size 720x360 with 10 Axes>"
      ]
     },
     "metadata": {
      "needs_background": "light"
     },
     "output_type": "display_data"
    }
   ],
   "source": [
    "import matplotlib.pyplot as plt\n",
    "\n",
    "plt.figure(figsize = (10, 5))\n",
    "\n",
    "for i in range(2*5):\n",
    "    plt.subplot(2, 5, i + 1)\n",
    "    plt.imshow(X[i].reshape((28, 28)), cmap = 'Greys')\n",
    "    \n",
    "plt.show()"
   ]
  },
  {
   "cell_type": "markdown",
   "id": "eb74e306-bb7b-42eb-859b-49d4b5cf7ae8",
   "metadata": {},
   "source": [
    "### 18.5 원-핫 인코딩\n",
    "\n",
    "* 타깃 데이터 대상 "
   ]
  },
  {
   "cell_type": "code",
   "execution_count": 170,
   "id": "8df31dc3-1362-4194-b477-e7159e5ec7ee",
   "metadata": {},
   "outputs": [],
   "source": [
    "from tensorflow.keras.utils import to_categorical\n",
    "y = to_categorical(y)"
   ]
  },
  {
   "cell_type": "code",
   "execution_count": 171,
   "id": "19712525-6dfe-42cd-ad9c-5acbebd785b5",
   "metadata": {},
   "outputs": [
    {
     "data": {
      "text/plain": [
       "array([[0., 0., 0., ..., 1., 0., 0.],\n",
       "       [0., 0., 1., ..., 0., 0., 0.],\n",
       "       [0., 1., 0., ..., 0., 0., 0.],\n",
       "       ...,\n",
       "       [0., 0., 0., ..., 0., 0., 0.],\n",
       "       [0., 0., 0., ..., 0., 0., 0.],\n",
       "       [0., 0., 0., ..., 0., 0., 0.]], dtype=float32)"
      ]
     },
     "execution_count": 171,
     "metadata": {},
     "output_type": "execute_result"
    }
   ],
   "source": [
    "y"
   ]
  },
  {
   "cell_type": "markdown",
   "id": "e3de37a5-82a9-4abe-96f3-048cb484de28",
   "metadata": {},
   "source": [
    "### 18.6 딥러닝 적용하기 "
   ]
  },
  {
   "cell_type": "markdown",
   "id": "39875d72-eb6f-4d24-adff-2ea4ad8f6ad8",
   "metadata": {},
   "source": [
    "#### 18.6.1 트레이닝/테스트 데이터 분할하기"
   ]
  },
  {
   "cell_type": "code",
   "execution_count": 172,
   "id": "a833b361-b299-4ba4-aa4c-a4892361b0a6",
   "metadata": {},
   "outputs": [],
   "source": [
    "from sklearn.model_selection import train_test_split\n",
    "X_tn, X_te, y_tn, y_te = train_test_split(X, y, random_state=0)"
   ]
  },
  {
   "cell_type": "code",
   "execution_count": 173,
   "id": "5323128a-c3fc-4d11-9fa6-9b3448152219",
   "metadata": {},
   "outputs": [
    {
     "data": {
      "text/plain": [
       "(7500, 28, 28, 1)"
      ]
     },
     "execution_count": 173,
     "metadata": {},
     "output_type": "execute_result"
    }
   ],
   "source": [
    "X_tn.shape"
   ]
  },
  {
   "cell_type": "code",
   "execution_count": 174,
   "id": "d073967f-4c44-4081-b46d-0f0ebb206c2a",
   "metadata": {},
   "outputs": [
    {
     "data": {
      "text/plain": [
       "(7500, 10)"
      ]
     },
     "execution_count": 174,
     "metadata": {},
     "output_type": "execute_result"
    }
   ],
   "source": [
    "y_tn.shape"
   ]
  },
  {
   "cell_type": "markdown",
   "id": "e0e3226d-808c-410a-97bd-c4c7e39749d4",
   "metadata": {},
   "source": [
    "#### 18.6.2 합성곱 신경망 생성"
   ]
  },
  {
   "cell_type": "code",
   "execution_count": 175,
   "id": "e7b7e311-9f87-4491-a186-94b2656c2b78",
   "metadata": {},
   "outputs": [
    {
     "name": "stdout",
     "output_type": "stream",
     "text": [
      "Model: \"sequential\"\n",
      "_________________________________________________________________\n",
      " Layer (type)                Output Shape              Param #   \n",
      "=================================================================\n",
      " conv2d (Conv2D)             (None, 24, 24, 32)        832       \n",
      "                                                                 \n",
      " max_pooling2d (MaxPooling2D  (None, 12, 12, 32)       0         \n",
      " )                                                               \n",
      "                                                                 \n",
      " dropout (Dropout)           (None, 12, 12, 32)        0         \n",
      "                                                                 \n",
      " conv2d_1 (Conv2D)           (None, 10, 10, 32)        9248      \n",
      "                                                                 \n",
      " max_pooling2d_1 (MaxPooling  (None, 5, 5, 32)         0         \n",
      " 2D)                                                             \n",
      "                                                                 \n",
      " dropout_1 (Dropout)         (None, 5, 5, 32)          0         \n",
      "                                                                 \n",
      " flatten (Flatten)           (None, 800)               0         \n",
      "                                                                 \n",
      " dense (Dense)               (None, 1024)              820224    \n",
      "                                                                 \n",
      " dropout_2 (Dropout)         (None, 1024)              0         \n",
      "                                                                 \n",
      " dense_1 (Dense)             (None, 10)                10250     \n",
      "                                                                 \n",
      "=================================================================\n",
      "Total params: 840,554\n",
      "Trainable params: 840,554\n",
      "Non-trainable params: 0\n",
      "_________________________________________________________________\n"
     ]
    }
   ],
   "source": [
    "from tensorflow.keras.models import Sequential\n",
    "from tensorflow.keras.layers import Dense, Conv2D\n",
    "from tensorflow.keras.layers import MaxPool2D, Flatten\n",
    "from tensorflow.keras.layers import Dropout\n",
    "\n",
    "n_class = len(y_tn[0])\n",
    "\n",
    "model = Sequential()\n",
    "\n",
    "model.add(Conv2D(32, kernel_size = (5, 5),\n",
    "                 input_shape = (28, 28, 1),\n",
    "                 padding = 'valid',\n",
    "                 activation = 'relu'))\n",
    "model.add(MaxPool2D(pool_size = (2, 2)))\n",
    "model.add(Dropout(0.25))\n",
    "model.add(Conv2D(32, kernel_size = (3, 3),\n",
    "                 padding = 'valid',\n",
    "                 activation = 'relu'))\n",
    "model.add(MaxPool2D(pool_size = (2, 2)))\n",
    "model.add(Dropout(0.25))\n",
    "model.add(Flatten())\n",
    "model.add(Dense(1024, activation = 'relu'))\n",
    "model.add(Dropout(0.5))\n",
    "model.add(Dense(n_class, activation = 'softmax'))\n",
    "model.summary()          "
   ]
  },
  {
   "cell_type": "code",
   "execution_count": 176,
   "id": "328541fb-42a4-4a10-806b-19bcdfc4adb4",
   "metadata": {},
   "outputs": [],
   "source": [
    "model.compile(loss = 'categorical_crossentropy',\n",
    "              optimizer = 'adam',\n",
    "              metrics = ['accuracy'])"
   ]
  },
  {
   "cell_type": "code",
   "execution_count": 177,
   "id": "855679b8-ad9a-41dc-8a20-ed0543545664",
   "metadata": {},
   "outputs": [
    {
     "name": "stdout",
     "output_type": "stream",
     "text": [
      "Epoch 1/10\n",
      "75/75 [==============================] - 2s 21ms/step - loss: 0.7638 - accuracy: 0.7493\n",
      "Epoch 2/10\n",
      "75/75 [==============================] - 2s 20ms/step - loss: 0.2275 - accuracy: 0.9255\n",
      "Epoch 3/10\n",
      "75/75 [==============================] - 1s 20ms/step - loss: 0.1491 - accuracy: 0.9515\n",
      "Epoch 4/10\n",
      "75/75 [==============================] - 2s 21ms/step - loss: 0.1078 - accuracy: 0.9637\n",
      "Epoch 5/10\n",
      "75/75 [==============================] - 2s 20ms/step - loss: 0.0905 - accuracy: 0.9703\n",
      "Epoch 6/10\n",
      "75/75 [==============================] - 2s 21ms/step - loss: 0.0809 - accuracy: 0.9737\n",
      "Epoch 7/10\n",
      "75/75 [==============================] - 2s 20ms/step - loss: 0.0658 - accuracy: 0.9787\n",
      "Epoch 8/10\n",
      "75/75 [==============================] - 2s 21ms/step - loss: 0.0528 - accuracy: 0.9812\n",
      "Epoch 9/10\n",
      "75/75 [==============================] - 2s 20ms/step - loss: 0.0535 - accuracy: 0.9812\n",
      "Epoch 10/10\n",
      "75/75 [==============================] - 2s 21ms/step - loss: 0.0464 - accuracy: 0.9835\n"
     ]
    }
   ],
   "source": [
    "hist = model.fit(X_tn, y_tn, epochs = 10, batch_size = 100)"
   ]
  },
  {
   "cell_type": "markdown",
   "id": "87f7bc3f-cef9-44da-8e96-851a010c87ad",
   "metadata": {},
   "source": [
    "#### 18.6.3 트레이닝 데이터 평가"
   ]
  },
  {
   "cell_type": "code",
   "execution_count": 178,
   "id": "238d70a9-e1f8-4d50-a5c7-5acefc14cc6b",
   "metadata": {},
   "outputs": [
    {
     "name": "stdout",
     "output_type": "stream",
     "text": [
      "235/235 [==============================] - 1s 4ms/step - loss: 0.0183 - accuracy: 0.9937\n",
      "0.9937333464622498\n"
     ]
    }
   ],
   "source": [
    "print(model.evaluate(X_tn, y_tn)[1])"
   ]
  },
  {
   "cell_type": "markdown",
   "id": "0236ae4d-e47a-4ce5-82f6-dcfe19efb843",
   "metadata": {},
   "source": [
    "#### 18.6.4 테스트 데이터 평가"
   ]
  },
  {
   "cell_type": "code",
   "execution_count": 179,
   "id": "ab489756-80aa-4637-b92b-a1ff763a8086",
   "metadata": {},
   "outputs": [
    {
     "name": "stdout",
     "output_type": "stream",
     "text": [
      "79/79 [==============================] - 0s 4ms/step - loss: 0.0533 - accuracy: 0.9812\n",
      "0.9811999797821045\n"
     ]
    }
   ],
   "source": [
    "print(model.evaluate(X_te, y_te)[1])"
   ]
  }
 ],
 "metadata": {
  "kernelspec": {
   "display_name": "Python 3 (ipykernel)",
   "language": "python",
   "name": "python3"
  },
  "language_info": {
   "codemirror_mode": {
    "name": "ipython",
    "version": 3
   },
   "file_extension": ".py",
   "mimetype": "text/x-python",
   "name": "python",
   "nbconvert_exporter": "python",
   "pygments_lexer": "ipython3",
   "version": "3.9.12"
  }
 },
 "nbformat": 4,
 "nbformat_minor": 5
}
