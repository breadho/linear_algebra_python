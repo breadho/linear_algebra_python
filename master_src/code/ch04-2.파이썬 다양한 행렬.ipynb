{
 "cells": [
  {
   "cell_type": "markdown",
   "metadata": {},
   "source": [
    "# 전치 행렬"
   ]
  },
  {
   "cell_type": "code",
   "execution_count": 1,
   "metadata": {},
   "outputs": [],
   "source": [
    "A = [[1, 5],[3, 4],[6, 2]]"
   ]
  },
  {
   "cell_type": "code",
   "execution_count": 2,
   "metadata": {},
   "outputs": [],
   "source": [
    "n = len(A)\n",
    "p = len(A[0])\n",
    "\n",
    "At  = []\n",
    "for i in range(0, p):\n",
    "    row = []\n",
    "    for j in range(0, n):\n",
    "        val = A[j][i]\n",
    "        row.append(val)\n",
    "    At.append(row)"
   ]
  },
  {
   "cell_type": "code",
   "execution_count": 3,
   "metadata": {},
   "outputs": [
    {
     "name": "stdout",
     "output_type": "stream",
     "text": [
      "[[1, 3, 6], [5, 4, 2]]\n"
     ]
    }
   ],
   "source": [
    "print(At)"
   ]
  },
  {
   "cell_type": "code",
   "execution_count": 4,
   "metadata": {},
   "outputs": [],
   "source": [
    "def transpose(A):\n",
    "    \"\"\"\n",
    "    행렬의 전치행렬\n",
    "    입력값: 전치행렬을 구하고자 하는 행렬 A\n",
    "    출력값: 행렬 A의 전치행렬 At\n",
    "    \"\"\"\n",
    "    n = len(A)\n",
    "    p = len(A[0])\n",
    "\n",
    "    At  = []\n",
    "    for i in range(0, p):\n",
    "        row = []\n",
    "        for j in range(0, n):\n",
    "            val = A[j][i]\n",
    "            row.append(val)\n",
    "        At.append(row)\n",
    "    return At"
   ]
  },
  {
   "cell_type": "code",
   "execution_count": 5,
   "metadata": {},
   "outputs": [
    {
     "data": {
      "text/plain": [
       "[[1, 3, 6], [5, 4, 2]]"
      ]
     },
     "execution_count": 5,
     "metadata": {},
     "output_type": "execute_result"
    }
   ],
   "source": [
    "A = [[1, 5],[3, 4],[6, 2]]\n",
    "transpose(A)"
   ]
  },
  {
   "cell_type": "code",
   "execution_count": null,
   "metadata": {},
   "outputs": [],
   "source": []
  },
  {
   "cell_type": "markdown",
   "metadata": {},
   "source": [
    "# 대칭 행렬"
   ]
  },
  {
   "cell_type": "code",
   "execution_count": 6,
   "metadata": {},
   "outputs": [],
   "source": [
    "def transpose(A):\n",
    "    \"\"\"\n",
    "    행렬의 전치행렬\n",
    "    입력값: 전치행렬을 구하고자 하는 행렬 A\n",
    "    출력값: 행렬 A의 전치행렬 At\n",
    "    \"\"\"\n",
    "    n = len(A)\n",
    "    p = len(A[0])\n",
    "\n",
    "    At  = []\n",
    "    for i in range(0, p):\n",
    "        row = []\n",
    "        for j in range(0, n):\n",
    "            val = A[j][i]\n",
    "            row.append(val)\n",
    "        At.append(row)\n",
    "    return At\n",
    "\n",
    "def matmul(A, B):    \n",
    "    \"\"\"\n",
    "    행렬의 행렬곱\n",
    "    입력값: 행렬곱을 수행할 행렬 A, B\n",
    "    출력값: 행렬 A와 행렬 B의 행렬곱 결과인 행렬 res\n",
    "    \"\"\"\n",
    "    n = len(A)\n",
    "    p1 = len(A[0])\n",
    "    p2 = len(B[0])\n",
    "\n",
    "    res = []\n",
    "    for i in range(0, n):\n",
    "        row = []\n",
    "        for j in range(0, p2):\n",
    "            val = 0\n",
    "            for k in range(0, p1):\n",
    "                val += A[i][k] * B[k][j] \n",
    "            row.append(val)    \n",
    "        res.append(row)\n",
    "    return res"
   ]
  },
  {
   "cell_type": "code",
   "execution_count": 7,
   "metadata": {},
   "outputs": [],
   "source": [
    "A = [[1,0,2],[0,2,1],[2,1,1]]"
   ]
  },
  {
   "cell_type": "code",
   "execution_count": 8,
   "metadata": {},
   "outputs": [
    {
     "name": "stdout",
     "output_type": "stream",
     "text": [
      "[[1, 0, 2], [0, 2, 1], [2, 1, 1]]\n"
     ]
    }
   ],
   "source": [
    "At = transpose(A)\n",
    "print(At)"
   ]
  },
  {
   "cell_type": "code",
   "execution_count": 9,
   "metadata": {},
   "outputs": [
    {
     "data": {
      "text/plain": [
       "True"
      ]
     },
     "execution_count": 9,
     "metadata": {},
     "output_type": "execute_result"
    }
   ],
   "source": [
    "A == At"
   ]
  },
  {
   "cell_type": "code",
   "execution_count": 10,
   "metadata": {},
   "outputs": [
    {
     "name": "stdout",
     "output_type": "stream",
     "text": [
      "행렬 A의  2 제곱은  [[5, 2, 4], [2, 5, 3], [4, 3, 6]]\n",
      "행렬 A의  3 제곱은  [[13, 8, 16], [8, 13, 12], [16, 12, 17]]\n",
      "행렬 A의  4 제곱은  [[45, 32, 50], [32, 38, 41], [50, 41, 61]]\n",
      "행렬 A의  5 제곱은  [[145, 114, 172], [114, 117, 143], [172, 143, 202]]\n",
      "행렬 A의  6 제곱은  [[489, 400, 576], [400, 377, 488], [576, 488, 689]]\n",
      "행렬 A의  7 제곱은  [[1641, 1376, 1954], [1376, 1242, 1665], [1954, 1665, 2329]]\n",
      "행렬 A의  8 제곱은  [[5549, 4706, 6612], [4706, 4149, 5659], [6612, 5659, 7902]]\n",
      "행렬 A의  9 제곱은  [[18773, 16024, 22416], [16024, 13957, 19220], [22416, 19220, 26785]]\n",
      "행렬 A의  10 제곱은  [[63605, 54464, 75986], [54464, 47134, 65225], [75986, 65225, 90837]]\n"
     ]
    }
   ],
   "source": [
    "AA = A\n",
    "for i in range(0, 9):\n",
    "    AA = matmul(AA, A)\n",
    "    print(\"행렬 A의 \", i+2, \"제곱은 \", AA)"
   ]
  },
  {
   "cell_type": "code",
   "execution_count": 11,
   "metadata": {},
   "outputs": [
    {
     "name": "stdout",
     "output_type": "stream",
     "text": [
      "[[1, 0, 3], [2, 1, 4], [0, 1, 1]]\n",
      "[[1, 2, 0], [0, 1, 1], [3, 4, 1]]\n"
     ]
    }
   ],
   "source": [
    "A = [[1,0,3], [2,1,4], [0, 1, 1]]\n",
    "At = transpose(A)\n",
    "print(A)\n",
    "print(At)"
   ]
  },
  {
   "cell_type": "code",
   "execution_count": 12,
   "metadata": {},
   "outputs": [
    {
     "data": {
      "text/plain": [
       "[[10, 14, 3], [14, 21, 5], [3, 5, 2]]"
      ]
     },
     "execution_count": 12,
     "metadata": {},
     "output_type": "execute_result"
    }
   ],
   "source": [
    "matmul(A, At)"
   ]
  },
  {
   "cell_type": "code",
   "execution_count": 13,
   "metadata": {},
   "outputs": [
    {
     "data": {
      "text/plain": [
       "[[5, 2, 11], [2, 2, 5], [11, 5, 26]]"
      ]
     },
     "execution_count": 13,
     "metadata": {},
     "output_type": "execute_result"
    }
   ],
   "source": [
    "matmul(At, A)"
   ]
  },
  {
   "cell_type": "markdown",
   "metadata": {},
   "source": [
    "# 대각 행렬"
   ]
  },
  {
   "cell_type": "markdown",
   "metadata": {},
   "source": [
    "## (1) 대각 행렬 구하기"
   ]
  },
  {
   "cell_type": "code",
   "execution_count": 14,
   "metadata": {},
   "outputs": [],
   "source": [
    "A = [[1, 2, 3], [4, 5, 6], [7, 8, 9]]"
   ]
  },
  {
   "cell_type": "code",
   "execution_count": 15,
   "metadata": {},
   "outputs": [],
   "source": [
    "n = len(A)\n",
    "D = []\n",
    "for i in range(0, n):\n",
    "    row = []\n",
    "    for j in range(0, n):\n",
    "        if i==j:\n",
    "            row.append(A[i][j])\n",
    "        else:\n",
    "            row.append(0)\n",
    "    D.append(row)"
   ]
  },
  {
   "cell_type": "code",
   "execution_count": 16,
   "metadata": {},
   "outputs": [
    {
     "name": "stdout",
     "output_type": "stream",
     "text": [
      "[[1, 0, 0], [0, 5, 0], [0, 0, 9]]\n"
     ]
    }
   ],
   "source": [
    "print(D)"
   ]
  },
  {
   "cell_type": "code",
   "execution_count": 17,
   "metadata": {},
   "outputs": [],
   "source": [
    "def diag(A):\n",
    "    \"\"\"\n",
    "    행렬의 대각행렬\n",
    "    입력값: 대각행렬을 구하고자 하는 행렬 A\n",
    "    출력값: 행렬 A의 대각행렬 D\n",
    "    \"\"\"\n",
    "    n = len(A)\n",
    "    D = []\n",
    "    for i in range(0, n):\n",
    "        row = []\n",
    "        for j in range(0, n):\n",
    "            if i==j:\n",
    "                row.append(A[i][j])\n",
    "            else:\n",
    "                row.append(0)\n",
    "        D.append(row)\n",
    "    return D"
   ]
  },
  {
   "cell_type": "code",
   "execution_count": 18,
   "metadata": {},
   "outputs": [
    {
     "data": {
      "text/plain": [
       "[[1, 0, 0], [0, 5, 0], [0, 0, 9]]"
      ]
     },
     "execution_count": 18,
     "metadata": {},
     "output_type": "execute_result"
    }
   ],
   "source": [
    "diag(A)"
   ]
  },
  {
   "cell_type": "markdown",
   "metadata": {},
   "source": [
    "## (2) 대각 원소 구하기"
   ]
  },
  {
   "cell_type": "code",
   "execution_count": 19,
   "metadata": {},
   "outputs": [],
   "source": [
    "A = [[1, 2, 3], [4, 5, 6], [7, 8, 9]]"
   ]
  },
  {
   "cell_type": "code",
   "execution_count": 20,
   "metadata": {},
   "outputs": [],
   "source": [
    "def diag_ele(A):\n",
    "    \"\"\"\n",
    "    대각 원소 구하기\n",
    "    입력값: 대각 원소를 구하고자 할 행렬 A\n",
    "    출력값: 행렬 A의 대각 원소 리스트 d\n",
    "    \"\"\"\n",
    "    n = len(A)\n",
    "    d = []\n",
    "    for i in range(0, n):\n",
    "        d.append(A[i][i])\n",
    "    return d"
   ]
  },
  {
   "cell_type": "code",
   "execution_count": 21,
   "metadata": {},
   "outputs": [
    {
     "data": {
      "text/plain": [
       "[1, 5, 9]"
      ]
     },
     "execution_count": 21,
     "metadata": {},
     "output_type": "execute_result"
    }
   ],
   "source": [
    "diag_ele(A)"
   ]
  },
  {
   "cell_type": "markdown",
   "metadata": {},
   "source": [
    "## (3) 대각 원소가 주어졌을 때 대각 행렬로 만들기"
   ]
  },
  {
   "cell_type": "code",
   "execution_count": 22,
   "metadata": {},
   "outputs": [],
   "source": [
    "a = [1, 9, 5]"
   ]
  },
  {
   "cell_type": "code",
   "execution_count": 23,
   "metadata": {},
   "outputs": [],
   "source": [
    "def ele2diag(a):\n",
    "    \"\"\"\n",
    "    대각원소 -> 대각행렬 변환\n",
    "    입력값: 대각 원소 리스트 a\n",
    "    출력값: 대각 원소 a를 이용해 생성한 nxn 대각 행렬 D\n",
    "    n: 대각 원소 리스트 a의 길이\n",
    "    \"\"\"\n",
    "    n = len(a)\n",
    "    D = []\n",
    "    for i in range(0, n):\n",
    "        row = []\n",
    "        for j in range(0, n):\n",
    "            if i==j:\n",
    "                row.append(a[i])\n",
    "            else:\n",
    "                row.append(0)\n",
    "        D.append(row)\n",
    "    return D"
   ]
  },
  {
   "cell_type": "code",
   "execution_count": 24,
   "metadata": {},
   "outputs": [
    {
     "data": {
      "text/plain": [
       "[[1, 0, 0], [0, 9, 0], [0, 0, 5]]"
      ]
     },
     "execution_count": 24,
     "metadata": {},
     "output_type": "execute_result"
    }
   ],
   "source": [
    "ele2diag(a)"
   ]
  },
  {
   "cell_type": "markdown",
   "metadata": {},
   "source": [
    "## (4) 대각 행렬을 곱했을 때"
   ]
  },
  {
   "cell_type": "code",
   "execution_count": 25,
   "metadata": {},
   "outputs": [
    {
     "name": "stdout",
     "output_type": "stream",
     "text": [
      "[[1, 2, 3], [4, 5, 6], [7, 8, 9]]\n",
      "[[2, 0, 0], [0, 1, 0], [0, 0, 1]]\n"
     ]
    }
   ],
   "source": [
    "A = [[1,2,3],[4,5,6],[7,8,9]]\n",
    "D = ele2diag([2,1,1])\n",
    "print(A)\n",
    "print(D)"
   ]
  },
  {
   "cell_type": "code",
   "execution_count": 26,
   "metadata": {
    "scrolled": true
   },
   "outputs": [
    {
     "name": "stdout",
     "output_type": "stream",
     "text": [
      "[[2, 2, 3], [8, 5, 6], [14, 8, 9]]\n"
     ]
    }
   ],
   "source": [
    "AD = matmul(A,D)\n",
    "print(AD)"
   ]
  },
  {
   "cell_type": "code",
   "execution_count": 27,
   "metadata": {},
   "outputs": [
    {
     "name": "stdout",
     "output_type": "stream",
     "text": [
      "[[2, 4, 6], [4, 5, 6], [7, 8, 9]]\n"
     ]
    }
   ],
   "source": [
    "DA = matmul(D,A)\n",
    "print(DA)"
   ]
  },
  {
   "cell_type": "code",
   "execution_count": 28,
   "metadata": {},
   "outputs": [
    {
     "name": "stdout",
     "output_type": "stream",
     "text": [
      "[[1, 2, 3], [4, 5, 6], [7, 8, 9]]\n",
      "[[1, 0, 0], [0, 3, 0], [0, 0, 1]]\n"
     ]
    }
   ],
   "source": [
    "A = [[1,2,3],[4,5,6],[7,8,9]]\n",
    "D = ele2diag([1,3,1])\n",
    "print(A)\n",
    "print(D)"
   ]
  },
  {
   "cell_type": "code",
   "execution_count": 29,
   "metadata": {},
   "outputs": [
    {
     "name": "stdout",
     "output_type": "stream",
     "text": [
      "[[1, 6, 3], [4, 15, 6], [7, 24, 9]]\n"
     ]
    }
   ],
   "source": [
    "AD = matmul(A,D)\n",
    "print(AD)"
   ]
  },
  {
   "cell_type": "code",
   "execution_count": 30,
   "metadata": {},
   "outputs": [
    {
     "name": "stdout",
     "output_type": "stream",
     "text": [
      "[[1, 2, 3], [12, 15, 18], [7, 8, 9]]\n"
     ]
    }
   ],
   "source": [
    "DA = matmul(D,A)\n",
    "print(DA)"
   ]
  },
  {
   "cell_type": "code",
   "execution_count": 31,
   "metadata": {},
   "outputs": [
    {
     "name": "stdout",
     "output_type": "stream",
     "text": [
      "[[1, 2, 3], [4, 5, 6], [7, 8, 9]]\n",
      "[[1, 0, 0], [0, 3, 0], [0, 0, 4]]\n"
     ]
    }
   ],
   "source": [
    "A = [[1,2,3],[4,5,6],[7,8,9]]\n",
    "D = ele2diag([1,3,4])\n",
    "print(A)\n",
    "print(D)"
   ]
  },
  {
   "cell_type": "code",
   "execution_count": 32,
   "metadata": {},
   "outputs": [
    {
     "name": "stdout",
     "output_type": "stream",
     "text": [
      "[[1, 6, 12], [4, 15, 24], [7, 24, 36]]\n"
     ]
    }
   ],
   "source": [
    "AD = matmul(A,D)\n",
    "print(AD)"
   ]
  },
  {
   "cell_type": "code",
   "execution_count": 33,
   "metadata": {},
   "outputs": [
    {
     "name": "stdout",
     "output_type": "stream",
     "text": [
      "[[1, 2, 3], [12, 15, 18], [28, 32, 36]]\n"
     ]
    }
   ],
   "source": [
    "DA = matmul(D,A)\n",
    "print(DA)"
   ]
  },
  {
   "cell_type": "markdown",
   "metadata": {},
   "source": [
    "# 항등 행렬"
   ]
  },
  {
   "cell_type": "code",
   "execution_count": 34,
   "metadata": {},
   "outputs": [],
   "source": [
    "def identity(n):\n",
    "    \"\"\"\n",
    "    항등행렬 생성\n",
    "    입력값: 항등 행렬의 크기 n\n",
    "    출력값: nxn 항등 행렬 I\n",
    "    \"\"\"\n",
    "    I  = []\n",
    "    for i in range(0, n):\n",
    "        row = []\n",
    "        for j in range(0, n):\n",
    "            if i==j:\n",
    "                row.append(1)\n",
    "            else:\n",
    "                row.append(0)\n",
    "        I.append(row)\n",
    "    return I"
   ]
  },
  {
   "cell_type": "code",
   "execution_count": 35,
   "metadata": {},
   "outputs": [
    {
     "data": {
      "text/plain": [
       "[[1, 0, 0, 0, 0],\n",
       " [0, 1, 0, 0, 0],\n",
       " [0, 0, 1, 0, 0],\n",
       " [0, 0, 0, 1, 0],\n",
       " [0, 0, 0, 0, 1]]"
      ]
     },
     "execution_count": 35,
     "metadata": {},
     "output_type": "execute_result"
    }
   ],
   "source": [
    "identity(5)"
   ]
  },
  {
   "cell_type": "code",
   "execution_count": 36,
   "metadata": {},
   "outputs": [
    {
     "name": "stdout",
     "output_type": "stream",
     "text": [
      "[[1, 2, 3], [4, 5, 6], [7, 8, 9]]\n",
      "[[1, 0, 0], [0, 1, 0], [0, 0, 1]]\n"
     ]
    }
   ],
   "source": [
    "A = [[1, 2, 3], [4, 5, 6], [7, 8, 9]]\n",
    "I = identity(3)\n",
    "print(A)\n",
    "print(I)"
   ]
  },
  {
   "cell_type": "code",
   "execution_count": 37,
   "metadata": {},
   "outputs": [
    {
     "name": "stdout",
     "output_type": "stream",
     "text": [
      "[[1, 2, 3], [4, 5, 6], [7, 8, 9]]\n"
     ]
    }
   ],
   "source": [
    "AI = matmul(A,I)\n",
    "print(AI)"
   ]
  },
  {
   "cell_type": "code",
   "execution_count": 38,
   "metadata": {},
   "outputs": [
    {
     "name": "stdout",
     "output_type": "stream",
     "text": [
      "[[1, 2, 3], [4, 5, 6], [7, 8, 9]]\n"
     ]
    }
   ],
   "source": [
    "IA = matmul(I,A)\n",
    "print(IA)"
   ]
  },
  {
   "cell_type": "markdown",
   "metadata": {},
   "source": [
    "# 영 행렬"
   ]
  },
  {
   "cell_type": "code",
   "execution_count": 39,
   "metadata": {},
   "outputs": [],
   "source": [
    "def zero_mat(n, p):\n",
    "    '''\n",
    "    영 행렬 생성\n",
    "    입력값: 생성하고자 할 영 행렬의 크기 n행, p열\n",
    "    출력값: nxp 영 행렬 Z\n",
    "    '''\n",
    "    Z = []\n",
    "    for i in range(0, n):\n",
    "        tmp_row = []\n",
    "        for j in range(0, p):\n",
    "            tmp_row.append(0)\n",
    "        Z.append(tmp_row)\n",
    "    return Z"
   ]
  },
  {
   "cell_type": "code",
   "execution_count": 40,
   "metadata": {},
   "outputs": [
    {
     "data": {
      "text/plain": [
       "[[0, 0], [0, 0], [0, 0]]"
      ]
     },
     "execution_count": 40,
     "metadata": {},
     "output_type": "execute_result"
    }
   ],
   "source": [
    "zero_mat(3, 2)"
   ]
  },
  {
   "cell_type": "code",
   "execution_count": 41,
   "metadata": {},
   "outputs": [
    {
     "name": "stdout",
     "output_type": "stream",
     "text": [
      "[[1, 2, 3], [4, 5, 6], [7, 8, 9]]\n",
      "[[0, 0, 0], [0, 0, 0], [0, 0, 0]]\n"
     ]
    }
   ],
   "source": [
    "A = [[1, 2, 3], [4, 5, 6], [7, 8, 9]]\n",
    "zero = zero_mat(3,3)\n",
    "print(A)\n",
    "print(zero)"
   ]
  },
  {
   "cell_type": "code",
   "execution_count": 42,
   "metadata": {
    "scrolled": true
   },
   "outputs": [
    {
     "data": {
      "text/plain": [
       "[[0, 0, 0], [0, 0, 0], [0, 0, 0]]"
      ]
     },
     "execution_count": 42,
     "metadata": {},
     "output_type": "execute_result"
    }
   ],
   "source": [
    "matmul(A, zero)"
   ]
  },
  {
   "cell_type": "code",
   "execution_count": 43,
   "metadata": {},
   "outputs": [
    {
     "data": {
      "text/plain": [
       "[[0, 0, 0], [0, 0, 0], [0, 0, 0]]"
      ]
     },
     "execution_count": 43,
     "metadata": {},
     "output_type": "execute_result"
    }
   ],
   "source": [
    "matmul(zero, A)"
   ]
  },
  {
   "cell_type": "markdown",
   "metadata": {},
   "source": [
    "# 삼각 행렬"
   ]
  },
  {
   "cell_type": "markdown",
   "metadata": {},
   "source": [
    "## 상 상각 행렬"
   ]
  },
  {
   "cell_type": "code",
   "execution_count": 44,
   "metadata": {},
   "outputs": [],
   "source": [
    "A = [[1, 2, 3], [4, 5, 6], [7, 8, 9]]"
   ]
  },
  {
   "cell_type": "code",
   "execution_count": 45,
   "metadata": {},
   "outputs": [],
   "source": [
    "n = len(A)\n",
    "p = len(A[0])\n",
    "utri  = []\n",
    "\n",
    "for i in range(0, n):\n",
    "    row = []\n",
    "    for j in range(0, p):\n",
    "        if i>j:\n",
    "            row.append(0)\n",
    "        else:\n",
    "            row.append(A[i][j])\n",
    "    utri.append(row)"
   ]
  },
  {
   "cell_type": "code",
   "execution_count": 46,
   "metadata": {},
   "outputs": [
    {
     "name": "stdout",
     "output_type": "stream",
     "text": [
      "[[1, 2, 3], [0, 5, 6], [0, 0, 9]]\n"
     ]
    }
   ],
   "source": [
    "print(utri)"
   ]
  },
  {
   "cell_type": "code",
   "execution_count": 47,
   "metadata": {},
   "outputs": [],
   "source": [
    "def u_tri(A):\n",
    "    \"\"\"\n",
    "    상 삼각 행렬 변환\n",
    "    입력값: 상 삼각 행렬로 변환하고자 하는 행렬 A\n",
    "    출력값: 행렬 A를 상 삼각 행렬로 변환시킨 행렬 utri\n",
    "    \"\"\"\n",
    "    n = len(A)\n",
    "    p = len(A[0])\n",
    "    utri  = []\n",
    "\n",
    "    for i in range(0, n):\n",
    "        row = []\n",
    "        for j in range(0, p):\n",
    "            if i>j:\n",
    "                row.append(0)\n",
    "            else:\n",
    "                row.append(A[i][j])\n",
    "        utri.append(row)\n",
    "    return utri"
   ]
  },
  {
   "cell_type": "code",
   "execution_count": 48,
   "metadata": {},
   "outputs": [
    {
     "data": {
      "text/plain": [
       "[[1, 2, 3], [0, 5, 6], [0, 0, 9]]"
      ]
     },
     "execution_count": 48,
     "metadata": {},
     "output_type": "execute_result"
    }
   ],
   "source": [
    "A = [[1, 2, 3], [4, 5, 6], [7, 8, 9]]\n",
    "u_tri(A)"
   ]
  },
  {
   "cell_type": "markdown",
   "metadata": {},
   "source": [
    "## 하 삼각 행렬"
   ]
  },
  {
   "cell_type": "code",
   "execution_count": 49,
   "metadata": {},
   "outputs": [],
   "source": [
    "def l_tri(A):\n",
    "    \"\"\"\n",
    "    하 삼각 행렬 변환\n",
    "    입력값: 하 삼각 행렬로 변환하고자 하는 행렬 A\n",
    "    출력값: 행렬 A를 하 삼각 행렬로 변환시킨 행렬 ltri\n",
    "    \"\"\"\n",
    "    n = len(A)\n",
    "    p = len(A[0])\n",
    "    ltri  = []\n",
    "\n",
    "    for i in range(0, n):\n",
    "        row = []\n",
    "        for j in range(0, p):\n",
    "            if i<j:\n",
    "                row.append(0)\n",
    "            else:\n",
    "                row.append(A[i][j])\n",
    "        ltri.append(row)\n",
    "    return ltri"
   ]
  },
  {
   "cell_type": "code",
   "execution_count": 50,
   "metadata": {},
   "outputs": [
    {
     "data": {
      "text/plain": [
       "[[1, 0, 0], [4, 5, 0], [7, 8, 9]]"
      ]
     },
     "execution_count": 50,
     "metadata": {},
     "output_type": "execute_result"
    }
   ],
   "source": [
    "A = [[1, 2, 3], [4, 5, 6], [7, 8, 9]]\n",
    "l_tri(A)"
   ]
  },
  {
   "cell_type": "markdown",
   "metadata": {},
   "source": [
    "# 토플리츠 행렬"
   ]
  },
  {
   "cell_type": "code",
   "execution_count": 51,
   "metadata": {},
   "outputs": [],
   "source": [
    "a = [1,0,-2,-4]\n",
    "b = [1,3,5,7,9]"
   ]
  },
  {
   "cell_type": "code",
   "execution_count": 52,
   "metadata": {},
   "outputs": [
    {
     "name": "stdout",
     "output_type": "stream",
     "text": [
      "4\n",
      "5\n"
     ]
    }
   ],
   "source": [
    "n1 = len(a)\n",
    "n2 = len(b)\n",
    "print(n1)\n",
    "print(n2)"
   ]
  },
  {
   "cell_type": "code",
   "execution_count": 53,
   "metadata": {},
   "outputs": [],
   "source": [
    "A = []\n",
    "for i in range(0, n1):\n",
    "    row = []\n",
    "    for j in range(0, n2):\n",
    "        if i > j:\n",
    "            row.append(a[i-j])\n",
    "        else:\n",
    "            row.append(b[j-i])\n",
    "    A.append(row)"
   ]
  },
  {
   "cell_type": "code",
   "execution_count": 54,
   "metadata": {},
   "outputs": [
    {
     "name": "stdout",
     "output_type": "stream",
     "text": [
      "[[1, 3, 5, 7, 9], [0, 1, 3, 5, 7], [-2, 0, 1, 3, 5], [-4, -2, 0, 1, 3]]\n"
     ]
    }
   ],
   "source": [
    "print(A)"
   ]
  },
  {
   "cell_type": "code",
   "execution_count": 55,
   "metadata": {},
   "outputs": [],
   "source": [
    "def toeplitz(a, b):\n",
    "    \"\"\"\n",
    "    토플리츠 행렬 변환\n",
    "    입력값: 토플리츠 행렬로 변환하고자 하는 리스트 a, b\n",
    "    출력값: 리스트 a, b를 이용해 만든 토플리츠 행렬 A\n",
    "    \"\"\"\n",
    "    n1 = len(a)\n",
    "    n2 = len(b)\n",
    "    A = []\n",
    "    for i in range(0, n1):\n",
    "        row = []\n",
    "        for j in range(0, n2):\n",
    "            if i > j:\n",
    "                row.append(a[i-j])\n",
    "            else:\n",
    "                row.append(b[j-i])\n",
    "        A.append(row)\n",
    "    return A"
   ]
  },
  {
   "cell_type": "code",
   "execution_count": 56,
   "metadata": {},
   "outputs": [
    {
     "data": {
      "text/plain": [
       "[[1, 3, 5, 7, 9], [0, 1, 3, 5, 7], [-2, 0, 1, 3, 5], [-4, -2, 0, 1, 3]]"
      ]
     },
     "execution_count": 56,
     "metadata": {},
     "output_type": "execute_result"
    }
   ],
   "source": [
    "a = [1,0,-2,-4]\n",
    "b = [1,3,5,7,9]\n",
    "toeplitz(a, b)"
   ]
  },
  {
   "cell_type": "markdown",
   "metadata": {},
   "source": [
    "# Bidiagonal 행렬"
   ]
  },
  {
   "cell_type": "markdown",
   "metadata": {},
   "source": [
    "## upper bidiagonal 행렬"
   ]
  },
  {
   "cell_type": "code",
   "execution_count": 57,
   "metadata": {},
   "outputs": [],
   "source": [
    "A = [[1,2,1,3], [5,3,4,1], [2,1,7,9], [2,8,1,3]]"
   ]
  },
  {
   "cell_type": "code",
   "execution_count": 58,
   "metadata": {},
   "outputs": [],
   "source": [
    "n = len(A)\n",
    "p = len(A[0])\n",
    "\n",
    "res = []\n",
    "for i in range(0,n):\n",
    "    row = []\n",
    "    for j in range(0,p):\n",
    "        if i > j or j-i > 1:\n",
    "            row.append(0)\n",
    "        else:\n",
    "            row.append(A[i][j])\n",
    "    res.append(row)"
   ]
  },
  {
   "cell_type": "code",
   "execution_count": 59,
   "metadata": {},
   "outputs": [
    {
     "data": {
      "text/plain": [
       "[[1, 2, 0, 0], [0, 3, 4, 0], [0, 0, 7, 9], [0, 0, 0, 3]]"
      ]
     },
     "execution_count": 59,
     "metadata": {},
     "output_type": "execute_result"
    }
   ],
   "source": [
    "res"
   ]
  },
  {
   "cell_type": "code",
   "execution_count": 60,
   "metadata": {},
   "outputs": [],
   "source": [
    "def u_bidiag(A):\n",
    "    \"\"\"\n",
    "    upper bidiagonal 행렬\n",
    "    입력값: 행렬 A\n",
    "    출력값: 행렬 A의 upper bidiagonal 행렬 res\n",
    "    \"\"\"\n",
    "    n = len(A)\n",
    "    p = len(A[0])\n",
    "\n",
    "    res = []\n",
    "    for i in range(0,n):\n",
    "        row = []\n",
    "        for j in range(0,p):\n",
    "            if i > j or j-i > 1:\n",
    "                row.append(0)\n",
    "            else:\n",
    "                row.append(A[i][j])\n",
    "        res.append(row) \n",
    "    return res"
   ]
  },
  {
   "cell_type": "code",
   "execution_count": 61,
   "metadata": {},
   "outputs": [
    {
     "data": {
      "text/plain": [
       "[[1, 2, 0, 0], [0, 3, 4, 0], [0, 0, 7, 9], [0, 0, 0, 3]]"
      ]
     },
     "execution_count": 61,
     "metadata": {},
     "output_type": "execute_result"
    }
   ],
   "source": [
    "A = [[1,2,1,3], [5,3,4,1], [2,1,7,9], [2,8,1,3]]\n",
    "u_bidiag(A)"
   ]
  },
  {
   "cell_type": "markdown",
   "metadata": {},
   "source": [
    "## lower bidiagonal 행렬"
   ]
  },
  {
   "cell_type": "code",
   "execution_count": 62,
   "metadata": {},
   "outputs": [],
   "source": [
    "def l_bidiag(A):\n",
    "    \"\"\"\n",
    "    lower bidiagonal 행렬\n",
    "    입력값: 행렬 A\n",
    "    출력값: 행렬 A의 lower bidiagonal 행렬 res\n",
    "    \"\"\"\n",
    "    n = len(A)\n",
    "    p = len(A[0])\n",
    "\n",
    "    res = []\n",
    "    for i in range(0,n):\n",
    "        row = []\n",
    "        for j in range(0,p):\n",
    "            if i < j or i-j > 1:\n",
    "                row.append(0)\n",
    "            else:\n",
    "                row.append(A[i][j])\n",
    "        res.append(row)   \n",
    "    return res"
   ]
  },
  {
   "cell_type": "code",
   "execution_count": 63,
   "metadata": {},
   "outputs": [
    {
     "data": {
      "text/plain": [
       "[[1, 0, 0, 0], [5, 3, 0, 0], [0, 1, 7, 0], [0, 0, 1, 3]]"
      ]
     },
     "execution_count": 63,
     "metadata": {},
     "output_type": "execute_result"
    }
   ],
   "source": [
    "A = [[1,2,1,3], [5,3,4,1], [2,1,7,9], [2,8,1,3]]\n",
    "l_bidiag(A)"
   ]
  },
  {
   "cell_type": "markdown",
   "metadata": {},
   "source": [
    "# 하우스홀더 행렬"
   ]
  },
  {
   "cell_type": "code",
   "execution_count": 64,
   "metadata": {},
   "outputs": [],
   "source": [
    "def inner_product(a, b):\n",
    "    \"\"\"\n",
    "    벡터의 내적\n",
    "    입력값: 내적할 벡터 리스트 a, b\n",
    "    출력값: 벡터 a, b의 내적 결과 res\n",
    "    \"\"\"\n",
    "    n = len(a)\n",
    "    res = 0\n",
    "    for i in range(0, n):\n",
    "        res += a[i]*b[i]\n",
    "    return res\n",
    "\n",
    "\n",
    "def outer_product(a, b):\n",
    "    \"\"\"\n",
    "    벡터의 외적\n",
    "    입력값: 외적할 벡터 리스트 a, b\n",
    "    출력값: 벡터 a, b의 외적 결과 res\n",
    "    \"\"\"\n",
    "    res = []\n",
    "    n1 = len(a)\n",
    "    n2 = len(b)\n",
    "    for i in range(0, n1):\n",
    "        row = []\n",
    "        for j in range(0, n2):\n",
    "            val = a[i]*b[j]\n",
    "            row.append(val)\n",
    "        res.append(row)\n",
    "    return res\n",
    "\n",
    "def identity(n):\n",
    "    \"\"\"\n",
    "    항등행렬 생성\n",
    "    입력값: 항등 행렬의 크기 n\n",
    "    출력값: nxn 항등 행렬 I\n",
    "    \"\"\"\n",
    "    I  = []\n",
    "    for i in range(0, n):\n",
    "        row = []\n",
    "        for j in range(0, n):\n",
    "            if i==j:\n",
    "                row.append(1)\n",
    "            else:\n",
    "                row.append(0)\n",
    "        I.append(row)\n",
    "    return I\n",
    "\n",
    "def subtract(A, B):\n",
    "    \"\"\"\n",
    "    행렬의 뺄셈\n",
    "    입력값: 행렬의 뺄셈을 수행할 행렬 A, B\n",
    "    출력값: 행렬 A와 행렬 B의 뺄셈 결과인 행렬 res\n",
    "    \"\"\"\n",
    "    n = len(A)\n",
    "    p = len(A[0])\n",
    "\n",
    "    res = []\n",
    "    for i in range(0, n):\n",
    "        row = []\n",
    "        for j in range(0, p):\n",
    "            val = A[i][j] - B[i][j]\n",
    "            row.append(val)\n",
    "        res.append(row)\n",
    "    return res\n"
   ]
  },
  {
   "cell_type": "code",
   "execution_count": 65,
   "metadata": {},
   "outputs": [],
   "source": [
    "def householder(v):\n",
    "    \"\"\"\n",
    "    하우스홀더 행렬\n",
    "    입력값: 하우스홀더 행렬을 생성할 리스트 v\n",
    "    출력값: 리스트 v를 이용해 생성한 하우스홀더 행렬 H\n",
    "    \"\"\"\n",
    "    n = len(v)\n",
    "    outer_mat = outer_product(v,v)\n",
    "    inner_val = inner_product(v,v)\n",
    "    V = []\n",
    "    for i in range(0, n):\n",
    "        row = []\n",
    "        for j in range(0, n):\n",
    "            val = (2/inner_val)*outer_mat[i][j]\n",
    "            row.append(val)\n",
    "        V.append(row)\n",
    "    H = subtract(identity(n), V)\n",
    "    return H"
   ]
  },
  {
   "cell_type": "code",
   "execution_count": 66,
   "metadata": {},
   "outputs": [],
   "source": [
    "a = [1, 0, 2, 3]"
   ]
  },
  {
   "cell_type": "code",
   "execution_count": 67,
   "metadata": {},
   "outputs": [
    {
     "data": {
      "text/plain": [
       "[[0.8571428571428572, 0.0, -0.2857142857142857, -0.42857142857142855],\n",
       " [0.0, 1.0, 0.0, 0.0],\n",
       " [-0.2857142857142857, 0.0, 0.4285714285714286, -0.8571428571428571],\n",
       " [-0.42857142857142855, 0.0, -0.8571428571428571, -0.2857142857142856]]"
      ]
     },
     "execution_count": 67,
     "metadata": {},
     "output_type": "execute_result"
    }
   ],
   "source": [
    "householder(a)"
   ]
  },
  {
   "cell_type": "code",
   "execution_count": null,
   "metadata": {},
   "outputs": [],
   "source": []
  }
 ],
 "metadata": {
  "kernelspec": {
   "display_name": "Python 3",
   "language": "python",
   "name": "python3"
  },
  "language_info": {
   "codemirror_mode": {
    "name": "ipython",
    "version": 3
   },
   "file_extension": ".py",
   "mimetype": "text/x-python",
   "name": "python",
   "nbconvert_exporter": "python",
   "pygments_lexer": "ipython3",
   "version": "3.8.5"
  }
 },
 "nbformat": 4,
 "nbformat_minor": 4
}
