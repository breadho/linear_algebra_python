{
 "cells": [
  {
   "cell_type": "markdown",
   "metadata": {},
   "source": [
    "# 파이썬 LU분해"
   ]
  },
  {
   "cell_type": "code",
   "execution_count": 13,
   "metadata": {},
   "outputs": [
    {
     "name": "stdout",
     "output_type": "stream",
     "text": [
      "[[2, -2, -2], [0, -2, 2], [-1, 5, 2]]\n"
     ]
    }
   ],
   "source": [
    "A = [[2,-2,-2],[0,-2,2],[-1,5,2]]\n",
    "print(A)"
   ]
  },
  {
   "cell_type": "code",
   "execution_count": 14,
   "metadata": {},
   "outputs": [],
   "source": [
    "n = len(A)\n",
    "p = len(A[0])"
   ]
  },
  {
   "cell_type": "code",
   "execution_count": 15,
   "metadata": {},
   "outputs": [],
   "source": [
    "a0 = A[0]\n",
    "a1 = A[1]\n",
    "a2 = A[2]"
   ]
  },
  {
   "cell_type": "code",
   "execution_count": 16,
   "metadata": {},
   "outputs": [
    {
     "name": "stdout",
     "output_type": "stream",
     "text": [
      "3\n",
      "3\n"
     ]
    }
   ],
   "source": [
    "print(n)\n",
    "print(p)"
   ]
  },
  {
   "cell_type": "code",
   "execution_count": 17,
   "metadata": {},
   "outputs": [
    {
     "name": "stdout",
     "output_type": "stream",
     "text": [
      "[[0, 0, 0], [0, 0, 0], [0, 0, 0]]\n"
     ]
    }
   ],
   "source": [
    "L = [[0]*p for i in range(0, n)]\n",
    "print(L)"
   ]
  },
  {
   "cell_type": "code",
   "execution_count": 18,
   "metadata": {},
   "outputs": [
    {
     "name": "stdout",
     "output_type": "stream",
     "text": [
      "0.5\n",
      "2.0\n",
      "=============\n",
      "[1.0, -1.0, -1.0]\n",
      "[0, -2, 2]\n",
      "[-1, 5, 2]\n"
     ]
    }
   ],
   "source": [
    "# 1행 1열 원소 1로 만들기\n",
    "val = 1/a0[0]\n",
    "L[0][0] = 1/val\n",
    "a0 = [element * val for element in a0 ]  \n",
    "print(val)\n",
    "print(L[0][0])\n",
    "print('=============')\n",
    "print(a0)\n",
    "print(a1)\n",
    "print(a2)"
   ]
  },
  {
   "cell_type": "code",
   "execution_count": 19,
   "metadata": {},
   "outputs": [
    {
     "name": "stdout",
     "output_type": "stream",
     "text": [
      "[0.0, -0.0, -0.0]\n",
      "0\n",
      "[0.0, -2.0, 2.0]\n",
      "=============\n",
      "[1.0, -1.0, -1.0]\n",
      "[0.0, -2.0, 2.0]\n",
      "[-1, 5, 2]\n"
     ]
    }
   ],
   "source": [
    "# 2행 1열 원소 0으로 만들기\n",
    "a0_tmp = [element * -a1[0] for element in a0]\n",
    "L[1][0] = a1[0]\n",
    "print(a0_tmp)\n",
    "print(L[1][0])\n",
    "\n",
    "for i in range(0, len(a0)):\n",
    "    a1[i] = a0_tmp[i] + a1[i]\n",
    "print(a1)\n",
    "print('=============')\n",
    "print(a0)\n",
    "print(a1)\n",
    "print(a2)"
   ]
  },
  {
   "cell_type": "code",
   "execution_count": 20,
   "metadata": {},
   "outputs": [
    {
     "name": "stdout",
     "output_type": "stream",
     "text": [
      "[1.0, -1.0, -1.0]\n",
      "-1\n",
      "[0.0, 4.0, 1.0]\n",
      "=============\n",
      "[1.0, -1.0, -1.0]\n",
      "[0.0, -2.0, 2.0]\n",
      "[0.0, 4.0, 1.0]\n"
     ]
    }
   ],
   "source": [
    "# 3행 1열 원소 0으로 만들기\n",
    "a0_tmp = [element * -a2[0] for element in a0]\n",
    "L[2][0] = a2[0]\n",
    "print(a0_tmp)\n",
    "print(L[2][0])\n",
    "\n",
    "for i in range(0, len(a0)):\n",
    "    a2[i] = a0_tmp[i] + a2[i]\n",
    "print(a2)\n",
    "print('=============')\n",
    "print(a0)\n",
    "print(a1)\n",
    "print(a2)"
   ]
  },
  {
   "cell_type": "code",
   "execution_count": 21,
   "metadata": {},
   "outputs": [
    {
     "name": "stdout",
     "output_type": "stream",
     "text": [
      "-0.5\n",
      "-2.0\n",
      "=============\n",
      "[1.0, -1.0, -1.0]\n",
      "[-0.0, 1.0, -1.0]\n",
      "[0.0, 4.0, 1.0]\n"
     ]
    }
   ],
   "source": [
    "# 2행 2열 원소 1로 만들기\n",
    "\n",
    "val = 1/a1[1]\n",
    "L[1][1] = 1/val\n",
    "a1 = [element * val for element in a1 ]  \n",
    "print(val)\n",
    "print(L[1][1])\n",
    "print('=============')\n",
    "print(a0)\n",
    "print(a1)\n",
    "print(a2)"
   ]
  },
  {
   "cell_type": "code",
   "execution_count": 22,
   "metadata": {},
   "outputs": [
    {
     "name": "stdout",
     "output_type": "stream",
     "text": [
      "[0.0, -4.0, 4.0]\n",
      "4.0\n",
      "[0.0, 0.0, 5.0]\n",
      "=============\n",
      "[1.0, -1.0, -1.0]\n",
      "[-0.0, 1.0, -1.0]\n",
      "[0.0, 0.0, 5.0]\n"
     ]
    }
   ],
   "source": [
    "# 3행 2열 원소 0으로 만들기\n",
    "\n",
    "a1_tmp = [element * -a2[1] for element in a1]\n",
    "L[2][1] = a2[1]\n",
    "print(a1_tmp)\n",
    "print(L[2][1])\n",
    "\n",
    "for i in range(0, len(a1)):\n",
    "    a2[i] = a1_tmp[i] + a2[i]\n",
    "print(a2)\n",
    "print('=============')\n",
    "print(a0)\n",
    "print(a1)\n",
    "print(a2)"
   ]
  },
  {
   "cell_type": "code",
   "execution_count": 23,
   "metadata": {},
   "outputs": [
    {
     "name": "stdout",
     "output_type": "stream",
     "text": [
      "0.2\n",
      "5.0\n",
      "=============\n",
      "[1.0, -1.0, -1.0]\n",
      "[-0.0, 1.0, -1.0]\n",
      "[0.0, 0.0, 1.0]\n"
     ]
    }
   ],
   "source": [
    "# 3행 3열 원소 1로 만들기\n",
    "\n",
    "val = 1/a2[2]\n",
    "L[2][2] = 1/val\n",
    "a2 = [element * val for element in a2]  \n",
    "print(val)\n",
    "print(L[2][2])\n",
    "print('=============')\n",
    "print(a0)\n",
    "print(a1)\n",
    "print(a2)"
   ]
  },
  {
   "cell_type": "code",
   "execution_count": 24,
   "metadata": {},
   "outputs": [
    {
     "name": "stdout",
     "output_type": "stream",
     "text": [
      "[[2.0, 0, 0], [0, -2.0, 0], [-1, 4.0, 5.0]]\n",
      "[[1.0, -1.0, -1.0], [-0.0, 1.0, -1.0], [0.0, 0.0, 1.0]]\n"
     ]
    }
   ],
   "source": [
    "U = [a0, a1, a2]\n",
    "\n",
    "print(L)\n",
    "print(U)"
   ]
  },
  {
   "cell_type": "code",
   "execution_count": 29,
   "metadata": {},
   "outputs": [],
   "source": [
    "def matmul(A, B):    \n",
    "    \"\"\"\n",
    "    행렬의 행렬곱\n",
    "    입력값: 행렬곱을 수행할 행렬 A, B\n",
    "    출력값: 행렬 A와 행렬 B의 행렬곱 결과인 행렬 res\n",
    "    \"\"\"\n",
    "    n = len(A)\n",
    "    p1 = len(A[0])\n",
    "    p2 = len(B[0])\n",
    "\n",
    "    res = []\n",
    "    for i in range(0, n):\n",
    "        row = []\n",
    "        for j in range(0, p2):\n",
    "            val = 0\n",
    "            for k in range(0, p1):\n",
    "                val += A[i][k] * B[k][j] \n",
    "            row.append(val)    \n",
    "        res.append(row)\n",
    "    return res"
   ]
  },
  {
   "cell_type": "code",
   "execution_count": 30,
   "metadata": {},
   "outputs": [
    {
     "data": {
      "text/plain": [
       "[[2.0, -2.0, -2.0], [0.0, -2.0, 2.0], [-1.0, 5.0, 2.0]]"
      ]
     },
     "execution_count": 30,
     "metadata": {},
     "output_type": "execute_result"
    }
   ],
   "source": [
    "matmul(L, U)"
   ]
  },
  {
   "cell_type": "markdown",
   "metadata": {},
   "source": [
    "# 전체 코드"
   ]
  },
  {
   "cell_type": "code",
   "execution_count": null,
   "metadata": {},
   "outputs": [],
   "source": []
  },
  {
   "cell_type": "code",
   "execution_count": null,
   "metadata": {},
   "outputs": [],
   "source": []
  },
  {
   "cell_type": "markdown",
   "metadata": {},
   "source": [
    "# LU 분해 함수 만들기"
   ]
  },
  {
   "cell_type": "code",
   "execution_count": 27,
   "metadata": {},
   "outputs": [],
   "source": [
    "def lu_decomp(A):\n",
    "    \"\"\"\n",
    "    LU 분해\n",
    "    입력값: 행렬 A\n",
    "    출력값: 행렬 A의 LU분해 행렬 L, U\n",
    "    \"\"\"\n",
    "    n = len(A)\n",
    "    p = len(A[0])\n",
    "\n",
    "    L = [[0]*p for i in range(0, n)]\n",
    "    U = []\n",
    "\n",
    "    for i in range(0, n):\n",
    "        a = A[i]\n",
    "        val = 1/a[i]\n",
    "        L[i][i] = 1/val\n",
    "        a = [element * val for element in a] \n",
    "        U.append(a)\n",
    "\n",
    "        for j in range(i+1, n):\n",
    "            row = A[j]\n",
    "            a_tmp = [element * -row[i] for element in a]\n",
    "            L[j][i] = row[i]        \n",
    "            A[j] = [a_tmp[k] + row[k] for k in range(p)]\n",
    "\n",
    "    return L, U"
   ]
  },
  {
   "cell_type": "code",
   "execution_count": 28,
   "metadata": {},
   "outputs": [
    {
     "name": "stdout",
     "output_type": "stream",
     "text": [
      "[[2.0, 0, 0], [0, -2.0, 0], [-1, 4.0, 5.0]]\n",
      "[[1.0, -1.0, -1.0], [-0.0, 1.0, -1.0], [0.0, 0.0, 1.0]]\n"
     ]
    }
   ],
   "source": [
    "A = [[2,-2,-2],[0,-2,2],[-1,5,2]]\n",
    "\n",
    "L, U = lu_decomp(A)\n",
    "print(L)\n",
    "print(U)"
   ]
  },
  {
   "cell_type": "code",
   "execution_count": null,
   "metadata": {},
   "outputs": [],
   "source": []
  }
 ],
 "metadata": {
  "kernelspec": {
   "display_name": "Python 3",
   "language": "python",
   "name": "python3"
  },
  "language_info": {
   "codemirror_mode": {
    "name": "ipython",
    "version": 3
   },
   "file_extension": ".py",
   "mimetype": "text/x-python",
   "name": "python",
   "nbconvert_exporter": "python",
   "pygments_lexer": "ipython3",
   "version": "3.8.5"
  }
 },
 "nbformat": 4,
 "nbformat_minor": 4
}
