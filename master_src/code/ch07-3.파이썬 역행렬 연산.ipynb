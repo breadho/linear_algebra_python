{
 "cells": [
  {
   "cell_type": "markdown",
   "metadata": {},
   "source": [
    "# 행렬식 구하기"
   ]
  },
  {
   "cell_type": "code",
   "execution_count": 18,
   "metadata": {},
   "outputs": [
    {
     "name": "stdout",
     "output_type": "stream",
     "text": [
      "5\n"
     ]
    }
   ],
   "source": [
    "A = [[3,2,0], [-1,-3,6], [2,3,-5]]\n",
    "\n",
    "n = len(A)\n",
    "p = len(A[0])\n",
    "\n",
    "detA = 0\n",
    "for j in range(0, p):    \n",
    "    M = [A[1][:j]+A[1][j+1:], A[2][:j]+A[2][j+1:]] \n",
    "    Mij = M[0][0]*M[1][1] - M[0][1]*M[1][0]  \n",
    "    Cij = ((-1)**(0+j))*Mij\n",
    "    detA += A[0][j]*Cij\n",
    "\n",
    "print(detA)"
   ]
  },
  {
   "cell_type": "markdown",
   "metadata": {},
   "source": [
    "# 여인수행렬 구하기"
   ]
  },
  {
   "cell_type": "code",
   "execution_count": 19,
   "metadata": {},
   "outputs": [
    {
     "data": {
      "text/plain": [
       "[[-3, 6], [3, -5]]"
      ]
     },
     "execution_count": 19,
     "metadata": {},
     "output_type": "execute_result"
    }
   ],
   "source": [
    "# 1행 1열\n",
    "[A[1][:0]+A[1][0+1:], A[2][:0]+A[2][0+1:]] "
   ]
  },
  {
   "cell_type": "code",
   "execution_count": 20,
   "metadata": {},
   "outputs": [
    {
     "data": {
      "text/plain": [
       "[[-1, 6], [2, -5]]"
      ]
     },
     "execution_count": 20,
     "metadata": {},
     "output_type": "execute_result"
    }
   ],
   "source": [
    "# 1행 2열\n",
    "[A[1][:1]+A[1][1+1:], A[2][:1]+A[2][1+1:]] "
   ]
  },
  {
   "cell_type": "code",
   "execution_count": 21,
   "metadata": {},
   "outputs": [
    {
     "data": {
      "text/plain": [
       "[[-1, -3], [2, 3]]"
      ]
     },
     "execution_count": 21,
     "metadata": {},
     "output_type": "execute_result"
    }
   ],
   "source": [
    "# 1행 3열\n",
    "[A[1][:2]+A[1][2+1:], A[2][:2]+A[2][2+1:]] "
   ]
  },
  {
   "cell_type": "code",
   "execution_count": 22,
   "metadata": {},
   "outputs": [
    {
     "data": {
      "text/plain": [
       "[[2, 0], [3, -5]]"
      ]
     },
     "execution_count": 22,
     "metadata": {},
     "output_type": "execute_result"
    }
   ],
   "source": [
    "# 2행 1열\n",
    "[A[0][:0]+A[0][0+1:], A[2][:0]+A[2][0+1:]] "
   ]
  },
  {
   "cell_type": "code",
   "execution_count": 23,
   "metadata": {},
   "outputs": [
    {
     "data": {
      "text/plain": [
       "[[3, 0], [2, -5]]"
      ]
     },
     "execution_count": 23,
     "metadata": {},
     "output_type": "execute_result"
    }
   ],
   "source": [
    "# 2행 2열\n",
    "[A[0][:1]+A[0][1+1:], A[2][:1]+A[2][1+1:]] "
   ]
  },
  {
   "cell_type": "code",
   "execution_count": 24,
   "metadata": {},
   "outputs": [
    {
     "data": {
      "text/plain": [
       "[[3, 2], [2, 3]]"
      ]
     },
     "execution_count": 24,
     "metadata": {},
     "output_type": "execute_result"
    }
   ],
   "source": [
    "# 2행 3열\n",
    "[A[0][:2]+A[0][2+1:], A[2][:2]+A[2][2+1:]] "
   ]
  },
  {
   "cell_type": "code",
   "execution_count": 25,
   "metadata": {},
   "outputs": [
    {
     "data": {
      "text/plain": [
       "[[2, 0], [-3, 6]]"
      ]
     },
     "execution_count": 25,
     "metadata": {},
     "output_type": "execute_result"
    }
   ],
   "source": [
    "# 3행 1열\n",
    "[A[0][:0]+A[0][0+1:], A[1][:0]+A[1][0+1:]] "
   ]
  },
  {
   "cell_type": "code",
   "execution_count": 26,
   "metadata": {},
   "outputs": [
    {
     "data": {
      "text/plain": [
       "[[3, 0], [-1, 6]]"
      ]
     },
     "execution_count": 26,
     "metadata": {},
     "output_type": "execute_result"
    }
   ],
   "source": [
    "# 3행 2열\n",
    "[A[0][:1]+A[0][1+1:], A[1][:1]+A[1][1+1:]] "
   ]
  },
  {
   "cell_type": "code",
   "execution_count": 27,
   "metadata": {},
   "outputs": [
    {
     "data": {
      "text/plain": [
       "[[3, 2], [-1, -3]]"
      ]
     },
     "execution_count": 27,
     "metadata": {},
     "output_type": "execute_result"
    }
   ],
   "source": [
    "# 3행 3열\n",
    "[A[0][:2]+A[0][2+1:], A[1][:2]+A[1][2+1:]] "
   ]
  },
  {
   "cell_type": "code",
   "execution_count": 28,
   "metadata": {},
   "outputs": [],
   "source": [
    "def zero_mat(n, p):\n",
    "    \"\"\"\n",
    "    영 행렬 생성\n",
    "    입력값: 생성하고자 할 영 행렬의 크기 n행, p열\n",
    "    출력값: nxp 영 행렬 Z\n",
    "    \"\"\"\n",
    "    Z = []\n",
    "    for i in range(0, n):\n",
    "        row = []\n",
    "        for j in range(0, p):\n",
    "            row.append(0)\n",
    "        Z.append(row)\n",
    "    return Z\n",
    "\n",
    "\n",
    "def deepcopy(A):\n",
    "    \"\"\"\n",
    "    깊은 복사(deepcopy) 구현\n",
    "    입력값: 깊은 복사를 하고자 하는 행렬 리스트 A\n",
    "    출력값: 깊은 복사 된 결과 행렬 리스트 res \n",
    "    \"\"\"\n",
    "    if type(A[0]) == list:\n",
    "        n = len(A)\n",
    "        p = len(A[0])\n",
    "        res = zero_mat(n,p)\n",
    "        for i in range(0,n):\n",
    "            for j in range(0,p):\n",
    "                res[i][j] = A[i][j]\n",
    "        return res\n",
    "    else:\n",
    "        n = len(A)\n",
    "        res = []\n",
    "        for i in range(0,n):\n",
    "            res.append(A[i])\n",
    "        return res\n",
    "\n",
    "def det_rec(A):\n",
    "    \n",
    "    \"\"\"\n",
    "    행렬 A의 행렬식 구하기(재귀 방식을 이용)\n",
    "    입력값: 행렬식을 구하고자 하는 행렬 A\n",
    "    출력값: 행렬 A의 행렬식 res\n",
    "    \"\"\"\n",
    "        \n",
    "    n = len(A)\n",
    "    res = 0\n",
    "\n",
    "    # 2x2 행렬의 행렬식 구하기\n",
    "    if n == 2:\n",
    "        res = A[0][0] * A[1][1] - A[1][0] * A[0][1]\n",
    "        return res\n",
    "\n",
    "    # nxn 행렬의 행렬식 구하기\n",
    "    for i in range(0,n):  \n",
    "        X = deepcopy(A)  \n",
    "        X = X[1:]  \n",
    "        nx = len(X)\n",
    "\n",
    "        for j in range(0,nx):  \n",
    "            X[j] = X[j][0:i] + X[j][i+1:]  \n",
    "\n",
    "        sign = (-1) ** (i % 2)  \n",
    "        sub_det = det_rec(X)  \n",
    "        res += sign * A[0][i] * sub_det \n",
    "\n",
    "    return res"
   ]
  },
  {
   "cell_type": "code",
   "execution_count": 29,
   "metadata": {
    "scrolled": true
   },
   "outputs": [],
   "source": [
    "C = []\n",
    "for i in range(0, n):\n",
    "    row_C = []\n",
    "    idx_r = list(range(0, n))\n",
    "    idx_r.remove(i)\n",
    "    for j in range(0, n):\n",
    "        idx_c = list(range(0,n))\n",
    "        idx_c.remove(j)\n",
    "        M = []\n",
    "        for k in idx_r:\n",
    "            row_M = []\n",
    "            for l in idx_c:\n",
    "                val = A[k][l]\n",
    "                row_M.append(val)\n",
    "            M.append(row_M)\n",
    "        Mij = det_rec(M)\n",
    "        Cij = ((-1)**(i+j))*Mij\n",
    "        row_C.append(Cij)\n",
    "    C.append(row_C)"
   ]
  },
  {
   "cell_type": "code",
   "execution_count": 30,
   "metadata": {},
   "outputs": [
    {
     "data": {
      "text/plain": [
       "[[-3, 7, 3], [10, -15, -5], [12, -18, -7]]"
      ]
     },
     "execution_count": 30,
     "metadata": {},
     "output_type": "execute_result"
    }
   ],
   "source": [
    "C"
   ]
  },
  {
   "cell_type": "markdown",
   "metadata": {},
   "source": [
    "# 수반 행렬"
   ]
  },
  {
   "cell_type": "code",
   "execution_count": 31,
   "metadata": {},
   "outputs": [],
   "source": [
    "def transpose(A):\n",
    "    \"\"\"\n",
    "    행렬의 전치행렬\n",
    "    입력값: 전치행렬을 구하고자 하는 행렬 A\n",
    "    출력값: 행렬 A의 전치행렬 At\n",
    "    \"\"\"\n",
    "    n = len(A)\n",
    "    p = len(A[0])\n",
    "\n",
    "    At  = []\n",
    "    for i in range(0, p):\n",
    "        row = []\n",
    "        for j in range(0, n):\n",
    "            val = A[j][i]\n",
    "            row.append(val)\n",
    "        At.append(row)\n",
    "    return At    "
   ]
  },
  {
   "cell_type": "code",
   "execution_count": 32,
   "metadata": {},
   "outputs": [
    {
     "name": "stdout",
     "output_type": "stream",
     "text": [
      "[[-3, 10, 12], [7, -15, -18], [3, -5, -7]]\n"
     ]
    }
   ],
   "source": [
    "adj = transpose(C)\n",
    "print(adj)"
   ]
  },
  {
   "cell_type": "markdown",
   "metadata": {},
   "source": [
    "# 역행렬"
   ]
  },
  {
   "cell_type": "code",
   "execution_count": 33,
   "metadata": {},
   "outputs": [],
   "source": [
    "def scalar_mul(b, A):\n",
    "    \"\"\"\n",
    "    행렬의 스칼라곱\n",
    "    입력값: 스칼라곱을 수행할 스칼라 b, 행렬 A\n",
    "    출력값: 스칼라 b와 행렬 A의 스칼라곱 결과인 행렬 res\n",
    "    \"\"\"\n",
    "\n",
    "    n = len(A)\n",
    "    p = len(A[0])\n",
    "    \n",
    "    res = []\n",
    "    for i in range(0, n):\n",
    "        row = []\n",
    "        for j in range(0, p):\n",
    "            val = b * A[i][j]\n",
    "            row.append(val)\n",
    "        res.append(row)\n",
    "    return res"
   ]
  },
  {
   "cell_type": "code",
   "execution_count": 39,
   "metadata": {},
   "outputs": [],
   "source": [
    "invA = scalar_mul(1/detA, adj)"
   ]
  },
  {
   "cell_type": "code",
   "execution_count": 40,
   "metadata": {},
   "outputs": [
    {
     "data": {
      "text/plain": [
       "[[-0.6000000000000001, 2.0, 2.4000000000000004],\n",
       " [1.4000000000000001, -3.0, -3.6],\n",
       " [0.6000000000000001, -1.0, -1.4000000000000001]]"
      ]
     },
     "execution_count": 40,
     "metadata": {},
     "output_type": "execute_result"
    }
   ],
   "source": [
    "invA"
   ]
  },
  {
   "cell_type": "markdown",
   "metadata": {},
   "source": [
    "# 함수로 구현 하기"
   ]
  },
  {
   "cell_type": "code",
   "execution_count": 36,
   "metadata": {},
   "outputs": [],
   "source": [
    "def zero_mat(n, p):\n",
    "    \"\"\"\n",
    "    영 행렬 생성\n",
    "    입력값: 생성하고자 할 영 행렬의 크기 n행, p열\n",
    "    출력값: nxp 영 행렬 Z\n",
    "    \"\"\"\n",
    "    Z = []\n",
    "    for i in range(0, n):\n",
    "        row = []\n",
    "        for j in range(0, p):\n",
    "            row.append(0)\n",
    "        Z.append(row)\n",
    "    return Z\n",
    "\n",
    "\n",
    "def deepcopy(A):\n",
    "    \"\"\"\n",
    "    깊은 복사(deepcopy) 구현\n",
    "    입력값: 깊은 복사를 하고자 하는 행렬 리스트 A\n",
    "    출력값: 깊은 복사 된 결과 행렬 리스트 res \n",
    "    \"\"\"\n",
    "    if type(A[0]) == list:\n",
    "        n = len(A)\n",
    "        p = len(A[0])\n",
    "        res = zero_mat(n,p)\n",
    "        for i in range(0,n):\n",
    "            for j in range(0,p):\n",
    "                res[i][j] = A[i][j]\n",
    "        return res\n",
    "    else:\n",
    "        n = len(A)\n",
    "        res = []\n",
    "        for i in range(0,n):\n",
    "            res.append(A[i])\n",
    "        return res\n",
    "\n",
    "def transpose(A):\n",
    "    \"\"\"\n",
    "    행렬의 전치행렬\n",
    "    입력값: 전치행렬을 구하고자 하는 행렬 A\n",
    "    출력값: 행렬 A의 전치행렬 At\n",
    "    \"\"\"\n",
    "    n = len(A)\n",
    "    p = len(A[0])\n",
    "\n",
    "    At  = []\n",
    "    for i in range(0, p):\n",
    "        row = []\n",
    "        for j in range(0, n):\n",
    "            val = A[j][i]\n",
    "            row.append(val)\n",
    "        At.append(row)\n",
    "    return At    \n",
    "\n",
    "\n",
    "def scalar_mul(b, A):\n",
    "    \"\"\"\n",
    "    행렬의 스칼라곱\n",
    "    입력값: 스칼라곱을 수행할 스칼라 b, 행렬 A\n",
    "    출력값: 스칼라 b와 행렬 A의 스칼라곱 결과인 행렬 res\n",
    "    \"\"\"\n",
    "\n",
    "    n = len(A)\n",
    "    p = len(A[0])\n",
    "    \n",
    "    res = []\n",
    "    for i in range(0, n):\n",
    "        row = []\n",
    "        for j in range(0, p):\n",
    "            val = b * A[i][j]\n",
    "            row.append(val)\n",
    "        res.append(row)\n",
    "    return res\n",
    "\n",
    "\n",
    "\n",
    "def det_rec(A):\n",
    "    \n",
    "    \"\"\"\n",
    "    행렬 A의 행렬식 구하기(재귀 방식을 이용)\n",
    "    입력값: 행렬식을 구하고자 하는 행렬 A\n",
    "    출력값: 행렬 A의 행렬식 res\n",
    "    \"\"\"\n",
    "        \n",
    "    n = len(A)\n",
    "    res = 0\n",
    "\n",
    "    # 2x2 행렬의 행렬식 구하기\n",
    "    if n == 2:\n",
    "        res = A[0][0] * A[1][1] - A[1][0] * A[0][1]\n",
    "        return res\n",
    "\n",
    "    # nxn 행렬의 행렬식 구하기\n",
    "    for i in range(0,n):  \n",
    "        X = deepcopy(A)  \n",
    "        X = X[1:]  \n",
    "        nx = len(X)\n",
    "\n",
    "        for j in range(0,nx):  \n",
    "            X[j] = X[j][0:i] + X[j][i+1:]  \n",
    "\n",
    "        sign = (-1) ** (i % 2)  \n",
    "        sub_det = det_rec(X)  \n",
    "        res += sign * A[0][i] * sub_det \n",
    "\n",
    "    return res\n",
    "\n",
    "\n",
    "\n",
    "    \n",
    "def inv(A):\n",
    "    \"\"\"\n",
    "    행렬 A의 역행렬 구하기\n",
    "    입력값: 행렬 A\n",
    "    출력값: 행렬 A의 역행렬 res\n",
    "    \"\"\"\n",
    "    \n",
    "    n = len(A)\n",
    "    X = deepcopy(A)\n",
    "    \n",
    "    C = []\n",
    "    for i in range(0, n):\n",
    "        row_C = []\n",
    "        idx_r = list(range(0, n))\n",
    "        idx_r.remove(i)\n",
    "        for j in range(0, n):\n",
    "            idx_c = list(range(0,n))\n",
    "            idx_c.remove(j)\n",
    "            M = []\n",
    "            for k in idx_r:\n",
    "                row_M = []\n",
    "                for l in idx_c:\n",
    "                    val = X[k][l]\n",
    "                    row_M.append(val)\n",
    "                M.append(row_M)\n",
    "            Mij = det_rec(M)\n",
    "            Cij = ((-1)**(i+j))*Mij\n",
    "            row_C.append(Cij)\n",
    "        C.append(row_C)\n",
    "    \n",
    "    adj = transpose(C)\n",
    "    res = scalar_mul(1/det_rec(X), adj)\n",
    "    \n",
    "    return res"
   ]
  },
  {
   "cell_type": "code",
   "execution_count": 37,
   "metadata": {},
   "outputs": [],
   "source": [
    "A = [[3,2,0], [-1,-3,6], [2,3,-5]]"
   ]
  },
  {
   "cell_type": "code",
   "execution_count": 38,
   "metadata": {},
   "outputs": [
    {
     "data": {
      "text/plain": [
       "[[-0.6000000000000001, 2.0, 2.4000000000000004],\n",
       " [1.4000000000000001, -3.0, -3.6],\n",
       " [0.6000000000000001, -1.0, -1.4000000000000001]]"
      ]
     },
     "execution_count": 38,
     "metadata": {},
     "output_type": "execute_result"
    }
   ],
   "source": [
    "inv(A)"
   ]
  },
  {
   "cell_type": "code",
   "execution_count": null,
   "metadata": {},
   "outputs": [],
   "source": []
  }
 ],
 "metadata": {
  "kernelspec": {
   "display_name": "Python 3",
   "language": "python",
   "name": "python3"
  },
  "language_info": {
   "codemirror_mode": {
    "name": "ipython",
    "version": 3
   },
   "file_extension": ".py",
   "mimetype": "text/x-python",
   "name": "python",
   "nbconvert_exporter": "python",
   "pygments_lexer": "ipython3",
   "version": "3.8.5"
  }
 },
 "nbformat": 4,
 "nbformat_minor": 4
}
