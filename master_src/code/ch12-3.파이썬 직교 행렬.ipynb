{
 "cells": [
  {
   "cell_type": "code",
   "execution_count": 2,
   "metadata": {},
   "outputs": [],
   "source": [
    "def transpose(A):\n",
    "    \"\"\"\n",
    "    행렬의 전치행렬\n",
    "    입력값: 전치행렬을 구하고자 하는 행렬 A\n",
    "    출력값: 행렬 A의 전치행렬 At\n",
    "    \"\"\"\n",
    "    n = len(A)\n",
    "    p = len(A[0])\n",
    "\n",
    "    At  = []\n",
    "    for i in range(0, p):\n",
    "        row = []\n",
    "        for j in range(0, n):\n",
    "            val = A[j][i]\n",
    "            row.append(val)\n",
    "        At.append(row)\n",
    "    return At\n",
    "\n",
    "\n",
    "def matmul(A, B):    \n",
    "    \"\"\"\n",
    "    행렬의 행렬곱\n",
    "    입력값: 행렬곱을 수행할 행렬 A, B\n",
    "    출력값: 행렬 A와 행렬 B의 행렬곱 결과인 행렬 res\n",
    "    \"\"\"\n",
    "    n = len(A)\n",
    "    p1 = len(A[0])\n",
    "    p2 = len(B[0])\n",
    "\n",
    "    res = []\n",
    "    for i in range(0, n):\n",
    "        row = []\n",
    "        for j in range(0, p2):\n",
    "            val = 0\n",
    "            for k in range(0, p1):\n",
    "                val += A[i][k] * B[k][j] \n",
    "            row.append(val)    \n",
    "        res.append(row)\n",
    "    return res"
   ]
  },
  {
   "cell_type": "code",
   "execution_count": 3,
   "metadata": {},
   "outputs": [],
   "source": [
    "A = [[1/(2**0.5), -1/(2**0.5)], [1/(2**0.5), 1/(2**0.5)]]\n",
    "At = transpose(A)"
   ]
  },
  {
   "cell_type": "code",
   "execution_count": 4,
   "metadata": {},
   "outputs": [],
   "source": [
    "res = matmul(At, A)"
   ]
  },
  {
   "cell_type": "code",
   "execution_count": 6,
   "metadata": {},
   "outputs": [
    {
     "name": "stdout",
     "output_type": "stream",
     "text": [
      "[[0.9999999999999998, 0.0], [0.0, 0.9999999999999998]]\n"
     ]
    }
   ],
   "source": [
    "print(res)"
   ]
  },
  {
   "cell_type": "code",
   "execution_count": null,
   "metadata": {},
   "outputs": [],
   "source": []
  }
 ],
 "metadata": {
  "kernelspec": {
   "display_name": "Python 3",
   "language": "python",
   "name": "python3"
  },
  "language_info": {
   "codemirror_mode": {
    "name": "ipython",
    "version": 3
   },
   "file_extension": ".py",
   "mimetype": "text/x-python",
   "name": "python",
   "nbconvert_exporter": "python",
   "pygments_lexer": "ipython3",
   "version": "3.8.5"
  }
 },
 "nbformat": 4,
 "nbformat_minor": 4
}
