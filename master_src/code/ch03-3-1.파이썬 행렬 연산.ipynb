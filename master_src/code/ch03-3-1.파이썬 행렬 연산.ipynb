{
 "cells": [
  {
   "cell_type": "code",
   "execution_count": 6,
   "metadata": {},
   "outputs": [],
   "source": [
    "# 행렬의 덧셈\n",
    "A = [[2,7], [3,4], [6,1]]\n",
    "B = [[1,4], [4,-1], [2,5]]\n",
    "\n",
    "n = len(A)\n",
    "p = len(A[0])\n",
    "\n",
    "res = []\n",
    "for i in range(0, n):\n",
    "    row = []\n",
    "    for j in range(0, p):\n",
    "        val = A[i][j] + B[i][j]\n",
    "        row.append(val)\n",
    "    res.append(row)"
   ]
  },
  {
   "cell_type": "code",
   "execution_count": 7,
   "metadata": {},
   "outputs": [
    {
     "name": "stdout",
     "output_type": "stream",
     "text": [
      "[[3, 11], [7, 3], [8, 6]]\n"
     ]
    }
   ],
   "source": [
    "print(res)"
   ]
  },
  {
   "cell_type": "code",
   "execution_count": 11,
   "metadata": {},
   "outputs": [],
   "source": [
    "def add(A, B):\n",
    "    \"\"\"\n",
    "    행렬의 덧셈\n",
    "    입력값: 행렬의 덧셈을 수행할 행렬 A, B\n",
    "    출력값: 행렬 A와 행렬 B의 덧셈 결과인 행렬 res\n",
    "    \"\"\"\n",
    "\n",
    "    n = len(A)\n",
    "    p = len(A[0])\n",
    "\n",
    "    res = []\n",
    "    for i in range(0, n):\n",
    "        row = []\n",
    "        for j in range(0, p):\n",
    "            val = A[i][j] + B[i][j]\n",
    "            row.append(val)\n",
    "        res.append(row)\n",
    "    return res"
   ]
  },
  {
   "cell_type": "code",
   "execution_count": 12,
   "metadata": {},
   "outputs": [],
   "source": [
    "A = [[2,7], [3,4], [6,1]]\n",
    "B = [[1,4], [4,-1], [2,5]]"
   ]
  },
  {
   "cell_type": "code",
   "execution_count": 13,
   "metadata": {},
   "outputs": [
    {
     "data": {
      "text/plain": [
       "[[3, 11], [7, 3], [8, 6]]"
      ]
     },
     "execution_count": 13,
     "metadata": {},
     "output_type": "execute_result"
    }
   ],
   "source": [
    "add(A,B)"
   ]
  },
  {
   "cell_type": "code",
   "execution_count": 14,
   "metadata": {},
   "outputs": [],
   "source": [
    "# 행렬의 뺄셈\n",
    "A = [[2,7], [3,4], [6,1]]\n",
    "B = [[1,4], [4,-1], [2,5]]\n",
    "\n",
    "n = len(A)\n",
    "p = len(A[0])\n",
    "\n",
    "res = []\n",
    "for i in range(0, n):\n",
    "    row = []\n",
    "    for j in range(0, p):\n",
    "        val = A[i][j] - B[i][j]\n",
    "        row.append(val)\n",
    "    res.append(row)"
   ]
  },
  {
   "cell_type": "code",
   "execution_count": 15,
   "metadata": {},
   "outputs": [
    {
     "name": "stdout",
     "output_type": "stream",
     "text": [
      "[[1, 3], [-1, 5], [4, -4]]\n"
     ]
    }
   ],
   "source": [
    "print(res)"
   ]
  },
  {
   "cell_type": "code",
   "execution_count": 19,
   "metadata": {},
   "outputs": [],
   "source": [
    "def subtract(A, B):\n",
    "    \"\"\"\n",
    "    행렬의 뺄셈\n",
    "    입력값: 행렬의 뺄셈을 수행할 행렬 A, B\n",
    "    출력값: 행렬 A와 행렬 B의 뺄셈 결과인 행렬 res\n",
    "    \"\"\"\n",
    "    n = len(A)\n",
    "    p = len(A[0])\n",
    "\n",
    "    res = []\n",
    "    for i in range(0, n):\n",
    "        row = []\n",
    "        for j in range(0, p):\n",
    "            val = A[i][j] - B[i][j]\n",
    "            row.append(val)\n",
    "        res.append(row)\n",
    "    return res"
   ]
  },
  {
   "cell_type": "code",
   "execution_count": 20,
   "metadata": {},
   "outputs": [
    {
     "data": {
      "text/plain": [
       "[[1, 3], [-1, 5], [4, -4]]"
      ]
     },
     "execution_count": 20,
     "metadata": {},
     "output_type": "execute_result"
    }
   ],
   "source": [
    "A = [[2,7], [3,4], [6,1]]\n",
    "B = [[1,4], [4,-1], [2,5]]\n",
    "subtract(A, B)"
   ]
  },
  {
   "cell_type": "code",
   "execution_count": 21,
   "metadata": {},
   "outputs": [],
   "source": [
    "# 행렬의 스칼라곱\n",
    "A = [[2,7], [3,4], [6,1]]\n",
    "b = 2\n",
    "\n",
    "n = len(A)\n",
    "p = len(A[0])\n",
    "\n",
    "res = []\n",
    "for i in range(0, n):\n",
    "    row = []\n",
    "    for j in range(0, p):\n",
    "        val = b * A[i][j]\n",
    "        row.append(val)\n",
    "    res.append(row)"
   ]
  },
  {
   "cell_type": "code",
   "execution_count": 23,
   "metadata": {},
   "outputs": [
    {
     "name": "stdout",
     "output_type": "stream",
     "text": [
      "[[4, 14], [6, 8], [12, 2]]\n"
     ]
    }
   ],
   "source": [
    "print(res)"
   ]
  },
  {
   "cell_type": "code",
   "execution_count": 1,
   "metadata": {},
   "outputs": [],
   "source": [
    "def scalar_mul(b, A):\n",
    "    \"\"\"\n",
    "    행렬의 스칼라곱\n",
    "    입력값: 스칼라곱을 수행할 스칼라 b, 행렬 A\n",
    "    출력값: 스칼라 b와 행렬 A의 스칼라 곱 결과인 행렬 res\n",
    "    \"\"\"\n",
    "\n",
    "    n = len(A)\n",
    "    p = len(A[0])\n",
    "    \n",
    "    res = []\n",
    "    for i in range(0, n):\n",
    "        row = []\n",
    "        for j in range(0, p):\n",
    "            val = b * A[i][j]\n",
    "            row.append(val)\n",
    "        res.append(row)\n",
    "    return res"
   ]
  },
  {
   "cell_type": "code",
   "execution_count": 2,
   "metadata": {},
   "outputs": [
    {
     "data": {
      "text/plain": [
       "[[4, 14], [6, 8], [12, 2]]"
      ]
     },
     "execution_count": 2,
     "metadata": {},
     "output_type": "execute_result"
    }
   ],
   "source": [
    "A = [[2,7], [3,4], [6,1]]\n",
    "b = 2\n",
    "scalar_mul(b, A)"
   ]
  },
  {
   "cell_type": "code",
   "execution_count": 26,
   "metadata": {},
   "outputs": [],
   "source": [
    "# 행렬의 원소곱\n",
    "A = [[1,5], [6,4], [2,7]]\n",
    "B = [[5,-1], [1,2], [4,1]]\n",
    "\n",
    "n = len(A)\n",
    "p = len(A[0])\n",
    "\n",
    "res = []\n",
    "for i in range(0, n):\n",
    "    row = []\n",
    "    for j in range(0, p):\n",
    "        val = A[i][j] * B[i][j]\n",
    "        row.append(val)\n",
    "    res.append(row)"
   ]
  },
  {
   "cell_type": "code",
   "execution_count": 27,
   "metadata": {},
   "outputs": [
    {
     "name": "stdout",
     "output_type": "stream",
     "text": [
      "[[5, -5], [6, 8], [8, 7]]\n"
     ]
    }
   ],
   "source": [
    "print(res)"
   ]
  },
  {
   "cell_type": "code",
   "execution_count": 30,
   "metadata": {},
   "outputs": [],
   "source": [
    "def ele_product(A,B):\n",
    "    \"\"\"\n",
    "    행렬의 원소곱\n",
    "    입력값: 행렬의 원소곱을 수행할 행렬 A, B\n",
    "    출력값: 행렬 A와 행렬 B의 원소곱 결과인 행렬 res\n",
    "    \"\"\"\n",
    "    n = len(A)\n",
    "    p = len(A[0])\n",
    "\n",
    "    res = []\n",
    "    for i in range(0, n):\n",
    "        row = []\n",
    "        for j in range(0, p):\n",
    "            val = A[i][j] * B[i][j]\n",
    "            row.append(val)\n",
    "        res.append(row)\n",
    "    return res"
   ]
  },
  {
   "cell_type": "code",
   "execution_count": 31,
   "metadata": {},
   "outputs": [
    {
     "data": {
      "text/plain": [
       "[[5, -5], [6, 8], [8, 7]]"
      ]
     },
     "execution_count": 31,
     "metadata": {},
     "output_type": "execute_result"
    }
   ],
   "source": [
    "A = [[1,5], [6,4], [2,7]]\n",
    "B = [[5,-1], [1,2], [4,1]]\n",
    "ele_product(A,B)"
   ]
  },
  {
   "cell_type": "code",
   "execution_count": 36,
   "metadata": {},
   "outputs": [],
   "source": [
    "# 행렬곱\n",
    "A = [[2,7], [3,4], [5,2]]\n",
    "B = [[3,-3,5], [-1,2,-1]]\n",
    "\n",
    "n = len(A)\n",
    "p1 = len(A[0])\n",
    "p2 = len(B[0])\n",
    "\n",
    "res = []\n",
    "for i in range(0, n):\n",
    "    row = []\n",
    "    for j in range(0, p2):\n",
    "        val = 0\n",
    "        for k in range(0, p1):\n",
    "            val += A[i][k] * B[k][j] \n",
    "        row.append(val)    \n",
    "    res.append(row)"
   ]
  },
  {
   "cell_type": "code",
   "execution_count": 37,
   "metadata": {},
   "outputs": [
    {
     "name": "stdout",
     "output_type": "stream",
     "text": [
      "[[-1, 8, 3], [5, -1, 11], [13, -11, 23]]\n"
     ]
    }
   ],
   "source": [
    "print(res)"
   ]
  },
  {
   "cell_type": "code",
   "execution_count": 40,
   "metadata": {},
   "outputs": [],
   "source": [
    "def matmul(A, B):    \n",
    "    \"\"\"\n",
    "    행렬의 행렬곱\n",
    "    입력값: 행렬곱을 수행할 행렬 A, B\n",
    "    출력값: 행렬 A와 행렬 B의 행렬곱 결과인 행렬 res\n",
    "    \"\"\"\n",
    "    n = len(A)\n",
    "    p1 = len(A[0])\n",
    "    p2 = len(B[0])\n",
    "\n",
    "    res = []\n",
    "    for i in range(0, n):\n",
    "        row = []\n",
    "        for j in range(0, p2):\n",
    "            val = 0\n",
    "            for k in range(0, p1):\n",
    "                val += A[i][k] * B[k][j] \n",
    "            row.append(val)    \n",
    "        res.append(row)\n",
    "    return res"
   ]
  },
  {
   "cell_type": "code",
   "execution_count": 41,
   "metadata": {},
   "outputs": [
    {
     "data": {
      "text/plain": [
       "[[-1, 8, 3], [5, -1, 11], [13, -11, 23]]"
      ]
     },
     "execution_count": 41,
     "metadata": {},
     "output_type": "execute_result"
    }
   ],
   "source": [
    "A = [[2,7], [3,4], [5,2]]\n",
    "B = [[3,-3,5], [-1,2,-1]]\n",
    "matmul(A, B)"
   ]
  },
  {
   "cell_type": "code",
   "execution_count": null,
   "metadata": {},
   "outputs": [],
   "source": []
  }
 ],
 "metadata": {
  "kernelspec": {
   "display_name": "Python 3",
   "language": "python",
   "name": "python3"
  },
  "language_info": {
   "codemirror_mode": {
    "name": "ipython",
    "version": 3
   },
   "file_extension": ".py",
   "mimetype": "text/x-python",
   "name": "python",
   "nbconvert_exporter": "python",
   "pygments_lexer": "ipython3",
   "version": "3.8.5"
  }
 },
 "nbformat": 4,
 "nbformat_minor": 4
}
