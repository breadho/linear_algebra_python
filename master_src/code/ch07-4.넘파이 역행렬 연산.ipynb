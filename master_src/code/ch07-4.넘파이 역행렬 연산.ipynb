{
 "cells": [
  {
   "cell_type": "markdown",
   "metadata": {},
   "source": [
    "# 넘파이를 활용한 역행렬 계산"
   ]
  },
  {
   "cell_type": "code",
   "execution_count": 1,
   "metadata": {},
   "outputs": [],
   "source": [
    "import numpy as np"
   ]
  },
  {
   "cell_type": "code",
   "execution_count": 3,
   "metadata": {},
   "outputs": [
    {
     "name": "stdout",
     "output_type": "stream",
     "text": [
      "[[ 3  2  0]\n",
      " [-1 -3  6]\n",
      " [ 2  3 -5]]\n",
      "----\n",
      "[[-0.6  2.   2.4]\n",
      " [ 1.4 -3.  -3.6]\n",
      " [ 0.6 -1.  -1.4]]\n"
     ]
    }
   ],
   "source": [
    "A = np.array([[3,2,0], [-1,-3,6], [2,3,-5]])\n",
    "invA = np.linalg.inv(A)\n",
    "print(A)\n",
    "print('----')\n",
    "print(invA)"
   ]
  },
  {
   "cell_type": "code",
   "execution_count": null,
   "metadata": {},
   "outputs": [],
   "source": []
  }
 ],
 "metadata": {
  "kernelspec": {
   "display_name": "Python 3",
   "language": "python",
   "name": "python3"
  },
  "language_info": {
   "codemirror_mode": {
    "name": "ipython",
    "version": 3
   },
   "file_extension": ".py",
   "mimetype": "text/x-python",
   "name": "python",
   "nbconvert_exporter": "python",
   "pygments_lexer": "ipython3",
   "version": "3.8.5"
  }
 },
 "nbformat": 4,
 "nbformat_minor": 4
}
