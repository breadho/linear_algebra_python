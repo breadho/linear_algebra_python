{
 "cells": [
  {
   "cell_type": "markdown",
   "metadata": {},
   "source": [
    "# 파이썬 벡터 실습"
   ]
  },
  {
   "cell_type": "code",
   "execution_count": 5,
   "metadata": {},
   "outputs": [],
   "source": [
    "# 벡터 덧셈\n",
    "\n",
    "u = [1,2,3]\n",
    "v = [4,5,6]\n",
    "\n",
    "n = len(u)\n",
    "w = []\n",
    "\n",
    "for i in range(0, n):\n",
    "    val = u[i] + v[i]\n",
    "    w.append(val) "
   ]
  },
  {
   "cell_type": "code",
   "execution_count": 2,
   "metadata": {},
   "outputs": [
    {
     "name": "stdout",
     "output_type": "stream",
     "text": [
      "[5, 7, 9]\n"
     ]
    }
   ],
   "source": [
    "print(w)"
   ]
  },
  {
   "cell_type": "code",
   "execution_count": 3,
   "metadata": {},
   "outputs": [],
   "source": [
    "def v_add(u,v):\n",
    "    \"\"\"\n",
    "    벡터의 덧셈\n",
    "    입력값: 더하고자 하는 벡터 u, v\n",
    "    출력값: 벡터 u, v의 덧셈 결과 w\n",
    "    \"\"\"\n",
    "    n = len(u)\n",
    "    w = []\n",
    "\n",
    "    for i in range(0, n):\n",
    "        val = u[i] + v[i]\n",
    "        w.append(val) \n",
    "        \n",
    "    return w"
   ]
  },
  {
   "cell_type": "code",
   "execution_count": 6,
   "metadata": {},
   "outputs": [
    {
     "data": {
      "text/plain": [
       "[5, 7, 9]"
      ]
     },
     "execution_count": 6,
     "metadata": {},
     "output_type": "execute_result"
    }
   ],
   "source": [
    "u = [1,2,3]\n",
    "v = [4,5,6]\n",
    "v_add(u,v)"
   ]
  },
  {
   "cell_type": "code",
   "execution_count": 7,
   "metadata": {},
   "outputs": [],
   "source": [
    "# 벡터 뺄셈\n",
    "\n",
    "u = [7,3,9]\n",
    "v = [2,5,7]\n",
    "\n",
    "n = len(u)\n",
    "w = []\n",
    "\n",
    "for i in range(0, n):\n",
    "    val = u[i] - v[i]\n",
    "    w.append(val) "
   ]
  },
  {
   "cell_type": "code",
   "execution_count": 8,
   "metadata": {},
   "outputs": [
    {
     "name": "stdout",
     "output_type": "stream",
     "text": [
      "[5, -2, 2]\n"
     ]
    }
   ],
   "source": [
    "print(w)"
   ]
  },
  {
   "cell_type": "code",
   "execution_count": 9,
   "metadata": {},
   "outputs": [],
   "source": [
    "def v_subtract(u,v):\n",
    "    '''\n",
    "    벡터의 뺄셈\n",
    "    입력값: 빼고자하는 벡터 리스트 u,v\n",
    "    출력값: 벡터 u,v의 뺄셈 결과 w\n",
    "    '''\n",
    "    n = len(u)\n",
    "    w = []\n",
    "\n",
    "    for i in range(0, n):\n",
    "        val = u[i] - v[i]\n",
    "        w.append(val)\n",
    "    return w"
   ]
  },
  {
   "cell_type": "code",
   "execution_count": 12,
   "metadata": {},
   "outputs": [
    {
     "data": {
      "text/plain": [
       "[5, -2, 2]"
      ]
     },
     "execution_count": 12,
     "metadata": {},
     "output_type": "execute_result"
    }
   ],
   "source": [
    "u = [7,3,9]\n",
    "v = [2,5,7]\n",
    "v_subtract(u,v)"
   ]
  },
  {
   "cell_type": "code",
   "execution_count": 25,
   "metadata": {},
   "outputs": [],
   "source": [
    "# 스칼라와 벡터 곱\n",
    "\n",
    "u = [2,4,3]\n",
    "a = 3\n",
    "\n",
    "n = len(u)\n",
    "w = []\n",
    "\n",
    "for i in range(0, n):\n",
    "    val = a*u[i]\n",
    "    w.append(val) "
   ]
  },
  {
   "cell_type": "code",
   "execution_count": 26,
   "metadata": {},
   "outputs": [
    {
     "name": "stdout",
     "output_type": "stream",
     "text": [
      "[6, 12, 9]\n"
     ]
    }
   ],
   "source": [
    "print(w)"
   ]
  },
  {
   "cell_type": "code",
   "execution_count": 14,
   "metadata": {},
   "outputs": [],
   "source": [
    "def scalar_v_mul(a,u):\n",
    "    '''\n",
    "    벡터의 스칼라 곱\n",
    "    입력값: 스칼라 a, 벡터 리스트 u\n",
    "    출력값: 스칼라 a와 벡터 리스트 u의 곱 결과 w\n",
    "    '''\n",
    "    n = len(u)\n",
    "    w = []\n",
    "\n",
    "    for i in range(0, n):\n",
    "        val = a*u[i]\n",
    "        w.append(val) \n",
    "        \n",
    "    return w"
   ]
  },
  {
   "cell_type": "code",
   "execution_count": 15,
   "metadata": {},
   "outputs": [
    {
     "data": {
      "text/plain": [
       "[6, 12, 9]"
      ]
     },
     "execution_count": 15,
     "metadata": {},
     "output_type": "execute_result"
    }
   ],
   "source": [
    "u = [2,4,3]\n",
    "a = 3\n",
    "scalar_v_mul(a, u)"
   ]
  },
  {
   "cell_type": "code",
   "execution_count": 16,
   "metadata": {},
   "outputs": [],
   "source": [
    "# 벡터 곱셈\n",
    "\n",
    "u = [1,2,4]\n",
    "v = [7,3,2]\n",
    "\n",
    "n = len(u)\n",
    "w = []\n",
    "\n",
    "for i in range(0, n):\n",
    "    val = u[i] * v[i]\n",
    "    w.append(val) "
   ]
  },
  {
   "cell_type": "code",
   "execution_count": 17,
   "metadata": {},
   "outputs": [
    {
     "name": "stdout",
     "output_type": "stream",
     "text": [
      "[7, 6, 8]\n"
     ]
    }
   ],
   "source": [
    "print(w)"
   ]
  },
  {
   "cell_type": "code",
   "execution_count": 18,
   "metadata": {},
   "outputs": [],
   "source": [
    "def v_mul(u,v):\n",
    "    \"\"\"\n",
    "    벡터의 원소 곱\n",
    "    입력값: 원소 곱 하고자할 벡터 리스트 u, v\n",
    "    출력값: 벡터 u, v의 원소 곱 결과 w\n",
    "    \"\"\"\n",
    "    n = len(u)\n",
    "    w = []\n",
    "\n",
    "    for i in range(0, n):\n",
    "        val = u[i] * v[i]\n",
    "        w.append(val) \n",
    "    \n",
    "    return w"
   ]
  },
  {
   "cell_type": "code",
   "execution_count": 19,
   "metadata": {},
   "outputs": [
    {
     "data": {
      "text/plain": [
       "[7, 6, 8]"
      ]
     },
     "execution_count": 19,
     "metadata": {},
     "output_type": "execute_result"
    }
   ],
   "source": [
    "u = [1,2,4]\n",
    "v = [7,3,2]\n",
    "v_mul(u,v)"
   ]
  },
  {
   "cell_type": "code",
   "execution_count": 19,
   "metadata": {},
   "outputs": [],
   "source": [
    "# 벡터 나눗셈\n",
    "\n",
    "u = [6,5,9]\n",
    "v = [2,2,-3]\n",
    "\n",
    "n = len(u)\n",
    "w = []\n",
    "\n",
    "for i in range(0, n):\n",
    "    val = u[i] / v[i]\n",
    "    w.append(val) "
   ]
  },
  {
   "cell_type": "code",
   "execution_count": 52,
   "metadata": {},
   "outputs": [
    {
     "name": "stdout",
     "output_type": "stream",
     "text": [
      "[3.0, 2.5, -3.0]\n"
     ]
    }
   ],
   "source": [
    "print(w)"
   ]
  },
  {
   "cell_type": "code",
   "execution_count": 21,
   "metadata": {},
   "outputs": [],
   "source": [
    "def v_div(u,v):\n",
    "    \"\"\"\n",
    "    벡터의 원소 나눗셈\n",
    "    입력값: 원소 나눗셈 하고자할 벡터 리스트 u, v\n",
    "    출력값: 벡터 u, v의 원소 나눗셈 결과 w    \n",
    "    \"\"\"\n",
    "    n = len(u)\n",
    "    w = []\n",
    "\n",
    "    for i in range(0, n):\n",
    "        val = u[i] / v[i]\n",
    "        w.append(val) \n",
    "    \n",
    "    return w"
   ]
  },
  {
   "cell_type": "code",
   "execution_count": 22,
   "metadata": {},
   "outputs": [
    {
     "data": {
      "text/plain": [
       "[3.0, 2.5, -3.0]"
      ]
     },
     "execution_count": 22,
     "metadata": {},
     "output_type": "execute_result"
    }
   ],
   "source": [
    "u = [6,5,9]\n",
    "v = [2,2,-3]\n",
    "v_div(u,v)"
   ]
  }
 ],
 "metadata": {
  "kernelspec": {
   "display_name": "Python 3",
   "language": "python",
   "name": "python3"
  },
  "language_info": {
   "codemirror_mode": {
    "name": "ipython",
    "version": 3
   },
   "file_extension": ".py",
   "mimetype": "text/x-python",
   "name": "python",
   "nbconvert_exporter": "python",
   "pygments_lexer": "ipython3",
   "version": "3.8.5"
  }
 },
 "nbformat": 4,
 "nbformat_minor": 4
}
