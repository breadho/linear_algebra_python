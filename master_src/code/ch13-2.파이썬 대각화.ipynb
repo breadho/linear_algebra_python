{
 "cells": [
  {
   "cell_type": "markdown",
   "metadata": {},
   "source": [
    "# 고윳값 분해"
   ]
  },
  {
   "cell_type": "code",
   "execution_count": 2,
   "metadata": {},
   "outputs": [],
   "source": [
    "def zero_mat(n, p):\n",
    "    \"\"\"\n",
    "    영 행렬 생성\n",
    "    입력값: 생성하고자 할 영 행렬의 크기 n행, p열\n",
    "    출력값: nxp 영 행렬 Z\n",
    "    \"\"\"\n",
    "    Z = []\n",
    "    for i in range(0, n):\n",
    "        row = []\n",
    "        for j in range(0, p):\n",
    "            row.append(0)\n",
    "        Z.append(row)\n",
    "    return Z\n",
    "\n",
    "\n",
    "\n",
    "def deepcopy(A):\n",
    "    \"\"\"\n",
    "    깊은 복사(deepcopy) 구현\n",
    "    입력값: 깊은 복사를 하고자 하는 행렬 리스트 A\n",
    "    출력값: 깊은 복사 된 결과 행렬 리스트 res \n",
    "    \"\"\"\n",
    "    if type(A[0]) == list:\n",
    "        n = len(A)\n",
    "        p = len(A[0])\n",
    "        res = zero_mat(n,p)\n",
    "        for i in range(0,n):\n",
    "            for j in range(0,p):\n",
    "                res[i][j] = A[i][j]\n",
    "        return res\n",
    "    else:\n",
    "        n = len(A)\n",
    "        res = []\n",
    "        for i in range(0,n):\n",
    "            res.append(A[i])\n",
    "        return res\n",
    "\n",
    "\n",
    "def norm(a):\n",
    "    \"\"\"\n",
    "    벡터의 norm\n",
    "    입력값: norm을 구하고자 할 벡터 a\n",
    "    출력값: 벡터 a의 norm 결과 res\n",
    "    \"\"\"\n",
    "    n = len(a)\n",
    "    res = 0\n",
    "    for i in range(0, n):\n",
    "        res += a[i]**2\n",
    "    res = res**(0.5)   \n",
    "    return res\n",
    "\n",
    "\n",
    "\n",
    "def inner_product(a, b):\n",
    "    \"\"\"\n",
    "    벡터의 내적\n",
    "    입력값: 내적할 벡터 리스트 a, b\n",
    "    출력값: 벡터 a, b의 내적 결과 res\n",
    "    \"\"\"\n",
    "    n = len(a)\n",
    "    res = 0\n",
    "    for i in range(0, n):\n",
    "        res += a[i]*b[i]\n",
    "    return res\n",
    "\n",
    "\n",
    "def normalize(a):\n",
    "    \"\"\"\n",
    "    벡터 a의 normalization\n",
    "    벡터 a의 norm을 1로 만들어줌\n",
    "    입력값: normalization할 벡터 리스트 a\n",
    "    출력값: 벡터 a를 normalization한 결과 벡터 리스트 v\n",
    "    \"\"\"\n",
    "    n = len(a)\n",
    "    v = []\n",
    "    for i in range(0,n):\n",
    "        tmp = a[i]/norm(a)\n",
    "        v.append(tmp)\n",
    "    return v\n",
    "\n",
    "\n",
    "\n",
    "def diag_ele(A):\n",
    "    \"\"\"\n",
    "    대각 원소 구하기\n",
    "    입력값: 대각 원소를 구하고자 할 행렬 A\n",
    "    출력값: 행렬 A의 대각 원소 리스트 d\n",
    "    \"\"\"\n",
    "    n = len(A)\n",
    "    d = []\n",
    "    for i in range(0, n):\n",
    "        d.append(A[i][i])\n",
    "    return d\n",
    "\n",
    "def ele2diag(a):\n",
    "    \"\"\"\n",
    "    대각원소 -> 대각행렬 변환\n",
    "    입력값: 대각 원소 리스트 a\n",
    "    출력값: 대각 원소 a를 이용해 생성한 nxn 대각 행렬 D\n",
    "    n: 대각 원소 리스트 a의 길이\n",
    "    \"\"\"\n",
    "    n = len(a)\n",
    "    D = []\n",
    "    for i in range(0, n):\n",
    "        row = []\n",
    "        for j in range(0, n):\n",
    "            if i==j:\n",
    "                row.append(a[i])\n",
    "            else:\n",
    "                row.append(0)\n",
    "        D.append(row)\n",
    "    return D\n",
    "\n",
    "\n",
    "def identity(n):\n",
    "    \"\"\"\n",
    "    항등행렬 생성\n",
    "    입력값: 항등 행렬의 크기 n\n",
    "    출력값: nxn 항등 행렬 I\n",
    "    \"\"\"\n",
    "    I  = []\n",
    "    for i in range(0, n):\n",
    "        row = []\n",
    "        for j in range(0, n):\n",
    "            if i==j:\n",
    "                row.append(1)\n",
    "            else:\n",
    "                row.append(0)\n",
    "        I.append(row)\n",
    "    return I\n",
    "\n",
    "\n",
    "\n",
    "def transpose(A):\n",
    "    \"\"\"\n",
    "    행렬의 전치행렬\n",
    "    입력값: 전치행렬을 구하고자 하는 행렬 A\n",
    "    출력값: 행렬 A의 전치행렬 At\n",
    "    \"\"\"\n",
    "    n = len(A)\n",
    "    p = len(A[0])\n",
    "\n",
    "    At  = []\n",
    "    for i in range(0, p):\n",
    "        row = []\n",
    "        for j in range(0, n):\n",
    "            val = A[j][i]\n",
    "            row.append(val)\n",
    "        At.append(row)\n",
    "    return At\n",
    "\n",
    "\n",
    "\n",
    "\n",
    "def matmul(A, B):    \n",
    "    \"\"\"\n",
    "    행렬의 행렬곱\n",
    "    입력값: 행렬곱을 수행할 행렬 A, B\n",
    "    출력값: 행렬 A와 행렬 B의 행렬곱 결과인 행렬 res\n",
    "    \"\"\"\n",
    "    n = len(A)\n",
    "    p1 = len(A[0])\n",
    "    p2 = len(B[0])\n",
    "\n",
    "    res = []\n",
    "    for i in range(0, n):\n",
    "        row = []\n",
    "        for j in range(0, p2):\n",
    "            val = 0\n",
    "            for k in range(0, p1):\n",
    "                val += A[i][k] * B[k][j] \n",
    "            row.append(val)    \n",
    "        res.append(row)\n",
    "    return res\n",
    "\n",
    "\n",
    "def qr_gram(A):\n",
    "    \"\"\"\n",
    "    그램 슈미트 방법을 이용한 QR분해\n",
    "    입력값: 행렬 A\n",
    "    출력값: 행렬 A를 그램 슈미트 방법을 이용해 QR분해한 결과 행렬 Q, R\n",
    "    \"\"\"\n",
    "    n = len(A)\n",
    "    p = len(A[0])\n",
    "\n",
    "    At = transpose(A)\n",
    "\n",
    "    U = []\n",
    "    norm_list = []\n",
    "\n",
    "    V = []\n",
    "    Q = []\n",
    "    R = []\n",
    "\n",
    "    for i in range(0,n):\n",
    "        if i == 0:\n",
    "            u = At[i]\n",
    "            norm_u = norm(u)\n",
    "            U.append(u)\n",
    "            norm_list.append(norm_u)\n",
    "        else:\n",
    "            a = At[i]\n",
    "            dp_list = []\n",
    "            for j in range(0,i):\n",
    "                dp = inner_product(a, U[j])\n",
    "                dp_list.append(dp)\n",
    "\n",
    "            u = []\n",
    "            for j in range(0,n):\n",
    "                val = a[j]\n",
    "                for k in range(0,i):\n",
    "                    val -= (dp_list[k]/norm_list[k]**2)*U[k][j]\n",
    "                u.append(val)\n",
    "            norm_u = norm(u)\n",
    "            U.append(u)\n",
    "            norm_list.append(norm_u)\n",
    "\n",
    "        v = normalize(u)\n",
    "        V.append(v)        \n",
    "\n",
    "    Q = transpose(V)\n",
    "\n",
    "    for i in range(0,n):\n",
    "        r = []\n",
    "        for j in range(0,n):\n",
    "            if i > j:\n",
    "                r.append(0)\n",
    "            else:\n",
    "                r_ele = inner_product(At[j], V[i])\n",
    "                r.append(r_ele)\n",
    "        R.append(r)\n",
    "    \n",
    "    return Q, R"
   ]
  },
  {
   "cell_type": "code",
   "execution_count": 3,
   "metadata": {},
   "outputs": [],
   "source": [
    "def eig_qr(A):\n",
    "    \"\"\"\n",
    "    이 방법은 행렬 A가 대칭행렬이여야만 사용할수있음\n",
    "    QR분해를 이용한 고윳값, 고유벡터 구하기\n",
    "    인풋: 고윳값, 고유벡터를 구하고자 하는 행렬 A\n",
    "    아웃풋: E = 고윳값, V = 고유벡터\n",
    "    \"\"\"\n",
    "    n = len(A)\n",
    "    E = deepcopy(A)\n",
    "    V = identity(n)\n",
    "    for i in range(0, 30):\n",
    "        Q, R = qr_gram(E)\n",
    "        E = matmul(R, Q)\n",
    "        V = matmul(V, Q)\n",
    "    \n",
    "    return E, V"
   ]
  },
  {
   "cell_type": "code",
   "execution_count": 32,
   "metadata": {},
   "outputs": [],
   "source": [
    "# 행렬 설정\n",
    "A = [[1,2,3],[2,4,5],[3,5,3]]\n",
    "E, V = eig_qr(A)"
   ]
  },
  {
   "cell_type": "code",
   "execution_count": 33,
   "metadata": {},
   "outputs": [
    {
     "data": {
      "text/plain": [
       "[[9.907543212206955, -6.8732775569774905e-15, 3.474724106619529e-14],\n",
       " [1.0755984962622474e-20, -1.959064335867676, -3.5510377153525793e-14],\n",
       " [2.175605365599517e-67, -5.311047270506677e-47, 0.05152112366071964]]"
      ]
     },
     "execution_count": 33,
     "metadata": {},
     "output_type": "execute_result"
    }
   ],
   "source": [
    "E"
   ]
  },
  {
   "cell_type": "code",
   "execution_count": 34,
   "metadata": {},
   "outputs": [
    {
     "data": {
      "text/plain": [
       "[[0.3676251759151289, -0.43676432026222417, 0.8210290242002757],\n",
       " [0.670172238377567, -0.487671520940996, -0.559504833375983],\n",
       " [0.6447642212013409, 0.7559189217164602, 0.1134269934788576]]"
      ]
     },
     "execution_count": 34,
     "metadata": {},
     "output_type": "execute_result"
    }
   ],
   "source": [
    "V"
   ]
  },
  {
   "cell_type": "code",
   "execution_count": 35,
   "metadata": {},
   "outputs": [
    {
     "data": {
      "text/plain": [
       "[[1.0000000000000184, 1.9999999999999858, 3.000000000000059],\n",
       " [2.000000000000036, 3.9999999999999676, 4.999999999999968],\n",
       " [3.0000000000000564, 4.999999999999972, 3.0000000000000018]]"
      ]
     },
     "execution_count": 35,
     "metadata": {},
     "output_type": "execute_result"
    }
   ],
   "source": [
    "matmul(matmul(V, E), transpose(V))"
   ]
  },
  {
   "cell_type": "markdown",
   "metadata": {},
   "source": [
    "# 특이값 분해"
   ]
  },
  {
   "cell_type": "code",
   "execution_count": 11,
   "metadata": {},
   "outputs": [],
   "source": [
    "def diag(A):\n",
    "    \"\"\"\n",
    "    행렬의 대각행렬\n",
    "    입력값: 대각행렬을 구하고자 하는 행렬 A\n",
    "    출력값: 행렬 A의 대각행렬 D\n",
    "    \"\"\"\n",
    "    n = len(A)\n",
    "    D = []\n",
    "    for i in range(0, n):\n",
    "        row = []\n",
    "        for j in range(0, n):\n",
    "            if i==j:\n",
    "                row.append(A[i][j])\n",
    "            else:\n",
    "                row.append(0)\n",
    "        D.append(row)\n",
    "    return D"
   ]
  },
  {
   "cell_type": "code",
   "execution_count": 36,
   "metadata": {},
   "outputs": [],
   "source": [
    "def svd(A):\n",
    "    \"\"\"\n",
    "    svd를 이용한 고윳값, 고유벡터 구하기\n",
    "    입력값: 고윳값, 고유벡터를 구하고자 하는 행렬 A\n",
    "    출력값: U = 고유벡터, S = 특이값, Vt = AtA의 고유벡터\n",
    "    \"\"\"\n",
    "    At = transpose(A)\n",
    "    AtA = matmul(At, A)\n",
    "    E, V = eig_qr(AtA)\n",
    "    n = len(AtA)\n",
    "    for i in range(0, n):\n",
    "        E[i][i] = E[i][i]**0.5\n",
    "    S = diag(E)\n",
    "    Vt = transpose(V)\n",
    "    \n",
    "    AV = matmul(A, V)\n",
    "    AVt = transpose(AV)\n",
    "    Ut = []\n",
    "    for vector in AVt:\n",
    "        Ut.append(normalize(vector))\n",
    "    U = transpose(Ut)\n",
    "    return U, S, Vt"
   ]
  },
  {
   "cell_type": "code",
   "execution_count": 37,
   "metadata": {},
   "outputs": [],
   "source": [
    "B = [[3,6],[2,3],[1,2],[5,5]]"
   ]
  },
  {
   "cell_type": "code",
   "execution_count": 38,
   "metadata": {},
   "outputs": [],
   "source": [
    "U, S, Vt = svd(B)"
   ]
  },
  {
   "cell_type": "code",
   "execution_count": 39,
   "metadata": {},
   "outputs": [
    {
     "data": {
      "text/plain": [
       "[[0.6305881956601931, 0.650700514117642],\n",
       " [0.34294607553087336, 0.07207639573280454],\n",
       " [0.21019606522006434, 0.21690017137254733],\n",
       " [0.6637500515540449, -0.7241188781987142]]"
      ]
     },
     "execution_count": 39,
     "metadata": {},
     "output_type": "execute_result"
    }
   ],
   "source": [
    "U"
   ]
  },
  {
   "cell_type": "code",
   "execution_count": 16,
   "metadata": {},
   "outputs": [
    {
     "data": {
      "text/plain": [
       "[[10.50804075992959, 0], [0, 1.606573803987307]]"
      ]
     },
     "execution_count": 16,
     "metadata": {},
     "output_type": "execute_result"
    }
   ],
   "source": [
    "S"
   ]
  },
  {
   "cell_type": "code",
   "execution_count": 17,
   "metadata": {},
   "outputs": [
    {
     "data": {
      "text/plain": [
       "[[0.5811362175448531, 0.8138063016822007],\n",
       " [-0.8138063016822019, 0.5811362175448509]]"
      ]
     },
     "execution_count": 17,
     "metadata": {},
     "output_type": "execute_result"
    }
   ],
   "source": [
    "Vt"
   ]
  },
  {
   "cell_type": "code",
   "execution_count": 18,
   "metadata": {},
   "outputs": [
    {
     "data": {
      "text/plain": [
       "[[3.000000000000032, 5.999999999999975],\n",
       " [2.0000000000000098, 2.9999999999999933],\n",
       " [1.0000000000000104, 1.9999999999999913],\n",
       " [4.999999999999995, 5.000000000000007]]"
      ]
     },
     "execution_count": 18,
     "metadata": {},
     "output_type": "execute_result"
    }
   ],
   "source": [
    "matmul(matmul(U, S), Vt)"
   ]
  },
  {
   "cell_type": "code",
   "execution_count": null,
   "metadata": {},
   "outputs": [],
   "source": []
  }
 ],
 "metadata": {
  "kernelspec": {
   "display_name": "Python 3",
   "language": "python",
   "name": "python3"
  },
  "language_info": {
   "codemirror_mode": {
    "name": "ipython",
    "version": 3
   },
   "file_extension": ".py",
   "mimetype": "text/x-python",
   "name": "python",
   "nbconvert_exporter": "python",
   "pygments_lexer": "ipython3",
   "version": "3.8.5"
  }
 },
 "nbformat": 4,
 "nbformat_minor": 4
}
