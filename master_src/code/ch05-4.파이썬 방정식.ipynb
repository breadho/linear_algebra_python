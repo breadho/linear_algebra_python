{
 "cells": [
  {
   "cell_type": "code",
   "execution_count": 1,
   "metadata": {},
   "outputs": [],
   "source": [
    "X = [[3, 1, 2],[2, 6, -1],[4, 0, -1]]\n",
    "y = [5, 1, 3]"
   ]
  },
  {
   "cell_type": "code",
   "execution_count": 2,
   "metadata": {},
   "outputs": [
    {
     "name": "stdout",
     "output_type": "stream",
     "text": [
      "원본 행렬\n",
      "[3, 1, 2] 5\n",
      "[2, 6, -1] 1\n",
      "[4, 0, -1] 3\n"
     ]
    }
   ],
   "source": [
    "x0 = X[0]\n",
    "x1 = X[1]\n",
    "x2 = X[2]\n",
    "\n",
    "y0 = y[0]\n",
    "y1 = y[1]\n",
    "y2 = y[2]\n",
    "\n",
    "print('원본 행렬')\n",
    "print(x0, y0)\n",
    "print(x1, y1)\n",
    "print(x2, y2)"
   ]
  },
  {
   "cell_type": "code",
   "execution_count": 3,
   "metadata": {},
   "outputs": [
    {
     "name": "stdout",
     "output_type": "stream",
     "text": [
      "1행 x 1/3\n",
      "[1.0, 0.3333333333333333, 0.6666666666666666] 1.6666666666666665\n",
      "[2, 6, -1] 1\n",
      "[4, 0, -1] 3\n"
     ]
    }
   ],
   "source": [
    "# 1행 x 1/3\n",
    "tmp = 1/x0[0]\n",
    "x0 = [element * tmp for element in x0 ]  \n",
    "y0 = y0 * tmp\n",
    "\n",
    "print('1행 x 1/3')\n",
    "print(x0, y0)\n",
    "print(x1, y1)\n",
    "print(x2, y2)"
   ]
  },
  {
   "cell_type": "code",
   "execution_count": 4,
   "metadata": {},
   "outputs": [
    {
     "name": "stdout",
     "output_type": "stream",
     "text": [
      "[-2.0, -0.6666666666666666, -1.3333333333333333] -3.333333333333333\n",
      "1행 x -2 + 2행\n",
      "[1.0, 0.3333333333333333, 0.6666666666666666] 1.6666666666666665\n",
      "[0.0, 5.333333333333333, -2.333333333333333] -2.333333333333333\n",
      "[4, 0, -1] 3\n"
     ]
    }
   ],
   "source": [
    "# 1행 x -2 + 2행\n",
    "x0_tmp = [element * -x1[0] for element in x0]\n",
    "y0_tmp = y0 * -x1[0]\n",
    "print(x0_tmp, y0_tmp)\n",
    "\n",
    "for i in range(0, len(x0)):\n",
    "    x1[i] = x0_tmp[i] + x1[i]\n",
    "y1 = y0_tmp + y1\n",
    "\n",
    "print('1행 x -2 + 2행')\n",
    "print(x0, y0)\n",
    "print(x1, y1)\n",
    "print(x2, y2)"
   ]
  },
  {
   "cell_type": "code",
   "execution_count": 5,
   "metadata": {},
   "outputs": [
    {
     "name": "stdout",
     "output_type": "stream",
     "text": [
      "[-4.0, -1.3333333333333333, -2.6666666666666665] -6.666666666666666\n",
      "1행 x -4 + 3행\n",
      "[1.0, 0.3333333333333333, 0.6666666666666666] 1.6666666666666665\n",
      "[0.0, 5.333333333333333, -2.333333333333333] -2.333333333333333\n",
      "[0.0, -1.3333333333333333, -3.6666666666666665] -3.666666666666666\n"
     ]
    }
   ],
   "source": [
    "# 1행 x -4 + 3행\n",
    "x0_tmp = [element * -x2[0] for element in x0]\n",
    "y0_tmp = y0 * -x2[0]\n",
    "print(x0_tmp, y0_tmp)\n",
    "\n",
    "for i in range(0, len(x0)):\n",
    "    x2[i] = x0_tmp[i] + x2[i]\n",
    "y2 = y0_tmp + y2\n",
    "\n",
    "print('1행 x -4 + 3행')\n",
    "print(x0, y0)\n",
    "print(x1, y1)\n",
    "print(x2, y2)"
   ]
  },
  {
   "cell_type": "code",
   "execution_count": 6,
   "metadata": {},
   "outputs": [
    {
     "name": "stdout",
     "output_type": "stream",
     "text": [
      "2행 x 3/16\n",
      "[1.0, 0.3333333333333333, 0.6666666666666666] 1.6666666666666665\n",
      "[0.0, 1.0, -0.43749999999999994] -0.43749999999999994\n",
      "[0.0, -1.3333333333333333, -3.6666666666666665] -3.666666666666666\n"
     ]
    }
   ],
   "source": [
    "# 2행 x 3/16\n",
    "tmp = 1/x1[1]\n",
    "x1 = [element * tmp for element in x1 ]  \n",
    "y1 = y1 * tmp\n",
    "\n",
    "print('2행 x 3/16')\n",
    "print(x0, y0)\n",
    "print(x1, y1)\n",
    "print(x2, y2)"
   ]
  },
  {
   "cell_type": "code",
   "execution_count": 7,
   "metadata": {},
   "outputs": [
    {
     "name": "stdout",
     "output_type": "stream",
     "text": [
      "[0.0, 1.3333333333333333, -0.5833333333333333] -0.5833333333333333\n",
      "2행 x 4/3 + 3행\n",
      "[1.0, 0.3333333333333333, 0.6666666666666666] 1.6666666666666665\n",
      "[0.0, 1.0, -0.43749999999999994] -0.43749999999999994\n",
      "[0.0, 0.0, -4.25] -4.249999999999999\n"
     ]
    }
   ],
   "source": [
    "# 2행 x 4/3 + 3행\n",
    "x1_tmp = [element * -x2[1] for element in x1]\n",
    "y1_tmp = y1 * -x2[1]\n",
    "print(x1_tmp, y1_tmp)\n",
    "\n",
    "for i in range(0, len(x1)):\n",
    "    x2[i] = x1_tmp[i] + x2[i]\n",
    "y2 = y1_tmp + y2\n",
    "\n",
    "print('2행 x 4/3 + 3행')\n",
    "print(x0, y0)\n",
    "print(x1, y1)\n",
    "print(x2, y2)"
   ]
  },
  {
   "cell_type": "code",
   "execution_count": 8,
   "metadata": {},
   "outputs": [
    {
     "name": "stdout",
     "output_type": "stream",
     "text": [
      "3행 x (-4/51)\n",
      "[1.0, 0.3333333333333333, 0.6666666666666666] 1.6666666666666665\n",
      "[0.0, 1.0, -0.43749999999999994] -0.43749999999999994\n",
      "[-0.0, -0.0, 1.0] 0.9999999999999998\n"
     ]
    }
   ],
   "source": [
    "# 3행 x (-4/51)\n",
    "tmp = 1/x2[2]\n",
    "x2 = [element * tmp for element in x2]\n",
    "y2 = y2 * tmp\n",
    "\n",
    "print('3행 x (-4/51)')\n",
    "print(x0, y0)\n",
    "print(x1, y1)\n",
    "print(x2, y2)"
   ]
  },
  {
   "cell_type": "code",
   "execution_count": 9,
   "metadata": {},
   "outputs": [
    {
     "name": "stdout",
     "output_type": "stream",
     "text": [
      "[-0.0, -0.3333333333333333, 0.14583333333333331] 0.14583333333333331\n",
      "2행 x (-1/3) + 1행\n",
      "[1.0, 0.0, 0.8125] 1.8124999999999998\n",
      "[0.0, 1.0, -0.43749999999999994] -0.43749999999999994\n",
      "[-0.0, -0.0, 1.0] 0.9999999999999998\n"
     ]
    }
   ],
   "source": [
    "# 2행 x (-1/3) + 1행\n",
    "x1_tmp = [element * -x0[1] for element in x1]\n",
    "y1_tmp = y1 * -x0[1]\n",
    "print(x1_tmp, y1_tmp)\n",
    "\n",
    "for i in range(0, len(x1)):\n",
    "    x0[i] = x1_tmp[i] + x0[i]\n",
    "y0 = y1_tmp + y0\n",
    "\n",
    "print('2행 x (-1/3) + 1행')\n",
    "print(x0, y0)\n",
    "print(x1, y1)\n",
    "print(x2, y2)\n"
   ]
  },
  {
   "cell_type": "code",
   "execution_count": 10,
   "metadata": {},
   "outputs": [
    {
     "name": "stdout",
     "output_type": "stream",
     "text": [
      "[-0.0, -0.0, 0.43749999999999994] 0.43749999999999983\n",
      "3행 x (7/16) + 2행\n",
      "[1.0, 0.0, 0.8125] 1.8124999999999998\n",
      "[0.0, 1.0, 0.0] -1.1102230246251565e-16\n",
      "[-0.0, -0.0, 1.0] 0.9999999999999998\n"
     ]
    }
   ],
   "source": [
    "# 3행 x (7/16) + 2행\n",
    "x2_tmp = [element * -x1[2] for element in x2]\n",
    "y2_tmp = y2 * -x1[2]\n",
    "print(x2_tmp, y2_tmp)\n",
    "\n",
    "for i in range(0, len(x2)):\n",
    "    x1[i] = x2_tmp[i] + x1[i]\n",
    "y1 = y2_tmp + y1\n",
    "\n",
    "print('3행 x (7/16) + 2행')\n",
    "print(x0, y0)\n",
    "print(x1, y1)\n",
    "print(x2, y2)"
   ]
  },
  {
   "cell_type": "code",
   "execution_count": 11,
   "metadata": {},
   "outputs": [
    {
     "name": "stdout",
     "output_type": "stream",
     "text": [
      "[0.0, 0.0, -0.8125] -0.8124999999999998\n",
      "3행 x (-39/48) + 1행\n",
      "[1.0, 0.0, 0.0] 1.0\n",
      "[0.0, 1.0, 0.0] -1.1102230246251565e-16\n",
      "[-0.0, -0.0, 1.0] 0.9999999999999998\n"
     ]
    }
   ],
   "source": [
    "# 3행 x (-39/48) + 1행\n",
    "x2_tmp = [element * -x0[2] for element in x2]\n",
    "y2_tmp = y2 * -x0[2]\n",
    "print(x2_tmp, y2_tmp)\n",
    "\n",
    "for i in range(0, len(x2)):\n",
    "    x0[i] = x2_tmp[i] + x0[i]\n",
    "y0 = y2_tmp + y0\n",
    "\n",
    "print('3행 x (-39/48) + 1행')\n",
    "print(x0, y0)\n",
    "print(x1, y1)\n",
    "print(x2, y2)"
   ]
  },
  {
   "cell_type": "code",
   "execution_count": 12,
   "metadata": {},
   "outputs": [
    {
     "name": "stdout",
     "output_type": "stream",
     "text": [
      "[1.0, -1.1102230246251565e-16, 0.9999999999999998]\n"
     ]
    }
   ],
   "source": [
    "sol = [y0, y1, y2]\n",
    "print(sol)"
   ]
  },
  {
   "cell_type": "markdown",
   "metadata": {},
   "source": [
    "# 전체 코드"
   ]
  },
  {
   "cell_type": "code",
   "execution_count": 13,
   "metadata": {},
   "outputs": [
    {
     "name": "stdout",
     "output_type": "stream",
     "text": [
      "원본 행렬\n",
      "[3, 1, 2] 5\n",
      "[2, 6, -1] 1\n",
      "[4, 0, -1] 3\n",
      "=============\n",
      "1행 x 1/3\n",
      "[1.0, 0.3333333333333333, 0.6666666666666666] 1.6666666666666665\n",
      "[2, 6, -1] 1\n",
      "[4, 0, -1] 3\n",
      "=============\n",
      "[-2.0, -0.6666666666666666, -1.3333333333333333] -3.333333333333333\n",
      "1행 x -2 + 2행\n",
      "[1.0, 0.3333333333333333, 0.6666666666666666] 1.6666666666666665\n",
      "[0.0, 5.333333333333333, -2.333333333333333] -2.333333333333333\n",
      "[4, 0, -1] 3\n",
      "=============\n",
      "[-4.0, -1.3333333333333333, -2.6666666666666665] -6.666666666666666\n",
      "1행 x -4 + 3행\n",
      "[1.0, 0.3333333333333333, 0.6666666666666666] 1.6666666666666665\n",
      "[0.0, 5.333333333333333, -2.333333333333333] -2.333333333333333\n",
      "[0.0, -1.3333333333333333, -3.6666666666666665] -3.666666666666666\n",
      "=============\n",
      "2행 x 3/16\n",
      "[1.0, 0.3333333333333333, 0.6666666666666666] 1.6666666666666665\n",
      "[0.0, 1.0, -0.43749999999999994] -0.43749999999999994\n",
      "[0.0, -1.3333333333333333, -3.6666666666666665] -3.666666666666666\n",
      "=============\n",
      "[0.0, 1.3333333333333333, -0.5833333333333333] -0.5833333333333333\n",
      "2행 x 4/3 + 3행\n",
      "[1.0, 0.3333333333333333, 0.6666666666666666] 1.6666666666666665\n",
      "[0.0, 1.0, -0.43749999999999994] -0.43749999999999994\n",
      "[0.0, 0.0, -4.25] -4.249999999999999\n",
      "=============\n",
      "3행 x (-4/51)\n",
      "[1.0, 0.3333333333333333, 0.6666666666666666] 1.6666666666666665\n",
      "[0.0, 1.0, -0.43749999999999994] -0.43749999999999994\n",
      "[-0.0, -0.0, 1.0] 0.9999999999999998\n",
      "=============\n",
      "[-0.0, -0.3333333333333333, 0.14583333333333331] 0.14583333333333331\n",
      "2행 x (-1/3) + 1행\n",
      "[1.0, 0.0, 0.8125] 1.8124999999999998\n",
      "[0.0, 1.0, -0.43749999999999994] -0.43749999999999994\n",
      "[-0.0, -0.0, 1.0] 0.9999999999999998\n",
      "=============\n",
      "[-0.0, -0.0, 0.43749999999999994] 0.43749999999999983\n",
      "3행 x (7/16) + 2행\n",
      "[1.0, 0.0, 0.8125] 1.8124999999999998\n",
      "[0.0, 1.0, 0.0] -1.1102230246251565e-16\n",
      "[-0.0, -0.0, 1.0] 0.9999999999999998\n",
      "=============\n",
      "[0.0, 0.0, -0.8125] -0.8124999999999998\n",
      "3행 x (-39/48) + 1행\n",
      "[1.0, 0.0, 0.0] 1.0\n",
      "[0.0, 1.0, 0.0] -1.1102230246251565e-16\n",
      "[-0.0, -0.0, 1.0] 0.9999999999999998\n",
      "=============\n",
      "[1.0, -1.1102230246251565e-16, 0.9999999999999998]\n"
     ]
    }
   ],
   "source": [
    "\n",
    "X = [[3, 1, 2],[2, 6, -1],[4, 0, -1]]\n",
    "y = [5, 1, 3]\n",
    "\n",
    "x0 = X[0]\n",
    "x1 = X[1]\n",
    "x2 = X[2]\n",
    "\n",
    "y0 = y[0]\n",
    "y1 = y[1]\n",
    "y2 = y[2]\n",
    "\n",
    "print('원본 행렬')\n",
    "print(x0, y0)\n",
    "print(x1, y1)\n",
    "print(x2, y2)\n",
    "\n",
    "print('=============')\n",
    "\n",
    "# 1행 x 1/3\n",
    "tmp = 1/x0[0]\n",
    "x0 = [element * tmp for element in x0 ]  \n",
    "y0 = y0 * tmp\n",
    "print('1행 x 1/3')\n",
    "print(x0, y0)\n",
    "print(x1, y1)\n",
    "print(x2, y2)\n",
    "print('=============')\n",
    "\n",
    "# 1행 x -2 + 2행\n",
    "x0_tmp = [element * -x1[0] for element in x0]\n",
    "y0_tmp = y0 * -x1[0]\n",
    "print(x0_tmp, y0_tmp)\n",
    "\n",
    "for i in range(0, len(x0)):\n",
    "    x1[i] = x0_tmp[i] + x1[i]\n",
    "y1 = y0_tmp + y1\n",
    "print('1행 x -2 + 2행')\n",
    "print(x0, y0)\n",
    "print(x1, y1)\n",
    "print(x2, y2)\n",
    "print('=============')\n",
    "\n",
    "    \n",
    "# 1행 x -4 + 3행\n",
    "x0_tmp = [element * -x2[0] for element in x0]\n",
    "y0_tmp = y0 * -x2[0]\n",
    "print(x0_tmp, y0_tmp)\n",
    "\n",
    "for i in range(0, len(x0)):\n",
    "    x2[i] = x0_tmp[i] + x2[i]\n",
    "y2 = y0_tmp + y2\n",
    "print('1행 x -4 + 3행')\n",
    "print(x0, y0)\n",
    "print(x1, y1)\n",
    "print(x2, y2)\n",
    "print('=============')\n",
    "\n",
    "# 2행 x 3/16\n",
    "tmp = 1/x1[1]\n",
    "x1 = [element * tmp for element in x1 ]  \n",
    "y1 = y1 * tmp\n",
    "print('2행 x 3/16')\n",
    "print(x0, y0)\n",
    "print(x1, y1)\n",
    "print(x2, y2)\n",
    "print('=============')\n",
    "\n",
    "# 2행 x 4/3 + 3행\n",
    "x1_tmp = [element * -x2[1] for element in x1]\n",
    "y1_tmp = y1 * -x2[1]\n",
    "print(x1_tmp, y1_tmp)\n",
    "\n",
    "for i in range(0, len(x1)):\n",
    "    x2[i] = x1_tmp[i] + x2[i]\n",
    "y2 = y1_tmp + y2\n",
    "print('2행 x 4/3 + 3행')\n",
    "print(x0, y0)\n",
    "print(x1, y1)\n",
    "print(x2, y2)\n",
    "print('=============')\n",
    "\n",
    "# 3행 x (-4/51)\n",
    "tmp = 1/x2[2]\n",
    "x2 = [element * tmp for element in x2]\n",
    "y2 = y2 * tmp\n",
    "print('3행 x (-4/51)')\n",
    "print(x0, y0)\n",
    "print(x1, y1)\n",
    "print(x2, y2)\n",
    "print('=============')\n",
    "\n",
    "\n",
    "# 2행 x (-1/3) + 1행\n",
    "x1_tmp = [element * -x0[1] for element in x1]\n",
    "y1_tmp = y1 * -x0[1]\n",
    "print(x1_tmp, y1_tmp)\n",
    "\n",
    "for i in range(0, len(x1)):\n",
    "    x0[i] = x1_tmp[i] + x0[i]\n",
    "y0 = y1_tmp + y0\n",
    "print('2행 x (-1/3) + 1행')\n",
    "print(x0, y0)\n",
    "print(x1, y1)\n",
    "print(x2, y2)\n",
    "print('=============')\n",
    "\n",
    "# 3행 x (7/16) + 2행\n",
    "x2_tmp = [element * -x1[2] for element in x2]\n",
    "y2_tmp = y2 * -x1[2]\n",
    "print(x2_tmp, y2_tmp)\n",
    "\n",
    "for i in range(0, len(x2)):\n",
    "    x1[i] = x2_tmp[i] + x1[i]\n",
    "y1 = y2_tmp + y1\n",
    "print('3행 x (7/16) + 2행')\n",
    "print(x0, y0)\n",
    "print(x1, y1)\n",
    "print(x2, y2)\n",
    "print('=============')\n",
    "\n",
    "# 3행 x (-39/48) + 1행\n",
    "x2_tmp = [element * -x0[2] for element in x2]\n",
    "y2_tmp = y2 * -x0[2]\n",
    "print(x2_tmp, y2_tmp)\n",
    "\n",
    "for i in range(0, len(x2)):\n",
    "    x0[i] = x2_tmp[i] + x0[i]\n",
    "y0 = y2_tmp + y0\n",
    "print('3행 x (-39/48) + 1행')\n",
    "print(x0, y0)\n",
    "print(x1, y1)\n",
    "print(x2, y2)\n",
    "print('=============')\n",
    "\n",
    "sol = [y0, y1, y2]\n",
    "print(sol)"
   ]
  },
  {
   "cell_type": "markdown",
   "metadata": {},
   "source": [
    "# 전체 코드"
   ]
  },
  {
   "cell_type": "code",
   "execution_count": 14,
   "metadata": {},
   "outputs": [
    {
     "name": "stdout",
     "output_type": "stream",
     "text": [
      "[1.0, -1.1102230246251565e-16, 0.9999999999999998]\n"
     ]
    }
   ],
   "source": [
    "X = [[3, 1, 2],[2, 6, -1],[4, 0, -1]]\n",
    "y = [5, 1, 3]\n",
    "\n",
    "x0 = X[0]\n",
    "x1 = X[1]\n",
    "x2 = X[2]\n",
    "\n",
    "y0 = y[0]\n",
    "y1 = y[1]\n",
    "y2 = y[2]\n",
    "\n",
    "# 1행 x 1/3\n",
    "tmp = 1/x0[0]\n",
    "x0 = [element * tmp for element in x0 ]  \n",
    "y0 = y0 * tmp\n",
    "\n",
    "# 1행 x -2 + 2행\n",
    "x0_tmp = [element * -x1[0] for element in x0]\n",
    "y0_tmp = y0 * -x1[0]\n",
    "\n",
    "for i in range(0, len(x0)):\n",
    "    x1[i] = x0_tmp[i] + x1[i]\n",
    "y1 = y0_tmp + y1\n",
    "\n",
    "    \n",
    "# 1행 x -4 + 3행\n",
    "x0_tmp = [element * -x2[0] for element in x0]\n",
    "y0_tmp = y0 * -x2[0]\n",
    "\n",
    "for i in range(0, len(x0)):\n",
    "    x2[i] = x0_tmp[i] + x2[i]\n",
    "y2 = y0_tmp + y2\n",
    "\n",
    "\n",
    "# 2행 x 3/16\n",
    "tmp = 1/x1[1]\n",
    "x1 = [element * tmp for element in x1 ]  \n",
    "y1 = y1 * tmp\n",
    "\n",
    "\n",
    "# 2행 x 4/3 + 3행\n",
    "x1_tmp = [element * -x2[1] for element in x1]\n",
    "y1_tmp = y1 * -x2[1]\n",
    "\n",
    "for i in range(0, len(x1)):\n",
    "    x2[i] = x1_tmp[i] + x2[i]\n",
    "y2 = y1_tmp + y2\n",
    "\n",
    "\n",
    "# 3행 x (-4/51)\n",
    "tmp = 1/x2[2]\n",
    "x2 = [element * tmp for element in x2]\n",
    "y2 = y2 * tmp\n",
    "\n",
    "\n",
    "# 2행 x (-1/3) + 1행\n",
    "x1_tmp = [element * -x0[1] for element in x1]\n",
    "y1_tmp = y1 * -x0[1]\n",
    "\n",
    "for i in range(0, len(x1)):\n",
    "    x0[i] = x1_tmp[i] + x0[i]\n",
    "y0 = y1_tmp + y0\n",
    "\n",
    "\n",
    "# 3행 x (7/16) + 2행\n",
    "x2_tmp = [element * -x1[2] for element in x2]\n",
    "y2_tmp = y2 * -x1[2]\n",
    "\n",
    "for i in range(0, len(x2)):\n",
    "    x1[i] = x2_tmp[i] + x1[i]\n",
    "y1 = y2_tmp + y1\n",
    "\n",
    "# 3행 x (-39/48) + 1행\n",
    "x2_tmp = [element * -x0[2] for element in x2]\n",
    "y2_tmp = y2 * -x0[2]\n",
    "\n",
    "for i in range(0, len(x2)):\n",
    "    x0[i] = x2_tmp[i] + x0[i]\n",
    "y0 = y2_tmp + y0\n",
    "\n",
    "\n",
    "sol = [y0, y1, y2]\n",
    "print(sol)"
   ]
  },
  {
   "cell_type": "code",
   "execution_count": null,
   "metadata": {},
   "outputs": [],
   "source": []
  },
  {
   "cell_type": "markdown",
   "metadata": {},
   "source": [
    "# 함수 생성"
   ]
  },
  {
   "cell_type": "markdown",
   "metadata": {},
   "source": [
    "## 테스트"
   ]
  },
  {
   "cell_type": "code",
   "execution_count": 15,
   "metadata": {},
   "outputs": [],
   "source": [
    "def zero_mat(n, p):\n",
    "    \"\"\"\n",
    "    영 행렬 생성\n",
    "    입력값: 생성하고자 할 영 행렬의 크기 n행, p열\n",
    "    출력값: nxp 영 행렬 Z\n",
    "    \"\"\"\n",
    "    Z = []\n",
    "    for i in range(0, n):\n",
    "        row = []\n",
    "        for j in range(0, p):\n",
    "            row.append(0)\n",
    "        Z.append(row)\n",
    "    return Z\n",
    "\n",
    "\n",
    "\n",
    "def deepcopy(A):\n",
    "    '''\n",
    "    깊은 복사(deepcopy) 구현\n",
    "    입력값: 깊은 복사를 하고자 하는 행렬 리스트 A\n",
    "    출력값: 깊은 복사 된 결과 행렬 리스트 res \n",
    "    '''\n",
    "    if type(A[0]) == list:\n",
    "        n = len(A)\n",
    "        p = len(A[0])\n",
    "        res = zero_mat(n,p)\n",
    "        for i in range(0,n):\n",
    "            for j in range(0,p):\n",
    "                res[i][j] = A[i][j]\n",
    "        return res\n",
    "    else:\n",
    "        n = len(A)\n",
    "        res = []\n",
    "        for i in range(0,n):\n",
    "            res.append(A[i])\n",
    "        return res\n",
    "\n",
    "\n",
    "\n",
    "\n",
    "def solve(A, b):\n",
    "    \n",
    "    X = deepcopy(A)    \n",
    "    sol = deepcopy(b)\n",
    "    n = len(X)\n",
    "\n",
    "    for i in range(0,n):\n",
    "        print('----i번째 실행 시작!------')\n",
    "        x_row = X[i]\n",
    "        y_val = sol[i]\n",
    "\n",
    "        if x_row[i]!=0:\n",
    "            tmp = 1/x_row[i]\n",
    "        else:\n",
    "            tmp = 0\n",
    "\n",
    "        x_row = [element * tmp for element in x_row]\n",
    "        y_val = y_val*tmp\n",
    "\n",
    "        X[i] = x_row\n",
    "        sol[i] = y_val\n",
    "\n",
    "        print(x_row)\n",
    "        print(y_val)\n",
    "        print('----행 나누기 완료----')\n",
    "\n",
    "        for j in range(0,n):\n",
    "            if i==j:\n",
    "                continue\n",
    "            print('----j번째 실행 시작-----')\n",
    "            x_next = X[j]\n",
    "            y_next = sol[j]\n",
    "            x_tmp = [element * -x_next[i] for element in x_row]\n",
    "            y_tmp = y_val*(-x_next[i])\n",
    "\n",
    "            for k in range(0, len(x_row)):\n",
    "                x_next[k] = x_tmp[k] + x_next[k]\n",
    "            y_next = y_tmp + y_next\n",
    "\n",
    "            X[j] = x_next\n",
    "            sol[j] = y_next\n",
    "\n",
    "            print(X)\n",
    "            print(sol)\n",
    "            print('-----j번째 실행 종료-------')\n",
    "        print('i번째 실행 완료!')\n",
    "\n",
    "    return sol"
   ]
  },
  {
   "cell_type": "code",
   "execution_count": 16,
   "metadata": {},
   "outputs": [
    {
     "name": "stdout",
     "output_type": "stream",
     "text": [
      "----i번째 실행 시작!------\n",
      "[1.0, 0.3333333333333333, 0.6666666666666666]\n",
      "1.6666666666666665\n",
      "----행 나누기 완료----\n",
      "----j번째 실행 시작-----\n",
      "[[1.0, 0.3333333333333333, 0.6666666666666666], [0.0, 5.333333333333333, -2.333333333333333], [4, 0, -1]]\n",
      "[1.6666666666666665, -2.333333333333333, 3]\n",
      "-----j번째 실행 종료-------\n",
      "----j번째 실행 시작-----\n",
      "[[1.0, 0.3333333333333333, 0.6666666666666666], [0.0, 5.333333333333333, -2.333333333333333], [0.0, -1.3333333333333333, -3.6666666666666665]]\n",
      "[1.6666666666666665, -2.333333333333333, -3.666666666666666]\n",
      "-----j번째 실행 종료-------\n",
      "i번째 실행 완료!\n",
      "----i번째 실행 시작!------\n",
      "[0.0, 1.0, -0.43749999999999994]\n",
      "-0.43749999999999994\n",
      "----행 나누기 완료----\n",
      "----j번째 실행 시작-----\n",
      "[[1.0, 0.0, 0.8125], [0.0, 1.0, -0.43749999999999994], [0.0, -1.3333333333333333, -3.6666666666666665]]\n",
      "[1.8124999999999998, -0.43749999999999994, -3.666666666666666]\n",
      "-----j번째 실행 종료-------\n",
      "----j번째 실행 시작-----\n",
      "[[1.0, 0.0, 0.8125], [0.0, 1.0, -0.43749999999999994], [0.0, 0.0, -4.25]]\n",
      "[1.8124999999999998, -0.43749999999999994, -4.249999999999999]\n",
      "-----j번째 실행 종료-------\n",
      "i번째 실행 완료!\n",
      "----i번째 실행 시작!------\n",
      "[-0.0, -0.0, 1.0]\n",
      "0.9999999999999998\n",
      "----행 나누기 완료----\n",
      "----j번째 실행 시작-----\n",
      "[[1.0, 0.0, 0.0], [0.0, 1.0, -0.43749999999999994], [-0.0, -0.0, 1.0]]\n",
      "[1.0, -0.43749999999999994, 0.9999999999999998]\n",
      "-----j번째 실행 종료-------\n",
      "----j번째 실행 시작-----\n",
      "[[1.0, 0.0, 0.0], [0.0, 1.0, 0.0], [-0.0, -0.0, 1.0]]\n",
      "[1.0, -1.1102230246251565e-16, 0.9999999999999998]\n",
      "-----j번째 실행 종료-------\n",
      "i번째 실행 완료!\n"
     ]
    },
    {
     "data": {
      "text/plain": [
       "[1.0, -1.1102230246251565e-16, 0.9999999999999998]"
      ]
     },
     "execution_count": 16,
     "metadata": {},
     "output_type": "execute_result"
    }
   ],
   "source": [
    "X = [[3, 1, 2],[2, 6, -1],[4, 0, -1]]\n",
    "y = [5, 1, 3]\n",
    "solve(X,y)"
   ]
  },
  {
   "cell_type": "markdown",
   "metadata": {},
   "source": [
    "# 최종 함수 생성"
   ]
  },
  {
   "cell_type": "code",
   "execution_count": 17,
   "metadata": {},
   "outputs": [],
   "source": [
    "def solve(A, b):\n",
    "    \"\"\"\n",
    "    연립 방정식 풀기\n",
    "    입력값: 솔루션을 구하고 싶은 A, b\n",
    "    출력값: 방정식의 솔루션 sol\n",
    "    \"\"\"\n",
    "    import copy\n",
    "    \n",
    "    X = copy.deepcopy(A)\n",
    "    sol = copy.deepcopy(b)\n",
    "    n = len(X)\n",
    "\n",
    "    for i in range(0,n):\n",
    "        x_row = X[i]\n",
    "        y_val = sol[i]\n",
    "\n",
    "        if x_row[i]!=0:\n",
    "            tmp = 1/x_row[i]\n",
    "        else:\n",
    "            tmp = 0\n",
    "\n",
    "        x_row = [element * tmp for element in x_row]\n",
    "        y_val = y_val*tmp\n",
    "\n",
    "        X[i] = x_row\n",
    "        sol[i] = y_val\n",
    "\n",
    "        for j in range(0,n):\n",
    "            if i==j:\n",
    "                continue\n",
    "            x_next = X[j]\n",
    "            y_next = sol[j]\n",
    "            x_tmp = [element * -x_next[i] for element in x_row]\n",
    "            y_tmp = y_val*(-x_next[i])\n",
    "\n",
    "            for k in range(0, len(x_row)):\n",
    "                x_next[k] = x_tmp[k] + x_next[k]\n",
    "            y_next = y_tmp + y_next\n",
    "\n",
    "            X[j] = x_next\n",
    "            sol[j] = y_next\n",
    "\n",
    "    return sol"
   ]
  },
  {
   "cell_type": "code",
   "execution_count": 18,
   "metadata": {},
   "outputs": [
    {
     "name": "stdout",
     "output_type": "stream",
     "text": [
      "[1.0, -1.1102230246251565e-16, 0.9999999999999998]\n"
     ]
    }
   ],
   "source": [
    "X = [[3, 1, 2],[2, 6, -1],[4, 0, -1]]\n",
    "y = [5, 1, 3]\n",
    "sol = solve(X,y)\n",
    "print(sol)"
   ]
  },
  {
   "cell_type": "markdown",
   "metadata": {},
   "source": [
    "# copy 라이브러리 안쓴 버전"
   ]
  },
  {
   "cell_type": "code",
   "execution_count": 19,
   "metadata": {},
   "outputs": [],
   "source": [
    "def zero_mat(n, p):\n",
    "    \"\"\"\n",
    "    영 행렬 생성\n",
    "    입력값: 생성하고자 할 영 행렬의 크기 n행, p열\n",
    "    출력값: nxp 영 행렬 Z\n",
    "    \"\"\"\n",
    "    Z = []\n",
    "    for i in range(0, n):\n",
    "        row = []\n",
    "        for j in range(0, p):\n",
    "            row.append(0)\n",
    "        Z.append(row)\n",
    "    return Z\n",
    "\n",
    "\n",
    "\n",
    "def deepcopy(A):\n",
    "    '''\n",
    "    깊은 복사(deepcopy) 구현\n",
    "    입력값: 깊은 복사를 하고자 하는 행렬 리스트 A\n",
    "    출력값: 깊은 복사 된 결과 행렬 리스트 res \n",
    "    '''\n",
    "    if type(A[0]) == list:\n",
    "        n = len(A)\n",
    "        p = len(A[0])\n",
    "        res = zero_mat(n,p)\n",
    "        for i in range(0,n):\n",
    "            for j in range(0,p):\n",
    "                res[i][j] = A[i][j]\n",
    "        return res\n",
    "    else:\n",
    "        n = len(A)\n",
    "        res = []\n",
    "        for i in range(0,n):\n",
    "            res.append(A[i])\n",
    "        return res\n",
    "\n",
    "\n",
    "\n",
    "def solve(A, b):\n",
    "    \"\"\"\n",
    "    연립 방정식 풀기\n",
    "    입력값: 솔루션을 구하고 싶은 A, b\n",
    "    출력값: 방정식의 솔루션 sol\n",
    "    \"\"\"\n",
    "    \n",
    "    X = deepcopy(A)\n",
    "    sol = deepcopy(b)\n",
    "    n = len(X)\n",
    "\n",
    "    for i in range(0,n):\n",
    "        x_row = X[i]\n",
    "        y_val = sol[i]\n",
    "\n",
    "        if x_row[i]!=0:\n",
    "            tmp = 1/x_row[i]\n",
    "        else:\n",
    "            tmp = 0\n",
    "\n",
    "        x_row = [element * tmp for element in x_row]\n",
    "        y_val = y_val*tmp\n",
    "\n",
    "        X[i] = x_row\n",
    "        sol[i] = y_val\n",
    "\n",
    "        for j in range(0,n):\n",
    "            if i==j:\n",
    "                continue\n",
    "            x_next = X[j]\n",
    "            y_next = sol[j]\n",
    "            x_tmp = [element * -x_next[i] for element in x_row]\n",
    "            y_tmp = y_val*(-x_next[i])\n",
    "\n",
    "            for k in range(0, len(x_row)):\n",
    "                x_next[k] = x_tmp[k] + x_next[k]\n",
    "            y_next = y_tmp + y_next\n",
    "\n",
    "            X[j] = x_next\n",
    "            sol[j] = y_next\n",
    "\n",
    "    return sol"
   ]
  },
  {
   "cell_type": "code",
   "execution_count": 20,
   "metadata": {},
   "outputs": [],
   "source": [
    "X = [[3, 1, 2],[2, 6, -1],[4, 0, -1]]\n",
    "y = [5, 1, 3]"
   ]
  },
  {
   "cell_type": "code",
   "execution_count": 21,
   "metadata": {},
   "outputs": [
    {
     "data": {
      "text/plain": [
       "[1.0, -1.1102230246251565e-16, 0.9999999999999998]"
      ]
     },
     "execution_count": 21,
     "metadata": {},
     "output_type": "execute_result"
    }
   ],
   "source": [
    "solve(X, y)"
   ]
  },
  {
   "cell_type": "code",
   "execution_count": null,
   "metadata": {},
   "outputs": [],
   "source": []
  }
 ],
 "metadata": {
  "kernelspec": {
   "display_name": "Python 3",
   "language": "python",
   "name": "python3"
  },
  "language_info": {
   "codemirror_mode": {
    "name": "ipython",
    "version": 3
   },
   "file_extension": ".py",
   "mimetype": "text/x-python",
   "name": "python",
   "nbconvert_exporter": "python",
   "pygments_lexer": "ipython3",
   "version": "3.8.5"
  }
 },
 "nbformat": 4,
 "nbformat_minor": 4
}
