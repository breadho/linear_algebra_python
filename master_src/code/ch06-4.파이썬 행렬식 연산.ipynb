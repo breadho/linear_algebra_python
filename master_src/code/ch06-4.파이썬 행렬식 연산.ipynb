{
 "cells": [
  {
   "cell_type": "markdown",
   "metadata": {},
   "source": [
    "# 개별 코드"
   ]
  },
  {
   "cell_type": "code",
   "execution_count": 1,
   "metadata": {},
   "outputs": [],
   "source": [
    "A = [[3,2,0], [-1,-3,6], [2,3,-5]]"
   ]
  },
  {
   "cell_type": "code",
   "execution_count": 2,
   "metadata": {},
   "outputs": [
    {
     "name": "stdout",
     "output_type": "stream",
     "text": [
      "[[-3, 6], [3, -5]]\n",
      "-3\n",
      "-9\n",
      "[[-1, 6], [2, -5]]\n",
      "-7\n",
      "5\n",
      "[[-1, -3], [2, 3]]\n",
      "3\n",
      "5\n"
     ]
    }
   ],
   "source": [
    "n = len(A)\n",
    "p = len(A[0])\n",
    "\n",
    "detA = 0\n",
    "for j in range(0, p):    \n",
    "    M = [A[1][:j]+A[1][j+1:], A[2][:j]+A[2][j+1:]] \n",
    "    print(M)\n",
    "    Mij = M[0][0]*M[1][1] - M[0][1]*M[1][0]  \n",
    "    print(Mij)\n",
    "    Cij = ((-1)**(0+j))*Mij\n",
    "    detA += A[0][j]*Cij\n",
    "    print(detA)"
   ]
  },
  {
   "cell_type": "code",
   "execution_count": 3,
   "metadata": {},
   "outputs": [
    {
     "data": {
      "text/plain": [
       "[[-3, 6], [3, -5]]"
      ]
     },
     "execution_count": 3,
     "metadata": {},
     "output_type": "execute_result"
    }
   ],
   "source": [
    "[A[1][:0]+A[1][1:], A[2][:0]+A[2][1:]] "
   ]
  },
  {
   "cell_type": "code",
   "execution_count": 4,
   "metadata": {},
   "outputs": [
    {
     "data": {
      "text/plain": [
       "[[-1, 6], [2, -5]]"
      ]
     },
     "execution_count": 4,
     "metadata": {},
     "output_type": "execute_result"
    }
   ],
   "source": [
    "[A[1][:1]+A[1][2:], A[2][:1]+A[2][2:]] "
   ]
  },
  {
   "cell_type": "code",
   "execution_count": 5,
   "metadata": {},
   "outputs": [
    {
     "data": {
      "text/plain": [
       "[[-1, -3], [2, 3]]"
      ]
     },
     "execution_count": 5,
     "metadata": {},
     "output_type": "execute_result"
    }
   ],
   "source": [
    "[A[1][:2]+A[1][3:], A[2][:2]+A[2][3:]] "
   ]
  },
  {
   "cell_type": "markdown",
   "metadata": {},
   "source": [
    "# 전체 코드"
   ]
  },
  {
   "cell_type": "code",
   "execution_count": 6,
   "metadata": {},
   "outputs": [
    {
     "name": "stdout",
     "output_type": "stream",
     "text": [
      "5\n"
     ]
    }
   ],
   "source": [
    "A = [[3,2,0], [-1,-3,6], [2,3,-5]]\n",
    "\n",
    "n = len(A)\n",
    "p = len(A[0])\n",
    "\n",
    "\n",
    "detA = 0\n",
    "for j in range(0, p):    \n",
    "    M = [A[1][:j]+A[1][j+1:], A[2][:j]+A[2][j+1:]] \n",
    "    Mij = M[0][0]*M[1][1] - M[0][1]*M[1][0]  \n",
    "    Cij = ((-1)**(0+j))*Mij\n",
    "    detA += A[0][j]*Cij\n",
    "\n",
    "print(detA)"
   ]
  },
  {
   "cell_type": "markdown",
   "metadata": {},
   "source": [
    "# 행렬식(재귀)"
   ]
  },
  {
   "cell_type": "code",
   "execution_count": 7,
   "metadata": {},
   "outputs": [],
   "source": [
    "def det_rec(A):\n",
    "    \n",
    "    \"\"\"\n",
    "    행렬 A의 행렬식 구하기(재귀 방식을 이용)\n",
    "    입력값: 행렬식을 구하고자 하는 행렬 A\n",
    "    출력값: 행렬 A의 행렬식 res\n",
    "    \"\"\"\n",
    "    \n",
    "    import copy\n",
    "    \n",
    "    n = len(A)\n",
    "    p = len(A[0])\n",
    "    res = 0\n",
    "\n",
    "    # 2x2 행렬의 행렬식 구하기\n",
    "    if n == 2 and p == 2:\n",
    "        tmp_det = A[0][0] * A[1][1] - A[1][0] * A[0][1]\n",
    "        return tmp_det\n",
    "\n",
    "    # nxn 행렬의 행렬식 구하기\n",
    "    for i in range(0,n):  \n",
    "        A1 = copy.deepcopy(A)  \n",
    "        A1 = A1[1:]  \n",
    "        n1 = len(A1)\n",
    "\n",
    "        for j in range(0,n1):  \n",
    "            A1[j] = A1[j][0:i] + A1[j][i+1:]  \n",
    "\n",
    "        sign = (-1) ** (i % 2)  \n",
    "        sub_det = det_rec(A1)  \n",
    "        res += sign * A[0][i] * sub_det \n",
    "\n",
    "    return res"
   ]
  },
  {
   "cell_type": "markdown",
   "metadata": {},
   "source": [
    "# copy 라이브러리 안쓴 버전"
   ]
  },
  {
   "cell_type": "code",
   "execution_count": 7,
   "metadata": {},
   "outputs": [],
   "source": [
    "def zero_mat(n, p):\n",
    "    \"\"\"\n",
    "    영 행렬 생성\n",
    "    입력값: 생성하고자 할 영 행렬의 크기 n행, p열\n",
    "    출력값: nxp 영 행렬 Z\n",
    "    \"\"\"\n",
    "    Z = []\n",
    "    for i in range(0, n):\n",
    "        row = []\n",
    "        for j in range(0, p):\n",
    "            row.append(0)\n",
    "        Z.append(row)\n",
    "    return Z\n",
    "\n",
    "\n",
    "\n",
    "def deepcopy(A):\n",
    "    \"\"\"\n",
    "    깊은 복사(deepcopy) 구현\n",
    "    입력값: 깊은 복사를 하고자 하는 행렬 리스트 A\n",
    "    출력값: 깊은 복사 된 결과 행렬 리스트 res \n",
    "    \"\"\"\n",
    "    if type(A[0]) == list:\n",
    "        n = len(A)\n",
    "        p = len(A[0])\n",
    "        res = zero_mat(n,p)\n",
    "        for i in range(0,n):\n",
    "            for j in range(0,p):\n",
    "                res[i][j] = A[i][j]\n",
    "        return res\n",
    "    else:\n",
    "        n = len(A)\n",
    "        res = []\n",
    "        for i in range(0,n):\n",
    "            res.append(A[i])\n",
    "        return res\n",
    "    \n",
    "\n",
    "def det_rec(A):\n",
    "    \n",
    "    \"\"\"\n",
    "    행렬 A의 행렬식 구하기(재귀 방식을 이용)\n",
    "    입력값: 행렬식을 구하고자 하는 행렬 A\n",
    "    출력값: 행렬 A의 행렬식 res\n",
    "    \"\"\"\n",
    "        \n",
    "    n = len(A)\n",
    "    res = 0\n",
    "\n",
    "    # 2x2 행렬의 행렬식 구하기\n",
    "    if n == 2:\n",
    "        res = A[0][0] * A[1][1] - A[1][0] * A[0][1]\n",
    "        return res\n",
    "\n",
    "    # nxn 행렬의 행렬식 구하기\n",
    "    for i in range(0,n):  \n",
    "        X = deepcopy(A)  \n",
    "        X = X[1:]  \n",
    "        nx = len(X)\n",
    "\n",
    "        for j in range(0,nx):  \n",
    "            X[j] = X[j][0:i] + X[j][i+1:]  \n",
    "\n",
    "        sign = (-1) ** (i % 2)  \n",
    "        sub_det = det_rec(X)  \n",
    "        res += sign * A[0][i] * sub_det \n",
    "\n",
    "    return res"
   ]
  },
  {
   "cell_type": "code",
   "execution_count": 9,
   "metadata": {},
   "outputs": [
    {
     "data": {
      "text/plain": [
       "-4"
      ]
     },
     "execution_count": 9,
     "metadata": {},
     "output_type": "execute_result"
    }
   ],
   "source": [
    "A = [[1,3,1,4], [3,9,5,15], [0,2,1,1],[0,4,2,3]]\n",
    "det_rec(A)"
   ]
  },
  {
   "cell_type": "code",
   "execution_count": 10,
   "metadata": {},
   "outputs": [
    {
     "data": {
      "text/plain": [
       "9"
      ]
     },
     "execution_count": 10,
     "metadata": {},
     "output_type": "execute_result"
    }
   ],
   "source": [
    "B = [[6,3],[5,4]]\n",
    "det_rec(B)"
   ]
  },
  {
   "cell_type": "markdown",
   "metadata": {},
   "source": [
    "# 상 삼각 행렬 변환을 통해 행렬식 구하기"
   ]
  },
  {
   "cell_type": "code",
   "execution_count": 11,
   "metadata": {},
   "outputs": [],
   "source": [
    "def det_tri(A):\n",
    "    \n",
    "    import copy\n",
    "    \n",
    "    n = len(A)\n",
    "    A1 = copy.deepcopy(A)\n",
    " \n",
    "    for i in range(0,n): \n",
    "        for j in range(i+1,n): \n",
    "            if A1[i][i] == 0: \n",
    "                A1[i][i] == 1.0e-18 \n",
    "            ratio = A1[j][i] / A1[i][i] \n",
    "            for k in range(0, n): \n",
    "                A1[j][k] = A1[j][k] - ratio * A1[i][k]\n",
    "     \n",
    "    product = 1\n",
    "    for i in range(n):\n",
    "        product *= A1[i][i] \n",
    " \n",
    "    return product"
   ]
  },
  {
   "cell_type": "markdown",
   "metadata": {},
   "source": [
    "# copy 라이브러리 안쓰고"
   ]
  },
  {
   "cell_type": "code",
   "execution_count": 10,
   "metadata": {},
   "outputs": [],
   "source": [
    "def det_tri(A):\n",
    "    \"\"\"\n",
    "    상 삼각 행렬 변환을 이용해 행렬식 구하기\n",
    "    입력값: 행렬 A\n",
    "    출력값: 행렬식 res\n",
    "    \"\"\"\n",
    "    n = len(A)\n",
    "    X = deepcopy(A)\n",
    "    n_row_change = 0\n",
    " \n",
    "    for i in range(0,n): \n",
    "        if X[i][i] == 0:\n",
    "            tmp = X[i+1]\n",
    "            X[i+1] = X[i]\n",
    "            X[i] = tmp\n",
    "            n_row_change += 1\n",
    "        for j in range(i+1,n):\n",
    "            ratio = X[j][i] / X[i][i] \n",
    "            for k in range(0, n):\n",
    "                X[j][k] = X[j][k] - ratio * X[i][k]\n",
    "    \n",
    "    n_row_change = (-1)**(n_row_change)    \n",
    "    res = 1\n",
    "    for i in range(n):\n",
    "        res *= X[i][i] \n",
    "    res *= n_row_change  \n",
    "    return res"
   ]
  },
  {
   "cell_type": "code",
   "execution_count": 11,
   "metadata": {},
   "outputs": [
    {
     "data": {
      "text/plain": [
       "-4.0"
      ]
     },
     "execution_count": 11,
     "metadata": {},
     "output_type": "execute_result"
    }
   ],
   "source": [
    "A = [[1,3,1,4],[3,9,5,15],[0,2,1,1],[0,4,2,3]]\n",
    "det_tri(A)"
   ]
  },
  {
   "cell_type": "code",
   "execution_count": 12,
   "metadata": {},
   "outputs": [
    {
     "data": {
      "text/plain": [
       "9.0"
      ]
     },
     "execution_count": 12,
     "metadata": {},
     "output_type": "execute_result"
    }
   ],
   "source": [
    "B = [[6,3],[5,4]]\n",
    "det_tri(B)"
   ]
  },
  {
   "cell_type": "code",
   "execution_count": null,
   "metadata": {},
   "outputs": [],
   "source": []
  }
 ],
 "metadata": {
  "kernelspec": {
   "display_name": "Python 3",
   "language": "python",
   "name": "python3"
  },
  "language_info": {
   "codemirror_mode": {
    "name": "ipython",
    "version": 3
   },
   "file_extension": ".py",
   "mimetype": "text/x-python",
   "name": "python",
   "nbconvert_exporter": "python",
   "pygments_lexer": "ipython3",
   "version": "3.8.5"
  }
 },
 "nbformat": 4,
 "nbformat_minor": 4
}
