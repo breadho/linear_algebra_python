{
 "cells": [
  {
   "cell_type": "code",
   "execution_count": 1,
   "metadata": {},
   "outputs": [],
   "source": [
    "import numpy as np"
   ]
  },
  {
   "cell_type": "code",
   "execution_count": 2,
   "metadata": {},
   "outputs": [
    {
     "name": "stdout",
     "output_type": "stream",
     "text": [
      "[[ 3 11]\n",
      " [ 7  3]\n",
      " [ 8  6]]\n"
     ]
    }
   ],
   "source": [
    "# 행렬의 덧셈\n",
    "A = np.array([[2,7], [3,4], [6,1]])\n",
    "B = np.array([[1,4], [4,-1], [2,5]])\n",
    "C = A + B\n",
    "print(C)"
   ]
  },
  {
   "cell_type": "code",
   "execution_count": 3,
   "metadata": {},
   "outputs": [
    {
     "name": "stdout",
     "output_type": "stream",
     "text": [
      "[[ 1  3]\n",
      " [-1  5]\n",
      " [ 4 -4]]\n"
     ]
    }
   ],
   "source": [
    "# 행렬의 뺄셈\n",
    "A = np.array([[2,7], [3,4], [6,1]])\n",
    "B = np.array([[1,4], [4,-1], [2,5]])\n",
    "C = A - B\n",
    "print(C)"
   ]
  },
  {
   "cell_type": "code",
   "execution_count": 4,
   "metadata": {},
   "outputs": [
    {
     "name": "stdout",
     "output_type": "stream",
     "text": [
      "[[ 4 14]\n",
      " [ 6  8]\n",
      " [12  2]]\n"
     ]
    }
   ],
   "source": [
    "# 행렬의 스칼라곱\n",
    "A = np.array([[2,7], [3,4], [6,1]])\n",
    "b = 2\n",
    "C = b*A \n",
    "print(C)"
   ]
  },
  {
   "cell_type": "code",
   "execution_count": 12,
   "metadata": {},
   "outputs": [
    {
     "name": "stdout",
     "output_type": "stream",
     "text": [
      "[[ 5 -5]\n",
      " [ 6  8]\n",
      " [ 8  7]]\n"
     ]
    }
   ],
   "source": [
    "# 행렬의 원소곱\n",
    "A = np.array([[1,5], [6,4], [2,7]])\n",
    "B = np.array([[5,-1], [1,2], [4,1]])\n",
    "C = np.multiply(A, B)\n",
    "print(C)"
   ]
  },
  {
   "cell_type": "code",
   "execution_count": 15,
   "metadata": {},
   "outputs": [
    {
     "name": "stdout",
     "output_type": "stream",
     "text": [
      "[[ -1   8   3]\n",
      " [  5  -1  11]\n",
      " [ 13 -11  23]]\n"
     ]
    }
   ],
   "source": [
    "# 행렬 곱\n",
    "A = np.array([[2,7], [3,4], [5,2]])\n",
    "B = np.array([[3,-3,5], [-1,2,-1]])\n",
    "C = np.matmul(A, B)\n",
    "print(C)"
   ]
  },
  {
   "cell_type": "code",
   "execution_count": null,
   "metadata": {},
   "outputs": [],
   "source": []
  }
 ],
 "metadata": {
  "kernelspec": {
   "display_name": "Python 3",
   "language": "python",
   "name": "python3"
  },
  "language_info": {
   "codemirror_mode": {
    "name": "ipython",
    "version": 3
   },
   "file_extension": ".py",
   "mimetype": "text/x-python",
   "name": "python",
   "nbconvert_exporter": "python",
   "pygments_lexer": "ipython3",
   "version": "3.8.5"
  }
 },
 "nbformat": 4,
 "nbformat_minor": 4
}
