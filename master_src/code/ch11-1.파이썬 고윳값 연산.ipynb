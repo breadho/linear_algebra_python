{
 "cells": [
  {
   "cell_type": "code",
   "execution_count": 2,
   "metadata": {},
   "outputs": [],
   "source": [
    "A = [[3, 2, -3], [5, 0, 4], [0, -1, 3]]"
   ]
  },
  {
   "cell_type": "code",
   "execution_count": 3,
   "metadata": {},
   "outputs": [
    {
     "name": "stdout",
     "output_type": "stream",
     "text": [
      "[[3, 2, -3], [5, 0, 4], [0, -1, 3]]\n"
     ]
    }
   ],
   "source": [
    "print(A)"
   ]
  },
  {
   "cell_type": "code",
   "execution_count": 4,
   "metadata": {},
   "outputs": [],
   "source": [
    "n = len(A)\n",
    "p = len(A[0])"
   ]
  },
  {
   "cell_type": "code",
   "execution_count": null,
   "metadata": {},
   "outputs": [],
   "source": [
    "import random\n",
    "\n",
    "random.seed(0)\n",
    "\n",
    "b_k = []\n",
    "for i in range(0, p):\n",
    "    b_i = random.random()\n",
    "    b_k.append(b_i)\n"
   ]
  },
  {
   "cell_type": "code",
   "execution_count": null,
   "metadata": {},
   "outputs": [],
   "source": [
    "b_k"
   ]
  },
  {
   "cell_type": "markdown",
   "metadata": {},
   "source": [
    "# (1단계) 행렬 A와 벡터 b_k 행렬곱 = b_k1"
   ]
  },
  {
   "cell_type": "code",
   "execution_count": null,
   "metadata": {},
   "outputs": [],
   "source": [
    "n_sim = 100\n",
    "\n",
    "b_k1 = [0]*p\n",
    "\n",
    "for i in range(0, n):\n",
    "    prod_sum = 0\n",
    "    for j in range(0, p):\n",
    "        prod_sum += A[i][j]*b_k[j]\n",
    "    b_k1[i] = prod_sum\n",
    "print(b_k1)"
   ]
  },
  {
   "cell_type": "markdown",
   "metadata": {},
   "source": [
    "# (2단계) 행렬 b_k1의 norm 구하기"
   ]
  },
  {
   "cell_type": "code",
   "execution_count": null,
   "metadata": {},
   "outputs": [],
   "source": [
    "ss = 0\n",
    "for i in range(0, p):\n",
    "    ss += b_k1[i]**2\n",
    "b_k1_norm = ss**(0.5)\n",
    "print(b_k1_norm)\n"
   ]
  },
  {
   "cell_type": "markdown",
   "metadata": {},
   "source": [
    "# (3단계) 행렬 b_k1 정규화"
   ]
  },
  {
   "cell_type": "code",
   "execution_count": null,
   "metadata": {},
   "outputs": [],
   "source": [
    "for i in range(0, p):\n",
    "    b_k[i] = b_k1[i]/b_k1_norm\n",
    "print(b_k)"
   ]
  },
  {
   "cell_type": "markdown",
   "metadata": {},
   "source": [
    "# 1 + 2 + 3단계"
   ]
  },
  {
   "cell_type": "code",
   "execution_count": 7,
   "metadata": {},
   "outputs": [],
   "source": [
    "import random\n",
    "\n",
    "random.seed(0)\n",
    "\n",
    "b_k = []\n",
    "for i in range(0, p):\n",
    "    b_i = random.random()\n",
    "    b_k.append(b_i)\n",
    "    \n",
    "n_sim = 10\n",
    "\n",
    "b_k1 = [0]*p\n",
    "for k in range(0, n_sim):\n",
    "    \n",
    "    # 1단계\n",
    "    for i in range(0, n):\n",
    "        prod_sum = 0\n",
    "        for j in range(0, p):\n",
    "            prod_sum += A[i][j]*b_k[j]\n",
    "        b_k1[i] = prod_sum\n",
    "\n",
    "    # 2단계\n",
    "    ss = 0\n",
    "    for i in range(0, p):\n",
    "        ss += b_k1[i]**2\n",
    "    b_k1_norm = ss**(0.5)\n",
    "\n",
    "    # 3단계\n",
    "    for i in range(0, p):\n",
    "        b_k[i] = b_k1[i]/b_k1_norm\n"
   ]
  },
  {
   "cell_type": "code",
   "execution_count": 8,
   "metadata": {},
   "outputs": [
    {
     "data": {
      "text/plain": [
       "[0.7915665328697569, 0.5616171610701941, -0.24084972167724808]"
      ]
     },
     "execution_count": 8,
     "metadata": {},
     "output_type": "execute_result"
    }
   ],
   "source": [
    "b_k"
   ]
  },
  {
   "cell_type": "code",
   "execution_count": null,
   "metadata": {},
   "outputs": [],
   "source": []
  }
 ],
 "metadata": {
  "kernelspec": {
   "display_name": "Python 3",
   "language": "python",
   "name": "python3"
  },
  "language_info": {
   "codemirror_mode": {
    "name": "ipython",
    "version": 3
   },
   "file_extension": ".py",
   "mimetype": "text/x-python",
   "name": "python",
   "nbconvert_exporter": "python",
   "pygments_lexer": "ipython3",
   "version": "3.8.5"
  }
 },
 "nbformat": 4,
 "nbformat_minor": 4
}
