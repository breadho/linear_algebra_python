{
 "cells": [
  {
   "cell_type": "markdown",
   "metadata": {},
   "source": [
    "# QR 분해(하우스홀더 방법)"
   ]
  },
  {
   "cell_type": "code",
   "execution_count": 63,
   "metadata": {},
   "outputs": [],
   "source": [
    "def zero_mat(n, p):\n",
    "    \"\"\"\n",
    "    영 행렬 생성\n",
    "    입력값: 생성하고자 할 영 행렬의 크기 n행, p열\n",
    "    출력값: nxp 영 행렬 Z\n",
    "    \"\"\"\n",
    "    Z = []\n",
    "    for i in range(0, n):\n",
    "        row = []\n",
    "        for j in range(0, p):\n",
    "            row.append(0)\n",
    "        Z.append(row)\n",
    "    return Z\n",
    "\n",
    "\n",
    "\n",
    "def deepcopy(A):\n",
    "    \"\"\"\n",
    "    깊은 복사(deepcopy) 구현\n",
    "    입력값: 깊은 복사를 하고자 하는 행렬 리스트 A\n",
    "    출력값: 깊은 복사 된 결과 행렬 리스트 res \n",
    "    \"\"\"\n",
    "    if type(A[0]) == list:\n",
    "        n = len(A)\n",
    "        p = len(A[0])\n",
    "        res = zero_mat(n,p)\n",
    "        for i in range(0,n):\n",
    "            for j in range(0,p):\n",
    "                res[i][j] = A[i][j]\n",
    "        return res\n",
    "    else:\n",
    "        n = len(A)\n",
    "        res = []\n",
    "        for i in range(0,n):\n",
    "            res.append(A[i])\n",
    "        return res\n",
    "\n",
    "def norm(a):\n",
    "    \"\"\"\n",
    "    벡터의 norm\n",
    "    입력값: norm을 구하고자 할 벡터 a\n",
    "    출력값: 벡터 a의 norm 결과 res\n",
    "    \"\"\"\n",
    "    n = len(a)\n",
    "    res = 0\n",
    "    for i in range(0, n):\n",
    "        res += a[i]**2\n",
    "    res = res**(0.5)   \n",
    "    return res\n",
    "    \n",
    "    \n",
    "def transpose(A):\n",
    "    \"\"\"\n",
    "    행렬의 전치행렬\n",
    "    입력값: 전치행렬을 구하고자 하는 행렬 A\n",
    "    출력값: 행렬 A의 전치행렬 At\n",
    "    \"\"\"\n",
    "    n = len(A)\n",
    "    p = len(A[0])\n",
    "\n",
    "    At  = []\n",
    "    for i in range(0, p):\n",
    "        row = []\n",
    "        for j in range(0, n):\n",
    "            val = A[j][i]\n",
    "            row.append(val)\n",
    "        At.append(row)\n",
    "    return At\n",
    "\n",
    "\n",
    "def sign(a):\n",
    "    \"\"\"\n",
    "    스칼라 a의 부호\n",
    "    입력값: 스칼라 a\n",
    "    출력값: 스칼라 a가 a>=0면 1 출력, a<0이면 0 출력\n",
    "    \"\"\"\n",
    "    res = 1\n",
    "    if a < 0:\n",
    "        res = -1\n",
    "    return res    \n",
    "    \n",
    "def v_add(u,v):\n",
    "    \"\"\"\n",
    "    벡터의 덧셈\n",
    "    입력값: 더하고자 하는 벡터 u, v\n",
    "    출력값: 벡터 u, v의 덧셈 결과 w\n",
    "    \"\"\"\n",
    "    n = len(u)\n",
    "    w = []\n",
    "\n",
    "    for i in range(0, n):\n",
    "        val = u[i] + v[i]\n",
    "        w.append(val) \n",
    "        \n",
    "    return w"
   ]
  },
  {
   "cell_type": "code",
   "execution_count": 36,
   "metadata": {},
   "outputs": [],
   "source": [
    "A = [[1,-1,4],[1,4,-2],[1,4,2],[1,-1,0]]"
   ]
  },
  {
   "cell_type": "code",
   "execution_count": 64,
   "metadata": {},
   "outputs": [
    {
     "name": "stdout",
     "output_type": "stream",
     "text": [
      "[1, 1, 1, 1]\n"
     ]
    }
   ],
   "source": [
    "A1 = deepcopy(A)\n",
    "\n",
    "# 첫번째 열 추출\n",
    "a1 = transpose(A)[0]\n",
    "print(a1)"
   ]
  },
  {
   "cell_type": "code",
   "execution_count": 38,
   "metadata": {},
   "outputs": [
    {
     "name": "stdout",
     "output_type": "stream",
     "text": [
      "2.0\n"
     ]
    }
   ],
   "source": [
    "# a1의 norm구하기\n",
    "nm1 = norm(a1)\n",
    "print(nm1)"
   ]
  },
  {
   "cell_type": "code",
   "execution_count": 39,
   "metadata": {},
   "outputs": [
    {
     "name": "stdout",
     "output_type": "stream",
     "text": [
      "[3.0, 1.0, 1.0, 1.0]\n"
     ]
    }
   ],
   "source": [
    "# e1 생성\n",
    "e1 = [1]\n",
    "for i in range (0,len(a1)-1):\n",
    "    e1.append(0)\n",
    "\n",
    "# v1 벡터 구하기\n",
    "tmp_e1 = []\n",
    "for i in range(0, len(e1)):\n",
    "    val = sign(a1[0])*nm1*e1[i]\n",
    "    tmp_e1.append(val)\n",
    "    \n",
    "v1 = v_add(a1, tmp_e1)\n",
    "print(v1)"
   ]
  },
  {
   "cell_type": "code",
   "execution_count": 40,
   "metadata": {},
   "outputs": [
    {
     "name": "stdout",
     "output_type": "stream",
     "text": [
      "[[-0.5, -0.5, -0.5, -0.5], [-0.5, 0.8333333333333334, -0.16666666666666666, -0.16666666666666666], [-0.5, -0.16666666666666666, 0.8333333333333334, -0.16666666666666666], [-0.5, -0.16666666666666666, -0.16666666666666666, 0.8333333333333334]]\n"
     ]
    }
   ],
   "source": [
    "# H1 생성\n",
    "H1 = householder(v1)\n",
    "print(H1)"
   ]
  },
  {
   "cell_type": "code",
   "execution_count": 41,
   "metadata": {},
   "outputs": [
    {
     "name": "stdout",
     "output_type": "stream",
     "text": [
      "[[-2.0, -3.0, -2.0], [5.551115123125783e-17, 3.3333333333333335, -4.0], [8.326672684688674e-17, 3.3333333333333335, 0.0], [1.1102230246251565e-16, -1.6666666666666665, -2.0]]\n"
     ]
    }
   ],
   "source": [
    "# H1*A1\n",
    "tmp_res1 = matmul(H1, A1)\n",
    "print(tmp_res1)"
   ]
  },
  {
   "cell_type": "code",
   "execution_count": 42,
   "metadata": {},
   "outputs": [
    {
     "name": "stdout",
     "output_type": "stream",
     "text": [
      "[[3.3333333333333335, -4.0], [3.3333333333333335, 0.0], [-1.6666666666666665, -2.0]]\n"
     ]
    }
   ],
   "source": [
    "# 행렬 A2 생성\n",
    "A2 = []\n",
    "for i in range(1, len(A1)):\n",
    "    row = []\n",
    "    for j in range(1, len(A1[0])):\n",
    "        row.append(tmp_res1[i][j])\n",
    "    A2.append(row)\n",
    "print(A2)"
   ]
  },
  {
   "cell_type": "code",
   "execution_count": 43,
   "metadata": {},
   "outputs": [
    {
     "name": "stdout",
     "output_type": "stream",
     "text": [
      "[3.3333333333333335, 3.3333333333333335, -1.6666666666666665]\n"
     ]
    }
   ],
   "source": [
    "# 벡터 a2 생성\n",
    "a2 = transpose(A2)[0]\n",
    "print(a2)"
   ]
  },
  {
   "cell_type": "code",
   "execution_count": 44,
   "metadata": {},
   "outputs": [
    {
     "name": "stdout",
     "output_type": "stream",
     "text": [
      "5.0\n"
     ]
    }
   ],
   "source": [
    "# a2의 norm 구하기\n",
    "nm2 = norm(a2)\n",
    "print(nm2)"
   ]
  },
  {
   "cell_type": "code",
   "execution_count": 45,
   "metadata": {},
   "outputs": [
    {
     "name": "stdout",
     "output_type": "stream",
     "text": [
      "[1, 0, 0]\n",
      "[5.0, 0.0, 0.0]\n",
      "[8.333333333333334, 3.3333333333333335, -1.6666666666666665]\n"
     ]
    }
   ],
   "source": [
    "# e2 생성\n",
    "e2 = [1]\n",
    "for i in range (0,len(a2)-1):\n",
    "    e2.append(0)\n",
    "print(e2)\n",
    "    \n",
    "# v2 생성\n",
    "tmp_e2 = []\n",
    "for i in range(0, len(e2)):\n",
    "    val = sign(a2[0])*nm2*e2[i]\n",
    "    tmp_e2.append(val)\n",
    "print(tmp_e2)\n",
    "    \n",
    "v2 = v_add(a2, tmp_e2)\n",
    "print(v2)"
   ]
  },
  {
   "cell_type": "code",
   "execution_count": 46,
   "metadata": {},
   "outputs": [
    {
     "name": "stdout",
     "output_type": "stream",
     "text": [
      "[[-0.6666666666666667, -0.6666666666666667, 0.3333333333333333], [-0.6666666666666667, 0.7333333333333334, 0.1333333333333333], [0.3333333333333333, 0.1333333333333333, 0.9333333333333333]]\n"
     ]
    }
   ],
   "source": [
    "# H2 생성\n",
    "H2 = householder(v2)\n",
    "print(H2)"
   ]
  },
  {
   "cell_type": "code",
   "execution_count": 47,
   "metadata": {},
   "outputs": [
    {
     "name": "stdout",
     "output_type": "stream",
     "text": [
      "[[-5.000000000000001, 2.0000000000000004], [-2.7755575615628914e-16, 2.4000000000000004], [2.220446049250313e-16, -3.2]]\n"
     ]
    }
   ],
   "source": [
    "# H2*A2\n",
    "tmp_res2 = matmul(H2, A2)\n",
    "print(tmp_res2)"
   ]
  },
  {
   "cell_type": "code",
   "execution_count": 48,
   "metadata": {},
   "outputs": [
    {
     "name": "stdout",
     "output_type": "stream",
     "text": [
      "[2.4000000000000004, -3.2]\n"
     ]
    }
   ],
   "source": [
    "# A3 생성\n",
    "A3 = []\n",
    "for i in range(1, 3):\n",
    "    A3.append(tmp_res2[i][1])\n",
    "print(A3)"
   ]
  },
  {
   "cell_type": "code",
   "execution_count": 49,
   "metadata": {},
   "outputs": [
    {
     "name": "stdout",
     "output_type": "stream",
     "text": [
      "4.0\n"
     ]
    }
   ],
   "source": [
    "# a3 생성과 norm 구하기\n",
    "a3 = A3\n",
    "nm3 = norm(a3)\n",
    "print(nm3)"
   ]
  },
  {
   "cell_type": "code",
   "execution_count": 50,
   "metadata": {},
   "outputs": [
    {
     "name": "stdout",
     "output_type": "stream",
     "text": [
      "[4.0, 0.0]\n",
      "[6.4, -3.2]\n"
     ]
    }
   ],
   "source": [
    "# e3 생성\n",
    "e3 = [1]\n",
    "for i in range (0,len(a3)-1):\n",
    "    e3.append(0)\n",
    "\n",
    "# v3 생성\n",
    "tmp_e3 = []\n",
    "for i in range(0, len(e3)):\n",
    "    val = sign(a3[0])*nm3*e3[i]\n",
    "    tmp_e3.append(val)\n",
    "print(tmp_e3)\n",
    "    \n",
    "v3 = v_add(a3, tmp_e3)\n",
    "print(v3)"
   ]
  },
  {
   "cell_type": "code",
   "execution_count": 51,
   "metadata": {},
   "outputs": [
    {
     "name": "stdout",
     "output_type": "stream",
     "text": [
      "[[-0.6000000000000001, 0.8], [0.8, 0.6]]\n"
     ]
    }
   ],
   "source": [
    "# H3 생성\n",
    "H3 = householder(v3)\n",
    "print(H3)"
   ]
  },
  {
   "cell_type": "code",
   "execution_count": 52,
   "metadata": {},
   "outputs": [
    {
     "name": "stdout",
     "output_type": "stream",
     "text": [
      "[-4.000000000000001, 4.440892098500626e-16]\n"
     ]
    }
   ],
   "source": [
    "# H3*A3\n",
    "tmp_res3 = []\n",
    "for i in range(0,len(H3)):\n",
    "    val = 0\n",
    "    for j in range(0, len(H3[0])):\n",
    "        val += H3[i][j]*A3[j]\n",
    "    tmp_res3.append(val)\n",
    "print(tmp_res3)"
   ]
  },
  {
   "cell_type": "code",
   "execution_count": 53,
   "metadata": {},
   "outputs": [
    {
     "name": "stdout",
     "output_type": "stream",
     "text": [
      "[[1, 0, 0, 0], [0, -0.6666666666666667, -0.6666666666666667, 0.3333333333333333], [0, -0.6666666666666667, 0.7333333333333334, 0.1333333333333333], [0, 0.3333333333333333, 0.1333333333333333, 0.9333333333333333]]\n"
     ]
    }
   ],
   "source": [
    "tmp_H2 = identity(len(A))\n",
    "for i in range(1, len(A)):\n",
    "    for j in range(1, len(A)):\n",
    "        tmp_H2[i][j] = H2[i-1][j-1]\n",
    "H2 = tmp_H2\n",
    "print(H2)"
   ]
  },
  {
   "cell_type": "code",
   "execution_count": 54,
   "metadata": {},
   "outputs": [
    {
     "name": "stdout",
     "output_type": "stream",
     "text": [
      "[[1, 0, 0, 0], [0, 1, 0, 0], [0, 0, -0.6000000000000001, 0.8], [0, 0, 0.8, 0.6]]\n"
     ]
    }
   ],
   "source": [
    "tmp_H3 = identity(len(A))\n",
    "for i in range(2, len(A)):\n",
    "    for j in range(2, len(A)):\n",
    "        tmp_H3[i][j] = H3[i-2][j-2]\n",
    "H3 = tmp_H3\n",
    "print(H3)"
   ]
  },
  {
   "cell_type": "code",
   "execution_count": 55,
   "metadata": {},
   "outputs": [
    {
     "name": "stdout",
     "output_type": "stream",
     "text": [
      "[[-0.5, 0.5000000000000001, -0.49999999999999994, -0.5], [-0.5, -0.5000000000000001, 0.5000000000000002, -0.5000000000000001], [-0.5, -0.5000000000000001, -0.5000000000000001, 0.5], [-0.5, 0.5, 0.5, 0.5]]\n"
     ]
    }
   ],
   "source": [
    "# Q = H1 * H2 * H3\n",
    "Q = matmul(matmul(H1, H2), H3)\n",
    "print(Q)"
   ]
  },
  {
   "cell_type": "code",
   "execution_count": 56,
   "metadata": {},
   "outputs": [
    {
     "name": "stdout",
     "output_type": "stream",
     "text": [
      "[[-2.0, -3.0, -2.0], [-1.1102230246251565e-16, -5.000000000000001, 2.000000000000001], [1.1102230246251565e-16, -1.1102230246251565e-16, -4.0], [2.220446049250313e-16, 4.440892098500626e-16, 8.881784197001252e-16]]\n"
     ]
    }
   ],
   "source": [
    "# R = H3 * H2 * H1 * A\n",
    "R = matmul(matmul(matmul(H3, H2), H1), A)\n",
    "print(R)"
   ]
  },
  {
   "cell_type": "code",
   "execution_count": 57,
   "metadata": {},
   "outputs": [
    {
     "data": {
      "text/plain": [
       "[[0.9999999999999998, -1.000000000000001, 4.0],\n",
       " [0.9999999999999999, 4.000000000000001, -2.000000000000002],\n",
       " [1.0, 4.000000000000001, 2.0],\n",
       " [1.0, -1.0000000000000002, 8.881784197001252e-16]]"
      ]
     },
     "execution_count": 57,
     "metadata": {},
     "output_type": "execute_result"
    }
   ],
   "source": [
    "# A=QR인지 검산\n",
    "matmul(Q,R)"
   ]
  },
  {
   "cell_type": "markdown",
   "metadata": {},
   "source": [
    "# 함수로 만들기"
   ]
  },
  {
   "cell_type": "code",
   "execution_count": 58,
   "metadata": {},
   "outputs": [],
   "source": [
    "\n",
    "\n",
    "def qr_householder(A):\n",
    "    \n",
    "    import copy\n",
    "    \n",
    "    n = len(A)\n",
    "    p = len(A[0])\n",
    "    \n",
    "    H_list = []\n",
    "    \n",
    "    for i in range(0, p):\n",
    "        \n",
    "        if i==0:\n",
    "            A1 = copy.deepcopy(A)\n",
    "            exA = A1\n",
    "        elif i < p-1:\n",
    "            Ai = []\n",
    "            for j in range(1, len(exA)):\n",
    "                tmp_row = []\n",
    "                for k in range(1, len(exA[0])):\n",
    "                    tmp_row.append(tmp_res[j][k])\n",
    "                Ai.append(tmp_row)\n",
    "            exA = Ai\n",
    "        elif i==p-1:\n",
    "            Ap = []\n",
    "            for j in range(1, len(tmp_res)):\n",
    "                Ap.append(tmp_res[j][1])\n",
    "            exA = Ap\n",
    "                \n",
    "        #첫번째 열 추출\n",
    "        if i < p-1:\n",
    "            a = transpose(exA)[0]\n",
    "        else:\n",
    "            a = exA\n",
    "        nm = norm(a)\n",
    "        \n",
    "        # e1 생성\n",
    "        e = [1]\n",
    "        for j in range(0, len(a)-1):\n",
    "            e.append(0)\n",
    "        \n",
    "        # v 생성\n",
    "        tmp_e = []\n",
    "        for j in range(0, len(e)):\n",
    "            val = sign(a[0])*nm*e[j]\n",
    "            tmp_e.append(val)\n",
    "        v = v_add(a, tmp_e)    \n",
    "        \n",
    "        # H 생성\n",
    "        H = householder(v)    \n",
    "            \n",
    "        # H*A\n",
    "        if i==p-1:\n",
    "            tmp_res = []\n",
    "            for j in range(0,len(H)):\n",
    "                val = 0\n",
    "                for k in range(0, len(H[0])):\n",
    "                    val += H[j][k]*exA[k]\n",
    "                tmp_res.append(val)\n",
    "        else:\n",
    "            tmp_res = matmul(H, exA)\n",
    "        \n",
    "        H_list.append(H)\n",
    "            \n",
    "        if i > 0:\n",
    "            tmp_H = identity(len(A))\n",
    "            for j in range(i, len(A)):\n",
    "                for k in range(i, len(A)):\n",
    "                    tmp_H[j][k] = H_list[-1][j-i][k-i]\n",
    "            H_list[-1] = tmp_H\n",
    "\n",
    "    Q = copy.deepcopy(H_list[0])\n",
    "    for j in range(0, len(H_list)-1):\n",
    "        Q = matmul(Q, H_list[j+1])\n",
    "\n",
    "    R = copy.deepcopy(H_list[-1])\n",
    "    for j in range(1,len(H_list)):\n",
    "        R = matmul(R, H_list[-(j+1)])\n",
    "    R = matmul(R, A)\n",
    "        \n",
    "    return Q, R"
   ]
  },
  {
   "cell_type": "code",
   "execution_count": 59,
   "metadata": {},
   "outputs": [],
   "source": [
    "A = [[1,-1,4],[1,4,-2],[1,4,2],[1,-1,0]]"
   ]
  },
  {
   "cell_type": "code",
   "execution_count": 60,
   "metadata": {
    "scrolled": true
   },
   "outputs": [],
   "source": [
    "Q, R = qr_householder(A)"
   ]
  },
  {
   "cell_type": "code",
   "execution_count": 61,
   "metadata": {},
   "outputs": [
    {
     "data": {
      "text/plain": [
       "[[-0.5, 0.5000000000000001, -0.49999999999999994, -0.5],\n",
       " [-0.5, -0.5000000000000001, 0.5000000000000002, -0.5000000000000001],\n",
       " [-0.5, -0.5000000000000001, -0.5000000000000001, 0.5],\n",
       " [-0.5, 0.5, 0.5, 0.5]]"
      ]
     },
     "execution_count": 61,
     "metadata": {},
     "output_type": "execute_result"
    }
   ],
   "source": [
    "Q"
   ]
  },
  {
   "cell_type": "code",
   "execution_count": 62,
   "metadata": {},
   "outputs": [
    {
     "data": {
      "text/plain": [
       "[[-2.0, -3.0, -2.0],\n",
       " [-1.1102230246251565e-16, -5.000000000000001, 2.000000000000001],\n",
       " [1.1102230246251565e-16, -1.1102230246251565e-16, -4.0],\n",
       " [2.220446049250313e-16, 4.440892098500626e-16, 8.881784197001252e-16]]"
      ]
     },
     "execution_count": 62,
     "metadata": {},
     "output_type": "execute_result"
    }
   ],
   "source": [
    "R"
   ]
  },
  {
   "cell_type": "code",
   "execution_count": 15,
   "metadata": {},
   "outputs": [],
   "source": [
    "B = [[3, 2, -3], [5, 0, 4], [0, -1, 3]]"
   ]
  },
  {
   "cell_type": "code",
   "execution_count": 16,
   "metadata": {},
   "outputs": [],
   "source": [
    "Q, R = qr_householder(B)"
   ]
  },
  {
   "cell_type": "code",
   "execution_count": 17,
   "metadata": {},
   "outputs": [
    {
     "data": {
      "text/plain": [
       "[[-0.5144957554275265, 0.7407610636824495, -0.4319342127906801],\n",
       " [-0.8574929257125441, -0.44445663820946985, 0.2591605276744081],\n",
       " [0.0, -0.5037175233040659, -0.86386842558136]]"
      ]
     },
     "execution_count": 17,
     "metadata": {},
     "output_type": "execute_result"
    }
   ],
   "source": [
    "Q"
   ]
  },
  {
   "cell_type": "code",
   "execution_count": 18,
   "metadata": {},
   "outputs": [
    {
     "data": {
      "text/plain": [
       "[[-5.830951894845299, -1.028991510855053, -1.886484436567597],\n",
       " [-4.440892098500626e-16, 1.985239650668965, -5.511262313797426],\n",
       " [4.440892098500626e-16, -2.220446049250313e-16, -0.25916052767440734]]"
      ]
     },
     "execution_count": 18,
     "metadata": {},
     "output_type": "execute_result"
    }
   ],
   "source": [
    "R"
   ]
  },
  {
   "cell_type": "code",
   "execution_count": 19,
   "metadata": {},
   "outputs": [],
   "source": [
    "C = [[2,-2,18],[2,1,0],[1,2,0]]"
   ]
  },
  {
   "cell_type": "code",
   "execution_count": 20,
   "metadata": {},
   "outputs": [],
   "source": [
    "Q, R = qr_householder(C)"
   ]
  },
  {
   "cell_type": "code",
   "execution_count": 21,
   "metadata": {},
   "outputs": [
    {
     "data": {
      "text/plain": [
       "[[-0.6666666666666667, 0.6666666666666667, -0.33333333333333337],\n",
       " [-0.6666666666666666, -0.3333333333333334, 0.6666666666666667],\n",
       " [-0.3333333333333333, -0.6666666666666667, -0.6666666666666666]]"
      ]
     },
     "execution_count": 21,
     "metadata": {},
     "output_type": "execute_result"
    }
   ],
   "source": [
    "Q"
   ]
  },
  {
   "cell_type": "code",
   "execution_count": 23,
   "metadata": {},
   "outputs": [
    {
     "data": {
      "text/plain": [
       "[[-3.0000000000000004, 2.220446049250313e-16, -12.000000000000002],\n",
       " [-1.1102230246251565e-16, -3.0000000000000004, 12.000000000000002],\n",
       " [1.1102230246251565e-16, 2.220446049250313e-16, -6.000000000000001]]"
      ]
     },
     "execution_count": 23,
     "metadata": {},
     "output_type": "execute_result"
    }
   ],
   "source": [
    "R"
   ]
  },
  {
   "cell_type": "markdown",
   "metadata": {},
   "source": [
    "# copy 라이브러리 안 쓴 버전"
   ]
  },
  {
   "cell_type": "code",
   "execution_count": 82,
   "metadata": {},
   "outputs": [],
   "source": [
    "def zero_mat(n, p):\n",
    "    \"\"\"\n",
    "    영 행렬 생성\n",
    "    입력값: 생성하고자 할 영 행렬의 크기 n행, p열\n",
    "    출력값: nxp 영 행렬 Z\n",
    "    \"\"\"\n",
    "    Z = []\n",
    "    for i in range(0, n):\n",
    "        row = []\n",
    "        for j in range(0, p):\n",
    "            row.append(0)\n",
    "        Z.append(row)\n",
    "    return Z\n",
    "\n",
    "\n",
    "\n",
    "def deepcopy(A):\n",
    "    \"\"\"\n",
    "    깊은 복사(deepcopy) 구현\n",
    "    입력값: 깊은 복사를 하고자 하는 행렬 리스트 A\n",
    "    출력값: 깊은 복사 된 결과 행렬 리스트 res \n",
    "    \"\"\"\n",
    "    if type(A[0]) == list:\n",
    "        n = len(A)\n",
    "        p = len(A[0])\n",
    "        res = zero_mat(n,p)\n",
    "        for i in range(0,n):\n",
    "            for j in range(0,p):\n",
    "                res[i][j] = A[i][j]\n",
    "        return res\n",
    "    else:\n",
    "        n = len(A)\n",
    "        res = []\n",
    "        for i in range(0,n):\n",
    "            res.append(A[i])\n",
    "        return res\n",
    "\n",
    "def norm(a):\n",
    "    \"\"\"\n",
    "    벡터의 norm\n",
    "    입력값: norm을 구하고자 할 벡터 a\n",
    "    출력값: 벡터 a의 norm 결과 res\n",
    "    \"\"\"\n",
    "    n = len(a)\n",
    "    res = 0\n",
    "    for i in range(0, n):\n",
    "        res += a[i]**2\n",
    "    res = res**(0.5)   \n",
    "    return res\n",
    "    \n",
    "    \n",
    "def transpose(A):\n",
    "    \"\"\"\n",
    "    행렬의 전치행렬\n",
    "    입력값: 전치행렬을 구하고자 하는 행렬 A\n",
    "    출력값: 행렬 A의 전치행렬 At\n",
    "    \"\"\"\n",
    "    n = len(A)\n",
    "    p = len(A[0])\n",
    "\n",
    "    At  = []\n",
    "    for i in range(0, p):\n",
    "        row = []\n",
    "        for j in range(0, n):\n",
    "            val = A[j][i]\n",
    "            row.append(val)\n",
    "        At.append(row)\n",
    "    return At\n",
    "\n",
    "\n",
    "def sign(a):\n",
    "    \"\"\"\n",
    "    스칼라 a의 부호\n",
    "    입력값: 스칼라 a\n",
    "    출력값: 스칼라 a가 a>=0면 1 출력, a<0이면 0 출력\n",
    "    \"\"\"\n",
    "    res = 1\n",
    "    if a < 0:\n",
    "        res = -1\n",
    "    return res    \n",
    "    \n",
    "def v_add(u,v):\n",
    "    \"\"\"\n",
    "    벡터의 덧셈\n",
    "    입력값: 더하고자 하는 벡터 u, v\n",
    "    출력값: 벡터 u, v의 덧셈 결과 w\n",
    "    \"\"\"\n",
    "    n = len(u)\n",
    "    w = []\n",
    "\n",
    "    for i in range(0, n):\n",
    "        val = u[i] + v[i]\n",
    "        w.append(val) \n",
    "        \n",
    "    return w\n",
    "\n",
    "\n",
    "\n",
    "def householder(v):\n",
    "    \"\"\"\n",
    "    하우스홀더 행렬\n",
    "    입력값: 하우스홀더 행렬을 생성할 리스트 v\n",
    "    출력값: 리스트 v를 이용해 생성한 하우스홀더 행렬 H\n",
    "    \"\"\"\n",
    "    n = len(v)\n",
    "    outer_mat = outer_product(v,v)\n",
    "    inner_val = inner_product(v,v)\n",
    "    V = []\n",
    "    for i in range(0, n):\n",
    "        row = []\n",
    "        for j in range(0, n):\n",
    "            val = (2/inner_val)*outer_mat[i][j]\n",
    "            row.append(val)\n",
    "        V.append(row)\n",
    "    H = subtract(identity(n), V)\n",
    "    return H\n",
    "\n",
    "\n",
    "def inner_product(a, b):\n",
    "    \"\"\"\n",
    "    벡터의 내적\n",
    "    입력값: 내적할 벡터 리스트 a, b\n",
    "    출력값: 벡터 a, b의 내적 결과 res\n",
    "    \"\"\"\n",
    "    n = len(a)\n",
    "    res = 0\n",
    "    for i in range(0, n):\n",
    "        res += a[i]*b[i]\n",
    "    return res\n",
    "\n",
    "\n",
    "\n",
    "\n",
    "def outer_product(a, b):\n",
    "    \"\"\"\n",
    "    벡터의 외적\n",
    "    입력값: 외적할 벡터 리스트 a, b\n",
    "    출력값: 벡터 a, b의 외적 결과 res\n",
    "    \"\"\"\n",
    "    res = []\n",
    "    n1 = len(a)\n",
    "    n2 = len(b)\n",
    "    for i in range(0, n1):\n",
    "        row = []\n",
    "        for j in range(0, n2):\n",
    "            val = a[i]*b[j]\n",
    "            row.append(val)\n",
    "        res.append(row)\n",
    "    return res\n",
    "\n",
    "\n",
    "def subtract(A, B):\n",
    "    \"\"\"\n",
    "    행렬의 뺄셈\n",
    "    입력값: 행렬의 뺄셈을 수행할 행렬 A, B\n",
    "    출력값: 행렬 A와 행렬 B의 뺄셈 결과인 행렬 res\n",
    "    \"\"\"\n",
    "    n = len(A)\n",
    "    p = len(A[0])\n",
    "\n",
    "    res = []\n",
    "    for i in range(0, n):\n",
    "        row = []\n",
    "        for j in range(0, p):\n",
    "            val = A[i][j] - B[i][j]\n",
    "            row.append(val)\n",
    "        res.append(row)\n",
    "    return res\n",
    "\n",
    "\n",
    "def identity(n):\n",
    "    \"\"\"\n",
    "    항등행렬 생성\n",
    "    입력값: 항등 행렬의 크기 n\n",
    "    출력값: nxn 항등 행렬 I\n",
    "    \"\"\"\n",
    "    I  = []\n",
    "    for i in range(0, n):\n",
    "        row = []\n",
    "        for j in range(0, n):\n",
    "            if i==j:\n",
    "                row.append(1)\n",
    "            else:\n",
    "                row.append(0)\n",
    "        I.append(row)\n",
    "    return I\n",
    "\n",
    "def matmul(A, B):    \n",
    "    \"\"\"\n",
    "    행렬의 행렬곱\n",
    "    입력값: 행렬곱을 수행할 행렬 A, B\n",
    "    출력값: 행렬 A와 행렬 B의 행렬곱 결과인 행렬 res\n",
    "    \"\"\"\n",
    "    n = len(A)\n",
    "    p1 = len(A[0])\n",
    "    p2 = len(B[0])\n",
    "\n",
    "    res = []\n",
    "    for i in range(0, n):\n",
    "        row = []\n",
    "        for j in range(0, p2):\n",
    "            val = 0\n",
    "            for k in range(0, p1):\n",
    "                val += A[i][k] * B[k][j] \n",
    "            row.append(val)    \n",
    "        res.append(row)\n",
    "    return res\n",
    "\n",
    "    \n",
    "def qr_householder(A):\n",
    "    \"\"\"\n",
    "    행렬 A의 하우스홀더 방법을 이용한 QR분해\n",
    "    입력값: 행렬 A\n",
    "    출력값: 행렬 Q, 행렬 R\n",
    "    \"\"\"\n",
    "        \n",
    "    n = len(A)\n",
    "    p = len(A[0])\n",
    "    \n",
    "    H_list = []\n",
    "    \n",
    "    for i in range(0, p):\n",
    "        \n",
    "        if i==0:\n",
    "            A1 = deepcopy(A)\n",
    "            exA = A1\n",
    "        elif i < p-1:\n",
    "            Ai = []\n",
    "            for j in range(1, len(exA)):\n",
    "                row = []\n",
    "                for k in range(1, len(exA[0])):\n",
    "                    row.append(HA[j][k])\n",
    "                Ai.append(row)\n",
    "            exA = Ai\n",
    "        elif i==p-1:\n",
    "            Ap = []\n",
    "            for j in range(1, len(HA)):\n",
    "                Ap.append(HA[j][1])\n",
    "            exA = Ap\n",
    "                \n",
    "        # 열 추출\n",
    "        if i < p-1:\n",
    "            a = transpose(exA)[0]\n",
    "        else:\n",
    "            a = exA\n",
    "        nm = norm(a)\n",
    "        \n",
    "        # e 생성\n",
    "        e = [1]\n",
    "        for j in range(0, len(a)-1):\n",
    "            e.append(0)\n",
    "        \n",
    "        # v 생성\n",
    "        tmp_e = []\n",
    "        for j in range(0, len(e)):\n",
    "            val = sign(a[0])*nm*e[j]\n",
    "            tmp_e.append(val)\n",
    "        v = v_add(a, tmp_e)    \n",
    "        \n",
    "        # H 생성\n",
    "        H = householder(v)    \n",
    "            \n",
    "        # H*A\n",
    "        if i==p-1:\n",
    "            HA = []\n",
    "            for j in range(0,len(H)):\n",
    "                val = 0\n",
    "                for k in range(0, len(H[0])):\n",
    "                    val += H[j][k]*exA[k]\n",
    "                HA.append(val)\n",
    "        else:\n",
    "            HA = matmul(H, exA)\n",
    "        \n",
    "        H_list.append(H)\n",
    "            \n",
    "        if i > 0:\n",
    "            tmp_H = identity(len(A))\n",
    "            for j in range(i, len(A)):\n",
    "                for k in range(i, len(A)):\n",
    "                    tmp_H[j][k] = H_list[-1][j-i][k-i]\n",
    "            H_list[-1] = tmp_H\n",
    "\n",
    "    Q = deepcopy(H_list[0])\n",
    "    for j in range(0, len(H_list)-1):\n",
    "        Q = matmul(Q, H_list[j+1])\n",
    "\n",
    "    R = deepcopy(H_list[-1])\n",
    "    for j in range(1,len(H_list)):\n",
    "        R = matmul(R, H_list[-(j+1)])\n",
    "    R = matmul(R, A)\n",
    "        \n",
    "    return Q, R"
   ]
  },
  {
   "cell_type": "code",
   "execution_count": 83,
   "metadata": {},
   "outputs": [],
   "source": [
    "A = [[1,-1,4],[1,4,-2],[1,4,2],[1,-1,0]]"
   ]
  },
  {
   "cell_type": "code",
   "execution_count": 84,
   "metadata": {},
   "outputs": [],
   "source": [
    "Q, R = qr_householder(A)"
   ]
  },
  {
   "cell_type": "code",
   "execution_count": 85,
   "metadata": {},
   "outputs": [
    {
     "data": {
      "text/plain": [
       "[[-0.5, 0.5000000000000001, -0.49999999999999994, -0.5],\n",
       " [-0.5, -0.5000000000000001, 0.5000000000000002, -0.5000000000000001],\n",
       " [-0.5, -0.5000000000000001, -0.5000000000000001, 0.5],\n",
       " [-0.5, 0.5, 0.5, 0.5]]"
      ]
     },
     "execution_count": 85,
     "metadata": {},
     "output_type": "execute_result"
    }
   ],
   "source": [
    "Q"
   ]
  },
  {
   "cell_type": "code",
   "execution_count": 86,
   "metadata": {},
   "outputs": [
    {
     "data": {
      "text/plain": [
       "[[-2.0, -3.0, -2.0],\n",
       " [-1.1102230246251565e-16, -5.000000000000001, 2.000000000000001],\n",
       " [1.1102230246251565e-16, -1.1102230246251565e-16, -4.0],\n",
       " [2.220446049250313e-16, 4.440892098500626e-16, 8.881784197001252e-16]]"
      ]
     },
     "execution_count": 86,
     "metadata": {},
     "output_type": "execute_result"
    }
   ],
   "source": [
    "R"
   ]
  },
  {
   "cell_type": "code",
   "execution_count": 65,
   "metadata": {},
   "outputs": [],
   "source": [
    "B = [[3, 2, -3], [5, 0, 4], [0, -1, 3]]"
   ]
  },
  {
   "cell_type": "code",
   "execution_count": 66,
   "metadata": {},
   "outputs": [],
   "source": [
    "Q, R = qr_householder(B)"
   ]
  },
  {
   "cell_type": "code",
   "execution_count": 67,
   "metadata": {},
   "outputs": [
    {
     "data": {
      "text/plain": [
       "[[-0.5144957554275265, 0.7407610636824495, -0.4319342127906801],\n",
       " [-0.8574929257125441, -0.44445663820946985, 0.2591605276744081],\n",
       " [0.0, -0.5037175233040659, -0.86386842558136]]"
      ]
     },
     "execution_count": 67,
     "metadata": {},
     "output_type": "execute_result"
    }
   ],
   "source": [
    "Q"
   ]
  },
  {
   "cell_type": "code",
   "execution_count": 68,
   "metadata": {},
   "outputs": [
    {
     "data": {
      "text/plain": [
       "[[-5.830951894845299, -1.028991510855053, -1.886484436567597],\n",
       " [-4.440892098500626e-16, 1.985239650668965, -5.511262313797426],\n",
       " [4.440892098500626e-16, -2.220446049250313e-16, -0.25916052767440734]]"
      ]
     },
     "execution_count": 68,
     "metadata": {},
     "output_type": "execute_result"
    }
   ],
   "source": [
    "R"
   ]
  },
  {
   "cell_type": "code",
   "execution_count": 69,
   "metadata": {},
   "outputs": [],
   "source": [
    "C = [[2,-2,18],[2,1,0],[1,2,0]]"
   ]
  },
  {
   "cell_type": "code",
   "execution_count": 70,
   "metadata": {},
   "outputs": [],
   "source": [
    "Q, R = qr_householder(C)"
   ]
  },
  {
   "cell_type": "code",
   "execution_count": 71,
   "metadata": {},
   "outputs": [
    {
     "data": {
      "text/plain": [
       "[[-0.6666666666666667, 0.6666666666666667, -0.33333333333333337],\n",
       " [-0.6666666666666666, -0.3333333333333334, 0.6666666666666667],\n",
       " [-0.3333333333333333, -0.6666666666666667, -0.6666666666666666]]"
      ]
     },
     "execution_count": 71,
     "metadata": {},
     "output_type": "execute_result"
    }
   ],
   "source": [
    "Q"
   ]
  },
  {
   "cell_type": "code",
   "execution_count": 72,
   "metadata": {},
   "outputs": [
    {
     "data": {
      "text/plain": [
       "[[-3.0000000000000004, 2.220446049250313e-16, -12.000000000000002],\n",
       " [-1.1102230246251565e-16, -3.0000000000000004, 12.000000000000002],\n",
       " [1.1102230246251565e-16, 2.220446049250313e-16, -6.000000000000001]]"
      ]
     },
     "execution_count": 72,
     "metadata": {},
     "output_type": "execute_result"
    }
   ],
   "source": [
    "R"
   ]
  },
  {
   "cell_type": "code",
   "execution_count": null,
   "metadata": {},
   "outputs": [],
   "source": []
  },
  {
   "cell_type": "code",
   "execution_count": null,
   "metadata": {},
   "outputs": [],
   "source": []
  },
  {
   "cell_type": "code",
   "execution_count": null,
   "metadata": {},
   "outputs": [],
   "source": []
  }
 ],
 "metadata": {
  "kernelspec": {
   "display_name": "Python 3",
   "language": "python",
   "name": "python3"
  },
  "language_info": {
   "codemirror_mode": {
    "name": "ipython",
    "version": 3
   },
   "file_extension": ".py",
   "mimetype": "text/x-python",
   "name": "python",
   "nbconvert_exporter": "python",
   "pygments_lexer": "ipython3",
   "version": "3.8.5"
  }
 },
 "nbformat": 4,
 "nbformat_minor": 4
}
